{
 "cells": [
  {
   "cell_type": "code",
   "execution_count": 2,
   "metadata": {},
   "outputs": [],
   "source": [
    "import os\n",
    "import pandas as pd\n",
    "\n",
    "# filenames = []\n",
    "\n",
    "# for filename in os.listdir(os.getcwd()):\n",
    "#    with open(os.path.join(os.getcwd(), filename), 'r') as f: # open in readonly mode\n",
    "#       if filename == 'prepare_xprs.ipynb':\n",
    "#          continue\n",
    "\n",
    "#       filenames.append(filename)"
   ]
  },
  {
   "cell_type": "code",
   "execution_count": 9,
   "metadata": {},
   "outputs": [],
   "source": [
    "gtex_breast = pd.read_csv(\"../expression/gtex_lung_batchcor.csv\",  index_col=None, header=0, sep=',').T"
   ]
  },
  {
   "cell_type": "code",
   "execution_count": 10,
   "metadata": {},
   "outputs": [],
   "source": [
    "index_breast = list(gtex_breast.index)\n",
    "\n",
    "index_breast = [x[0:15] for x in index_breast]\n",
    "gtex_breast.index = index_breast\n",
    "gtex_breast.to_csv(\"../expression/gtex_lung_batchcor_transnodot.csv\", header=False, sep=\"\\t\")"
   ]
  },
  {
   "cell_type": "code",
   "execution_count": 31,
   "metadata": {},
   "outputs": [
    {
     "name": "stdout",
     "output_type": "stream",
     "text": [
      "Filename: gtex_xprs_breast_logcpm_1_01_nodupl.tsv with index: ENSG00000238009 and column 3.1361645242374\n",
      "Filename: gtex_xprs_breast_logcpm_1_01_nodupl_ONLYFEM.tsv with index: ENSG00000238009 and column 3.18494344433892\n",
      "Filename: gtex_xprs_blood_logcpm_1_01_nodupl.tsv with index: ENSG00000227232 and column 0.257445625489621\n",
      "Filename: tcga_xprs_luad_logcpm_1_01_nodupl_purCPE05.tsv with index: ENSG00000268903 and column 2.46502838795222\n",
      "Filename: gtex_xprs_breast_logcpm_1_01_nodupl_batchcorSexIsch.tsv with index: ENSG00000238009 and column 3.03926795168143\n",
      "Filename: tcga_xprs_coad_logcpm_1_01_nodupl_purCPE05_batchcorIDPLAT.tsv with index: ENSG00000268903 and column 2.11538694690178\n",
      "Filename: tcga_xprs_laml_logcpm_1_01_nodupl.tsv with index: ENSG00000227232 and column 0.548182119193095\n",
      "Filename: tcga_xprs_paad_logcpm_1_01_nodupl.tsv with index: ENSG00000268903 and column 2.93339744198532\n",
      "Filename: tcga_xprs_luad_logcpm_1_01_nodupl_purCPE04.tsv with index: ENSG00000268903 and column 2.46502838795222\n",
      "Filename: tcga_xprs_coad_logcpm_1_01_nodupl_purCPE05.tsv with index: ENSG00000268903 and column 2.72462056170219\n",
      "Filename: gtex_xprs_colon_logcpm_1_01_nodupl.tsv with index: ENSG00000268903 and column 3.03517250567475\n",
      "Filename: tcga_xprs_brca_logcpm_1_01_nodupl_purCPE075.tsv with index: ENSG00000238009 and column 3.20225154558355\n",
      "Filename: gtex_xprs_panc_logcpm_1_01_nodupl.tsv with index: ENSG00000268903 and column 3.04467237229263\n",
      "Filename: gtex_xprs_lung_logcpm_1_01_nodupl.tsv with index: ENSG00000268903 and column 3.16235179242982\n",
      "Filename: gtex_xprs_breast_logcpm_1_01_nodupl_batchcorIsch.tsv with index: ENSG00000238009 and column 3.06746870944298\n"
     ]
    }
   ],
   "source": [
    "for filename in filenames:\n",
    "    grn_pd = pd.read_csv(filename,  index_col=0, header=0, sep='\\t')\n",
    "    print(f'Filename: {filename} with index: {grn_pd.index[0]} and column {grn_pd.columns[0]}')\n",
    "\n",
    "\n",
    "    # if \"gtex_xprs_breast_logcpm_1_01_nodupl\" in filename:\n",
    "    #     print(\"yes\")\n",
    "    #     grn_pd.index=index_breast\n",
    "    #     grn_pd.to_csv(filename, index = True, header = False, sep = \"\\t\")\n",
    "    # else:\n",
    "    #     index = list(grn_pd.index.values)\n",
    "    #     new_index = [gene[0:15:1] for gene in index]\n",
    "    #     grn_pd.index=new_index\n",
    "    #     grn_pd.to_csv(filename, index = True, header = False, sep = \"\\t\") \n"
   ]
  }
 ],
 "metadata": {
  "kernelspec": {
   "display_name": "node2vec2rank",
   "language": "python",
   "name": "node2vec2rank"
  },
  "language_info": {
   "codemirror_mode": {
    "name": "ipython",
    "version": 3
   },
   "file_extension": ".py",
   "mimetype": "text/x-python",
   "name": "python",
   "nbconvert_exporter": "python",
   "pygments_lexer": "ipython3",
   "version": "3.9.15"
  },
  "orig_nbformat": 4,
  "vscode": {
   "interpreter": {
    "hash": "177e2573c35447d5c54e30f63e196616e0e86c4bc86471ca094a5fa340271d71"
   }
  }
 },
 "nbformat": 4,
 "nbformat_minor": 2
}
