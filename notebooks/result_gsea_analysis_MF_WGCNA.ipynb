{
 "cells": [
  {
   "cell_type": "code",
   "execution_count": 1,
   "metadata": {},
   "outputs": [],
   "source": [
    "import pandas as pd\n",
    "import numpy as np"
   ]
  },
  {
   "cell_type": "code",
   "execution_count": 2,
   "metadata": {},
   "outputs": [],
   "source": [
    "enr_KEGG_agg_n2v2r_fn = \"../results_gsea/WGCNA_LUAD_MF_CHIMERA/LUAD_WGCNA_mVSf_n2v2r_consensus_enr_KEGG_pathway_background_.tsv\"\n",
    "enr_GOBP_agg_n2v2r_fn = '../results_gsea/WGCNA_LUAD_MF_CHIMERA/LUAD_WGCNA_mVSf_n2v2r_consensus_enr_GOBP_pathway_background_.tsv'\n",
    "\n",
    "enr_KEGG_absDeDi_fn = '../results_gsea/WGCNA_LUAD_MF_CHIMERA/LUAD_WGCNA_mVSf_absDeDi_enr_KEGG_pathway_background_.tsv'\n",
    "enr_GOBP_absDeDi_fn = '../results_gsea/WGCNA_LUAD_MF_CHIMERA/LUAD_WGCNA_mVSf_absDeDi_enr_GOBP_pathway_background_.tsv'\n",
    "\n",
    "# enr_KEGG_borda_fn = '../results_gsea/LOCSN_BRAIN/brain_LOCSCN_ctrVSasd_n2v2r_borda_enr_KEGG_pathway_background_.tsv'\n",
    "# enr_GOBP_borda_fn = '../results_gsea/LOCSN_BRAIN/brain_LOCSCN_ctrVSasd_n2v2r_borda_enr_GOBP_pathway_background_.tsv'\n"
   ]
  },
  {
   "cell_type": "code",
   "execution_count": 3,
   "metadata": {},
   "outputs": [],
   "source": [
    "prerank_KEGG_agg_n2v2r_fn = \"../results_gsea/WGCNA_LUAD_MF_CHIMERA/LUAD_WGCNA_mVSf_n2v2r_consensus_prerank_KEGG_.tsv\"\n",
    "prerank_GOBP_agg_n2v2r_fn = '../results_gsea/WGCNA_LUAD_MF_CHIMERA/LUAD_WGCNA_mVSf_n2v2r_consensus_prerank_GOBP_.tsv'\n",
    "\n",
    "prerank_KEGG_absDeDi_fn = '../results_gsea/WGCNA_LUAD_MF_CHIMERA/LUAD_WGCNA_mVSf_absDeDi_prerank_KEGG_.tsv'\n",
    "prerank_GOBP_absDeDi_fn = '../results_gsea/WGCNA_LUAD_MF_CHIMERA/LUAD_WGCNA_mVSf_absDeDi_prerank_GOBP_.tsv'\n",
    "\n",
    "prerank_KEGG_DeDi_fn = '../results_gsea/WGCNA_LUAD_MF_CHIMERA/LUAD_WGCNA_mVSf_DeDi_prerank_KEGG_.tsv'\n",
    "prerank_GOBP_DeDi_fn = '../results_gsea/WGCNA_LUAD_MF_CHIMERA/LUAD_WGCNA_mVSf_DeDi_prerank_GOBP_.tsv'\n",
    "\n",
    "prerank_KEGG_chimera_fn = '../results_gsea/WGCNA_LUAD_MF_CHIMERA/LUAD_WGCNA_mVSf_n2v2r_chimera_prerank_KEGG_.tsv'\n",
    "prerank_GOBP_chimera_fn = '../results_gsea/WGCNA_LUAD_MF_CHIMERA/LUAD_WGCNA_mVSf_n2v2r_chimera_prerank_GOBP_.tsv'\n"
   ]
  },
  {
   "cell_type": "code",
   "execution_count": 4,
   "metadata": {},
   "outputs": [],
   "source": [
    "enr_KEGG_agg_n2v2r = pd.read_csv(enr_KEGG_agg_n2v2r_fn, sep='\\t', header=0, index_col=0)\n",
    "enr_GOBP_agg_n2v2r = pd.read_csv(enr_GOBP_agg_n2v2r_fn, sep='\\t', header=0, index_col=0)\n",
    "\n",
    "enr_KEGG_absDeDi = pd.read_csv(enr_KEGG_absDeDi_fn, sep='\\t', header=0, index_col=0)\n",
    "enr_GOBP_absDeDi = pd.read_csv(enr_GOBP_absDeDi_fn, sep='\\t', header=0, index_col=0)\n",
    "\n",
    "prerank_KEGG_agg_n2v2r = pd.read_csv(prerank_KEGG_agg_n2v2r_fn, sep='\\t', header=0, index_col=0)\n",
    "prerank_GOBP_agg_n2v2r = pd.read_csv(prerank_GOBP_agg_n2v2r_fn, sep='\\t', header=0, index_col=0)\n",
    "\n",
    "prerank_KEGG_absDeDi = pd.read_csv(prerank_KEGG_absDeDi_fn, sep='\\t', header=0, index_col=0)\n",
    "prerank_GOBP_absDeDi = pd.read_csv(prerank_GOBP_absDeDi_fn, sep='\\t', header=0, index_col=0)\n",
    "\n",
    "prerank_KEGG_DeDi = pd.read_csv(prerank_KEGG_DeDi_fn, sep='\\t', header=0, index_col=0)\n",
    "prerank_GOBP_DeDi = pd.read_csv(prerank_GOBP_DeDi_fn, sep='\\t', header=0, index_col=0)\n",
    "\n",
    "prerank_KEGG_chimera = pd.read_csv(prerank_KEGG_chimera_fn, sep='\\t', header=0, index_col=0)\n",
    "prerank_GOBP_chimera = pd.read_csv(prerank_GOBP_chimera_fn, sep='\\t', header=0, index_col=0)\n",
    "\n",
    "del enr_KEGG_agg_n2v2r_fn, enr_GOBP_agg_n2v2r_fn, enr_KEGG_absDeDi_fn, enr_GOBP_absDeDi_fn\n",
    "# del enr_KEGG_borda_fn, enr_GOBP_borda_fn\n",
    "del prerank_KEGG_agg_n2v2r_fn, prerank_GOBP_agg_n2v2r_fn \n",
    "del prerank_KEGG_absDeDi_fn, prerank_GOBP_absDeDi_fn\n",
    "del prerank_KEGG_chimera_fn, prerank_GOBP_chimera_fn"
   ]
  },
  {
   "cell_type": "code",
   "execution_count": 5,
   "metadata": {},
   "outputs": [],
   "source": [
    "enrich_kegg_paths_in_n2v2r_not_in_absDeDi = list(set(enr_KEGG_agg_n2v2r.index).difference(enr_KEGG_absDeDi.index))\n",
    "enrich_kegg_paths_in_absDeDi_not_in_n2v2r = list(set(enr_KEGG_absDeDi.index).difference(enr_KEGG_agg_n2v2r.index))\n",
    "\n",
    "enrich_gobp_paths_in_n2v2r_not_in_absDeDi = list(set(enr_GOBP_agg_n2v2r.index).difference(enr_GOBP_absDeDi.index))\n",
    "enrich_gobp_paths_in_absDeDi_not_in_n2v2r = list(set(enr_GOBP_absDeDi.index).difference(enr_GOBP_agg_n2v2r.index))\n",
    "\n",
    "common_enrich_kegg = set(enr_KEGG_agg_n2v2r.index).intersection(prerank_KEGG_DeDi.index)\n",
    "common_enrich_gobp = set(enr_GOBP_agg_n2v2r.index).intersection(prerank_GOBP_DeDi.index)\n"
   ]
  },
  {
   "cell_type": "code",
   "execution_count": 6,
   "metadata": {},
   "outputs": [],
   "source": [
    "prerank_kegg_paths_in_n2v2r_not_in_DeDi = list(set(prerank_KEGG_agg_n2v2r.index).difference(prerank_KEGG_DeDi))\n",
    "prerank_kegg_paths_in_DeDi_not_in_n2v2r = list(set(prerank_KEGG_DeDi.index).difference(prerank_KEGG_agg_n2v2r.index))\n",
    "\n",
    "prerank_gobp_paths_in_n2v2r_not_in_DeDi = list(set(prerank_GOBP_agg_n2v2r.index).difference(prerank_GOBP_DeDi))\n",
    "prerank_gobp_paths_in_DeDi_not_in_n2v2r = list(set(prerank_GOBP_DeDi.index).difference(prerank_GOBP_agg_n2v2r.index)) \n",
    "\n",
    "common_prerank_kegg_n2v2r = set(prerank_KEGG_agg_n2v2r.index).intersection(prerank_KEGG_DeDi.index)\n",
    "common_prerank_gobp_n2v2r = set(prerank_GOBP_agg_n2v2r.index).intersection(prerank_GOBP_DeDi.index)"
   ]
  },
  {
   "cell_type": "code",
   "execution_count": 7,
   "metadata": {},
   "outputs": [],
   "source": [
    "prerank_kegg_paths_in_chimera_not_in_DeDi = list(set(prerank_KEGG_chimera.index).difference(prerank_KEGG_DeDi.index))\n",
    "prerank_kegg_paths_in_DeDi_not_in_chimera = list(set(prerank_KEGG_DeDi.index).difference(prerank_KEGG_chimera.index))\n",
    "\n",
    "prerank_gobp_paths_in_chimera_not_in_DeDi = list(set(prerank_GOBP_chimera.index).difference(prerank_GOBP_DeDi.index))\n",
    "prerank_gobp_paths_in_DeDi_not_in_chimera = list(set(prerank_GOBP_DeDi.index).difference(prerank_GOBP_chimera.index))\n",
    "\n",
    "\n",
    "common_prerank_kegg_chimera = set(prerank_KEGG_chimera.index).intersection(prerank_KEGG_DeDi.index)\n",
    "common_prerank_gobp_chimera = set(prerank_GOBP_chimera.index).intersection(prerank_GOBP_DeDi.index)"
   ]
  },
  {
   "cell_type": "code",
   "execution_count": 9,
   "metadata": {},
   "outputs": [],
   "source": [
    "prerank_KEGG_chimera['in_DeDi'] = [1 if x in prerank_KEGG_DeDi.index else 0 for x in prerank_KEGG_chimera.index]\n",
    "prerank_KEGG_DeDi['in_Chimera'] = [1 if x in prerank_KEGG_chimera.index else 0 for x in prerank_KEGG_DeDi.index]"
   ]
  }
 ],
 "metadata": {
  "kernelspec": {
   "display_name": "node2vec2rank",
   "language": "python",
   "name": "python3"
  },
  "language_info": {
   "codemirror_mode": {
    "name": "ipython",
    "version": 3
   },
   "file_extension": ".py",
   "mimetype": "text/x-python",
   "name": "python",
   "nbconvert_exporter": "python",
   "pygments_lexer": "ipython3",
   "version": "3.9.15"
  },
  "orig_nbformat": 4
 },
 "nbformat": 4,
 "nbformat_minor": 2
}
