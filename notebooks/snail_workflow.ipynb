{
 "cells": [
  {
   "cell_type": "code",
   "execution_count": 1,
   "metadata": {},
   "outputs": [
    {
     "name": "stdout",
     "output_type": "stream",
     "text": [
      "INFO: Pandarallel will run on 8 workers.\n",
      "INFO: Pandarallel will use standard multiprocessing data transfer (pipe) to transfer data between the main process and workers.\n"
     ]
    }
   ],
   "source": [
    "import os\n",
    "from pysnail import Dataset, qsmooth\n",
    "import pandas as pd\n",
    "\n"
   ]
  },
  {
   "cell_type": "code",
   "execution_count": 6,
   "metadata": {},
   "outputs": [],
   "source": [
    "#read the data\n",
    "index_col = 0\n",
    "header = 0\n",
    "\n",
    "filename_gtex = 'panda_pancreas_GTEx.csv'\n",
    "expression_gtex = pd.read_csv('expression/'+ filename_gtex,  index_col=index_col, header=header, sep=',')\n",
    "\n",
    "filename_tcga = 'panda_pancreas_TCGA.csv'\n",
    "expression_tcga = pd.read_csv('expression/'+ filename_tcga,  index_col=index_col, header=header, sep=',')"
   ]
  },
  {
   "cell_type": "code",
   "execution_count": 33,
   "metadata": {},
   "outputs": [],
   "source": [
    "\n",
    "\n",
    "expression_joined = pd.concat([expression_gtex,expression_tcga],axis = 1)\n",
    "\n",
    "group_str_gtex = [\"gtex\" for x in range(len(expression_gtex.columns))]\n",
    "group_str_tcga = [\"tcga\" for x in range(len(expression_tcga.columns))]\n",
    "groups_list = group_str_gtex + group_str_tcga\n",
    "\n",
    "columns_joined = expression_gtex.columns.to_list() + expression_tcga.columns.to_list()\n",
    "\n",
    "groups_series  = pd.Series(groups_list,index=columns_joined)\n"
   ]
  },
  {
   "cell_type": "code",
   "execution_count": 34,
   "metadata": {},
   "outputs": [
    {
     "name": "stderr",
     "output_type": "stream",
     "text": [
      "/Users/panos/git/PySNAIL/pysnail/qsmooth.py:237: RuntimeWarning: Aggregation is set to auto, ignored argument 'threshold'.\n",
      "  warnings.warn(message, RuntimeWarning)\n",
      "Compute Qstat: 100%|██████████| 2/2 [00:00<00:00,  2.30it/s]\n",
      "/Users/panos/git/PySNAIL/pysnail/qsmooth.py:127: RuntimeWarning: invalid value encountered in true_divide\n",
      "  roughWeights = 1 - SSB / SST\n",
      "Qsmooth Normalization: 100%|██████████| 2/2 [00:11<00:00,  5.80s/it]\n"
     ]
    }
   ],
   "source": [
    "xprs = os.path.realpath('sample_data/expression.tsv')\n",
    "groups = os.path.realpath('sample_data/groups.tsv')\n",
    "dataset = Dataset(expression_joined, groups_series)\n",
    "\n",
    "xprs_norm, qstat = qsmooth(dataset, aggregation='auto', threshold=0.2)\n",
    "# xprs_norm.to_csv('pysnail_out.tsv', sep='\\t')"
   ]
  },
  {
   "cell_type": "code",
   "execution_count": 69,
   "metadata": {},
   "outputs": [],
   "source": [
    "gtex_norm=xprs_norm.droplevel(0, axis=1).iloc[:,:len(group_str_gtex)]\n",
    "tcga_norm=xprs_norm.droplevel(0, axis=1).iloc[:,len(group_str_gtex):]\n",
    "\n"
   ]
  },
  {
   "cell_type": "code",
   "execution_count": 74,
   "metadata": {},
   "outputs": [],
   "source": [
    "\n",
    "\n",
    "gtex_norm.to_csv(\"expression/xprs_panc_gtex_snail.tsv\", sep='\\t',header=True, index=True)\n",
    "tcga_norm.to_csv(\"expression/xprs_panc_tcga_snail.tsv\", sep='\\t',header=True, index=True)\n"
   ]
  }
 ],
 "metadata": {
  "kernelspec": {
   "display_name": "Python 3.9.13 ('bio_graph_embed')",
   "language": "python",
   "name": "python3"
  },
  "language_info": {
   "codemirror_mode": {
    "name": "ipython",
    "version": 3
   },
   "file_extension": ".py",
   "mimetype": "text/x-python",
   "name": "python",
   "nbconvert_exporter": "python",
   "pygments_lexer": "ipython3",
   "version": "3.9.13"
  },
  "orig_nbformat": 4,
  "vscode": {
   "interpreter": {
    "hash": "0a9b1fb1c264eb9b0b00abaeeb36c26dd08e524efc801fb68b11924387acab47"
   }
  }
 },
 "nbformat": 4,
 "nbformat_minor": 2
}
