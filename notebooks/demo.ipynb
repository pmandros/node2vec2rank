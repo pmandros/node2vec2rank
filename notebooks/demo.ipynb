{
 "cells": [
  {
   "cell_type": "code",
   "execution_count": 1,
   "metadata": {},
   "outputs": [],
   "source": [
    "import pandas as pd\n",
    "import numpy as np"
   ]
  },
  {
   "cell_type": "code",
   "execution_count": 2,
   "metadata": {},
   "outputs": [],
   "source": [
    "enr_KEGG_n2v2r_fn = \"../results/results_gsea/WGCNA_LUAD_MF_UASE_n2v2r_demo/LUAD_WGCNA_mVSf_n2v2r_consensus_enr_KEGG_network_background_top5_.tsv\"\n",
    "enr_GOBP_n2v2r_fn = \"../results/results_gsea/WGCNA_LUAD_MF_UASE_n2v2r_demo/LUAD_WGCNA_mVSf_n2v2r_consensus_enr_GOBP_network_background_top5_.tsv\"\n",
    "\n",
    "enr_KEGG_borda_fn = '../results/results_gsea/WGCNA_LUAD_MF_UASE_n2v2r_demo/LUAD_WGCNA_mVSf_n2v2r_borda_enr_KEGG_network_background_top5_.tsv'\n",
    "enr_GOBP_borda_fn = '../results/results_gsea/WGCNA_LUAD_MF_UASE_n2v2r_demo/LUAD_WGCNA_mVSf_n2v2r_borda_enr_GOBP_network_background_top5_.tsv'\n",
    "\n",
    "# prerank_KEGG_n2v2r_fn = \"../results/results_gsea/WGCNA_LUAD_MF_UASE_n2v2r_demo/LUAD_WGCNA_mVSf_n2v2r_chimera_prerank_KEGG_.tsv\"\n",
    "# prerank_GOBP_n2v2r_fn = '../results/results_gsea/WGCNA_LUAD_MF_UASE_n2v2r_demo/LUAD_WGCNA_mVSf_n2v2r_chimera_prerank_GOBP_.tsv'\n",
    "\n",
    "prerank_KEGG_borda_DeDi_fn = '../results/results_gsea/WGCNA_LUAD_MF_UASE_n2v2r_demo/LUAD_WGCNA_mVSf_n2v2r_borda_DeDi_prerank_KEGG_.tsv'\n",
    "prerank_GOBP_borda_DeDi_fn = '../results/results_gsea/WGCNA_LUAD_MF_UASE_n2v2r_demo/LUAD_WGCNA_mVSf_n2v2r_borda_DeDi_prerank_GOBP_.tsv'\n",
    "\n",
    "prerank_KEGG_n2v2r_DeDi_fn = \"../results/results_gsea/WGCNA_LUAD_MF_UASE_n2v2r_demo/LUAD_WGCNA_mVSf_n2v2r_chimera_prerank_KEGG_.tsv\"\n",
    "prerank_GOBP_n2v2r_DeDi_fn = '../results/results_gsea/WGCNA_LUAD_MF_UASE_n2v2r_demo/LUAD_WGCNA_mVSf_n2v2r_chimera_prerank_GOBP_.tsv'\n"
   ]
  },
  {
   "cell_type": "code",
   "execution_count": 3,
   "metadata": {},
   "outputs": [],
   "source": [
    "enr_KEGG_n2v2r = pd.read_csv(enr_KEGG_n2v2r_fn, sep='\\t', header=0, index_col=0)\n",
    "enr_GOBP_n2v2r = pd.read_csv(enr_GOBP_n2v2r_fn, sep='\\t', header=0, index_col=0)\n",
    "\n",
    "enr_KEGG_borda_n2v2r = pd.read_csv(enr_KEGG_borda_fn, sep='\\t', header=0, index_col=0)\n",
    "enr_GOBP_borda_n2v2r = pd.read_csv(enr_GOBP_borda_fn, sep='\\t', header=0, index_col=0)\n",
    "\n",
    "prerank_KEGG_n2v2r_DeDi = pd.read_csv(prerank_KEGG_n2v2r_DeDi_fn, sep='\\t', header=0, index_col=0)\n",
    "prerank_GOBP_n2v2r_DeDi = pd.read_csv(prerank_GOBP_n2v2r_DeDi_fn, sep='\\t', header=0, index_col=0)\n",
    "\n",
    "prerank_KEGG_borda_DeDi = pd.read_csv(prerank_KEGG_borda_DeDi_fn, sep='\\t', header=0, index_col=0)\n",
    "prerank_GOBP_borda_DeDi = pd.read_csv(prerank_GOBP_borda_DeDi_fn, sep='\\t', header=0, index_col=0)\n",
    "\n",
    "del enr_KEGG_n2v2r_fn, enr_GOBP_n2v2r_fn, enr_KEGG_borda_fn, enr_GOBP_borda_fn\n",
    "del prerank_KEGG_n2v2r_DeDi_fn, prerank_GOBP_n2v2r_DeDi_fn, prerank_KEGG_borda_DeDi_fn, prerank_GOBP_borda_DeDi_fn"
   ]
  }
 ],
 "metadata": {
  "kernelspec": {
   "display_name": "node2vec2rank",
   "language": "python",
   "name": "python3"
  },
  "language_info": {
   "codemirror_mode": {
    "name": "ipython",
    "version": 3
   },
   "file_extension": ".py",
   "mimetype": "text/x-python",
   "name": "python",
   "nbconvert_exporter": "python",
   "pygments_lexer": "ipython3",
   "version": "3.9.15"
  },
  "orig_nbformat": 4
 },
 "nbformat": 4,
 "nbformat_minor": 2
}
