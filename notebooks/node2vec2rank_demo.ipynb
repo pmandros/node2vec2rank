{
 "cells": [
  {
   "cell_type": "markdown",
   "metadata": {},
   "source": [
    "# node2vec2rank\n",
    "In this notebook we demonstrate node2vec2rank. We compare two 1000x1000 graphs that differ in a degree-naive manner, i.e., connections change but not the degree. Then we compute the recall in retrieving the most changing nodes. Make sure to set up the environment with all required packages. We recommend creating a conda environment as specified in the  [README](https://github.com/pmandros/n2v2r/blob/main/README.md)."
   ]
  },
  {
   "cell_type": "markdown",
   "metadata": {},
   "source": [
    "## Import Required Libraries\n"
   ]
  },
  {
   "cell_type": "code",
   "execution_count": 1,
   "metadata": {},
   "outputs": [],
   "source": [
    "import warnings\n",
    "warnings.filterwarnings('ignore')\n",
    "\n",
    "import sys\n",
    "import os\n",
    "\n",
    "sys.path.insert(1, os.path.realpath(os.path.pardir))\n",
    "sys.path.append(\"../node2vec2rank/\")\n",
    "\n",
    "\n",
    "import pandas as pd"
   ]
  },
  {
   "cell_type": "markdown",
   "metadata": {},
   "source": [
    "## Read the configuration file \n",
    "Use the configuration file to define the parameters needed for data loading, model fitting and ranking. Foe example, is_edge_list should be True if the graphs are represented as edge lists."
   ]
  },
  {
   "cell_type": "code",
   "execution_count": 2,
   "metadata": {},
   "outputs": [],
   "source": [
    "import json\n",
    "\n",
    "#read the config file\n",
    "config = json.load(open('../configs/config_demo_edge.json', 'r'))\n",
    "#flatten\n",
    "config = {param: value for _, params in config.items()\n",
    "          for param, value in params.items()}"
   ]
  },
  {
   "cell_type": "markdown",
   "metadata": {},
   "source": [
    "## Run node2vec2rank:\n",
    "Create dataloader, load the graphs in memory and get some properties. It also extracts the node labels and order to be used as index. The dataloader can handle symmetric graphs in adjacency or weighted edge list (through networkx) format, and bipartite graphs in adjacency format (represented as rectangular matrices). If in adjacency format, ensure that index and header exist. If the input is bipartite graphs, the graphs will be symmetriced by projecting in row node or column node space (through matrix multiplication)."
   ]
  },
  {
   "cell_type": "code",
   "execution_count": 3,
   "metadata": {},
   "outputs": [
    {
     "name": "stdout",
     "output_type": "stream",
     "text": [
      "There are 1000 row nodes and 1000 column nodes in graph 1\n",
      "There are 1000 row nodes and 1000 column nodes in graph 2\n"
     ]
    }
   ],
   "source": [
    "from node2vec2rank.dataloader import DataLoader\n",
    "\n",
    "dataloader = DataLoader(config=config)\n",
    "graphs = dataloader.get_graphs()\n",
    "nodes = dataloader.get_nodes()"
   ]
  },
  {
   "cell_type": "markdown",
   "metadata": {},
   "source": [
    "\n",
    "### Create node2Vec2Rank model"
   ]
  },
  {
   "cell_type": "code",
   "execution_count": 4,
   "metadata": {},
   "outputs": [],
   "source": [
    "from node2vec2rank.model import N2V2R\n",
    "model = N2V2R(graphs=graphs, config=config, nodes=nodes)"
   ]
  },
  {
   "cell_type": "markdown",
   "metadata": {},
   "source": [
    "### Fit node2Vec2Rank\n",
    "fit_transform_rank() generates all the rankings from all the parameters. <br>\n",
    "aggregate_transform() aggregates the rankings with Borda into one ranking. <br>\n",
    "degree_difference_ranking() generates the degree difference ranking. <br>\n",
    "The output and config file is written to disk in the folder specifed in the config file with a timestamp attached."
   ]
  },
  {
   "cell_type": "code",
   "execution_count": 5,
   "metadata": {},
   "outputs": [
    {
     "name": "stdout",
     "output_type": "stream",
     "text": [
      "../output/12_29_2023_02_41_55\n",
      "\n",
      "Running n2v2r with dimensions [4, 6, 8, 10, 12, 14, 16, 18, 20, 22, 24] and distance metrics ['euclidean', 'cosine'] ...\n",
      "\tMulti-layer embedding in 0.14 seconds\n",
      "n2v2r computed 22 rankings for 1 comparison(s) in 0.63 seconds\n",
      "\n",
      "Rank aggregation with Borda ...\n",
      "\tFinished aggregation in 0.85 seconds\n"
     ]
    }
   ],
   "source": [
    "# train Node2Vec2Rank and generate rankings\n",
    "rankings = model.fit_transform_rank()\n",
    "\n",
    "# generate ranking based on borda ranking\n",
    "borda_ranking = model.aggregate_transform()\n",
    "\n",
    "# get DeDi ranking\n",
    "DeDi_rankings = model.degree_difference_ranking()"
   ]
  },
  {
   "cell_type": "markdown",
   "metadata": {},
   "source": [
    "## Recall for most changing nodes\n",
    "Nodevec2rank generates one ranking per pair-wise comparison. For two graphs, there is only one comparison. If there are three graphs and the comparison strategy is one-versus-rest, there will be three comparisons generated.\n",
    "In this example with two graphs, node2vec2rank performs one comparison and we access this comparison with key '1'.\n",
    "We sort the ranks, get the ground truth of which nodes changed the most (we know it is the nodes of the first community) and compute recall. In this case we have simulated a  degree-naive difference on the graphs, i.e., the connections change but the degree stays roughly the same. Note that the output of node2vev2rank is not sorted by default, but rather respects the original index. \n",
    "\n"
   ]
  },
  {
   "cell_type": "code",
   "execution_count": 6,
   "metadata": {},
   "outputs": [
    {
     "name": "stdout",
     "output_type": "stream",
     "text": [
      "n2v2r recall: 0.68\n",
      "DeDi recall: 0.0\n"
     ]
    }
   ],
   "source": [
    "comparison = '1'\n",
    "\n",
    "borda_ranking_pd = borda_ranking[comparison]\n",
    "absDeDi_ranking_pd = DeDi_rankings[comparison][['absDeDi']]\n",
    "\n",
    "borda_ranking_pd.sort_values(by='borda_ranks',ascending=False, inplace=True)\n",
    "absDeDi_ranking_pd.sort_values(by='absDeDi',ascending=False, inplace=True)\n",
    "\n",
    "comm_assignments = pd.read_csv(\"../data/networks/demo/comm_asiggnments.csv\", index_col=0, header=0)\n",
    "comm_assignments.index = comm_assignments.index.astype(str, copy = False)\n",
    "most_changing_nodes = set(comm_assignments.index[comm_assignments['0'] == 0].tolist())\n",
    "num_rel = len(most_changing_nodes)\n",
    "\n",
    "print(f'n2v2r recall: {round(len(set(borda_ranking_pd.index.to_list()[:num_rel]).intersection(most_changing_nodes))/num_rel,2)}')\n",
    "print(f'DeDi recall: {round(len(set(absDeDi_ranking_pd.index.to_list()[:num_rel]).intersection(most_changing_nodes))/num_rel,2)}')\n"
   ]
  }
 ],
 "metadata": {
  "kernelspec": {
   "display_name": "node2vec2rank",
   "language": "python",
   "name": "python3"
  },
  "language_info": {
   "codemirror_mode": {
    "name": "ipython",
    "version": 3
   },
   "file_extension": ".py",
   "mimetype": "text/x-python",
   "name": "python",
   "nbconvert_exporter": "python",
   "pygments_lexer": "ipython3",
   "version": "3.9.18"
  },
  "orig_nbformat": 4
 },
 "nbformat": 4,
 "nbformat_minor": 2
}
