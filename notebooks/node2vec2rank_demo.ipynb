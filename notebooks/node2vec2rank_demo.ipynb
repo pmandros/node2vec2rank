{
 "cells": [
  {
   "cell_type": "markdown",
   "metadata": {},
   "source": [
    "# Node2vec2rank: the coolest kid in the block for extracting changes in networks\n",
    "In this notebook, we will demonstrate the usage of the Node2vec2rank in jupyter notebook format."
   ]
  },
  {
   "cell_type": "markdown",
   "metadata": {},
   "source": [
    "## Set up the environment\n",
    "Make sure to set up the environment with all required packages. We recommend creating a conda environment as specified in the  [README](https://github.com/pmandros/n2v2r/blob/main/README.md) file."
   ]
  },
  {
   "cell_type": "markdown",
   "metadata": {},
   "source": [
    "## Import Required Libraries"
   ]
  },
  {
   "cell_type": "code",
   "execution_count": 1,
   "metadata": {},
   "outputs": [],
   "source": [
    "import pandas as pd\n",
    "import json\n",
    "import argparse\n",
    "import sys"
   ]
  },
  {
   "cell_type": "code",
   "execution_count": null,
   "metadata": {},
   "outputs": [],
   "source": [
    "from node2vec2rank.dataloader import DataLoader\n",
    "from node2vec2rank.model import N2V2R"
   ]
  },
  {
   "cell_type": "markdown",
   "metadata": {},
   "source": [
    "## Define the Configuration File \n",
    "Use the configuration file to define the parameters needed for the data loading, model training and ranking:"
   ]
  },
  {
   "cell_type": "code",
   "execution_count": null,
   "metadata": {},
   "outputs": [],
   "source": [
    "config = {\n",
    "    \"data_io\": {\n",
    "        \"save_dir\": \"../output\",\n",
    "        \"data_dir\": \"/Users/anisi/Documents/Python & Data Science & ML/Fatima Fellowship/n2v2r/data/networks/inferelator\",\n",
    "        \"graph_filenames\": [\n",
    "            \"signed_network.tsv\",\n",
    "            \"CSTARVE_signed_network.tsv\"\n",
    "        ],\n",
    "        \"seperator\": \"\\t\",\n",
    "        \"is_edge_list\": false,\n",
    "        \"transpose\": true\n",
    "    },\n",
    "    \"data_preprocessing\": {\n",
    "        \"project_unipartite_on\": \"columns\",\n",
    "        \"threshold\": 0,\n",
    "        \"top_percent_keep\": [\n",
    "            100,\n",
    "            75\n",
    "        ],\n",
    "        \"binarize\": [\n",
    "            false,\n",
    "            true\n",
    "        ],\n",
    "        \"absolute\": true\n",
    "    },\n",
    "    \"fitting_ranking\": {\n",
    "        \"embed_dimensions\": [\n",
    "            2,\n",
    "            4,\n",
    "            8,\n",
    "            16\n",
    "        ],\n",
    "        \"distance_metrics\": [\n",
    "            \"euclidean\",\n",
    "            \"cosine\"\n",
    "        ],\n",
    "        \"seed\": null,\n",
    "        \"verbose\": 1\n",
    "    }\n",
    "}\n",
    "config = {param: value for _, params in config.items()\n",
    "          for param, value in params.items()}"
   ]
  },
  {
   "cell_type": "markdown",
   "metadata": {},
   "source": [
    "## Run the Model2Fit2Rank model:\n",
    "### Create dataloader and load the graphs in memory"
   ]
  },
  {
   "cell_type": "code",
   "execution_count": null,
   "metadata": {},
   "outputs": [],
   "source": [
    "dataloader = DataLoader(config=config)\n",
    "graphs = dataloader.get_graphs()\n",
    "interest_nodes = dataloader.get_interest_nodes()\n",
    "print(interest_nodes)"
   ]
  },
  {
   "cell_type": "markdown",
   "metadata": {},
   "source": [
    "\n",
    "### Define Node2Vec2Rank model"
   ]
  },
  {
   "cell_type": "code",
   "execution_count": null,
   "metadata": {},
   "outputs": [],
   "source": [
    "model = N2V2R(graphs=graphs, config=config, node_names=interest_nodes)"
   ]
  },
  {
   "cell_type": "markdown",
   "metadata": {},
   "source": [
    "### Compute DeDi ranking"
   ]
  },
  {
   "cell_type": "code",
   "execution_count": null,
   "metadata": {},
   "outputs": [],
   "source": [
    "DeDi_ranking = model.degree_difference_ranking()"
   ]
  },
  {
   "cell_type": "markdown",
   "metadata": {},
   "source": [
    "### Train Node2Vec2Rank"
   ]
  },
  {
   "cell_type": "code",
   "execution_count": null,
   "metadata": {},
   "outputs": [],
   "source": [
    "# train Node2Vec2Rank and generate rankings\n",
    "rankings = model.fit_transform_rank()\n",
    "\n",
    "# generate ranking based on borda ranking\n",
    "borda_rankings = model.aggregate_transform()\n",
    "\n",
    "# get signed ranking based on DeDi ranks\n",
    "signed_rankings = model.signed_ranks_transform()"
   ]
  },
  {
   "cell_type": "code",
   "execution_count": 2,
   "metadata": {},
   "outputs": [],
   "source": [
    "enr_KEGG_n2v2r_fn = \"../results/results_gsea/WGCNA_LUAD_MF_UASE_n2v2r_demo/LUAD_WGCNA_mVSf_n2v2r_consensus_enr_KEGG_network_background_top5_.tsv\"\n",
    "enr_GOBP_n2v2r_fn = \"../results/results_gsea/WGCNA_LUAD_MF_UASE_n2v2r_demo/LUAD_WGCNA_mVSf_n2v2r_consensus_enr_GOBP_network_background_top5_.tsv\"\n",
    "\n",
    "enr_KEGG_borda_fn = '../results/results_gsea/WGCNA_LUAD_MF_UASE_n2v2r_demo/LUAD_WGCNA_mVSf_n2v2r_borda_enr_KEGG_network_background_top5_.tsv'\n",
    "enr_GOBP_borda_fn = '../results/results_gsea/WGCNA_LUAD_MF_UASE_n2v2r_demo/LUAD_WGCNA_mVSf_n2v2r_borda_enr_GOBP_network_background_top5_.tsv'\n",
    "\n",
    "# prerank_KEGG_n2v2r_fn = \"../results/results_gsea/WGCNA_LUAD_MF_UASE_n2v2r_demo/LUAD_WGCNA_mVSf_n2v2r_chimera_prerank_KEGG_.tsv\"\n",
    "# prerank_GOBP_n2v2r_fn = '../results/results_gsea/WGCNA_LUAD_MF_UASE_n2v2r_demo/LUAD_WGCNA_mVSf_n2v2r_chimera_prerank_GOBP_.tsv'\n",
    "\n",
    "prerank_KEGG_borda_DeDi_fn = '../results/results_gsea/WGCNA_LUAD_MF_UASE_n2v2r_demo/LUAD_WGCNA_mVSf_n2v2r_borda_DeDi_prerank_KEGG_.tsv'\n",
    "prerank_GOBP_borda_DeDi_fn = '../results/results_gsea/WGCNA_LUAD_MF_UASE_n2v2r_demo/LUAD_WGCNA_mVSf_n2v2r_borda_DeDi_prerank_GOBP_.tsv'\n",
    "\n",
    "prerank_KEGG_n2v2r_DeDi_fn = \"../results/results_gsea/WGCNA_LUAD_MF_UASE_n2v2r_demo/LUAD_WGCNA_mVSf_n2v2r_chimera_prerank_KEGG_.tsv\"\n",
    "prerank_GOBP_n2v2r_DeDi_fn = '../results/results_gsea/WGCNA_LUAD_MF_UASE_n2v2r_demo/LUAD_WGCNA_mVSf_n2v2r_chimera_prerank_GOBP_.tsv'"
   ]
  },
  {
   "cell_type": "code",
   "execution_count": 3,
   "metadata": {},
   "outputs": [],
   "source": [
    "enr_KEGG_n2v2r = pd.read_csv(\n",
    "    enr_KEGG_n2v2r_fn, sep='\\t', header=0, index_col=0)\n",
    "enr_GOBP_n2v2r = pd.read_csv(\n",
    "    enr_GOBP_n2v2r_fn, sep='\\t', header=0, index_col=0)\n",
    "\n",
    "enr_KEGG_borda_n2v2r = pd.read_csv(\n",
    "    enr_KEGG_borda_fn, sep='\\t', header=0, index_col=0)\n",
    "enr_GOBP_borda_n2v2r = pd.read_csv(\n",
    "    enr_GOBP_borda_fn, sep='\\t', header=0, index_col=0)\n",
    "\n",
    "prerank_KEGG_n2v2r_DeDi = pd.read_csv(\n",
    "    prerank_KEGG_n2v2r_DeDi_fn, sep='\\t', header=0, index_col=0)\n",
    "prerank_GOBP_n2v2r_DeDi = pd.read_csv(\n",
    "    prerank_GOBP_n2v2r_DeDi_fn, sep='\\t', header=0, index_col=0)\n",
    "\n",
    "prerank_KEGG_borda_DeDi = pd.read_csv(\n",
    "    prerank_KEGG_borda_DeDi_fn, sep='\\t', header=0, index_col=0)\n",
    "prerank_GOBP_borda_DeDi = pd.read_csv(\n",
    "    prerank_GOBP_borda_DeDi_fn, sep='\\t', header=0, index_col=0)\n",
    "\n",
    "del enr_KEGG_n2v2r_fn, enr_GOBP_n2v2r_fn, enr_KEGG_borda_fn, enr_GOBP_borda_fn\n",
    "del prerank_KEGG_n2v2r_DeDi_fn, prerank_GOBP_n2v2r_DeDi_fn, prerank_KEGG_borda_DeDi_fn, prerank_GOBP_borda_DeDi_fn"
   ]
  }
 ],
 "metadata": {
  "kernelspec": {
   "display_name": "node2vec2rank",
   "language": "python",
   "name": "python3"
  },
  "language_info": {
   "codemirror_mode": {
    "name": "ipython",
    "version": 3
   },
   "file_extension": ".py",
   "mimetype": "text/x-python",
   "name": "python",
   "nbconvert_exporter": "python",
   "pygments_lexer": "ipython3",
   "version": "3.9.16"
  },
  "orig_nbformat": 4
 },
 "nbformat": 4,
 "nbformat_minor": 2
}
