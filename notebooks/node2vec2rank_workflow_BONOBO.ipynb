{
 "cells": [
  {
   "cell_type": "code",
   "execution_count": 1,
   "metadata": {},
   "outputs": [],
   "source": [
    "import numpy as np\n",
    "import copy\n",
    "import pandas as pd\n",
    "import os\n",
    "import sys\n",
    "import multiprocessing\n",
    "import warnings\n",
    "warnings.filterwarnings('ignore')\n",
    "\n",
    "n_cores = multiprocessing.cpu_count()\n",
    "\n",
    "\n",
    "sys.path.insert(1, os.path.realpath(os.path.pardir))"
   ]
  },
  {
   "cell_type": "code",
   "execution_count": 2,
   "metadata": {},
   "outputs": [],
   "source": [
    "# load the data\n",
    "\n",
    "\n",
    "# grn_filenames = (\"../data/networks/TCGA_mf_contrast/tcga_kirc_sex/wgcna/wgcna_recount3_tcga_kirc_purity03_normlogtpm_mintpm1_fracsamples01_tissueall_batchnull_adjnull_MALE-tumor_power10.h5\",\n",
    "#                  \"../data/networks/TCGA_mf_contrast/tcga_kirc_sex/wgcna/wgcna_recount3_tcga_kirc_purity03_normlogtpm_mintpm1_fracsamples01_tissueall_batchnull_adjnull_FEMALE-tumor_power10.h5\")\n",
    "\n",
    "grn_directory = \"../data/networks/bonobo/\"\n",
    "\n",
    "\n",
    "tissue = 'YEAST'\n",
    "network_inf_method = 'BONOBO'\n",
    "sex_and_gender = True\n",
    "gsea_parent_folder_name = 'BONOBO_yeast_new_plots'\n",
    "save_gsea_results_notes = ''\n",
    "\n",
    "\n",
    "# do the data have index and header??\n",
    "# if it is .csv, most likely the sep = \",\"\n",
    "#  if it is .tsv, most likely the sep = \"\\t\"\n",
    "index_col = 0\n",
    "header = 0\n",
    "sep = ','\n",
    "\n",
    "\n",
    "import os\n",
    "import re\n",
    "\n",
    "# Example usage\n",
    "grn_filenames = (grn_directory+\"bonobo_th01_phase-G1_cc-0_sample-0.h5\",  grn_directory + \"bonobo_th01_phase-S_cc-0_sample-0.h5\",grn_directory+\"bonobo_th01_phase-G2-M_cc-0_sample-0.h5\")\n",
    "\n",
    "\n",
    "\n",
    "# load the gene regulatory networks into PANDAS dataframes and then to a list\n",
    "grns = []\n",
    "for grn_filename in grn_filenames:\n",
    "    if 'h5' not in grn_filename:\n",
    "        grn_pd = pd.read_csv(\n",
    "            grn_filename,  index_col=index_col, header=header, sep=sep)\n",
    "    else:\n",
    "        grn_pd = pd.read_hdf(grn_filename)\n",
    "\n",
    "    grns.append(grn_pd)"
   ]
  },
  {
   "cell_type": "code",
   "execution_count": 3,
   "metadata": {},
   "outputs": [
    {
     "name": "stdout",
     "output_type": "stream",
     "text": [
      "There are 3551 row genes, 3551 column genes, and 3551 unique genes in first graph\n"
     ]
    }
   ],
   "source": [
    "#print some stats\n",
    "col_genes = grns[0].columns.to_numpy()\n",
    "row_genes = col_genes.copy()\n",
    "    \n",
    "total_genes = np.append(row_genes, col_genes)\n",
    "total_genes = np.unique(total_genes)\n",
    "\n",
    "num_rows = np.size(row_genes)\n",
    "num_cols = np.size(col_genes)\n",
    "num_total = np.size(total_genes)\n",
    "\n",
    "print(f\"There are {num_rows} row genes, {num_cols} column genes, and {num_total} unique genes in first graph\")\n",
    "\n"
   ]
  },
  {
   "cell_type": "code",
   "execution_count": 4,
   "metadata": {},
   "outputs": [],
   "source": [
    "# map orf to gene name\n",
    "yeast_map_fn = '../data/gene_set_libraries/yeast/yeast_orf_to_symbol_mapping.tsv'\n",
    "yeast_map = pd.read_csv(yeast_map_fn, sep=\"\\t\")\n",
    "orf2symbol = {i['orf']:i['name'] for k,i in yeast_map.iterrows()}\n",
    "genes_mapped = [orf2symbol[x] if x in orf2symbol else x for x in col_genes ]\n"
   ]
  },
  {
   "cell_type": "code",
   "execution_count": 5,
   "metadata": {},
   "outputs": [],
   "source": [
    "from node2vec2rank.model import degree_difference_ranking\n",
    "\n",
    "DeDi_ranking = degree_difference_ranking(grns, genes_mapped)"
   ]
  },
  {
   "cell_type": "code",
   "execution_count": 20,
   "metadata": {},
   "outputs": [
    {
     "name": "stdout",
     "output_type": "stream",
     "text": [
      "\n",
      "Running n2v2r with dimensions [2, 4, 16, 8] and distance metrics ['euclidean', 'cosine', 'chebyshev'] ...\n",
      "\tUASE embedding in 0.04 seconds for bin=False and keep_top=100%\n",
      "\t\tRanking in 1.19 seconds\n",
      "\tUASE embedding in 0.04 seconds for bin=True and keep_top=100%\n",
      "\t\tRanking in 1.19 seconds\n",
      "\tUASE embedding in 0.05 seconds for bin=False and keep_top=75%\n",
      "\t\tRanking in 1.21 seconds\n",
      "\tUASE embedding in 0.04 seconds for bin=True and keep_top=75%\n",
      "\t\tRanking in 1.21 seconds\n",
      "n2v2r computed 96 rankings for 2 comparison(s) in 7.93 seconds\n",
      "\n",
      "Rank aggregation with Borda ...\n",
      "\tFinished aggregation in 1.76 seconds\n",
      "\n",
      "Signed ranks transformation ...\n",
      "\tFinished signed transformation in 3.15 seconds\n"
     ]
    }
   ],
   "source": [
    "from node2vec2rank.model import n2v2r\n",
    "\n",
    "import json\n",
    "\n",
    "\n",
    "#read the config file\n",
    "config = json.load(open('../configs/config_bonobo_multi.json', 'r'))\n",
    "\n",
    "config = {param: value for section, params in config.items()\n",
    "          for param, value in params.items()}\n",
    "\n",
    "\n",
    "graphs_np = [grn.to_numpy() for grn in grns]\n",
    "model = n2v2r(graphs=graphs_np, config=config, node_names=genes_mapped)\n",
    "rankings = model.fit_transform_rank()\n",
    "\n",
    "borda_rankings = model.aggregate_transform()\n",
    "\n",
    "signed_rankings = model.signed_ranks_transform([v.iloc[:,0] for k,v in DeDi_ranking.items()])"
   ]
  },
  {
   "cell_type": "code",
   "execution_count": 8,
   "metadata": {},
   "outputs": [],
   "source": [
    "# from node2vec2rank.model_norm import compute_embedding_norm_differences\n",
    "# import matplotlib.pyplot as plt\n",
    "\n",
    "\n",
    "# first_embeddings = model.node_embeddings[0]\n",
    "# second_embeddings = model.node_embeddings[1]\n",
    "\n",
    "# first_embeddings = first_embeddings - first_embeddings.mean(axis=0, keepdims=True)\n",
    "# second_embeddings = second_embeddings - second_embeddings.mean(axis=0, keepdims=True)\n",
    "\n",
    "\n",
    "# first_norm, second_norm, difs = compute_embedding_norm_differences(first_embeddings, second_embeddings)\n",
    "\n",
    "# DeDi = grns[0].sum(axis=0) - grns[1].sum(axis=0)\n",
    "# first_degrees = grns[0].sum(axis=0)\n",
    "# second_degrees = grns[1].sum(axis=0)\n",
    "\n",
    "# plt.scatter(first_norm,first_degrees)\n",
    "# plt.scatter(second_norm,second_degrees)\n",
    "\n",
    "# plt.scatter(difs,DeDi)\n",
    "\n"
   ]
  },
  {
   "cell_type": "code",
   "execution_count": 21,
   "metadata": {},
   "outputs": [],
   "source": [
    "target = 'g1VSs'\n",
    "\n",
    "comparison = '1vs2'\n",
    "n2v2r_ranking_pd = rankings[comparison]\n",
    "n2v2r_borda_ranking_pd = borda_rankings[comparison]\n",
    "n2v2r_DeDi_ranking_pd = signed_rankings[comparison]\n",
    "n2v2r_borda_DeDi_ranking_pd = signed_rankings[comparison]\n",
    "DeDi_ranking_pd = DeDi_ranking[comparison]"
   ]
  },
  {
   "cell_type": "code",
   "execution_count": 19,
   "metadata": {},
   "outputs": [],
   "source": [
    "# from node2vec2rank.visualization_utils import dim_reduction, plot_embeddings\n",
    "\n",
    "# algorithm = 'pca'\n",
    "# n_components = 3\n",
    "\n",
    "# node_names = n2v2r_borda_ranking_pd.index.to_list()\n",
    "\n",
    "# first_embeddings = model.node_embeddings[0]\n",
    "# second_embeddings = model.node_embeddings[1]\n",
    "# third_embeddings = model.node_embeddings[2]\n",
    "\n",
    "# concat_embeddings = np.concatenate((first_embeddings, second_embeddings, third_embeddings), axis=0)\n",
    "\n",
    "# first_embeddings_red = dim_reduction(\n",
    "#     first_embeddings[:, :6], algorithm=algorithm, n_components=n_components)\n",
    "# second_embeddings_red = dim_reduction(\n",
    "#     second_embeddings[:, :6], algorithm=algorithm, n_components=n_components)\n",
    "# third_embeddings = dim_reduction(\n",
    "#     third_embeddings[:, :6], algorithm=algorithm, n_components=n_components)\n",
    "# concat_embeddings_red = dim_reduction(\n",
    "#     concat_embeddings[:, :6], algorithm=algorithm, n_components=n_components)\n",
    "\n",
    "# plot_embeddings(first_embeddings_red, color_type='numeric',\n",
    "#                 color=np.log(n2v2r_borda_ranking_pd.loc[node_names, 'borda_ranks']), names=node_names)\n",
    "# plot_embeddings(second_embeddings_red, color_type='numeric',\n",
    "#                 color=np.log(n2v2r_borda_ranking_pd.loc[node_names, 'borda_ranks']), names=node_names)\n",
    "\n",
    "\n",
    "# num_nodes = first_embeddings_red.shape[0]\n",
    "# color_one = np.zeros(num_nodes)\n",
    "# color_two = np.ones(num_nodes)\n",
    "# color_three = 2*np.ones(num_nodes)\n",
    "\n",
    "# color_concat = np.concatenate((color_one, color_two, color_three), axis=0)\n",
    "\n",
    "# plot_embeddings(concat_embeddings_red, color=color_concat,\n",
    "#                 names=np.concatenate((node_names, node_names,node_names)))"
   ]
  },
  {
   "cell_type": "code",
   "execution_count": 20,
   "metadata": {},
   "outputs": [],
   "source": [
    "# import scipy.stats as stats\n",
    "\n",
    "# list_of_taus = []\n",
    "# list_of_comparisons = []\n",
    "\n",
    "# for i in range(len(n2v2r_ranking_pd.columns)):\n",
    "#     for j in range(i+1,len(n2v2r_ranking_pd.columns)):\n",
    "#         first_series = n2v2r_ranking_pd.iloc[:,i].copy()\n",
    "#         second_series = n2v2r_ranking_pd.iloc[:,j].copy()\n",
    "\n",
    "#         first_series.sort_values(ascending=False,inplace=True)\n",
    "#         second_series.sort_values(ascending=False,inplace=True)\n",
    "\n",
    "#         first_index = first_series.index\n",
    "#         second_index = second_series.index\n",
    "\n",
    "#         tau, p_value = stats.kendalltau(first_index, second_index)\n",
    "#         list_of_taus.append(tau)\n",
    "#         list_of_comparisons.append(n2v2r_ranking_pd.columns[i]+\" vs \" +n2v2r_ranking_pd.columns[j])\n",
    "\n",
    "\n",
    "# plt.hist(list_of_taus, bins=100, log=True);\n",
    "\n",
    "# indices_high_cor=np.where(np.array(list_of_taus)>0.3)[0]\n",
    "# result = [list_of_comparisons[q] for q in indices_high_cor]\n",
    "# result"
   ]
  },
  {
   "cell_type": "code",
   "execution_count": 22,
   "metadata": {},
   "outputs": [],
   "source": [
    "# run enrich GSEA\n",
    "from node2vec2rank.post_utils import enrichr_gseapy, read_gmt\n",
    "from itertools import chain\n",
    "import os\n",
    "\n",
    "save_results = False\n",
    "\n",
    "\n",
    "# read the geneset libraries\n",
    "kegg_pathway_fn = '../data/gene_set_libraries/yeast/KEGG_2018_yeast.gmt'\n",
    "gobp_pathway_fn = '../data/gene_set_libraries/yeast/GO_Biological_Process_2018_yeast.gmt'\n",
    "\n",
    "# network_background or pathway_background for enrichment\n",
    "# network will use the genes in the network only, while pathway will use all the genes in the pathways\n",
    "# network is \"more fair\" but will find less things in small networks\n",
    "background = 'network_background'\n",
    "organism = 'yeast'\n",
    "\n",
    "# take the top k percentage of the ranking for enrichment\n",
    "top_k_percent = 10\n",
    "\n",
    "if background == 'network_background':\n",
    "    kegg_background = n2v2r_ranking_pd.index.to_list()\n",
    "    gobp_background = n2v2r_ranking_pd.index.to_list()\n",
    "elif background == 'pathway_background':\n",
    "    kegg_dict = read_gmt(kegg_pathway_fn)\n",
    "    kegg_background = list(set(chain.from_iterable(kegg_dict.values())))\n",
    "    gobp_dict = read_gmt(gobp_pathway_fn)\n",
    "    gobp_background = list(set(chain.from_iterable(gobp_dict.values())))\n",
    "else:\n",
    "    raise Exception(\"Enrichment background not properly set\")\n",
    "\n",
    "n2v2r_enr_KEGG_pd = enrichr_gseapy(n2v2r_ranking_pd, kegg_pathway_fn, background=kegg_background,enrich_quantile_cutoff=1-top_k_percent/100, organism=organism)\n",
    "\n",
    "n2v2r_enr_GOBP_pd = enrichr_gseapy(n2v2r_ranking_pd, gobp_pathway_fn, background=gobp_background,enrich_quantile_cutoff=top_k_percent/100, organism=organism)\n",
    "\n",
    "# borda_enr_KEGG_pd = enrichr_gseapy(n2v2r_borda_ranking_pd, kegg_pathway_fn, background=kegg_background, enrich_quantile_cutoff=1-top_k_percent/100, organism=organism)\n",
    "\n",
    "# borda_enr_GOBP_pd = enrichr_gseapy(n2v2r_borda_ranking_pd, gobp_pathway_fn, background=gobp_background, enrich_quantile_cutoff=1-top_k_percent/100, organism=organism)\n",
    "\n",
    "absDeDi_enr_KEGG_pd = enrichr_gseapy(DeDi_ranking_pd.iloc[:,[1]], kegg_pathway_fn, background=kegg_background, enrich_quantile_cutoff=1-top_k_percent/100, organism=organism)\n",
    "\n",
    "absDeDi_enr_GOBP_pd = enrichr_gseapy(DeDi_ranking_pd.iloc[:,[1]], gobp_pathway_fn, background=gobp_background, enrich_quantile_cutoff=1-top_k_percent/100, organism=organism)\n",
    "\n",
    "if save_results:\n",
    "    path = '../results/results_gsea/' + gsea_parent_folder_name\n",
    "    isExist = os.path.exists(path)\n",
    "    if not isExist:\n",
    "        os.makedirs(path)\n",
    "\n",
    "    n2v2r_enr_KEGG_pd.to_csv(path+\"/\"+tissue+\"_\"+network_inf_method+\"_\"+target +\n",
    "                                       \"_n2v2r\"+\"_consensus_enr_KEGG_\"+background+\"_top\"+str(top_k_percent)+\"_\"+save_gsea_results_notes+\".tsv\", header=True, index=None, sep='\\t')\n",
    "    n2v2r_enr_GOBP_pd.to_csv(path+\"/\"+tissue+\"_\"+network_inf_method+\"_\"+target +\n",
    "                                       \"_n2v2r\"+\"_consensus_enr_GOBP_\"+background+\"_top\"+str(top_k_percent)+\"_\"+save_gsea_results_notes+\".tsv\", header=True, index=None, sep='\\t')\n",
    "    # borda_enr_KEGG_pd.to_csv(path+\"/\"+tissue+\"_\"+network_inf_method+\"_\"+target+\"_n2v2r\" +\n",
    "    #                          \"_borda_enr_KEGG_\"+background+\"_top\"+str(top_k_percent)+\"_\"+save_gsea_results_notes+\".tsv\", header=True, index=None, sep='\\t')\n",
    "    # borda_enr_GOBP_pd.to_csv(path+\"/\"+tissue+\"_\"+network_inf_method+\"_\"+target+\"_n2v2r\" +\n",
    "    #                          \"_borda_enr_GOBP_\"+background+\"_top\"+str(top_k_percent)+\"_\"+save_gsea_results_notes+\".tsv\", header=True, index=None, sep='\\t')\n",
    "    absDeDi_enr_KEGG_pd.to_csv(path+\"/\"+tissue+\"_\"+network_inf_method+\"_\"+target +\n",
    "                               \"_absDeDi\"+\"_enr_KEGG_\"+background+\"_top\"+str(top_k_percent)+\"_\"+save_gsea_results_notes+\".tsv\", header=True, index=None, sep='\\t')\n",
    "    absDeDi_enr_GOBP_pd.to_csv(path+\"/\"+tissue+\"_\"+network_inf_method+\"_\"+target +\n",
    "                               \"_absDeDi\"+\"_enr_GOBP_\"+background+\"_top\"+str(top_k_percent)+\"_\"+save_gsea_results_notes+\".tsv\", header=True, index=None, sep='\\t')\n"
   ]
  },
  {
   "cell_type": "code",
   "execution_count": 24,
   "metadata": {},
   "outputs": [
    {
     "data": {
      "application/vnd.plotly.v1+json": {
       "config": {
        "plotlyServerURL": "https://plot.ly"
       },
       "data": [
        {
         "hovertemplate": "-log padj=%{x}<br>pathway=%{y}<br>overlap=%{marker.size}<br>stability=%{marker.color}<extra></extra>",
         "legendgroup": "",
         "marker": {
          "color": [
           0.3333333333333333,
           0.4166666666666667,
           0.6666666666666666,
           0.5,
           0.75,
           0.75,
           0.6666666666666666,
           0.75,
           0.8333333333333334,
           0.6666666666666666,
           0.6666666666666666,
           0.75
          ],
          "coloraxis": "coloraxis",
          "size": [
           0.4444444444444446,
           0.27432432432432435,
           0.45454545454545464,
           0.23188405797101455,
           0.6581196581196582,
           0.6543209876543208,
           0.4615384615384616,
           0.2752902155887231,
           0.4328125,
           0.19216160220994472,
           0.23391089108910906,
           0.3412698412698414
          ],
          "sizemode": "area",
          "sizeref": 0.0016452991452991456,
          "symbol": "circle"
         },
         "mode": "markers",
         "name": "",
         "orientation": "h",
         "showlegend": false,
         "type": "scatter",
         "x": [
          1.1439081468321943,
          1.5170103750675554,
          1.5836830936002948,
          1.6795937620545143,
          1.9660212321310968,
          1.966428605061665,
          1.9890190262773537,
          2.0823136842269796,
          2.2332372959624855,
          2.592266552155837,
          3.0025835698618653,
          3.1556449992715208
         ],
         "xaxis": "x",
         "y": [
          "Lysine degradation  sce00310",
          "Glycosyltransferases  sce01003",
          "Homologous recombination  sce03440",
          "Meiosis - yeast  sce04113",
          "Mismatch repair  sce03430",
          "DNA replication  sce03030",
          "Base excision repair  sce03410",
          "MAPK signaling pathway - yeast  sce04011",
          "DNA replication proteins  sce03032",
          "Chromosome and associated proteins  sce03036",
          "DNA repair and recombination proteins  sce03400",
          "Cell cycle - yeast  sce04111"
         ],
         "yaxis": "y"
        }
       ],
       "layout": {
        "autosize": true,
        "coloraxis": {
         "cmax": 0.8333333333333334,
         "cmin": 0.3333333333333333,
         "colorbar": {
          "title": {
           "text": "stability"
          }
         },
         "colorscale": [
          [
           0,
           "rgb(247,252,253)"
          ],
          [
           0.125,
           "rgb(229,245,249)"
          ],
          [
           0.25,
           "rgb(204,236,230)"
          ],
          [
           0.375,
           "rgb(153,216,201)"
          ],
          [
           0.5,
           "rgb(102,194,164)"
          ],
          [
           0.625,
           "rgb(65,174,118)"
          ],
          [
           0.75,
           "rgb(35,139,69)"
          ],
          [
           0.875,
           "rgb(0,109,44)"
          ],
          [
           1,
           "rgb(0,68,27)"
          ]
         ]
        },
        "height": 800,
        "legend": {
         "itemsizing": "constant",
         "tracegroupgap": 0
        },
        "template": {
         "data": {
          "bar": [
           {
            "error_x": {
             "color": "#2a3f5f"
            },
            "error_y": {
             "color": "#2a3f5f"
            },
            "marker": {
             "line": {
              "color": "#E5ECF6",
              "width": 0.5
             },
             "pattern": {
              "fillmode": "overlay",
              "size": 10,
              "solidity": 0.2
             }
            },
            "type": "bar"
           }
          ],
          "barpolar": [
           {
            "marker": {
             "line": {
              "color": "#E5ECF6",
              "width": 0.5
             },
             "pattern": {
              "fillmode": "overlay",
              "size": 10,
              "solidity": 0.2
             }
            },
            "type": "barpolar"
           }
          ],
          "carpet": [
           {
            "aaxis": {
             "endlinecolor": "#2a3f5f",
             "gridcolor": "white",
             "linecolor": "white",
             "minorgridcolor": "white",
             "startlinecolor": "#2a3f5f"
            },
            "baxis": {
             "endlinecolor": "#2a3f5f",
             "gridcolor": "white",
             "linecolor": "white",
             "minorgridcolor": "white",
             "startlinecolor": "#2a3f5f"
            },
            "type": "carpet"
           }
          ],
          "choropleth": [
           {
            "colorbar": {
             "outlinewidth": 0,
             "ticks": ""
            },
            "type": "choropleth"
           }
          ],
          "contour": [
           {
            "colorbar": {
             "outlinewidth": 0,
             "ticks": ""
            },
            "colorscale": [
             [
              0,
              "#0d0887"
             ],
             [
              0.1111111111111111,
              "#46039f"
             ],
             [
              0.2222222222222222,
              "#7201a8"
             ],
             [
              0.3333333333333333,
              "#9c179e"
             ],
             [
              0.4444444444444444,
              "#bd3786"
             ],
             [
              0.5555555555555556,
              "#d8576b"
             ],
             [
              0.6666666666666666,
              "#ed7953"
             ],
             [
              0.7777777777777778,
              "#fb9f3a"
             ],
             [
              0.8888888888888888,
              "#fdca26"
             ],
             [
              1,
              "#f0f921"
             ]
            ],
            "type": "contour"
           }
          ],
          "contourcarpet": [
           {
            "colorbar": {
             "outlinewidth": 0,
             "ticks": ""
            },
            "type": "contourcarpet"
           }
          ],
          "heatmap": [
           {
            "colorbar": {
             "outlinewidth": 0,
             "ticks": ""
            },
            "colorscale": [
             [
              0,
              "#0d0887"
             ],
             [
              0.1111111111111111,
              "#46039f"
             ],
             [
              0.2222222222222222,
              "#7201a8"
             ],
             [
              0.3333333333333333,
              "#9c179e"
             ],
             [
              0.4444444444444444,
              "#bd3786"
             ],
             [
              0.5555555555555556,
              "#d8576b"
             ],
             [
              0.6666666666666666,
              "#ed7953"
             ],
             [
              0.7777777777777778,
              "#fb9f3a"
             ],
             [
              0.8888888888888888,
              "#fdca26"
             ],
             [
              1,
              "#f0f921"
             ]
            ],
            "type": "heatmap"
           }
          ],
          "heatmapgl": [
           {
            "colorbar": {
             "outlinewidth": 0,
             "ticks": ""
            },
            "colorscale": [
             [
              0,
              "#0d0887"
             ],
             [
              0.1111111111111111,
              "#46039f"
             ],
             [
              0.2222222222222222,
              "#7201a8"
             ],
             [
              0.3333333333333333,
              "#9c179e"
             ],
             [
              0.4444444444444444,
              "#bd3786"
             ],
             [
              0.5555555555555556,
              "#d8576b"
             ],
             [
              0.6666666666666666,
              "#ed7953"
             ],
             [
              0.7777777777777778,
              "#fb9f3a"
             ],
             [
              0.8888888888888888,
              "#fdca26"
             ],
             [
              1,
              "#f0f921"
             ]
            ],
            "type": "heatmapgl"
           }
          ],
          "histogram": [
           {
            "marker": {
             "pattern": {
              "fillmode": "overlay",
              "size": 10,
              "solidity": 0.2
             }
            },
            "type": "histogram"
           }
          ],
          "histogram2d": [
           {
            "colorbar": {
             "outlinewidth": 0,
             "ticks": ""
            },
            "colorscale": [
             [
              0,
              "#0d0887"
             ],
             [
              0.1111111111111111,
              "#46039f"
             ],
             [
              0.2222222222222222,
              "#7201a8"
             ],
             [
              0.3333333333333333,
              "#9c179e"
             ],
             [
              0.4444444444444444,
              "#bd3786"
             ],
             [
              0.5555555555555556,
              "#d8576b"
             ],
             [
              0.6666666666666666,
              "#ed7953"
             ],
             [
              0.7777777777777778,
              "#fb9f3a"
             ],
             [
              0.8888888888888888,
              "#fdca26"
             ],
             [
              1,
              "#f0f921"
             ]
            ],
            "type": "histogram2d"
           }
          ],
          "histogram2dcontour": [
           {
            "colorbar": {
             "outlinewidth": 0,
             "ticks": ""
            },
            "colorscale": [
             [
              0,
              "#0d0887"
             ],
             [
              0.1111111111111111,
              "#46039f"
             ],
             [
              0.2222222222222222,
              "#7201a8"
             ],
             [
              0.3333333333333333,
              "#9c179e"
             ],
             [
              0.4444444444444444,
              "#bd3786"
             ],
             [
              0.5555555555555556,
              "#d8576b"
             ],
             [
              0.6666666666666666,
              "#ed7953"
             ],
             [
              0.7777777777777778,
              "#fb9f3a"
             ],
             [
              0.8888888888888888,
              "#fdca26"
             ],
             [
              1,
              "#f0f921"
             ]
            ],
            "type": "histogram2dcontour"
           }
          ],
          "mesh3d": [
           {
            "colorbar": {
             "outlinewidth": 0,
             "ticks": ""
            },
            "type": "mesh3d"
           }
          ],
          "parcoords": [
           {
            "line": {
             "colorbar": {
              "outlinewidth": 0,
              "ticks": ""
             }
            },
            "type": "parcoords"
           }
          ],
          "pie": [
           {
            "automargin": true,
            "type": "pie"
           }
          ],
          "scatter": [
           {
            "fillpattern": {
             "fillmode": "overlay",
             "size": 10,
             "solidity": 0.2
            },
            "type": "scatter"
           }
          ],
          "scatter3d": [
           {
            "line": {
             "colorbar": {
              "outlinewidth": 0,
              "ticks": ""
             }
            },
            "marker": {
             "colorbar": {
              "outlinewidth": 0,
              "ticks": ""
             }
            },
            "type": "scatter3d"
           }
          ],
          "scattercarpet": [
           {
            "marker": {
             "colorbar": {
              "outlinewidth": 0,
              "ticks": ""
             }
            },
            "type": "scattercarpet"
           }
          ],
          "scattergeo": [
           {
            "marker": {
             "colorbar": {
              "outlinewidth": 0,
              "ticks": ""
             }
            },
            "type": "scattergeo"
           }
          ],
          "scattergl": [
           {
            "marker": {
             "colorbar": {
              "outlinewidth": 0,
              "ticks": ""
             }
            },
            "type": "scattergl"
           }
          ],
          "scattermapbox": [
           {
            "marker": {
             "colorbar": {
              "outlinewidth": 0,
              "ticks": ""
             }
            },
            "type": "scattermapbox"
           }
          ],
          "scatterpolar": [
           {
            "marker": {
             "colorbar": {
              "outlinewidth": 0,
              "ticks": ""
             }
            },
            "type": "scatterpolar"
           }
          ],
          "scatterpolargl": [
           {
            "marker": {
             "colorbar": {
              "outlinewidth": 0,
              "ticks": ""
             }
            },
            "type": "scatterpolargl"
           }
          ],
          "scatterternary": [
           {
            "marker": {
             "colorbar": {
              "outlinewidth": 0,
              "ticks": ""
             }
            },
            "type": "scatterternary"
           }
          ],
          "surface": [
           {
            "colorbar": {
             "outlinewidth": 0,
             "ticks": ""
            },
            "colorscale": [
             [
              0,
              "#0d0887"
             ],
             [
              0.1111111111111111,
              "#46039f"
             ],
             [
              0.2222222222222222,
              "#7201a8"
             ],
             [
              0.3333333333333333,
              "#9c179e"
             ],
             [
              0.4444444444444444,
              "#bd3786"
             ],
             [
              0.5555555555555556,
              "#d8576b"
             ],
             [
              0.6666666666666666,
              "#ed7953"
             ],
             [
              0.7777777777777778,
              "#fb9f3a"
             ],
             [
              0.8888888888888888,
              "#fdca26"
             ],
             [
              1,
              "#f0f921"
             ]
            ],
            "type": "surface"
           }
          ],
          "table": [
           {
            "cells": {
             "fill": {
              "color": "#EBF0F8"
             },
             "line": {
              "color": "white"
             }
            },
            "header": {
             "fill": {
              "color": "#C8D4E3"
             },
             "line": {
              "color": "white"
             }
            },
            "type": "table"
           }
          ]
         },
         "layout": {
          "annotationdefaults": {
           "arrowcolor": "#2a3f5f",
           "arrowhead": 0,
           "arrowwidth": 1
          },
          "autotypenumbers": "strict",
          "coloraxis": {
           "colorbar": {
            "outlinewidth": 0,
            "ticks": ""
           }
          },
          "colorscale": {
           "diverging": [
            [
             0,
             "#8e0152"
            ],
            [
             0.1,
             "#c51b7d"
            ],
            [
             0.2,
             "#de77ae"
            ],
            [
             0.3,
             "#f1b6da"
            ],
            [
             0.4,
             "#fde0ef"
            ],
            [
             0.5,
             "#f7f7f7"
            ],
            [
             0.6,
             "#e6f5d0"
            ],
            [
             0.7,
             "#b8e186"
            ],
            [
             0.8,
             "#7fbc41"
            ],
            [
             0.9,
             "#4d9221"
            ],
            [
             1,
             "#276419"
            ]
           ],
           "sequential": [
            [
             0,
             "#0d0887"
            ],
            [
             0.1111111111111111,
             "#46039f"
            ],
            [
             0.2222222222222222,
             "#7201a8"
            ],
            [
             0.3333333333333333,
             "#9c179e"
            ],
            [
             0.4444444444444444,
             "#bd3786"
            ],
            [
             0.5555555555555556,
             "#d8576b"
            ],
            [
             0.6666666666666666,
             "#ed7953"
            ],
            [
             0.7777777777777778,
             "#fb9f3a"
            ],
            [
             0.8888888888888888,
             "#fdca26"
            ],
            [
             1,
             "#f0f921"
            ]
           ],
           "sequentialminus": [
            [
             0,
             "#0d0887"
            ],
            [
             0.1111111111111111,
             "#46039f"
            ],
            [
             0.2222222222222222,
             "#7201a8"
            ],
            [
             0.3333333333333333,
             "#9c179e"
            ],
            [
             0.4444444444444444,
             "#bd3786"
            ],
            [
             0.5555555555555556,
             "#d8576b"
            ],
            [
             0.6666666666666666,
             "#ed7953"
            ],
            [
             0.7777777777777778,
             "#fb9f3a"
            ],
            [
             0.8888888888888888,
             "#fdca26"
            ],
            [
             1,
             "#f0f921"
            ]
           ]
          },
          "colorway": [
           "#636efa",
           "#EF553B",
           "#00cc96",
           "#ab63fa",
           "#FFA15A",
           "#19d3f3",
           "#FF6692",
           "#B6E880",
           "#FF97FF",
           "#FECB52"
          ],
          "font": {
           "color": "#2a3f5f"
          },
          "geo": {
           "bgcolor": "white",
           "lakecolor": "white",
           "landcolor": "#E5ECF6",
           "showlakes": true,
           "showland": true,
           "subunitcolor": "white"
          },
          "hoverlabel": {
           "align": "left"
          },
          "hovermode": "closest",
          "mapbox": {
           "style": "light"
          },
          "paper_bgcolor": "white",
          "plot_bgcolor": "#E5ECF6",
          "polar": {
           "angularaxis": {
            "gridcolor": "white",
            "linecolor": "white",
            "ticks": ""
           },
           "bgcolor": "#E5ECF6",
           "radialaxis": {
            "gridcolor": "white",
            "linecolor": "white",
            "ticks": ""
           }
          },
          "scene": {
           "xaxis": {
            "backgroundcolor": "#E5ECF6",
            "gridcolor": "white",
            "gridwidth": 2,
            "linecolor": "white",
            "showbackground": true,
            "ticks": "",
            "zerolinecolor": "white"
           },
           "yaxis": {
            "backgroundcolor": "#E5ECF6",
            "gridcolor": "white",
            "gridwidth": 2,
            "linecolor": "white",
            "showbackground": true,
            "ticks": "",
            "zerolinecolor": "white"
           },
           "zaxis": {
            "backgroundcolor": "#E5ECF6",
            "gridcolor": "white",
            "gridwidth": 2,
            "linecolor": "white",
            "showbackground": true,
            "ticks": "",
            "zerolinecolor": "white"
           }
          },
          "shapedefaults": {
           "line": {
            "color": "#2a3f5f"
           }
          },
          "ternary": {
           "aaxis": {
            "gridcolor": "white",
            "linecolor": "white",
            "ticks": ""
           },
           "baxis": {
            "gridcolor": "white",
            "linecolor": "white",
            "ticks": ""
           },
           "bgcolor": "#E5ECF6",
           "caxis": {
            "gridcolor": "white",
            "linecolor": "white",
            "ticks": ""
           }
          },
          "title": {
           "x": 0.05
          },
          "xaxis": {
           "automargin": true,
           "gridcolor": "white",
           "linecolor": "white",
           "ticks": "",
           "title": {
            "standoff": 15
           },
           "zerolinecolor": "white",
           "zerolinewidth": 2
          },
          "yaxis": {
           "automargin": true,
           "gridcolor": "white",
           "linecolor": "white",
           "ticks": "",
           "title": {
            "standoff": 15
           },
           "zerolinecolor": "white",
           "zerolinewidth": 2
          }
         }
        },
        "title": {
         "text": "n2v2r BONOBO YEAST KEGG enrichr g1VSs padj_cutoff 0.1 network_background top 10"
        },
        "width": 800,
        "xaxis": {
         "anchor": "y",
         "domain": [
          0,
          1
         ],
         "title": {
          "text": "-log padj"
         }
        },
        "yaxis": {
         "anchor": "x",
         "domain": [
          0,
          1
         ],
         "title": {
          "text": "pathway"
         }
        }
       }
      }
     },
     "metadata": {},
     "output_type": "display_data"
    },
    {
     "data": {
      "application/vnd.plotly.v1+json": {
       "config": {
        "plotlyServerURL": "https://plot.ly"
       },
       "data": [
        {
         "hovertemplate": "-log padj=%{x}<br>pathway=%{y}<br>overlap=%{marker.size}<extra></extra>",
         "legendgroup": "",
         "marker": {
          "color": "green",
          "size": [
           0.36363636363636365,
           0.3125,
           0.2857142857142857,
           0.16793893129770993,
           0.22,
           0.21739130434782608,
           0.45454545454545453,
           0.2702702702702703,
           0.19801980198019803,
           0.29411764705882354,
           0.46153846153846156,
           0.23880597014925373,
           0.47058823529411764,
           0.19337016574585636,
           0.6923076923076923,
           0.37142857142857144,
           0.7222222222222222,
           0.5
          ],
          "sizemode": "area",
          "sizeref": 0.0018055555555555555,
          "symbol": "circle"
         },
         "mode": "markers",
         "name": "",
         "orientation": "h",
         "showlegend": false,
         "type": "scatter",
         "x": [
          1.0054389891413313,
          1.0193708094959817,
          1.0655655368515529,
          1.2032129577565154,
          1.207666759258881,
          1.6874373059486358,
          1.6874373059486358,
          1.6874373059486358,
          1.7212897971247274,
          1.8551608185917032,
          1.9636064427621205,
          2.0215515966342203,
          2.787874582194236,
          2.8511876049618183,
          4.955614406984428,
          7.594787855748829,
          7.663064113721852,
          9.781799923869775
         ],
         "xaxis": "x",
         "y": [
          "Nicotinate and nicotinamide metabolism  sce00760",
          "Lipid biosynthesis proteins  sce01004",
          "Nucleotide excision repair  sce03420",
          "Exosome  sce04147",
          "Purine metabolism  sce00230",
          "Meiosis - yeast  sce04113",
          "Homologous recombination  sce03440",
          "Glycosyltransferases  sce01003",
          "DNA repair and recombination proteins  sce03400",
          "Cytoskeleton proteins  sce04812",
          "Base excision repair  sce03410",
          "MAPK signaling pathway - yeast  sce04011",
          "Amino sugar and nucleotide sugar metabolism  sce00",
          "Chromosome and associated proteins  sce03036",
          "Mismatch repair  sce03430",
          "Cell cycle - yeast  sce04111",
          "DNA replication  sce03030",
          "DNA replication proteins  sce03032"
         ],
         "yaxis": "y"
        }
       ],
       "layout": {
        "autosize": true,
        "height": 800,
        "legend": {
         "itemsizing": "constant",
         "tracegroupgap": 0
        },
        "template": {
         "data": {
          "bar": [
           {
            "error_x": {
             "color": "#2a3f5f"
            },
            "error_y": {
             "color": "#2a3f5f"
            },
            "marker": {
             "line": {
              "color": "#E5ECF6",
              "width": 0.5
             },
             "pattern": {
              "fillmode": "overlay",
              "size": 10,
              "solidity": 0.2
             }
            },
            "type": "bar"
           }
          ],
          "barpolar": [
           {
            "marker": {
             "line": {
              "color": "#E5ECF6",
              "width": 0.5
             },
             "pattern": {
              "fillmode": "overlay",
              "size": 10,
              "solidity": 0.2
             }
            },
            "type": "barpolar"
           }
          ],
          "carpet": [
           {
            "aaxis": {
             "endlinecolor": "#2a3f5f",
             "gridcolor": "white",
             "linecolor": "white",
             "minorgridcolor": "white",
             "startlinecolor": "#2a3f5f"
            },
            "baxis": {
             "endlinecolor": "#2a3f5f",
             "gridcolor": "white",
             "linecolor": "white",
             "minorgridcolor": "white",
             "startlinecolor": "#2a3f5f"
            },
            "type": "carpet"
           }
          ],
          "choropleth": [
           {
            "colorbar": {
             "outlinewidth": 0,
             "ticks": ""
            },
            "type": "choropleth"
           }
          ],
          "contour": [
           {
            "colorbar": {
             "outlinewidth": 0,
             "ticks": ""
            },
            "colorscale": [
             [
              0,
              "#0d0887"
             ],
             [
              0.1111111111111111,
              "#46039f"
             ],
             [
              0.2222222222222222,
              "#7201a8"
             ],
             [
              0.3333333333333333,
              "#9c179e"
             ],
             [
              0.4444444444444444,
              "#bd3786"
             ],
             [
              0.5555555555555556,
              "#d8576b"
             ],
             [
              0.6666666666666666,
              "#ed7953"
             ],
             [
              0.7777777777777778,
              "#fb9f3a"
             ],
             [
              0.8888888888888888,
              "#fdca26"
             ],
             [
              1,
              "#f0f921"
             ]
            ],
            "type": "contour"
           }
          ],
          "contourcarpet": [
           {
            "colorbar": {
             "outlinewidth": 0,
             "ticks": ""
            },
            "type": "contourcarpet"
           }
          ],
          "heatmap": [
           {
            "colorbar": {
             "outlinewidth": 0,
             "ticks": ""
            },
            "colorscale": [
             [
              0,
              "#0d0887"
             ],
             [
              0.1111111111111111,
              "#46039f"
             ],
             [
              0.2222222222222222,
              "#7201a8"
             ],
             [
              0.3333333333333333,
              "#9c179e"
             ],
             [
              0.4444444444444444,
              "#bd3786"
             ],
             [
              0.5555555555555556,
              "#d8576b"
             ],
             [
              0.6666666666666666,
              "#ed7953"
             ],
             [
              0.7777777777777778,
              "#fb9f3a"
             ],
             [
              0.8888888888888888,
              "#fdca26"
             ],
             [
              1,
              "#f0f921"
             ]
            ],
            "type": "heatmap"
           }
          ],
          "heatmapgl": [
           {
            "colorbar": {
             "outlinewidth": 0,
             "ticks": ""
            },
            "colorscale": [
             [
              0,
              "#0d0887"
             ],
             [
              0.1111111111111111,
              "#46039f"
             ],
             [
              0.2222222222222222,
              "#7201a8"
             ],
             [
              0.3333333333333333,
              "#9c179e"
             ],
             [
              0.4444444444444444,
              "#bd3786"
             ],
             [
              0.5555555555555556,
              "#d8576b"
             ],
             [
              0.6666666666666666,
              "#ed7953"
             ],
             [
              0.7777777777777778,
              "#fb9f3a"
             ],
             [
              0.8888888888888888,
              "#fdca26"
             ],
             [
              1,
              "#f0f921"
             ]
            ],
            "type": "heatmapgl"
           }
          ],
          "histogram": [
           {
            "marker": {
             "pattern": {
              "fillmode": "overlay",
              "size": 10,
              "solidity": 0.2
             }
            },
            "type": "histogram"
           }
          ],
          "histogram2d": [
           {
            "colorbar": {
             "outlinewidth": 0,
             "ticks": ""
            },
            "colorscale": [
             [
              0,
              "#0d0887"
             ],
             [
              0.1111111111111111,
              "#46039f"
             ],
             [
              0.2222222222222222,
              "#7201a8"
             ],
             [
              0.3333333333333333,
              "#9c179e"
             ],
             [
              0.4444444444444444,
              "#bd3786"
             ],
             [
              0.5555555555555556,
              "#d8576b"
             ],
             [
              0.6666666666666666,
              "#ed7953"
             ],
             [
              0.7777777777777778,
              "#fb9f3a"
             ],
             [
              0.8888888888888888,
              "#fdca26"
             ],
             [
              1,
              "#f0f921"
             ]
            ],
            "type": "histogram2d"
           }
          ],
          "histogram2dcontour": [
           {
            "colorbar": {
             "outlinewidth": 0,
             "ticks": ""
            },
            "colorscale": [
             [
              0,
              "#0d0887"
             ],
             [
              0.1111111111111111,
              "#46039f"
             ],
             [
              0.2222222222222222,
              "#7201a8"
             ],
             [
              0.3333333333333333,
              "#9c179e"
             ],
             [
              0.4444444444444444,
              "#bd3786"
             ],
             [
              0.5555555555555556,
              "#d8576b"
             ],
             [
              0.6666666666666666,
              "#ed7953"
             ],
             [
              0.7777777777777778,
              "#fb9f3a"
             ],
             [
              0.8888888888888888,
              "#fdca26"
             ],
             [
              1,
              "#f0f921"
             ]
            ],
            "type": "histogram2dcontour"
           }
          ],
          "mesh3d": [
           {
            "colorbar": {
             "outlinewidth": 0,
             "ticks": ""
            },
            "type": "mesh3d"
           }
          ],
          "parcoords": [
           {
            "line": {
             "colorbar": {
              "outlinewidth": 0,
              "ticks": ""
             }
            },
            "type": "parcoords"
           }
          ],
          "pie": [
           {
            "automargin": true,
            "type": "pie"
           }
          ],
          "scatter": [
           {
            "fillpattern": {
             "fillmode": "overlay",
             "size": 10,
             "solidity": 0.2
            },
            "type": "scatter"
           }
          ],
          "scatter3d": [
           {
            "line": {
             "colorbar": {
              "outlinewidth": 0,
              "ticks": ""
             }
            },
            "marker": {
             "colorbar": {
              "outlinewidth": 0,
              "ticks": ""
             }
            },
            "type": "scatter3d"
           }
          ],
          "scattercarpet": [
           {
            "marker": {
             "colorbar": {
              "outlinewidth": 0,
              "ticks": ""
             }
            },
            "type": "scattercarpet"
           }
          ],
          "scattergeo": [
           {
            "marker": {
             "colorbar": {
              "outlinewidth": 0,
              "ticks": ""
             }
            },
            "type": "scattergeo"
           }
          ],
          "scattergl": [
           {
            "marker": {
             "colorbar": {
              "outlinewidth": 0,
              "ticks": ""
             }
            },
            "type": "scattergl"
           }
          ],
          "scattermapbox": [
           {
            "marker": {
             "colorbar": {
              "outlinewidth": 0,
              "ticks": ""
             }
            },
            "type": "scattermapbox"
           }
          ],
          "scatterpolar": [
           {
            "marker": {
             "colorbar": {
              "outlinewidth": 0,
              "ticks": ""
             }
            },
            "type": "scatterpolar"
           }
          ],
          "scatterpolargl": [
           {
            "marker": {
             "colorbar": {
              "outlinewidth": 0,
              "ticks": ""
             }
            },
            "type": "scatterpolargl"
           }
          ],
          "scatterternary": [
           {
            "marker": {
             "colorbar": {
              "outlinewidth": 0,
              "ticks": ""
             }
            },
            "type": "scatterternary"
           }
          ],
          "surface": [
           {
            "colorbar": {
             "outlinewidth": 0,
             "ticks": ""
            },
            "colorscale": [
             [
              0,
              "#0d0887"
             ],
             [
              0.1111111111111111,
              "#46039f"
             ],
             [
              0.2222222222222222,
              "#7201a8"
             ],
             [
              0.3333333333333333,
              "#9c179e"
             ],
             [
              0.4444444444444444,
              "#bd3786"
             ],
             [
              0.5555555555555556,
              "#d8576b"
             ],
             [
              0.6666666666666666,
              "#ed7953"
             ],
             [
              0.7777777777777778,
              "#fb9f3a"
             ],
             [
              0.8888888888888888,
              "#fdca26"
             ],
             [
              1,
              "#f0f921"
             ]
            ],
            "type": "surface"
           }
          ],
          "table": [
           {
            "cells": {
             "fill": {
              "color": "#EBF0F8"
             },
             "line": {
              "color": "white"
             }
            },
            "header": {
             "fill": {
              "color": "#C8D4E3"
             },
             "line": {
              "color": "white"
             }
            },
            "type": "table"
           }
          ]
         },
         "layout": {
          "annotationdefaults": {
           "arrowcolor": "#2a3f5f",
           "arrowhead": 0,
           "arrowwidth": 1
          },
          "autotypenumbers": "strict",
          "coloraxis": {
           "colorbar": {
            "outlinewidth": 0,
            "ticks": ""
           }
          },
          "colorscale": {
           "diverging": [
            [
             0,
             "#8e0152"
            ],
            [
             0.1,
             "#c51b7d"
            ],
            [
             0.2,
             "#de77ae"
            ],
            [
             0.3,
             "#f1b6da"
            ],
            [
             0.4,
             "#fde0ef"
            ],
            [
             0.5,
             "#f7f7f7"
            ],
            [
             0.6,
             "#e6f5d0"
            ],
            [
             0.7,
             "#b8e186"
            ],
            [
             0.8,
             "#7fbc41"
            ],
            [
             0.9,
             "#4d9221"
            ],
            [
             1,
             "#276419"
            ]
           ],
           "sequential": [
            [
             0,
             "#0d0887"
            ],
            [
             0.1111111111111111,
             "#46039f"
            ],
            [
             0.2222222222222222,
             "#7201a8"
            ],
            [
             0.3333333333333333,
             "#9c179e"
            ],
            [
             0.4444444444444444,
             "#bd3786"
            ],
            [
             0.5555555555555556,
             "#d8576b"
            ],
            [
             0.6666666666666666,
             "#ed7953"
            ],
            [
             0.7777777777777778,
             "#fb9f3a"
            ],
            [
             0.8888888888888888,
             "#fdca26"
            ],
            [
             1,
             "#f0f921"
            ]
           ],
           "sequentialminus": [
            [
             0,
             "#0d0887"
            ],
            [
             0.1111111111111111,
             "#46039f"
            ],
            [
             0.2222222222222222,
             "#7201a8"
            ],
            [
             0.3333333333333333,
             "#9c179e"
            ],
            [
             0.4444444444444444,
             "#bd3786"
            ],
            [
             0.5555555555555556,
             "#d8576b"
            ],
            [
             0.6666666666666666,
             "#ed7953"
            ],
            [
             0.7777777777777778,
             "#fb9f3a"
            ],
            [
             0.8888888888888888,
             "#fdca26"
            ],
            [
             1,
             "#f0f921"
            ]
           ]
          },
          "colorway": [
           "#636efa",
           "#EF553B",
           "#00cc96",
           "#ab63fa",
           "#FFA15A",
           "#19d3f3",
           "#FF6692",
           "#B6E880",
           "#FF97FF",
           "#FECB52"
          ],
          "font": {
           "color": "#2a3f5f"
          },
          "geo": {
           "bgcolor": "white",
           "lakecolor": "white",
           "landcolor": "#E5ECF6",
           "showlakes": true,
           "showland": true,
           "subunitcolor": "white"
          },
          "hoverlabel": {
           "align": "left"
          },
          "hovermode": "closest",
          "mapbox": {
           "style": "light"
          },
          "paper_bgcolor": "white",
          "plot_bgcolor": "#E5ECF6",
          "polar": {
           "angularaxis": {
            "gridcolor": "white",
            "linecolor": "white",
            "ticks": ""
           },
           "bgcolor": "#E5ECF6",
           "radialaxis": {
            "gridcolor": "white",
            "linecolor": "white",
            "ticks": ""
           }
          },
          "scene": {
           "xaxis": {
            "backgroundcolor": "#E5ECF6",
            "gridcolor": "white",
            "gridwidth": 2,
            "linecolor": "white",
            "showbackground": true,
            "ticks": "",
            "zerolinecolor": "white"
           },
           "yaxis": {
            "backgroundcolor": "#E5ECF6",
            "gridcolor": "white",
            "gridwidth": 2,
            "linecolor": "white",
            "showbackground": true,
            "ticks": "",
            "zerolinecolor": "white"
           },
           "zaxis": {
            "backgroundcolor": "#E5ECF6",
            "gridcolor": "white",
            "gridwidth": 2,
            "linecolor": "white",
            "showbackground": true,
            "ticks": "",
            "zerolinecolor": "white"
           }
          },
          "shapedefaults": {
           "line": {
            "color": "#2a3f5f"
           }
          },
          "ternary": {
           "aaxis": {
            "gridcolor": "white",
            "linecolor": "white",
            "ticks": ""
           },
           "baxis": {
            "gridcolor": "white",
            "linecolor": "white",
            "ticks": ""
           },
           "bgcolor": "#E5ECF6",
           "caxis": {
            "gridcolor": "white",
            "linecolor": "white",
            "ticks": ""
           }
          },
          "title": {
           "x": 0.05
          },
          "xaxis": {
           "automargin": true,
           "gridcolor": "white",
           "linecolor": "white",
           "ticks": "",
           "title": {
            "standoff": 15
           },
           "zerolinecolor": "white",
           "zerolinewidth": 2
          },
          "yaxis": {
           "automargin": true,
           "gridcolor": "white",
           "linecolor": "white",
           "ticks": "",
           "title": {
            "standoff": 15
           },
           "zerolinecolor": "white",
           "zerolinewidth": 2
          }
         }
        },
        "title": {
         "text": "absDeDi BONOBO YEAST KEGG enrichr g1VSs padj_cutoff 0.1 network_background top 10"
        },
        "width": 800,
        "xaxis": {
         "anchor": "y",
         "domain": [
          0,
          1
         ],
         "title": {
          "text": "-log padj"
         }
        },
        "yaxis": {
         "anchor": "x",
         "domain": [
          0,
          1
         ],
         "title": {
          "text": "pathway"
         }
        }
       }
      }
     },
     "metadata": {},
     "output_type": "display_data"
    },
    {
     "data": {
      "application/vnd.plotly.v1+json": {
       "config": {
        "plotlyServerURL": "https://plot.ly"
       },
       "data": [
        {
         "hovertemplate": "-log padj=%{x}<br>pathway=%{y}<br>overlap=%{marker.size}<br>stability=%{marker.color}<extra></extra>",
         "legendgroup": "",
         "marker": {
          "color": [
           1
          ],
          "coloraxis": "coloraxis",
          "size": [
           1
          ],
          "sizemode": "area",
          "sizeref": 0.0025,
          "symbol": "circle"
         },
         "mode": "markers",
         "name": "",
         "orientation": "h",
         "showlegend": false,
         "type": "scatter",
         "x": [
          1.1923788895537042
         ],
         "xaxis": "x",
         "y": [
          "cytoplasmic translation (GO:0002181)"
         ],
         "yaxis": "y"
        }
       ],
       "layout": {
        "autosize": true,
        "coloraxis": {
         "cmax": 1,
         "cmin": 1,
         "colorbar": {
          "title": {
           "text": "stability"
          }
         },
         "colorscale": [
          [
           0,
           "rgb(247,252,253)"
          ],
          [
           0.125,
           "rgb(229,245,249)"
          ],
          [
           0.25,
           "rgb(204,236,230)"
          ],
          [
           0.375,
           "rgb(153,216,201)"
          ],
          [
           0.5,
           "rgb(102,194,164)"
          ],
          [
           0.625,
           "rgb(65,174,118)"
          ],
          [
           0.75,
           "rgb(35,139,69)"
          ],
          [
           0.875,
           "rgb(0,109,44)"
          ],
          [
           1,
           "rgb(0,68,27)"
          ]
         ]
        },
        "height": 800,
        "legend": {
         "itemsizing": "constant",
         "tracegroupgap": 0
        },
        "template": {
         "data": {
          "bar": [
           {
            "error_x": {
             "color": "#2a3f5f"
            },
            "error_y": {
             "color": "#2a3f5f"
            },
            "marker": {
             "line": {
              "color": "#E5ECF6",
              "width": 0.5
             },
             "pattern": {
              "fillmode": "overlay",
              "size": 10,
              "solidity": 0.2
             }
            },
            "type": "bar"
           }
          ],
          "barpolar": [
           {
            "marker": {
             "line": {
              "color": "#E5ECF6",
              "width": 0.5
             },
             "pattern": {
              "fillmode": "overlay",
              "size": 10,
              "solidity": 0.2
             }
            },
            "type": "barpolar"
           }
          ],
          "carpet": [
           {
            "aaxis": {
             "endlinecolor": "#2a3f5f",
             "gridcolor": "white",
             "linecolor": "white",
             "minorgridcolor": "white",
             "startlinecolor": "#2a3f5f"
            },
            "baxis": {
             "endlinecolor": "#2a3f5f",
             "gridcolor": "white",
             "linecolor": "white",
             "minorgridcolor": "white",
             "startlinecolor": "#2a3f5f"
            },
            "type": "carpet"
           }
          ],
          "choropleth": [
           {
            "colorbar": {
             "outlinewidth": 0,
             "ticks": ""
            },
            "type": "choropleth"
           }
          ],
          "contour": [
           {
            "colorbar": {
             "outlinewidth": 0,
             "ticks": ""
            },
            "colorscale": [
             [
              0,
              "#0d0887"
             ],
             [
              0.1111111111111111,
              "#46039f"
             ],
             [
              0.2222222222222222,
              "#7201a8"
             ],
             [
              0.3333333333333333,
              "#9c179e"
             ],
             [
              0.4444444444444444,
              "#bd3786"
             ],
             [
              0.5555555555555556,
              "#d8576b"
             ],
             [
              0.6666666666666666,
              "#ed7953"
             ],
             [
              0.7777777777777778,
              "#fb9f3a"
             ],
             [
              0.8888888888888888,
              "#fdca26"
             ],
             [
              1,
              "#f0f921"
             ]
            ],
            "type": "contour"
           }
          ],
          "contourcarpet": [
           {
            "colorbar": {
             "outlinewidth": 0,
             "ticks": ""
            },
            "type": "contourcarpet"
           }
          ],
          "heatmap": [
           {
            "colorbar": {
             "outlinewidth": 0,
             "ticks": ""
            },
            "colorscale": [
             [
              0,
              "#0d0887"
             ],
             [
              0.1111111111111111,
              "#46039f"
             ],
             [
              0.2222222222222222,
              "#7201a8"
             ],
             [
              0.3333333333333333,
              "#9c179e"
             ],
             [
              0.4444444444444444,
              "#bd3786"
             ],
             [
              0.5555555555555556,
              "#d8576b"
             ],
             [
              0.6666666666666666,
              "#ed7953"
             ],
             [
              0.7777777777777778,
              "#fb9f3a"
             ],
             [
              0.8888888888888888,
              "#fdca26"
             ],
             [
              1,
              "#f0f921"
             ]
            ],
            "type": "heatmap"
           }
          ],
          "heatmapgl": [
           {
            "colorbar": {
             "outlinewidth": 0,
             "ticks": ""
            },
            "colorscale": [
             [
              0,
              "#0d0887"
             ],
             [
              0.1111111111111111,
              "#46039f"
             ],
             [
              0.2222222222222222,
              "#7201a8"
             ],
             [
              0.3333333333333333,
              "#9c179e"
             ],
             [
              0.4444444444444444,
              "#bd3786"
             ],
             [
              0.5555555555555556,
              "#d8576b"
             ],
             [
              0.6666666666666666,
              "#ed7953"
             ],
             [
              0.7777777777777778,
              "#fb9f3a"
             ],
             [
              0.8888888888888888,
              "#fdca26"
             ],
             [
              1,
              "#f0f921"
             ]
            ],
            "type": "heatmapgl"
           }
          ],
          "histogram": [
           {
            "marker": {
             "pattern": {
              "fillmode": "overlay",
              "size": 10,
              "solidity": 0.2
             }
            },
            "type": "histogram"
           }
          ],
          "histogram2d": [
           {
            "colorbar": {
             "outlinewidth": 0,
             "ticks": ""
            },
            "colorscale": [
             [
              0,
              "#0d0887"
             ],
             [
              0.1111111111111111,
              "#46039f"
             ],
             [
              0.2222222222222222,
              "#7201a8"
             ],
             [
              0.3333333333333333,
              "#9c179e"
             ],
             [
              0.4444444444444444,
              "#bd3786"
             ],
             [
              0.5555555555555556,
              "#d8576b"
             ],
             [
              0.6666666666666666,
              "#ed7953"
             ],
             [
              0.7777777777777778,
              "#fb9f3a"
             ],
             [
              0.8888888888888888,
              "#fdca26"
             ],
             [
              1,
              "#f0f921"
             ]
            ],
            "type": "histogram2d"
           }
          ],
          "histogram2dcontour": [
           {
            "colorbar": {
             "outlinewidth": 0,
             "ticks": ""
            },
            "colorscale": [
             [
              0,
              "#0d0887"
             ],
             [
              0.1111111111111111,
              "#46039f"
             ],
             [
              0.2222222222222222,
              "#7201a8"
             ],
             [
              0.3333333333333333,
              "#9c179e"
             ],
             [
              0.4444444444444444,
              "#bd3786"
             ],
             [
              0.5555555555555556,
              "#d8576b"
             ],
             [
              0.6666666666666666,
              "#ed7953"
             ],
             [
              0.7777777777777778,
              "#fb9f3a"
             ],
             [
              0.8888888888888888,
              "#fdca26"
             ],
             [
              1,
              "#f0f921"
             ]
            ],
            "type": "histogram2dcontour"
           }
          ],
          "mesh3d": [
           {
            "colorbar": {
             "outlinewidth": 0,
             "ticks": ""
            },
            "type": "mesh3d"
           }
          ],
          "parcoords": [
           {
            "line": {
             "colorbar": {
              "outlinewidth": 0,
              "ticks": ""
             }
            },
            "type": "parcoords"
           }
          ],
          "pie": [
           {
            "automargin": true,
            "type": "pie"
           }
          ],
          "scatter": [
           {
            "fillpattern": {
             "fillmode": "overlay",
             "size": 10,
             "solidity": 0.2
            },
            "type": "scatter"
           }
          ],
          "scatter3d": [
           {
            "line": {
             "colorbar": {
              "outlinewidth": 0,
              "ticks": ""
             }
            },
            "marker": {
             "colorbar": {
              "outlinewidth": 0,
              "ticks": ""
             }
            },
            "type": "scatter3d"
           }
          ],
          "scattercarpet": [
           {
            "marker": {
             "colorbar": {
              "outlinewidth": 0,
              "ticks": ""
             }
            },
            "type": "scattercarpet"
           }
          ],
          "scattergeo": [
           {
            "marker": {
             "colorbar": {
              "outlinewidth": 0,
              "ticks": ""
             }
            },
            "type": "scattergeo"
           }
          ],
          "scattergl": [
           {
            "marker": {
             "colorbar": {
              "outlinewidth": 0,
              "ticks": ""
             }
            },
            "type": "scattergl"
           }
          ],
          "scattermapbox": [
           {
            "marker": {
             "colorbar": {
              "outlinewidth": 0,
              "ticks": ""
             }
            },
            "type": "scattermapbox"
           }
          ],
          "scatterpolar": [
           {
            "marker": {
             "colorbar": {
              "outlinewidth": 0,
              "ticks": ""
             }
            },
            "type": "scatterpolar"
           }
          ],
          "scatterpolargl": [
           {
            "marker": {
             "colorbar": {
              "outlinewidth": 0,
              "ticks": ""
             }
            },
            "type": "scatterpolargl"
           }
          ],
          "scatterternary": [
           {
            "marker": {
             "colorbar": {
              "outlinewidth": 0,
              "ticks": ""
             }
            },
            "type": "scatterternary"
           }
          ],
          "surface": [
           {
            "colorbar": {
             "outlinewidth": 0,
             "ticks": ""
            },
            "colorscale": [
             [
              0,
              "#0d0887"
             ],
             [
              0.1111111111111111,
              "#46039f"
             ],
             [
              0.2222222222222222,
              "#7201a8"
             ],
             [
              0.3333333333333333,
              "#9c179e"
             ],
             [
              0.4444444444444444,
              "#bd3786"
             ],
             [
              0.5555555555555556,
              "#d8576b"
             ],
             [
              0.6666666666666666,
              "#ed7953"
             ],
             [
              0.7777777777777778,
              "#fb9f3a"
             ],
             [
              0.8888888888888888,
              "#fdca26"
             ],
             [
              1,
              "#f0f921"
             ]
            ],
            "type": "surface"
           }
          ],
          "table": [
           {
            "cells": {
             "fill": {
              "color": "#EBF0F8"
             },
             "line": {
              "color": "white"
             }
            },
            "header": {
             "fill": {
              "color": "#C8D4E3"
             },
             "line": {
              "color": "white"
             }
            },
            "type": "table"
           }
          ]
         },
         "layout": {
          "annotationdefaults": {
           "arrowcolor": "#2a3f5f",
           "arrowhead": 0,
           "arrowwidth": 1
          },
          "autotypenumbers": "strict",
          "coloraxis": {
           "colorbar": {
            "outlinewidth": 0,
            "ticks": ""
           }
          },
          "colorscale": {
           "diverging": [
            [
             0,
             "#8e0152"
            ],
            [
             0.1,
             "#c51b7d"
            ],
            [
             0.2,
             "#de77ae"
            ],
            [
             0.3,
             "#f1b6da"
            ],
            [
             0.4,
             "#fde0ef"
            ],
            [
             0.5,
             "#f7f7f7"
            ],
            [
             0.6,
             "#e6f5d0"
            ],
            [
             0.7,
             "#b8e186"
            ],
            [
             0.8,
             "#7fbc41"
            ],
            [
             0.9,
             "#4d9221"
            ],
            [
             1,
             "#276419"
            ]
           ],
           "sequential": [
            [
             0,
             "#0d0887"
            ],
            [
             0.1111111111111111,
             "#46039f"
            ],
            [
             0.2222222222222222,
             "#7201a8"
            ],
            [
             0.3333333333333333,
             "#9c179e"
            ],
            [
             0.4444444444444444,
             "#bd3786"
            ],
            [
             0.5555555555555556,
             "#d8576b"
            ],
            [
             0.6666666666666666,
             "#ed7953"
            ],
            [
             0.7777777777777778,
             "#fb9f3a"
            ],
            [
             0.8888888888888888,
             "#fdca26"
            ],
            [
             1,
             "#f0f921"
            ]
           ],
           "sequentialminus": [
            [
             0,
             "#0d0887"
            ],
            [
             0.1111111111111111,
             "#46039f"
            ],
            [
             0.2222222222222222,
             "#7201a8"
            ],
            [
             0.3333333333333333,
             "#9c179e"
            ],
            [
             0.4444444444444444,
             "#bd3786"
            ],
            [
             0.5555555555555556,
             "#d8576b"
            ],
            [
             0.6666666666666666,
             "#ed7953"
            ],
            [
             0.7777777777777778,
             "#fb9f3a"
            ],
            [
             0.8888888888888888,
             "#fdca26"
            ],
            [
             1,
             "#f0f921"
            ]
           ]
          },
          "colorway": [
           "#636efa",
           "#EF553B",
           "#00cc96",
           "#ab63fa",
           "#FFA15A",
           "#19d3f3",
           "#FF6692",
           "#B6E880",
           "#FF97FF",
           "#FECB52"
          ],
          "font": {
           "color": "#2a3f5f"
          },
          "geo": {
           "bgcolor": "white",
           "lakecolor": "white",
           "landcolor": "#E5ECF6",
           "showlakes": true,
           "showland": true,
           "subunitcolor": "white"
          },
          "hoverlabel": {
           "align": "left"
          },
          "hovermode": "closest",
          "mapbox": {
           "style": "light"
          },
          "paper_bgcolor": "white",
          "plot_bgcolor": "#E5ECF6",
          "polar": {
           "angularaxis": {
            "gridcolor": "white",
            "linecolor": "white",
            "ticks": ""
           },
           "bgcolor": "#E5ECF6",
           "radialaxis": {
            "gridcolor": "white",
            "linecolor": "white",
            "ticks": ""
           }
          },
          "scene": {
           "xaxis": {
            "backgroundcolor": "#E5ECF6",
            "gridcolor": "white",
            "gridwidth": 2,
            "linecolor": "white",
            "showbackground": true,
            "ticks": "",
            "zerolinecolor": "white"
           },
           "yaxis": {
            "backgroundcolor": "#E5ECF6",
            "gridcolor": "white",
            "gridwidth": 2,
            "linecolor": "white",
            "showbackground": true,
            "ticks": "",
            "zerolinecolor": "white"
           },
           "zaxis": {
            "backgroundcolor": "#E5ECF6",
            "gridcolor": "white",
            "gridwidth": 2,
            "linecolor": "white",
            "showbackground": true,
            "ticks": "",
            "zerolinecolor": "white"
           }
          },
          "shapedefaults": {
           "line": {
            "color": "#2a3f5f"
           }
          },
          "ternary": {
           "aaxis": {
            "gridcolor": "white",
            "linecolor": "white",
            "ticks": ""
           },
           "baxis": {
            "gridcolor": "white",
            "linecolor": "white",
            "ticks": ""
           },
           "bgcolor": "#E5ECF6",
           "caxis": {
            "gridcolor": "white",
            "linecolor": "white",
            "ticks": ""
           }
          },
          "title": {
           "x": 0.05
          },
          "xaxis": {
           "automargin": true,
           "gridcolor": "white",
           "linecolor": "white",
           "ticks": "",
           "title": {
            "standoff": 15
           },
           "zerolinecolor": "white",
           "zerolinewidth": 2
          },
          "yaxis": {
           "automargin": true,
           "gridcolor": "white",
           "linecolor": "white",
           "ticks": "",
           "title": {
            "standoff": 15
           },
           "zerolinecolor": "white",
           "zerolinewidth": 2
          }
         }
        },
        "title": {
         "text": "n2v2r BONOBO YEAST GOBP enrichr g1VSs padj_cutoff 0.1 network_background top 10"
        },
        "width": 800,
        "xaxis": {
         "anchor": "y",
         "domain": [
          0,
          1
         ],
         "title": {
          "text": "-log padj"
         }
        },
        "yaxis": {
         "anchor": "x",
         "domain": [
          0,
          1
         ],
         "title": {
          "text": "pathway"
         }
        }
       }
      }
     },
     "metadata": {},
     "output_type": "display_data"
    },
    {
     "data": {
      "application/vnd.plotly.v1+json": {
       "config": {
        "plotlyServerURL": "https://plot.ly"
       },
       "data": [
        {
         "hovertemplate": "-log padj=%{x}<br>pathway=%{y}<br>overlap=%{marker.size}<extra></extra>",
         "legendgroup": "",
         "marker": {
          "color": "green",
          "size": [
           0.3333333333333333,
           0.4444444444444444,
           0.7142857142857143,
           0.7142857142857143,
           0.7142857142857143,
           0.7142857142857143,
           0.47058823529411764,
           0.6666666666666666,
           0.5,
           0.5833333333333334,
           0.23958333333333334,
           0.24719101123595505,
           0.47368421052631576,
           0.6363636363636364,
           0.5,
           0.75,
           0.5714285714285714,
           1,
           0.25252525252525254,
           0.5625,
           0.7777777777777778,
           0.5,
           0.40540540540540543,
           0.43243243243243246,
           0.2857142857142857
          ],
          "sizemode": "area",
          "sizeref": 0.0025,
          "symbol": "circle"
         },
         "mode": "markers",
         "name": "",
         "orientation": "h",
         "showlegend": false,
         "type": "scatter",
         "x": [
          2.1328984718227266,
          2.2217536695318767,
          2.2217536695318767,
          2.2217536695318767,
          2.2217536695318767,
          2.2217536695318767,
          2.3542942172531016,
          2.539502257320809,
          2.542857445821869,
          2.5995946490503687,
          2.5995946490503687,
          2.624759863152724,
          2.661311292479896,
          2.8022672341968304,
          2.8022672341968304,
          2.8022672341968304,
          2.819862519782991,
          2.992166880858147,
          3.0302320986355666,
          3.113186812845027,
          3.3199391543109034,
          3.332080468020341,
          3.593535068461252,
          4.2554976456077656,
          5.787383969199602
         ],
         "xaxis": "x",
         "y": [
          "mitotic sister chromatid segregation (GO:0000070)",
          "mitotic spindle organization (GO:0007052)",
          "mitotic cytokinetic process (GO:1902410)",
          "mitotic DNA replication (GO:1902969)",
          "regulation of cell proliferation (GO:0042127)",
          "positive regulation of cell proliferation (GO:0008",
          "double-strand break repair via break-induced repli",
          "RNA-dependent DNA biosynthetic process (GO:0006278",
          "sphingolipid biosynthetic process (GO:0030148)",
          "regulation of cyclin-dependent protein kinase acti",
          "fungal-type cell wall organization (GO:0031505)",
          "cellular response to DNA damage stimulus (GO:00069",
          "regulation of cell cycle process (GO:0010564)",
          "membrane lipid biosynthetic process (GO:0046467)",
          "regulation of transcription involved in G1/S trans",
          "DNA replication, removal of RNA primer (GO:0043137",
          "regulation of protein serine/threonine kinase acti",
          "lagging strand elongation (GO:0006273)",
          "DNA repair (GO:0006281)",
          "DNA strand elongation involved in DNA replication ",
          "DNA replication, Okazaki fragment processing (GO:0",
          "DNA replication (GO:0006260)",
          "double-strand break repair via homologous recombin",
          "DNA-dependent DNA replication (GO:0006261)",
          "DNA metabolic process (GO:0006259)"
         ],
         "yaxis": "y"
        }
       ],
       "layout": {
        "autosize": true,
        "height": 800,
        "legend": {
         "itemsizing": "constant",
         "tracegroupgap": 0
        },
        "template": {
         "data": {
          "bar": [
           {
            "error_x": {
             "color": "#2a3f5f"
            },
            "error_y": {
             "color": "#2a3f5f"
            },
            "marker": {
             "line": {
              "color": "#E5ECF6",
              "width": 0.5
             },
             "pattern": {
              "fillmode": "overlay",
              "size": 10,
              "solidity": 0.2
             }
            },
            "type": "bar"
           }
          ],
          "barpolar": [
           {
            "marker": {
             "line": {
              "color": "#E5ECF6",
              "width": 0.5
             },
             "pattern": {
              "fillmode": "overlay",
              "size": 10,
              "solidity": 0.2
             }
            },
            "type": "barpolar"
           }
          ],
          "carpet": [
           {
            "aaxis": {
             "endlinecolor": "#2a3f5f",
             "gridcolor": "white",
             "linecolor": "white",
             "minorgridcolor": "white",
             "startlinecolor": "#2a3f5f"
            },
            "baxis": {
             "endlinecolor": "#2a3f5f",
             "gridcolor": "white",
             "linecolor": "white",
             "minorgridcolor": "white",
             "startlinecolor": "#2a3f5f"
            },
            "type": "carpet"
           }
          ],
          "choropleth": [
           {
            "colorbar": {
             "outlinewidth": 0,
             "ticks": ""
            },
            "type": "choropleth"
           }
          ],
          "contour": [
           {
            "colorbar": {
             "outlinewidth": 0,
             "ticks": ""
            },
            "colorscale": [
             [
              0,
              "#0d0887"
             ],
             [
              0.1111111111111111,
              "#46039f"
             ],
             [
              0.2222222222222222,
              "#7201a8"
             ],
             [
              0.3333333333333333,
              "#9c179e"
             ],
             [
              0.4444444444444444,
              "#bd3786"
             ],
             [
              0.5555555555555556,
              "#d8576b"
             ],
             [
              0.6666666666666666,
              "#ed7953"
             ],
             [
              0.7777777777777778,
              "#fb9f3a"
             ],
             [
              0.8888888888888888,
              "#fdca26"
             ],
             [
              1,
              "#f0f921"
             ]
            ],
            "type": "contour"
           }
          ],
          "contourcarpet": [
           {
            "colorbar": {
             "outlinewidth": 0,
             "ticks": ""
            },
            "type": "contourcarpet"
           }
          ],
          "heatmap": [
           {
            "colorbar": {
             "outlinewidth": 0,
             "ticks": ""
            },
            "colorscale": [
             [
              0,
              "#0d0887"
             ],
             [
              0.1111111111111111,
              "#46039f"
             ],
             [
              0.2222222222222222,
              "#7201a8"
             ],
             [
              0.3333333333333333,
              "#9c179e"
             ],
             [
              0.4444444444444444,
              "#bd3786"
             ],
             [
              0.5555555555555556,
              "#d8576b"
             ],
             [
              0.6666666666666666,
              "#ed7953"
             ],
             [
              0.7777777777777778,
              "#fb9f3a"
             ],
             [
              0.8888888888888888,
              "#fdca26"
             ],
             [
              1,
              "#f0f921"
             ]
            ],
            "type": "heatmap"
           }
          ],
          "heatmapgl": [
           {
            "colorbar": {
             "outlinewidth": 0,
             "ticks": ""
            },
            "colorscale": [
             [
              0,
              "#0d0887"
             ],
             [
              0.1111111111111111,
              "#46039f"
             ],
             [
              0.2222222222222222,
              "#7201a8"
             ],
             [
              0.3333333333333333,
              "#9c179e"
             ],
             [
              0.4444444444444444,
              "#bd3786"
             ],
             [
              0.5555555555555556,
              "#d8576b"
             ],
             [
              0.6666666666666666,
              "#ed7953"
             ],
             [
              0.7777777777777778,
              "#fb9f3a"
             ],
             [
              0.8888888888888888,
              "#fdca26"
             ],
             [
              1,
              "#f0f921"
             ]
            ],
            "type": "heatmapgl"
           }
          ],
          "histogram": [
           {
            "marker": {
             "pattern": {
              "fillmode": "overlay",
              "size": 10,
              "solidity": 0.2
             }
            },
            "type": "histogram"
           }
          ],
          "histogram2d": [
           {
            "colorbar": {
             "outlinewidth": 0,
             "ticks": ""
            },
            "colorscale": [
             [
              0,
              "#0d0887"
             ],
             [
              0.1111111111111111,
              "#46039f"
             ],
             [
              0.2222222222222222,
              "#7201a8"
             ],
             [
              0.3333333333333333,
              "#9c179e"
             ],
             [
              0.4444444444444444,
              "#bd3786"
             ],
             [
              0.5555555555555556,
              "#d8576b"
             ],
             [
              0.6666666666666666,
              "#ed7953"
             ],
             [
              0.7777777777777778,
              "#fb9f3a"
             ],
             [
              0.8888888888888888,
              "#fdca26"
             ],
             [
              1,
              "#f0f921"
             ]
            ],
            "type": "histogram2d"
           }
          ],
          "histogram2dcontour": [
           {
            "colorbar": {
             "outlinewidth": 0,
             "ticks": ""
            },
            "colorscale": [
             [
              0,
              "#0d0887"
             ],
             [
              0.1111111111111111,
              "#46039f"
             ],
             [
              0.2222222222222222,
              "#7201a8"
             ],
             [
              0.3333333333333333,
              "#9c179e"
             ],
             [
              0.4444444444444444,
              "#bd3786"
             ],
             [
              0.5555555555555556,
              "#d8576b"
             ],
             [
              0.6666666666666666,
              "#ed7953"
             ],
             [
              0.7777777777777778,
              "#fb9f3a"
             ],
             [
              0.8888888888888888,
              "#fdca26"
             ],
             [
              1,
              "#f0f921"
             ]
            ],
            "type": "histogram2dcontour"
           }
          ],
          "mesh3d": [
           {
            "colorbar": {
             "outlinewidth": 0,
             "ticks": ""
            },
            "type": "mesh3d"
           }
          ],
          "parcoords": [
           {
            "line": {
             "colorbar": {
              "outlinewidth": 0,
              "ticks": ""
             }
            },
            "type": "parcoords"
           }
          ],
          "pie": [
           {
            "automargin": true,
            "type": "pie"
           }
          ],
          "scatter": [
           {
            "fillpattern": {
             "fillmode": "overlay",
             "size": 10,
             "solidity": 0.2
            },
            "type": "scatter"
           }
          ],
          "scatter3d": [
           {
            "line": {
             "colorbar": {
              "outlinewidth": 0,
              "ticks": ""
             }
            },
            "marker": {
             "colorbar": {
              "outlinewidth": 0,
              "ticks": ""
             }
            },
            "type": "scatter3d"
           }
          ],
          "scattercarpet": [
           {
            "marker": {
             "colorbar": {
              "outlinewidth": 0,
              "ticks": ""
             }
            },
            "type": "scattercarpet"
           }
          ],
          "scattergeo": [
           {
            "marker": {
             "colorbar": {
              "outlinewidth": 0,
              "ticks": ""
             }
            },
            "type": "scattergeo"
           }
          ],
          "scattergl": [
           {
            "marker": {
             "colorbar": {
              "outlinewidth": 0,
              "ticks": ""
             }
            },
            "type": "scattergl"
           }
          ],
          "scattermapbox": [
           {
            "marker": {
             "colorbar": {
              "outlinewidth": 0,
              "ticks": ""
             }
            },
            "type": "scattermapbox"
           }
          ],
          "scatterpolar": [
           {
            "marker": {
             "colorbar": {
              "outlinewidth": 0,
              "ticks": ""
             }
            },
            "type": "scatterpolar"
           }
          ],
          "scatterpolargl": [
           {
            "marker": {
             "colorbar": {
              "outlinewidth": 0,
              "ticks": ""
             }
            },
            "type": "scatterpolargl"
           }
          ],
          "scatterternary": [
           {
            "marker": {
             "colorbar": {
              "outlinewidth": 0,
              "ticks": ""
             }
            },
            "type": "scatterternary"
           }
          ],
          "surface": [
           {
            "colorbar": {
             "outlinewidth": 0,
             "ticks": ""
            },
            "colorscale": [
             [
              0,
              "#0d0887"
             ],
             [
              0.1111111111111111,
              "#46039f"
             ],
             [
              0.2222222222222222,
              "#7201a8"
             ],
             [
              0.3333333333333333,
              "#9c179e"
             ],
             [
              0.4444444444444444,
              "#bd3786"
             ],
             [
              0.5555555555555556,
              "#d8576b"
             ],
             [
              0.6666666666666666,
              "#ed7953"
             ],
             [
              0.7777777777777778,
              "#fb9f3a"
             ],
             [
              0.8888888888888888,
              "#fdca26"
             ],
             [
              1,
              "#f0f921"
             ]
            ],
            "type": "surface"
           }
          ],
          "table": [
           {
            "cells": {
             "fill": {
              "color": "#EBF0F8"
             },
             "line": {
              "color": "white"
             }
            },
            "header": {
             "fill": {
              "color": "#C8D4E3"
             },
             "line": {
              "color": "white"
             }
            },
            "type": "table"
           }
          ]
         },
         "layout": {
          "annotationdefaults": {
           "arrowcolor": "#2a3f5f",
           "arrowhead": 0,
           "arrowwidth": 1
          },
          "autotypenumbers": "strict",
          "coloraxis": {
           "colorbar": {
            "outlinewidth": 0,
            "ticks": ""
           }
          },
          "colorscale": {
           "diverging": [
            [
             0,
             "#8e0152"
            ],
            [
             0.1,
             "#c51b7d"
            ],
            [
             0.2,
             "#de77ae"
            ],
            [
             0.3,
             "#f1b6da"
            ],
            [
             0.4,
             "#fde0ef"
            ],
            [
             0.5,
             "#f7f7f7"
            ],
            [
             0.6,
             "#e6f5d0"
            ],
            [
             0.7,
             "#b8e186"
            ],
            [
             0.8,
             "#7fbc41"
            ],
            [
             0.9,
             "#4d9221"
            ],
            [
             1,
             "#276419"
            ]
           ],
           "sequential": [
            [
             0,
             "#0d0887"
            ],
            [
             0.1111111111111111,
             "#46039f"
            ],
            [
             0.2222222222222222,
             "#7201a8"
            ],
            [
             0.3333333333333333,
             "#9c179e"
            ],
            [
             0.4444444444444444,
             "#bd3786"
            ],
            [
             0.5555555555555556,
             "#d8576b"
            ],
            [
             0.6666666666666666,
             "#ed7953"
            ],
            [
             0.7777777777777778,
             "#fb9f3a"
            ],
            [
             0.8888888888888888,
             "#fdca26"
            ],
            [
             1,
             "#f0f921"
            ]
           ],
           "sequentialminus": [
            [
             0,
             "#0d0887"
            ],
            [
             0.1111111111111111,
             "#46039f"
            ],
            [
             0.2222222222222222,
             "#7201a8"
            ],
            [
             0.3333333333333333,
             "#9c179e"
            ],
            [
             0.4444444444444444,
             "#bd3786"
            ],
            [
             0.5555555555555556,
             "#d8576b"
            ],
            [
             0.6666666666666666,
             "#ed7953"
            ],
            [
             0.7777777777777778,
             "#fb9f3a"
            ],
            [
             0.8888888888888888,
             "#fdca26"
            ],
            [
             1,
             "#f0f921"
            ]
           ]
          },
          "colorway": [
           "#636efa",
           "#EF553B",
           "#00cc96",
           "#ab63fa",
           "#FFA15A",
           "#19d3f3",
           "#FF6692",
           "#B6E880",
           "#FF97FF",
           "#FECB52"
          ],
          "font": {
           "color": "#2a3f5f"
          },
          "geo": {
           "bgcolor": "white",
           "lakecolor": "white",
           "landcolor": "#E5ECF6",
           "showlakes": true,
           "showland": true,
           "subunitcolor": "white"
          },
          "hoverlabel": {
           "align": "left"
          },
          "hovermode": "closest",
          "mapbox": {
           "style": "light"
          },
          "paper_bgcolor": "white",
          "plot_bgcolor": "#E5ECF6",
          "polar": {
           "angularaxis": {
            "gridcolor": "white",
            "linecolor": "white",
            "ticks": ""
           },
           "bgcolor": "#E5ECF6",
           "radialaxis": {
            "gridcolor": "white",
            "linecolor": "white",
            "ticks": ""
           }
          },
          "scene": {
           "xaxis": {
            "backgroundcolor": "#E5ECF6",
            "gridcolor": "white",
            "gridwidth": 2,
            "linecolor": "white",
            "showbackground": true,
            "ticks": "",
            "zerolinecolor": "white"
           },
           "yaxis": {
            "backgroundcolor": "#E5ECF6",
            "gridcolor": "white",
            "gridwidth": 2,
            "linecolor": "white",
            "showbackground": true,
            "ticks": "",
            "zerolinecolor": "white"
           },
           "zaxis": {
            "backgroundcolor": "#E5ECF6",
            "gridcolor": "white",
            "gridwidth": 2,
            "linecolor": "white",
            "showbackground": true,
            "ticks": "",
            "zerolinecolor": "white"
           }
          },
          "shapedefaults": {
           "line": {
            "color": "#2a3f5f"
           }
          },
          "ternary": {
           "aaxis": {
            "gridcolor": "white",
            "linecolor": "white",
            "ticks": ""
           },
           "baxis": {
            "gridcolor": "white",
            "linecolor": "white",
            "ticks": ""
           },
           "bgcolor": "#E5ECF6",
           "caxis": {
            "gridcolor": "white",
            "linecolor": "white",
            "ticks": ""
           }
          },
          "title": {
           "x": 0.05
          },
          "xaxis": {
           "automargin": true,
           "gridcolor": "white",
           "linecolor": "white",
           "ticks": "",
           "title": {
            "standoff": 15
           },
           "zerolinecolor": "white",
           "zerolinewidth": 2
          },
          "yaxis": {
           "automargin": true,
           "gridcolor": "white",
           "linecolor": "white",
           "ticks": "",
           "title": {
            "standoff": 15
           },
           "zerolinecolor": "white",
           "zerolinewidth": 2
          }
         }
        },
        "title": {
         "text": "absDeDi BONOBO YEAST GOBP enrichr g1VSs padj_cutoff 0.1 network_background top 10"
        },
        "width": 800,
        "xaxis": {
         "anchor": "y",
         "domain": [
          0,
          1
         ],
         "title": {
          "text": "-log padj"
         }
        },
        "yaxis": {
         "anchor": "x",
         "domain": [
          0,
          1
         ],
         "title": {
          "text": "pathway"
         }
        }
       }
      }
     },
     "metadata": {},
     "output_type": "display_data"
    }
   ],
   "source": [
    "from node2vec2rank.post_utils import plot_gseapy_enrich \n",
    "\n",
    "stability_cutoff = 0.2\n",
    "padj_cutoff = 0.1\n",
    "\n",
    "save_directory = '../results/results_gsea/' + gsea_parent_folder_name\n",
    "# save_directory = None\n",
    "\n",
    "\n",
    "title = network_inf_method+ \" \" +  tissue +  \" KEGG enrichr \" + target + \" padj_cutoff \" + str(padj_cutoff) + \" \" +background + \" top \" + str(top_k_percent)\n",
    "\n",
    "plot_gseapy_enrich(n2v2r_enr_KEGG_pd, has_stability=True, padj_cutoff=padj_cutoff, stability_cutoff=stability_cutoff,  title=\"n2v2r \" + title,output_dir=save_directory)\n",
    "# plot_gseapy_enrich(borda_enr_KEGG_pd, padj_cutoff=padj_cutoff, has_stability=False, stability_cutoff=stability_cutoff, title=\"Borda n2v2r \" + title,output_dir=save_directory)\n",
    "plot_gseapy_enrich(absDeDi_enr_KEGG_pd, padj_cutoff=padj_cutoff, has_stability=False, stability_cutoff=stability_cutoff, title=\"absDeDi \" + title,output_dir=save_directory)\n",
    "\n",
    "title = network_inf_method+ \" \" +  tissue +  \" GOBP enrichr \" + target + \" padj_cutoff \" + str(padj_cutoff) + \" \" +background + \" top \" + str(top_k_percent)\n",
    "\n",
    "plot_gseapy_enrich(n2v2r_enr_GOBP_pd, has_stability=True, padj_cutoff=padj_cutoff,stability_cutoff=stability_cutoff,  title=\"n2v2r \" + title,output_dir=save_directory)\n",
    "# plot_gseapy_enrich(borda_enr_GOBP_pd, padj_cutoff=padj_cutoff,has_stability=False, stability_cutoff=stability_cutoff, title=\"Borda n2v2r \" + title,output_dir=save_directory)\n",
    "plot_gseapy_enrich(absDeDi_enr_GOBP_pd, padj_cutoff=padj_cutoff, has_stability=False, stability_cutoff=stability_cutoff, title=\"absDeDi \" + title,output_dir=save_directory)\n",
    "\n"
   ]
  },
  {
   "cell_type": "code",
   "execution_count": 23,
   "metadata": {},
   "outputs": [
    {
     "name": "stderr",
     "output_type": "stream",
     "text": [
      "2023-06-20 17:52:49,963 [WARNING] Duplicated values found in preranked stats: 82.65% of genes\n",
      "The order of those genes will be arbitrary, which may produce unexpected results.\n",
      "2023-06-20 17:52:50,593 [WARNING] Duplicated values found in preranked stats: 83.13% of genes\n",
      "The order of those genes will be arbitrary, which may produce unexpected results.\n",
      "2023-06-20 17:52:51,241 [WARNING] Duplicated values found in preranked stats: 82.71% of genes\n",
      "The order of those genes will be arbitrary, which may produce unexpected results.\n",
      "2023-06-20 17:52:51,834 [WARNING] Duplicated values found in preranked stats: 82.65% of genes\n",
      "The order of those genes will be arbitrary, which may produce unexpected results.\n",
      "2023-06-20 17:52:52,431 [WARNING] Duplicated values found in preranked stats: 82.74% of genes\n",
      "The order of those genes will be arbitrary, which may produce unexpected results.\n",
      "2023-06-20 17:52:53,020 [WARNING] Duplicated values found in preranked stats: 82.65% of genes\n",
      "The order of those genes will be arbitrary, which may produce unexpected results.\n",
      "2023-06-20 17:52:53,628 [WARNING] Duplicated values found in preranked stats: 82.57% of genes\n",
      "The order of those genes will be arbitrary, which may produce unexpected results.\n",
      "2023-06-20 17:52:54,234 [WARNING] Duplicated values found in preranked stats: 82.51% of genes\n",
      "The order of those genes will be arbitrary, which may produce unexpected results.\n",
      "2023-06-20 17:52:54,916 [WARNING] Duplicated values found in preranked stats: 82.65% of genes\n",
      "The order of those genes will be arbitrary, which may produce unexpected results.\n",
      "2023-06-20 17:52:55,508 [WARNING] Duplicated values found in preranked stats: 82.57% of genes\n",
      "The order of those genes will be arbitrary, which may produce unexpected results.\n",
      "2023-06-20 17:52:56,110 [WARNING] Duplicated values found in preranked stats: 82.57% of genes\n",
      "The order of those genes will be arbitrary, which may produce unexpected results.\n",
      "2023-06-20 17:52:56,710 [WARNING] Duplicated values found in preranked stats: 82.65% of genes\n",
      "The order of those genes will be arbitrary, which may produce unexpected results.\n",
      "2023-06-20 17:52:57,306 [WARNING] Duplicated values found in preranked stats: 89.50% of genes\n",
      "The order of those genes will be arbitrary, which may produce unexpected results.\n",
      "2023-06-20 17:52:57,914 [WARNING] Duplicated values found in preranked stats: 85.64% of genes\n",
      "The order of those genes will be arbitrary, which may produce unexpected results.\n",
      "2023-06-20 17:52:58,526 [WARNING] Duplicated values found in preranked stats: 89.89% of genes\n",
      "The order of those genes will be arbitrary, which may produce unexpected results.\n",
      "2023-06-20 17:52:59,127 [WARNING] Duplicated values found in preranked stats: 89.33% of genes\n",
      "The order of those genes will be arbitrary, which may produce unexpected results.\n",
      "2023-06-20 17:52:59,717 [WARNING] Duplicated values found in preranked stats: 85.44% of genes\n",
      "The order of those genes will be arbitrary, which may produce unexpected results.\n",
      "2023-06-20 17:53:00,307 [WARNING] Duplicated values found in preranked stats: 89.89% of genes\n",
      "The order of those genes will be arbitrary, which may produce unexpected results.\n",
      "2023-06-20 17:53:00,909 [WARNING] Duplicated values found in preranked stats: 89.13% of genes\n",
      "The order of those genes will be arbitrary, which may produce unexpected results.\n",
      "2023-06-20 17:53:01,499 [WARNING] Duplicated values found in preranked stats: 85.38% of genes\n",
      "The order of those genes will be arbitrary, which may produce unexpected results.\n",
      "2023-06-20 17:53:02,092 [WARNING] Duplicated values found in preranked stats: 89.89% of genes\n",
      "The order of those genes will be arbitrary, which may produce unexpected results.\n",
      "2023-06-20 17:53:02,680 [WARNING] Duplicated values found in preranked stats: 89.16% of genes\n",
      "The order of those genes will be arbitrary, which may produce unexpected results.\n",
      "2023-06-20 17:53:03,270 [WARNING] Duplicated values found in preranked stats: 85.38% of genes\n",
      "The order of those genes will be arbitrary, which may produce unexpected results.\n",
      "2023-06-20 17:53:03,904 [WARNING] Duplicated values found in preranked stats: 89.92% of genes\n",
      "The order of those genes will be arbitrary, which may produce unexpected results.\n",
      "2023-06-20 17:53:04,493 [WARNING] Duplicated values found in preranked stats: 89.30% of genes\n",
      "The order of those genes will be arbitrary, which may produce unexpected results.\n",
      "2023-06-20 17:53:05,083 [WARNING] Duplicated values found in preranked stats: 85.53% of genes\n",
      "The order of those genes will be arbitrary, which may produce unexpected results.\n",
      "2023-06-20 17:53:05,675 [WARNING] Duplicated values found in preranked stats: 89.97% of genes\n",
      "The order of those genes will be arbitrary, which may produce unexpected results.\n",
      "2023-06-20 17:53:06,272 [WARNING] Duplicated values found in preranked stats: 88.99% of genes\n",
      "The order of those genes will be arbitrary, which may produce unexpected results.\n",
      "2023-06-20 17:53:06,882 [WARNING] Duplicated values found in preranked stats: 85.50% of genes\n",
      "The order of those genes will be arbitrary, which may produce unexpected results.\n",
      "2023-06-20 17:53:07,470 [WARNING] Duplicated values found in preranked stats: 89.95% of genes\n",
      "The order of those genes will be arbitrary, which may produce unexpected results.\n",
      "2023-06-20 17:53:08,055 [WARNING] Duplicated values found in preranked stats: 89.07% of genes\n",
      "The order of those genes will be arbitrary, which may produce unexpected results.\n",
      "2023-06-20 17:53:08,650 [WARNING] Duplicated values found in preranked stats: 85.30% of genes\n",
      "The order of those genes will be arbitrary, which may produce unexpected results.\n",
      "2023-06-20 17:53:09,231 [WARNING] Duplicated values found in preranked stats: 90.00% of genes\n",
      "The order of those genes will be arbitrary, which may produce unexpected results.\n",
      "2023-06-20 17:53:09,817 [WARNING] Duplicated values found in preranked stats: 89.16% of genes\n",
      "The order of those genes will be arbitrary, which may produce unexpected results.\n",
      "2023-06-20 17:53:10,435 [WARNING] Duplicated values found in preranked stats: 85.36% of genes\n",
      "The order of those genes will be arbitrary, which may produce unexpected results.\n",
      "2023-06-20 17:53:11,075 [WARNING] Duplicated values found in preranked stats: 89.97% of genes\n",
      "The order of those genes will be arbitrary, which may produce unexpected results.\n",
      "2023-06-20 17:53:11,673 [WARNING] Duplicated values found in preranked stats: 89.44% of genes\n",
      "The order of those genes will be arbitrary, which may produce unexpected results.\n",
      "2023-06-20 17:53:12,272 [WARNING] Duplicated values found in preranked stats: 85.58% of genes\n",
      "The order of those genes will be arbitrary, which may produce unexpected results.\n",
      "2023-06-20 17:53:12,978 [WARNING] Duplicated values found in preranked stats: 89.89% of genes\n",
      "The order of those genes will be arbitrary, which may produce unexpected results.\n",
      "2023-06-20 17:53:13,606 [WARNING] Duplicated values found in preranked stats: 89.07% of genes\n",
      "The order of those genes will be arbitrary, which may produce unexpected results.\n",
      "2023-06-20 17:53:14,210 [WARNING] Duplicated values found in preranked stats: 85.36% of genes\n",
      "The order of those genes will be arbitrary, which may produce unexpected results.\n",
      "2023-06-20 17:53:14,863 [WARNING] Duplicated values found in preranked stats: 89.89% of genes\n",
      "The order of those genes will be arbitrary, which may produce unexpected results.\n",
      "2023-06-20 17:53:15,504 [WARNING] Duplicated values found in preranked stats: 89.36% of genes\n",
      "The order of those genes will be arbitrary, which may produce unexpected results.\n",
      "2023-06-20 17:53:16,127 [WARNING] Duplicated values found in preranked stats: 85.47% of genes\n",
      "The order of those genes will be arbitrary, which may produce unexpected results.\n",
      "2023-06-20 17:53:16,722 [WARNING] Duplicated values found in preranked stats: 89.83% of genes\n",
      "The order of those genes will be arbitrary, which may produce unexpected results.\n",
      "2023-06-20 17:53:17,350 [WARNING] Duplicated values found in preranked stats: 89.24% of genes\n",
      "The order of those genes will be arbitrary, which may produce unexpected results.\n",
      "2023-06-20 17:53:17,968 [WARNING] Duplicated values found in preranked stats: 85.38% of genes\n",
      "The order of those genes will be arbitrary, which may produce unexpected results.\n",
      "2023-06-20 17:53:18,578 [WARNING] Duplicated values found in preranked stats: 89.97% of genes\n",
      "The order of those genes will be arbitrary, which may produce unexpected results.\n",
      "2023-06-20 17:53:19,185 [WARNING] Duplicated values found in preranked stats: 82.65% of genes\n",
      "The order of those genes will be arbitrary, which may produce unexpected results.\n",
      "2023-06-20 17:53:23,275 [WARNING] Duplicated values found in preranked stats: 83.13% of genes\n",
      "The order of those genes will be arbitrary, which may produce unexpected results.\n",
      "2023-06-20 17:53:27,527 [WARNING] Duplicated values found in preranked stats: 82.71% of genes\n",
      "The order of those genes will be arbitrary, which may produce unexpected results.\n",
      "2023-06-20 17:53:31,703 [WARNING] Duplicated values found in preranked stats: 82.65% of genes\n",
      "The order of those genes will be arbitrary, which may produce unexpected results.\n",
      "2023-06-20 17:53:35,862 [WARNING] Duplicated values found in preranked stats: 82.74% of genes\n",
      "The order of those genes will be arbitrary, which may produce unexpected results.\n",
      "2023-06-20 17:53:40,123 [WARNING] Duplicated values found in preranked stats: 82.65% of genes\n",
      "The order of those genes will be arbitrary, which may produce unexpected results.\n",
      "2023-06-20 17:53:44,347 [WARNING] Duplicated values found in preranked stats: 82.57% of genes\n",
      "The order of those genes will be arbitrary, which may produce unexpected results.\n",
      "2023-06-20 17:53:48,558 [WARNING] Duplicated values found in preranked stats: 82.51% of genes\n",
      "The order of those genes will be arbitrary, which may produce unexpected results.\n",
      "2023-06-20 17:53:52,702 [WARNING] Duplicated values found in preranked stats: 82.65% of genes\n",
      "The order of those genes will be arbitrary, which may produce unexpected results.\n",
      "2023-06-20 17:53:57,000 [WARNING] Duplicated values found in preranked stats: 82.57% of genes\n",
      "The order of those genes will be arbitrary, which may produce unexpected results.\n",
      "2023-06-20 17:54:01,140 [WARNING] Duplicated values found in preranked stats: 82.57% of genes\n",
      "The order of those genes will be arbitrary, which may produce unexpected results.\n",
      "2023-06-20 17:54:05,212 [WARNING] Duplicated values found in preranked stats: 82.65% of genes\n",
      "The order of those genes will be arbitrary, which may produce unexpected results.\n",
      "2023-06-20 17:54:09,317 [WARNING] Duplicated values found in preranked stats: 89.50% of genes\n",
      "The order of those genes will be arbitrary, which may produce unexpected results.\n",
      "2023-06-20 17:54:13,370 [WARNING] Duplicated values found in preranked stats: 85.64% of genes\n",
      "The order of those genes will be arbitrary, which may produce unexpected results.\n",
      "2023-06-20 17:54:17,481 [WARNING] Duplicated values found in preranked stats: 89.89% of genes\n",
      "The order of those genes will be arbitrary, which may produce unexpected results.\n",
      "2023-06-20 17:54:21,644 [WARNING] Duplicated values found in preranked stats: 89.33% of genes\n",
      "The order of those genes will be arbitrary, which may produce unexpected results.\n",
      "2023-06-20 17:54:25,744 [WARNING] Duplicated values found in preranked stats: 85.44% of genes\n",
      "The order of those genes will be arbitrary, which may produce unexpected results.\n",
      "2023-06-20 17:54:29,780 [WARNING] Duplicated values found in preranked stats: 89.89% of genes\n",
      "The order of those genes will be arbitrary, which may produce unexpected results.\n",
      "2023-06-20 17:54:33,847 [WARNING] Duplicated values found in preranked stats: 89.13% of genes\n",
      "The order of those genes will be arbitrary, which may produce unexpected results.\n",
      "2023-06-20 17:54:37,931 [WARNING] Duplicated values found in preranked stats: 85.38% of genes\n",
      "The order of those genes will be arbitrary, which may produce unexpected results.\n",
      "2023-06-20 17:54:42,039 [WARNING] Duplicated values found in preranked stats: 89.89% of genes\n",
      "The order of those genes will be arbitrary, which may produce unexpected results.\n",
      "2023-06-20 17:54:46,131 [WARNING] Duplicated values found in preranked stats: 89.16% of genes\n",
      "The order of those genes will be arbitrary, which may produce unexpected results.\n",
      "2023-06-20 17:54:50,168 [WARNING] Duplicated values found in preranked stats: 85.38% of genes\n",
      "The order of those genes will be arbitrary, which may produce unexpected results.\n",
      "2023-06-20 17:54:54,236 [WARNING] Duplicated values found in preranked stats: 89.92% of genes\n",
      "The order of those genes will be arbitrary, which may produce unexpected results.\n",
      "2023-06-20 17:54:58,283 [WARNING] Duplicated values found in preranked stats: 89.30% of genes\n",
      "The order of those genes will be arbitrary, which may produce unexpected results.\n",
      "2023-06-20 17:55:02,378 [WARNING] Duplicated values found in preranked stats: 85.53% of genes\n",
      "The order of those genes will be arbitrary, which may produce unexpected results.\n",
      "2023-06-20 17:55:06,445 [WARNING] Duplicated values found in preranked stats: 89.97% of genes\n",
      "The order of those genes will be arbitrary, which may produce unexpected results.\n",
      "2023-06-20 17:55:10,470 [WARNING] Duplicated values found in preranked stats: 88.99% of genes\n",
      "The order of those genes will be arbitrary, which may produce unexpected results.\n",
      "2023-06-20 17:55:14,540 [WARNING] Duplicated values found in preranked stats: 85.50% of genes\n",
      "The order of those genes will be arbitrary, which may produce unexpected results.\n",
      "2023-06-20 17:55:18,614 [WARNING] Duplicated values found in preranked stats: 89.95% of genes\n",
      "The order of those genes will be arbitrary, which may produce unexpected results.\n",
      "2023-06-20 17:55:22,704 [WARNING] Duplicated values found in preranked stats: 89.07% of genes\n",
      "The order of those genes will be arbitrary, which may produce unexpected results.\n",
      "2023-06-20 17:55:26,729 [WARNING] Duplicated values found in preranked stats: 85.30% of genes\n",
      "The order of those genes will be arbitrary, which may produce unexpected results.\n",
      "2023-06-20 17:55:30,828 [WARNING] Duplicated values found in preranked stats: 90.00% of genes\n",
      "The order of those genes will be arbitrary, which may produce unexpected results.\n",
      "2023-06-20 17:55:34,946 [WARNING] Duplicated values found in preranked stats: 89.16% of genes\n",
      "The order of those genes will be arbitrary, which may produce unexpected results.\n",
      "2023-06-20 17:55:39,354 [WARNING] Duplicated values found in preranked stats: 85.36% of genes\n",
      "The order of those genes will be arbitrary, which may produce unexpected results.\n",
      "2023-06-20 17:55:44,194 [WARNING] Duplicated values found in preranked stats: 89.97% of genes\n",
      "The order of those genes will be arbitrary, which may produce unexpected results.\n",
      "2023-06-20 17:55:49,061 [WARNING] Duplicated values found in preranked stats: 89.44% of genes\n",
      "The order of those genes will be arbitrary, which may produce unexpected results.\n",
      "2023-06-20 17:55:53,904 [WARNING] Duplicated values found in preranked stats: 85.58% of genes\n",
      "The order of those genes will be arbitrary, which may produce unexpected results.\n",
      "2023-06-20 17:55:58,758 [WARNING] Duplicated values found in preranked stats: 89.89% of genes\n",
      "The order of those genes will be arbitrary, which may produce unexpected results.\n",
      "2023-06-20 17:56:03,573 [WARNING] Duplicated values found in preranked stats: 89.07% of genes\n",
      "The order of those genes will be arbitrary, which may produce unexpected results.\n",
      "2023-06-20 17:56:08,420 [WARNING] Duplicated values found in preranked stats: 85.36% of genes\n",
      "The order of those genes will be arbitrary, which may produce unexpected results.\n",
      "2023-06-20 17:56:13,261 [WARNING] Duplicated values found in preranked stats: 89.89% of genes\n",
      "The order of those genes will be arbitrary, which may produce unexpected results.\n",
      "2023-06-20 17:56:18,048 [WARNING] Duplicated values found in preranked stats: 89.36% of genes\n",
      "The order of those genes will be arbitrary, which may produce unexpected results.\n",
      "2023-06-20 17:56:22,945 [WARNING] Duplicated values found in preranked stats: 85.47% of genes\n",
      "The order of those genes will be arbitrary, which may produce unexpected results.\n",
      "2023-06-20 17:56:27,791 [WARNING] Duplicated values found in preranked stats: 89.83% of genes\n",
      "The order of those genes will be arbitrary, which may produce unexpected results.\n",
      "2023-06-20 17:56:32,575 [WARNING] Duplicated values found in preranked stats: 89.24% of genes\n",
      "The order of those genes will be arbitrary, which may produce unexpected results.\n",
      "2023-06-20 17:56:37,407 [WARNING] Duplicated values found in preranked stats: 85.38% of genes\n",
      "The order of those genes will be arbitrary, which may produce unexpected results.\n",
      "2023-06-20 17:56:42,260 [WARNING] Duplicated values found in preranked stats: 89.97% of genes\n",
      "The order of those genes will be arbitrary, which may produce unexpected results.\n",
      "2023-06-20 17:56:47,137 [WARNING] Duplicated values found in preranked stats: 1.77% of genes\n",
      "The order of those genes will be arbitrary, which may produce unexpected results.\n",
      "2023-06-20 17:56:47,796 [WARNING] Duplicated values found in preranked stats: 1.77% of genes\n",
      "The order of those genes will be arbitrary, which may produce unexpected results.\n",
      "2023-06-20 17:56:52,622 [WARNING] Duplicated values found in preranked stats: 78.23% of genes\n",
      "The order of those genes will be arbitrary, which may produce unexpected results.\n",
      "2023-06-20 17:56:53,283 [WARNING] Duplicated values found in preranked stats: 78.23% of genes\n",
      "The order of those genes will be arbitrary, which may produce unexpected results.\n",
      "2023-06-20 17:56:58,071 [WARNING] Duplicated values found in preranked stats: 78.20% of genes\n",
      "The order of those genes will be arbitrary, which may produce unexpected results.\n",
      "2023-06-20 17:56:58,727 [WARNING] Duplicated values found in preranked stats: 78.20% of genes\n",
      "The order of those genes will be arbitrary, which may produce unexpected results.\n",
      "2023-06-20 17:57:03,557 [WARNING] Duplicated values found in preranked stats: 82.62% of genes\n",
      "The order of those genes will be arbitrary, which may produce unexpected results.\n",
      "2023-06-20 17:57:04,206 [WARNING] Duplicated values found in preranked stats: 82.85% of genes\n",
      "The order of those genes will be arbitrary, which may produce unexpected results.\n",
      "2023-06-20 17:57:04,890 [WARNING] Duplicated values found in preranked stats: 82.65% of genes\n",
      "The order of those genes will be arbitrary, which may produce unexpected results.\n",
      "2023-06-20 17:57:05,571 [WARNING] Duplicated values found in preranked stats: 82.62% of genes\n",
      "The order of those genes will be arbitrary, which may produce unexpected results.\n",
      "2023-06-20 17:57:06,256 [WARNING] Duplicated values found in preranked stats: 82.54% of genes\n",
      "The order of those genes will be arbitrary, which may produce unexpected results.\n",
      "2023-06-20 17:57:06,933 [WARNING] Duplicated values found in preranked stats: 82.62% of genes\n",
      "The order of those genes will be arbitrary, which may produce unexpected results.\n",
      "2023-06-20 17:57:07,618 [WARNING] Duplicated values found in preranked stats: 82.48% of genes\n",
      "The order of those genes will be arbitrary, which may produce unexpected results.\n",
      "2023-06-20 17:57:08,295 [WARNING] Duplicated values found in preranked stats: 82.40% of genes\n",
      "The order of those genes will be arbitrary, which may produce unexpected results.\n",
      "2023-06-20 17:57:08,980 [WARNING] Duplicated values found in preranked stats: 82.62% of genes\n",
      "The order of those genes will be arbitrary, which may produce unexpected results.\n",
      "2023-06-20 17:57:09,655 [WARNING] Duplicated values found in preranked stats: 82.51% of genes\n",
      "The order of those genes will be arbitrary, which may produce unexpected results.\n",
      "2023-06-20 17:57:10,348 [WARNING] Duplicated values found in preranked stats: 82.43% of genes\n",
      "The order of those genes will be arbitrary, which may produce unexpected results.\n",
      "2023-06-20 17:57:11,022 [WARNING] Duplicated values found in preranked stats: 82.62% of genes\n",
      "The order of those genes will be arbitrary, which may produce unexpected results.\n",
      "2023-06-20 17:57:11,705 [WARNING] Duplicated values found in preranked stats: 89.07% of genes\n",
      "The order of those genes will be arbitrary, which may produce unexpected results.\n",
      "2023-06-20 17:57:12,378 [WARNING] Duplicated values found in preranked stats: 84.82% of genes\n",
      "The order of those genes will be arbitrary, which may produce unexpected results.\n",
      "2023-06-20 17:57:13,064 [WARNING] Duplicated values found in preranked stats: 89.61% of genes\n",
      "The order of those genes will be arbitrary, which may produce unexpected results.\n",
      "2023-06-20 17:57:13,742 [WARNING] Duplicated values found in preranked stats: 88.82% of genes\n",
      "The order of those genes will be arbitrary, which may produce unexpected results.\n",
      "2023-06-20 17:57:14,430 [WARNING] Duplicated values found in preranked stats: 84.71% of genes\n",
      "The order of those genes will be arbitrary, which may produce unexpected results.\n",
      "2023-06-20 17:57:15,178 [WARNING] Duplicated values found in preranked stats: 89.61% of genes\n",
      "The order of those genes will be arbitrary, which may produce unexpected results.\n",
      "2023-06-20 17:57:15,859 [WARNING] Duplicated values found in preranked stats: 88.45% of genes\n",
      "The order of those genes will be arbitrary, which may produce unexpected results.\n",
      "2023-06-20 17:57:16,550 [WARNING] Duplicated values found in preranked stats: 84.65% of genes\n",
      "The order of those genes will be arbitrary, which may produce unexpected results.\n",
      "2023-06-20 17:57:17,222 [WARNING] Duplicated values found in preranked stats: 89.64% of genes\n",
      "The order of those genes will be arbitrary, which may produce unexpected results.\n",
      "2023-06-20 17:57:17,894 [WARNING] Duplicated values found in preranked stats: 88.54% of genes\n",
      "The order of those genes will be arbitrary, which may produce unexpected results.\n",
      "2023-06-20 17:57:18,578 [WARNING] Duplicated values found in preranked stats: 84.68% of genes\n",
      "The order of those genes will be arbitrary, which may produce unexpected results.\n",
      "2023-06-20 17:57:19,253 [WARNING] Duplicated values found in preranked stats: 89.66% of genes\n",
      "The order of those genes will be arbitrary, which may produce unexpected results.\n",
      "2023-06-20 17:57:19,937 [WARNING] Duplicated values found in preranked stats: 88.74% of genes\n",
      "The order of those genes will be arbitrary, which may produce unexpected results.\n",
      "2023-06-20 17:57:20,610 [WARNING] Duplicated values found in preranked stats: 84.76% of genes\n",
      "The order of those genes will be arbitrary, which may produce unexpected results.\n",
      "2023-06-20 17:57:21,295 [WARNING] Duplicated values found in preranked stats: 89.72% of genes\n",
      "The order of those genes will be arbitrary, which may produce unexpected results.\n",
      "2023-06-20 17:57:21,971 [WARNING] Duplicated values found in preranked stats: 88.34% of genes\n",
      "The order of those genes will be arbitrary, which may produce unexpected results.\n",
      "2023-06-20 17:57:22,654 [WARNING] Duplicated values found in preranked stats: 84.68% of genes\n",
      "The order of those genes will be arbitrary, which may produce unexpected results.\n",
      "2023-06-20 17:57:23,329 [WARNING] Duplicated values found in preranked stats: 89.72% of genes\n",
      "The order of those genes will be arbitrary, which may produce unexpected results.\n",
      "2023-06-20 17:57:24,018 [WARNING] Duplicated values found in preranked stats: 88.43% of genes\n",
      "The order of those genes will be arbitrary, which may produce unexpected results.\n",
      "2023-06-20 17:57:24,695 [WARNING] Duplicated values found in preranked stats: 84.54% of genes\n",
      "The order of those genes will be arbitrary, which may produce unexpected results.\n",
      "2023-06-20 17:57:25,380 [WARNING] Duplicated values found in preranked stats: 89.72% of genes\n",
      "The order of those genes will be arbitrary, which may produce unexpected results.\n",
      "2023-06-20 17:57:26,051 [WARNING] Duplicated values found in preranked stats: 88.40% of genes\n",
      "The order of those genes will be arbitrary, which may produce unexpected results.\n",
      "2023-06-20 17:57:26,743 [WARNING] Duplicated values found in preranked stats: 84.51% of genes\n",
      "The order of those genes will be arbitrary, which may produce unexpected results.\n",
      "2023-06-20 17:57:27,424 [WARNING] Duplicated values found in preranked stats: 89.69% of genes\n",
      "The order of those genes will be arbitrary, which may produce unexpected results.\n",
      "2023-06-20 17:57:28,110 [WARNING] Duplicated values found in preranked stats: 88.93% of genes\n",
      "The order of those genes will be arbitrary, which may produce unexpected results.\n",
      "2023-06-20 17:57:28,785 [WARNING] Duplicated values found in preranked stats: 84.79% of genes\n",
      "The order of those genes will be arbitrary, which may produce unexpected results.\n",
      "2023-06-20 17:57:29,472 [WARNING] Duplicated values found in preranked stats: 89.66% of genes\n",
      "The order of those genes will be arbitrary, which may produce unexpected results.\n",
      "2023-06-20 17:57:30,150 [WARNING] Duplicated values found in preranked stats: 88.57% of genes\n",
      "The order of those genes will be arbitrary, which may produce unexpected results.\n",
      "2023-06-20 17:57:30,839 [WARNING] Duplicated values found in preranked stats: 84.62% of genes\n",
      "The order of those genes will be arbitrary, which may produce unexpected results.\n",
      "2023-06-20 17:57:31,514 [WARNING] Duplicated values found in preranked stats: 89.69% of genes\n",
      "The order of those genes will be arbitrary, which may produce unexpected results.\n",
      "2023-06-20 17:57:32,195 [WARNING] Duplicated values found in preranked stats: 88.76% of genes\n",
      "The order of those genes will be arbitrary, which may produce unexpected results.\n",
      "2023-06-20 17:57:32,868 [WARNING] Duplicated values found in preranked stats: 84.65% of genes\n",
      "The order of those genes will be arbitrary, which may produce unexpected results.\n",
      "2023-06-20 17:57:33,552 [WARNING] Duplicated values found in preranked stats: 89.66% of genes\n",
      "The order of those genes will be arbitrary, which may produce unexpected results.\n",
      "2023-06-20 17:57:34,228 [WARNING] Duplicated values found in preranked stats: 88.74% of genes\n",
      "The order of those genes will be arbitrary, which may produce unexpected results.\n",
      "2023-06-20 17:57:34,910 [WARNING] Duplicated values found in preranked stats: 84.57% of genes\n",
      "The order of those genes will be arbitrary, which may produce unexpected results.\n",
      "2023-06-20 17:57:35,587 [WARNING] Duplicated values found in preranked stats: 89.81% of genes\n",
      "The order of those genes will be arbitrary, which may produce unexpected results.\n",
      "2023-06-20 17:57:36,281 [WARNING] Duplicated values found in preranked stats: 82.62% of genes\n",
      "The order of those genes will be arbitrary, which may produce unexpected results.\n",
      "2023-06-20 17:57:41,671 [WARNING] Duplicated values found in preranked stats: 82.85% of genes\n",
      "The order of those genes will be arbitrary, which may produce unexpected results.\n",
      "2023-06-20 17:57:46,932 [WARNING] Duplicated values found in preranked stats: 82.65% of genes\n",
      "The order of those genes will be arbitrary, which may produce unexpected results.\n",
      "2023-06-20 17:57:51,710 [WARNING] Duplicated values found in preranked stats: 82.62% of genes\n",
      "The order of those genes will be arbitrary, which may produce unexpected results.\n",
      "2023-06-20 17:57:56,515 [WARNING] Duplicated values found in preranked stats: 82.54% of genes\n",
      "The order of those genes will be arbitrary, which may produce unexpected results.\n",
      "2023-06-20 17:58:01,282 [WARNING] Duplicated values found in preranked stats: 82.62% of genes\n",
      "The order of those genes will be arbitrary, which may produce unexpected results.\n",
      "2023-06-20 17:58:06,308 [WARNING] Duplicated values found in preranked stats: 82.48% of genes\n",
      "The order of those genes will be arbitrary, which may produce unexpected results.\n",
      "2023-06-20 17:58:11,121 [WARNING] Duplicated values found in preranked stats: 82.40% of genes\n",
      "The order of those genes will be arbitrary, which may produce unexpected results.\n",
      "2023-06-20 17:58:15,920 [WARNING] Duplicated values found in preranked stats: 82.62% of genes\n",
      "The order of those genes will be arbitrary, which may produce unexpected results.\n",
      "2023-06-20 17:58:20,745 [WARNING] Duplicated values found in preranked stats: 82.51% of genes\n",
      "The order of those genes will be arbitrary, which may produce unexpected results.\n",
      "2023-06-20 17:58:25,617 [WARNING] Duplicated values found in preranked stats: 82.43% of genes\n",
      "The order of those genes will be arbitrary, which may produce unexpected results.\n",
      "2023-06-20 17:58:30,402 [WARNING] Duplicated values found in preranked stats: 82.62% of genes\n",
      "The order of those genes will be arbitrary, which may produce unexpected results.\n",
      "2023-06-20 17:58:35,214 [WARNING] Duplicated values found in preranked stats: 89.07% of genes\n",
      "The order of those genes will be arbitrary, which may produce unexpected results.\n",
      "2023-06-20 17:58:40,032 [WARNING] Duplicated values found in preranked stats: 84.82% of genes\n",
      "The order of those genes will be arbitrary, which may produce unexpected results.\n",
      "2023-06-20 17:58:44,834 [WARNING] Duplicated values found in preranked stats: 89.61% of genes\n",
      "The order of those genes will be arbitrary, which may produce unexpected results.\n",
      "2023-06-20 17:58:49,686 [WARNING] Duplicated values found in preranked stats: 88.82% of genes\n",
      "The order of those genes will be arbitrary, which may produce unexpected results.\n",
      "2023-06-20 17:58:54,652 [WARNING] Duplicated values found in preranked stats: 84.71% of genes\n",
      "The order of those genes will be arbitrary, which may produce unexpected results.\n",
      "2023-06-20 17:58:59,440 [WARNING] Duplicated values found in preranked stats: 89.61% of genes\n",
      "The order of those genes will be arbitrary, which may produce unexpected results.\n",
      "2023-06-20 17:59:04,267 [WARNING] Duplicated values found in preranked stats: 88.45% of genes\n",
      "The order of those genes will be arbitrary, which may produce unexpected results.\n",
      "2023-06-20 17:59:09,085 [WARNING] Duplicated values found in preranked stats: 84.65% of genes\n",
      "The order of those genes will be arbitrary, which may produce unexpected results.\n",
      "2023-06-20 17:59:13,864 [WARNING] Duplicated values found in preranked stats: 89.64% of genes\n",
      "The order of those genes will be arbitrary, which may produce unexpected results.\n",
      "2023-06-20 17:59:18,723 [WARNING] Duplicated values found in preranked stats: 88.54% of genes\n",
      "The order of those genes will be arbitrary, which may produce unexpected results.\n",
      "2023-06-20 17:59:23,503 [WARNING] Duplicated values found in preranked stats: 84.68% of genes\n",
      "The order of those genes will be arbitrary, which may produce unexpected results.\n",
      "2023-06-20 17:59:28,320 [WARNING] Duplicated values found in preranked stats: 89.66% of genes\n",
      "The order of those genes will be arbitrary, which may produce unexpected results.\n",
      "2023-06-20 17:59:33,160 [WARNING] Duplicated values found in preranked stats: 88.74% of genes\n",
      "The order of those genes will be arbitrary, which may produce unexpected results.\n",
      "2023-06-20 17:59:37,918 [WARNING] Duplicated values found in preranked stats: 84.76% of genes\n",
      "The order of those genes will be arbitrary, which may produce unexpected results.\n",
      "2023-06-20 17:59:42,793 [WARNING] Duplicated values found in preranked stats: 89.72% of genes\n",
      "The order of those genes will be arbitrary, which may produce unexpected results.\n",
      "2023-06-20 17:59:47,573 [WARNING] Duplicated values found in preranked stats: 88.34% of genes\n",
      "The order of those genes will be arbitrary, which may produce unexpected results.\n",
      "2023-06-20 17:59:52,364 [WARNING] Duplicated values found in preranked stats: 84.68% of genes\n",
      "The order of those genes will be arbitrary, which may produce unexpected results.\n",
      "2023-06-20 17:59:57,169 [WARNING] Duplicated values found in preranked stats: 89.72% of genes\n",
      "The order of those genes will be arbitrary, which may produce unexpected results.\n",
      "2023-06-20 18:00:01,971 [WARNING] Duplicated values found in preranked stats: 88.43% of genes\n",
      "The order of those genes will be arbitrary, which may produce unexpected results.\n",
      "2023-06-20 18:00:06,738 [WARNING] Duplicated values found in preranked stats: 84.54% of genes\n",
      "The order of those genes will be arbitrary, which may produce unexpected results.\n",
      "2023-06-20 18:00:11,563 [WARNING] Duplicated values found in preranked stats: 89.72% of genes\n",
      "The order of those genes will be arbitrary, which may produce unexpected results.\n",
      "2023-06-20 18:00:16,331 [WARNING] Duplicated values found in preranked stats: 88.40% of genes\n",
      "The order of those genes will be arbitrary, which may produce unexpected results.\n",
      "2023-06-20 18:00:21,219 [WARNING] Duplicated values found in preranked stats: 84.51% of genes\n",
      "The order of those genes will be arbitrary, which may produce unexpected results.\n",
      "2023-06-20 18:00:26,071 [WARNING] Duplicated values found in preranked stats: 89.69% of genes\n",
      "The order of those genes will be arbitrary, which may produce unexpected results.\n",
      "2023-06-20 18:00:30,865 [WARNING] Duplicated values found in preranked stats: 88.93% of genes\n",
      "The order of those genes will be arbitrary, which may produce unexpected results.\n",
      "2023-06-20 18:00:35,713 [WARNING] Duplicated values found in preranked stats: 84.79% of genes\n",
      "The order of those genes will be arbitrary, which may produce unexpected results.\n",
      "2023-06-20 18:00:40,522 [WARNING] Duplicated values found in preranked stats: 89.66% of genes\n",
      "The order of those genes will be arbitrary, which may produce unexpected results.\n",
      "2023-06-20 18:00:45,324 [WARNING] Duplicated values found in preranked stats: 88.57% of genes\n",
      "The order of those genes will be arbitrary, which may produce unexpected results.\n",
      "2023-06-20 18:00:50,185 [WARNING] Duplicated values found in preranked stats: 84.62% of genes\n",
      "The order of those genes will be arbitrary, which may produce unexpected results.\n",
      "2023-06-20 18:00:54,977 [WARNING] Duplicated values found in preranked stats: 89.69% of genes\n",
      "The order of those genes will be arbitrary, which may produce unexpected results.\n",
      "2023-06-20 18:00:59,811 [WARNING] Duplicated values found in preranked stats: 88.76% of genes\n",
      "The order of those genes will be arbitrary, which may produce unexpected results.\n",
      "2023-06-20 18:01:04,675 [WARNING] Duplicated values found in preranked stats: 84.65% of genes\n",
      "The order of those genes will be arbitrary, which may produce unexpected results.\n",
      "2023-06-20 18:01:09,494 [WARNING] Duplicated values found in preranked stats: 89.66% of genes\n",
      "The order of those genes will be arbitrary, which may produce unexpected results.\n",
      "2023-06-20 18:01:14,412 [WARNING] Duplicated values found in preranked stats: 88.74% of genes\n",
      "The order of those genes will be arbitrary, which may produce unexpected results.\n",
      "2023-06-20 18:01:19,278 [WARNING] Duplicated values found in preranked stats: 84.57% of genes\n",
      "The order of those genes will be arbitrary, which may produce unexpected results.\n",
      "2023-06-20 18:01:24,231 [WARNING] Duplicated values found in preranked stats: 89.81% of genes\n",
      "The order of those genes will be arbitrary, which may produce unexpected results.\n",
      "2023-06-20 18:01:29,143 [WARNING] Duplicated values found in preranked stats: 82.62% of genes\n",
      "The order of those genes will be arbitrary, which may produce unexpected results.\n",
      "2023-06-20 18:01:29,795 [WARNING] Duplicated values found in preranked stats: 82.85% of genes\n",
      "The order of those genes will be arbitrary, which may produce unexpected results.\n",
      "2023-06-20 18:01:30,493 [WARNING] Duplicated values found in preranked stats: 82.65% of genes\n",
      "The order of those genes will be arbitrary, which may produce unexpected results.\n",
      "2023-06-20 18:01:31,172 [WARNING] Duplicated values found in preranked stats: 82.62% of genes\n",
      "The order of those genes will be arbitrary, which may produce unexpected results.\n",
      "2023-06-20 18:01:31,851 [WARNING] Duplicated values found in preranked stats: 82.54% of genes\n",
      "The order of those genes will be arbitrary, which may produce unexpected results.\n",
      "2023-06-20 18:01:32,535 [WARNING] Duplicated values found in preranked stats: 82.62% of genes\n",
      "The order of those genes will be arbitrary, which may produce unexpected results.\n",
      "2023-06-20 18:01:33,213 [WARNING] Duplicated values found in preranked stats: 82.48% of genes\n",
      "The order of those genes will be arbitrary, which may produce unexpected results.\n",
      "2023-06-20 18:01:33,890 [WARNING] Duplicated values found in preranked stats: 82.40% of genes\n",
      "The order of those genes will be arbitrary, which may produce unexpected results.\n",
      "2023-06-20 18:01:34,568 [WARNING] Duplicated values found in preranked stats: 82.62% of genes\n",
      "The order of those genes will be arbitrary, which may produce unexpected results.\n",
      "2023-06-20 18:01:35,277 [WARNING] Duplicated values found in preranked stats: 82.51% of genes\n",
      "The order of those genes will be arbitrary, which may produce unexpected results.\n",
      "2023-06-20 18:01:35,955 [WARNING] Duplicated values found in preranked stats: 82.43% of genes\n",
      "The order of those genes will be arbitrary, which may produce unexpected results.\n",
      "2023-06-20 18:01:36,634 [WARNING] Duplicated values found in preranked stats: 82.62% of genes\n",
      "The order of those genes will be arbitrary, which may produce unexpected results.\n",
      "2023-06-20 18:01:37,310 [WARNING] Duplicated values found in preranked stats: 89.07% of genes\n",
      "The order of those genes will be arbitrary, which may produce unexpected results.\n",
      "2023-06-20 18:01:37,988 [WARNING] Duplicated values found in preranked stats: 84.82% of genes\n",
      "The order of those genes will be arbitrary, which may produce unexpected results.\n",
      "2023-06-20 18:01:38,668 [WARNING] Duplicated values found in preranked stats: 89.61% of genes\n",
      "The order of those genes will be arbitrary, which may produce unexpected results.\n",
      "2023-06-20 18:01:39,346 [WARNING] Duplicated values found in preranked stats: 88.82% of genes\n",
      "The order of those genes will be arbitrary, which may produce unexpected results.\n",
      "2023-06-20 18:01:40,024 [WARNING] Duplicated values found in preranked stats: 84.71% of genes\n",
      "The order of those genes will be arbitrary, which may produce unexpected results.\n",
      "2023-06-20 18:01:40,707 [WARNING] Duplicated values found in preranked stats: 89.61% of genes\n",
      "The order of those genes will be arbitrary, which may produce unexpected results.\n",
      "2023-06-20 18:01:41,380 [WARNING] Duplicated values found in preranked stats: 88.45% of genes\n",
      "The order of those genes will be arbitrary, which may produce unexpected results.\n",
      "2023-06-20 18:01:42,059 [WARNING] Duplicated values found in preranked stats: 84.65% of genes\n",
      "The order of those genes will be arbitrary, which may produce unexpected results.\n",
      "2023-06-20 18:01:42,743 [WARNING] Duplicated values found in preranked stats: 89.64% of genes\n",
      "The order of those genes will be arbitrary, which may produce unexpected results.\n",
      "2023-06-20 18:01:43,426 [WARNING] Duplicated values found in preranked stats: 88.54% of genes\n",
      "The order of those genes will be arbitrary, which may produce unexpected results.\n",
      "2023-06-20 18:01:44,114 [WARNING] Duplicated values found in preranked stats: 84.68% of genes\n",
      "The order of those genes will be arbitrary, which may produce unexpected results.\n",
      "2023-06-20 18:01:44,793 [WARNING] Duplicated values found in preranked stats: 89.66% of genes\n",
      "The order of those genes will be arbitrary, which may produce unexpected results.\n",
      "2023-06-20 18:01:45,485 [WARNING] Duplicated values found in preranked stats: 88.74% of genes\n",
      "The order of those genes will be arbitrary, which may produce unexpected results.\n",
      "2023-06-20 18:01:46,168 [WARNING] Duplicated values found in preranked stats: 84.76% of genes\n",
      "The order of those genes will be arbitrary, which may produce unexpected results.\n",
      "2023-06-20 18:01:46,844 [WARNING] Duplicated values found in preranked stats: 89.72% of genes\n",
      "The order of those genes will be arbitrary, which may produce unexpected results.\n",
      "2023-06-20 18:01:47,537 [WARNING] Duplicated values found in preranked stats: 88.34% of genes\n",
      "The order of those genes will be arbitrary, which may produce unexpected results.\n",
      "2023-06-20 18:01:48,256 [WARNING] Duplicated values found in preranked stats: 84.68% of genes\n",
      "The order of those genes will be arbitrary, which may produce unexpected results.\n",
      "2023-06-20 18:01:48,961 [WARNING] Duplicated values found in preranked stats: 89.72% of genes\n",
      "The order of those genes will be arbitrary, which may produce unexpected results.\n",
      "2023-06-20 18:01:49,701 [WARNING] Duplicated values found in preranked stats: 88.43% of genes\n",
      "The order of those genes will be arbitrary, which may produce unexpected results.\n",
      "2023-06-20 18:01:50,437 [WARNING] Duplicated values found in preranked stats: 84.54% of genes\n",
      "The order of those genes will be arbitrary, which may produce unexpected results.\n",
      "2023-06-20 18:01:51,159 [WARNING] Duplicated values found in preranked stats: 89.72% of genes\n",
      "The order of those genes will be arbitrary, which may produce unexpected results.\n",
      "2023-06-20 18:01:51,880 [WARNING] Duplicated values found in preranked stats: 88.40% of genes\n",
      "The order of those genes will be arbitrary, which may produce unexpected results.\n",
      "2023-06-20 18:01:52,564 [WARNING] Duplicated values found in preranked stats: 84.51% of genes\n",
      "The order of those genes will be arbitrary, which may produce unexpected results.\n",
      "2023-06-20 18:01:53,247 [WARNING] Duplicated values found in preranked stats: 89.69% of genes\n",
      "The order of those genes will be arbitrary, which may produce unexpected results.\n",
      "2023-06-20 18:01:53,929 [WARNING] Duplicated values found in preranked stats: 88.93% of genes\n",
      "The order of those genes will be arbitrary, which may produce unexpected results.\n",
      "2023-06-20 18:01:54,661 [WARNING] Duplicated values found in preranked stats: 84.79% of genes\n",
      "The order of those genes will be arbitrary, which may produce unexpected results.\n",
      "2023-06-20 18:01:55,504 [WARNING] Duplicated values found in preranked stats: 89.66% of genes\n",
      "The order of those genes will be arbitrary, which may produce unexpected results.\n",
      "2023-06-20 18:01:56,307 [WARNING] Duplicated values found in preranked stats: 88.57% of genes\n",
      "The order of those genes will be arbitrary, which may produce unexpected results.\n",
      "2023-06-20 18:01:57,093 [WARNING] Duplicated values found in preranked stats: 84.62% of genes\n",
      "The order of those genes will be arbitrary, which may produce unexpected results.\n",
      "2023-06-20 18:01:57,824 [WARNING] Duplicated values found in preranked stats: 89.69% of genes\n",
      "The order of those genes will be arbitrary, which may produce unexpected results.\n",
      "2023-06-20 18:01:58,549 [WARNING] Duplicated values found in preranked stats: 88.76% of genes\n",
      "The order of those genes will be arbitrary, which may produce unexpected results.\n",
      "2023-06-20 18:01:59,263 [WARNING] Duplicated values found in preranked stats: 84.65% of genes\n",
      "The order of those genes will be arbitrary, which may produce unexpected results.\n",
      "2023-06-20 18:01:59,999 [WARNING] Duplicated values found in preranked stats: 89.66% of genes\n",
      "The order of those genes will be arbitrary, which may produce unexpected results.\n",
      "2023-06-20 18:02:00,716 [WARNING] Duplicated values found in preranked stats: 88.74% of genes\n",
      "The order of those genes will be arbitrary, which may produce unexpected results.\n",
      "2023-06-20 18:02:01,409 [WARNING] Duplicated values found in preranked stats: 84.57% of genes\n",
      "The order of those genes will be arbitrary, which may produce unexpected results.\n",
      "2023-06-20 18:02:02,109 [WARNING] Duplicated values found in preranked stats: 89.81% of genes\n",
      "The order of those genes will be arbitrary, which may produce unexpected results.\n",
      "2023-06-20 18:02:02,810 [WARNING] Duplicated values found in preranked stats: 82.62% of genes\n",
      "The order of those genes will be arbitrary, which may produce unexpected results.\n",
      "2023-06-20 18:02:07,667 [WARNING] Duplicated values found in preranked stats: 82.85% of genes\n",
      "The order of those genes will be arbitrary, which may produce unexpected results.\n",
      "2023-06-20 18:02:12,607 [WARNING] Duplicated values found in preranked stats: 82.65% of genes\n",
      "The order of those genes will be arbitrary, which may produce unexpected results.\n",
      "2023-06-20 18:02:17,678 [WARNING] Duplicated values found in preranked stats: 82.62% of genes\n",
      "The order of those genes will be arbitrary, which may produce unexpected results.\n",
      "2023-06-20 18:02:22,697 [WARNING] Duplicated values found in preranked stats: 82.54% of genes\n",
      "The order of those genes will be arbitrary, which may produce unexpected results.\n",
      "2023-06-20 18:02:27,577 [WARNING] Duplicated values found in preranked stats: 82.62% of genes\n",
      "The order of those genes will be arbitrary, which may produce unexpected results.\n",
      "2023-06-20 18:02:32,484 [WARNING] Duplicated values found in preranked stats: 82.48% of genes\n",
      "The order of those genes will be arbitrary, which may produce unexpected results.\n",
      "2023-06-20 18:02:37,524 [WARNING] Duplicated values found in preranked stats: 82.40% of genes\n",
      "The order of those genes will be arbitrary, which may produce unexpected results.\n",
      "2023-06-20 18:02:42,418 [WARNING] Duplicated values found in preranked stats: 82.62% of genes\n",
      "The order of those genes will be arbitrary, which may produce unexpected results.\n",
      "2023-06-20 18:02:47,333 [WARNING] Duplicated values found in preranked stats: 82.51% of genes\n",
      "The order of those genes will be arbitrary, which may produce unexpected results.\n",
      "2023-06-20 18:02:52,352 [WARNING] Duplicated values found in preranked stats: 82.43% of genes\n",
      "The order of those genes will be arbitrary, which may produce unexpected results.\n",
      "2023-06-20 18:02:57,394 [WARNING] Duplicated values found in preranked stats: 82.62% of genes\n",
      "The order of those genes will be arbitrary, which may produce unexpected results.\n",
      "2023-06-20 18:03:02,365 [WARNING] Duplicated values found in preranked stats: 89.07% of genes\n",
      "The order of those genes will be arbitrary, which may produce unexpected results.\n",
      "2023-06-20 18:03:07,308 [WARNING] Duplicated values found in preranked stats: 84.82% of genes\n",
      "The order of those genes will be arbitrary, which may produce unexpected results.\n",
      "2023-06-20 18:03:12,234 [WARNING] Duplicated values found in preranked stats: 89.61% of genes\n",
      "The order of those genes will be arbitrary, which may produce unexpected results.\n",
      "2023-06-20 18:03:17,178 [WARNING] Duplicated values found in preranked stats: 88.82% of genes\n",
      "The order of those genes will be arbitrary, which may produce unexpected results.\n",
      "2023-06-20 18:03:22,092 [WARNING] Duplicated values found in preranked stats: 84.71% of genes\n",
      "The order of those genes will be arbitrary, which may produce unexpected results.\n",
      "2023-06-20 18:03:27,024 [WARNING] Duplicated values found in preranked stats: 89.61% of genes\n",
      "The order of those genes will be arbitrary, which may produce unexpected results.\n",
      "2023-06-20 18:03:33,110 [WARNING] Duplicated values found in preranked stats: 88.45% of genes\n",
      "The order of those genes will be arbitrary, which may produce unexpected results.\n",
      "2023-06-20 18:03:38,017 [WARNING] Duplicated values found in preranked stats: 84.65% of genes\n",
      "The order of those genes will be arbitrary, which may produce unexpected results.\n",
      "2023-06-20 18:03:43,001 [WARNING] Duplicated values found in preranked stats: 89.64% of genes\n",
      "The order of those genes will be arbitrary, which may produce unexpected results.\n",
      "2023-06-20 18:03:47,949 [WARNING] Duplicated values found in preranked stats: 88.54% of genes\n",
      "The order of those genes will be arbitrary, which may produce unexpected results.\n",
      "2023-06-20 18:03:52,621 [WARNING] Duplicated values found in preranked stats: 84.68% of genes\n",
      "The order of those genes will be arbitrary, which may produce unexpected results.\n",
      "2023-06-20 18:03:57,130 [WARNING] Duplicated values found in preranked stats: 89.66% of genes\n",
      "The order of those genes will be arbitrary, which may produce unexpected results.\n",
      "2023-06-20 18:49:09,526 [WARNING] Duplicated values found in preranked stats: 88.74% of genes\n",
      "The order of those genes will be arbitrary, which may produce unexpected results.\n",
      "2023-06-20 18:49:16,351 [WARNING] Duplicated values found in preranked stats: 84.76% of genes\n",
      "The order of those genes will be arbitrary, which may produce unexpected results.\n",
      "2023-06-20 18:49:21,853 [WARNING] Duplicated values found in preranked stats: 89.72% of genes\n",
      "The order of those genes will be arbitrary, which may produce unexpected results.\n",
      "2023-06-20 18:49:28,515 [WARNING] Duplicated values found in preranked stats: 88.34% of genes\n",
      "The order of those genes will be arbitrary, which may produce unexpected results.\n",
      "2023-06-20 18:49:33,791 [WARNING] Duplicated values found in preranked stats: 84.68% of genes\n",
      "The order of those genes will be arbitrary, which may produce unexpected results.\n",
      "2023-06-20 18:49:39,216 [WARNING] Duplicated values found in preranked stats: 89.72% of genes\n",
      "The order of those genes will be arbitrary, which may produce unexpected results.\n",
      "2023-06-20 18:49:44,115 [WARNING] Duplicated values found in preranked stats: 88.43% of genes\n",
      "The order of those genes will be arbitrary, which may produce unexpected results.\n",
      "2023-06-20 18:49:48,936 [WARNING] Duplicated values found in preranked stats: 84.54% of genes\n",
      "The order of those genes will be arbitrary, which may produce unexpected results.\n",
      "2023-06-20 18:49:53,945 [WARNING] Duplicated values found in preranked stats: 89.72% of genes\n",
      "The order of those genes will be arbitrary, which may produce unexpected results.\n",
      "2023-06-20 18:49:58,767 [WARNING] Duplicated values found in preranked stats: 88.40% of genes\n",
      "The order of those genes will be arbitrary, which may produce unexpected results.\n",
      "2023-06-20 18:50:03,658 [WARNING] Duplicated values found in preranked stats: 84.51% of genes\n",
      "The order of those genes will be arbitrary, which may produce unexpected results.\n",
      "2023-06-20 18:50:08,693 [WARNING] Duplicated values found in preranked stats: 89.69% of genes\n",
      "The order of those genes will be arbitrary, which may produce unexpected results.\n",
      "2023-06-20 18:50:13,519 [WARNING] Duplicated values found in preranked stats: 88.93% of genes\n",
      "The order of those genes will be arbitrary, which may produce unexpected results.\n",
      "2023-06-20 18:50:18,373 [WARNING] Duplicated values found in preranked stats: 84.79% of genes\n",
      "The order of those genes will be arbitrary, which may produce unexpected results.\n",
      "2023-06-20 18:50:23,294 [WARNING] Duplicated values found in preranked stats: 89.66% of genes\n",
      "The order of those genes will be arbitrary, which may produce unexpected results.\n",
      "2023-06-20 18:50:28,164 [WARNING] Duplicated values found in preranked stats: 88.57% of genes\n",
      "The order of those genes will be arbitrary, which may produce unexpected results.\n",
      "2023-06-20 18:50:33,018 [WARNING] Duplicated values found in preranked stats: 84.62% of genes\n",
      "The order of those genes will be arbitrary, which may produce unexpected results.\n",
      "2023-06-20 18:50:37,810 [WARNING] Duplicated values found in preranked stats: 89.69% of genes\n",
      "The order of those genes will be arbitrary, which may produce unexpected results.\n",
      "2023-06-20 18:50:42,645 [WARNING] Duplicated values found in preranked stats: 88.76% of genes\n",
      "The order of those genes will be arbitrary, which may produce unexpected results.\n",
      "2023-06-20 18:50:47,481 [WARNING] Duplicated values found in preranked stats: 84.65% of genes\n",
      "The order of those genes will be arbitrary, which may produce unexpected results.\n",
      "2023-06-20 18:50:52,292 [WARNING] Duplicated values found in preranked stats: 89.66% of genes\n",
      "The order of those genes will be arbitrary, which may produce unexpected results.\n",
      "2023-06-20 18:50:57,172 [WARNING] Duplicated values found in preranked stats: 88.74% of genes\n",
      "The order of those genes will be arbitrary, which may produce unexpected results.\n",
      "2023-06-20 18:51:01,965 [WARNING] Duplicated values found in preranked stats: 84.57% of genes\n",
      "The order of those genes will be arbitrary, which may produce unexpected results.\n",
      "2023-06-20 18:51:06,855 [WARNING] Duplicated values found in preranked stats: 89.81% of genes\n",
      "The order of those genes will be arbitrary, which may produce unexpected results.\n"
     ]
    }
   ],
   "source": [
    "# run prerank GSEA\n",
    "from node2vec2rank.post_utils import prerank_gseapy\n",
    "\n",
    "save_results = False\n",
    "\n",
    "# read the geneset libraries\n",
    "kegg_pathway_fn = '../data/gene_set_libraries/yeast/KEGG_2018_yeast.gmt'\n",
    "gobp_pathway_fn = '../data/gene_set_libraries/yeast/GO_Biological_Process_2018_yeast.gmt'\n",
    "\n",
    "prerank_weight = 0\n",
    "prerank_min_path_size = 5\n",
    "prerank_max_path_size = 1500\n",
    "prerank_num_perms = 1000\n",
    "\n",
    "n2v2r_pre_KEGG_pd = prerank_gseapy(n2v2r_ranking_pd, kegg_pathway_fn, prerank_weight=prerank_weight,\n",
    "                                 prerank_min_path_size=prerank_min_path_size, prerank_max_path_size=prerank_max_path_size, prerank_num_perms=prerank_num_perms, num_threads=n_cores)\n",
    "\n",
    "n2v2r_pre_GOBP_pd = prerank_gseapy(n2v2r_ranking_pd, gobp_pathway_fn,prerank_weight=prerank_weight,\n",
    "                                 prerank_min_path_size=prerank_min_path_size, prerank_max_path_size=prerank_max_path_size, prerank_num_perms=prerank_num_perms, num_threads=n_cores)\n",
    "\n",
    "# borda_pre_KEGG_pd = prerank_gseapy(n2v2r_borda_ranking_pd, kegg_pathway_fn, prerank_weight=prerank_weight,\n",
    "#                                  prerank_min_path_size=prerank_min_path_size, prerank_max_path_size=prerank_max_path_size, prerank_num_perms=prerank_num_perms, num_threads=n_cores)\n",
    "\n",
    "# borda_pre_GOBP_pd = prerank_gseapy(n2v2r_borda_ranking_pd, gobp_pathway_fn, prerank_weight=prerank_weight,\n",
    "#                                  prerank_min_path_size=prerank_min_path_size, prerank_max_path_size=prerank_max_path_size, prerank_num_perms=prerank_num_perms, num_threads=n_cores)\n",
    "\n",
    "absDeDi_pre_KEGG_pd = prerank_gseapy(DeDi_ranking_pd.iloc[:,[1]], kegg_pathway_fn, prerank_weight=prerank_weight,\n",
    "                                   prerank_min_path_size=prerank_min_path_size, prerank_max_path_size=prerank_max_path_size, prerank_num_perms=prerank_num_perms, num_threads=n_cores)\n",
    "\n",
    "absDeDi_pre_GOBP_pd = prerank_gseapy(DeDi_ranking_pd.iloc[:,[1]], gobp_pathway_fn, prerank_weight=prerank_weight,\n",
    "                                   prerank_min_path_size=prerank_min_path_size, prerank_max_path_size=prerank_max_path_size, prerank_num_perms=prerank_num_perms, num_threads=n_cores)\n",
    "\n",
    "DeDi_pre_KEGG_pd = prerank_gseapy(DeDi_ranking_pd.iloc[:,[0]], kegg_pathway_fn, one_sided=False, prerank_weight=prerank_weight,\n",
    "                                prerank_min_path_size=prerank_min_path_size, prerank_max_path_size=prerank_max_path_size, prerank_num_perms=prerank_num_perms, num_threads=n_cores)\n",
    "\n",
    "DeDi_pre_GOBP_pd = prerank_gseapy(DeDi_ranking_pd.iloc[:,[0]], gobp_pathway_fn, one_sided=False, prerank_weight=prerank_weight,\n",
    "                                prerank_min_path_size=prerank_min_path_size, prerank_max_path_size=prerank_max_path_size, prerank_num_perms=prerank_num_perms, num_threads=n_cores)\n",
    "\n",
    "# n2v2r_borda_DeDi_pre_KEGG_pd = prerank_gseapy(n2v2r_borda_DeDi_ranking_pd, kegg_pathway_fn, one_sided=False, prerank_weight=prerank_weight,\n",
    "#                                             prerank_min_path_size=prerank_min_path_size, prerank_max_path_size=prerank_max_path_size, prerank_num_perms=prerank_num_perms, num_threads=n_cores)\n",
    "\n",
    "# n2v2r_borda_DeDi_pre_GOBP_pd = prerank_gseapy(n2v2r_borda_DeDi_ranking_pd, gobp_pathway_fn, one_sided=False, prerank_weight=prerank_weight,\n",
    "#                                             prerank_min_path_size=prerank_min_path_size, prerank_max_path_size=prerank_max_path_size, prerank_num_perms=prerank_num_perms, num_threads=n_cores)\n",
    "\n",
    "n2v2r_DeDi_pre_KEGG_pd = prerank_gseapy(n2v2r_DeDi_ranking_pd, kegg_pathway_fn, one_sided=False, prerank_weight=prerank_weight,\n",
    "                                      prerank_min_path_size=prerank_min_path_size, prerank_max_path_size=prerank_max_path_size, prerank_num_perms=prerank_num_perms, num_threads=n_cores)\n",
    "\n",
    "n2v2r_DeDi_pre_GOBP_pd = prerank_gseapy(n2v2r_DeDi_ranking_pd, gobp_pathway_fn, one_sided=False, prerank_weight=prerank_weight,\n",
    "                                      prerank_min_path_size=prerank_min_path_size, prerank_max_path_size=prerank_max_path_size, prerank_num_perms=prerank_num_perms, num_threads=n_cores)\n",
    "\n",
    "if save_results:\n",
    "    path = '../results/results_gsea/' + gsea_parent_folder_name\n",
    "    isExist = os.path.exists(path)\n",
    "    if not isExist:\n",
    "        os.makedirs(path)\n",
    "\n",
    "    n2v2r_pre_KEGG_pd.to_csv(path+\"/\"+tissue+\"_\"+network_inf_method+\"_\"+target +\n",
    "                             \"_n2v2r\"+\"_consensus_prerank_KEGG_\"+save_gsea_results_notes+\".tsv\", header=True, index=None, sep='\\t')\n",
    "    n2v2r_pre_GOBP_pd.to_csv(path+\"/\"+tissue+\"_\"+network_inf_method+\"_\"+target +\n",
    "                             \"_n2v2r\"+\"_consensus_prerank_GOBP_\"+save_gsea_results_notes+\".tsv\", header=True, index=None, sep='\\t')\n",
    "    # borda_pre_KEGG_pd.to_csv(path+\"/\"+tissue+\"_\"+network_inf_method+\"_\"+target+\"_n2v2r\" +\n",
    "    #                          \"_borda_prerank_KEGG_\"+save_gsea_results_notes+\".tsv\", header=True, index=None, sep='\\t')\n",
    "    # borda_pre_GOBP_pd.to_csv(path+\"/\"+tissue+\"_\"+network_inf_method+\"_\"+target+\"_n2v2r\" +\n",
    "    #                          \"_borda_prerank_GOBP_\"+save_gsea_results_notes+\".tsv\", header=True, index=None, sep='\\t')\n",
    "    absDeDi_pre_KEGG_pd.to_csv(path+\"/\"+tissue+\"_\"+network_inf_method+\"_\"+target +\n",
    "                               \"_absDeDi\"+\"_prerank_KEGG_\"+save_gsea_results_notes+\".tsv\", header=True, index=None, sep='\\t')\n",
    "    absDeDi_pre_GOBP_pd.to_csv(path+\"/\"+tissue+\"_\"+network_inf_method+\"_\"+target +\n",
    "                               \"_absDeDi\"+\"_prerank_GOBP_\"+save_gsea_results_notes+\".tsv\", header=True, index=None, sep='\\t')\n",
    "    DeDi_pre_KEGG_pd.to_csv(path+\"/\"+tissue+\"_\"+network_inf_method+\"_\"+target +\n",
    "                            \"_DeDi\"+\"_prerank_KEGG_\"+save_gsea_results_notes+\".tsv\", header=True, index=None, sep='\\t')\n",
    "    DeDi_pre_GOBP_pd.to_csv(path+\"/\"+tissue+\"_\"+network_inf_method+\"_\"+target +\n",
    "                            \"_DeDi\"+\"_prerank_GOBP_\"+save_gsea_results_notes+\".tsv\", header=True, index=None, sep='\\t')\n",
    "    # n2v2r_borda_DeDi_pre_KEGG_pd.to_csv(path+\"/\"+tissue+\"_\"+network_inf_method+\"_\"+target +\n",
    "    #                                     \"_n2v2r_borda_DeDi\"+\"_prerank_KEGG_\"+save_gsea_results_notes+\".tsv\", header=True, index=None, sep='\\t')\n",
    "    # n2v2r_borda_DeDi_pre_GOBP_pd.to_csv(path+\"/\"+tissue+\"_\"+network_inf_method+\"_\"+target +\n",
    "    #                                     \"_n2v2r_borda_DeDi\"+\"_prerank_GOBP_\"+save_gsea_results_notes+\".tsv\", header=True, index=None, sep='\\t')\n",
    "    n2v2r_DeDi_pre_KEGG_pd.to_csv(path+\"/\"+tissue+\"_\"+network_inf_method+\"_\"+target +\n",
    "                                  \"_n2v2r_chimera\"+\"_prerank_KEGG_\"+save_gsea_results_notes+\".tsv\", header=True, index=None, sep='\\t')\n",
    "    n2v2r_DeDi_pre_GOBP_pd.to_csv(path+\"/\"+tissue+\"_\"+network_inf_method+\"_\"+target +\n",
    "                                  \"_n2v2r_chimera\"+\"_prerank_GOBP_\"+save_gsea_results_notes+\".tsv\", header=True, index=None, sep='\\t')"
   ]
  },
  {
   "cell_type": "code",
   "execution_count": 25,
   "metadata": {},
   "outputs": [
    {
     "data": {
      "application/vnd.plotly.v1+json": {
       "config": {
        "plotlyServerURL": "https://plot.ly"
       },
       "data": [
        {
         "hovertemplate": "NES=%{x}<br>pathway=%{y}<br>overlap=%{marker.size}<br>stability=%{marker.color}<extra></extra>",
         "legendgroup": "",
         "marker": {
          "color": [
           0.7608695652173914,
           0.6956521739130435,
           0.6956521739130435,
           0.8478260869565217,
           0.8478260869565217,
           0.8695652173913043,
           0.8043478260869565,
           0.782608695652174
          ],
          "coloraxis": "coloraxis",
          "size": [
           10.562857142857142,
           11.329375000000002,
           13.837499999999997,
           14.447692307692309,
           11.838205128205129,
           11.436749999999998,
           10.187027027027028,
           10.748888888888889
          ],
          "sizemode": "area",
          "sizeref": 0.03611923076923077,
          "symbol": "circle"
         },
         "mode": "markers",
         "name": "",
         "orientation": "h",
         "showlegend": false,
         "type": "scatter",
         "x": [
          1.9085323434277144,
          1.995269105119578,
          2.129282949980035,
          2.5029512928409003,
          2.70281196880208,
          3.181506635605689,
          3.1765122004463895,
          3.194357996492491
         ],
         "xaxis": "x",
         "y": [
          "Base excision repair  sce03410",
          "Meiosis - yeast  sce04113",
          "Chromosome and associated proteins  sce03036",
          "MAPK signaling pathway - yeast  sce04011",
          "Mismatch repair  sce03430",
          "DNA replication proteins  sce03032",
          "Cell cycle - yeast  sce04111",
          "DNA replication  sce03030"
         ],
         "yaxis": "y"
        }
       ],
       "layout": {
        "annotations": [
         {
          "showarrow": true,
          "text": "-log padj 2.6",
          "x": 3.194357996492491,
          "y": "DNA replication  sce03030",
          "yshift": 10
         },
         {
          "showarrow": true,
          "text": "-log padj 1.12",
          "x": 1.9085323434277144,
          "y": "Base excision repair  sce03410",
          "yshift": 10
         }
        ],
        "autosize": true,
        "coloraxis": {
         "cmax": 0.8695652173913043,
         "cmin": 0.6956521739130435,
         "colorbar": {
          "title": {
           "text": "stability"
          }
         },
         "colorscale": [
          [
           0,
           "rgb(247,252,253)"
          ],
          [
           0.125,
           "rgb(229,245,249)"
          ],
          [
           0.25,
           "rgb(204,236,230)"
          ],
          [
           0.375,
           "rgb(153,216,201)"
          ],
          [
           0.5,
           "rgb(102,194,164)"
          ],
          [
           0.625,
           "rgb(65,174,118)"
          ],
          [
           0.75,
           "rgb(35,139,69)"
          ],
          [
           0.875,
           "rgb(0,109,44)"
          ],
          [
           1,
           "rgb(0,68,27)"
          ]
         ]
        },
        "height": 800,
        "legend": {
         "itemsizing": "constant",
         "tracegroupgap": 0
        },
        "template": {
         "data": {
          "bar": [
           {
            "error_x": {
             "color": "#2a3f5f"
            },
            "error_y": {
             "color": "#2a3f5f"
            },
            "marker": {
             "line": {
              "color": "#E5ECF6",
              "width": 0.5
             },
             "pattern": {
              "fillmode": "overlay",
              "size": 10,
              "solidity": 0.2
             }
            },
            "type": "bar"
           }
          ],
          "barpolar": [
           {
            "marker": {
             "line": {
              "color": "#E5ECF6",
              "width": 0.5
             },
             "pattern": {
              "fillmode": "overlay",
              "size": 10,
              "solidity": 0.2
             }
            },
            "type": "barpolar"
           }
          ],
          "carpet": [
           {
            "aaxis": {
             "endlinecolor": "#2a3f5f",
             "gridcolor": "white",
             "linecolor": "white",
             "minorgridcolor": "white",
             "startlinecolor": "#2a3f5f"
            },
            "baxis": {
             "endlinecolor": "#2a3f5f",
             "gridcolor": "white",
             "linecolor": "white",
             "minorgridcolor": "white",
             "startlinecolor": "#2a3f5f"
            },
            "type": "carpet"
           }
          ],
          "choropleth": [
           {
            "colorbar": {
             "outlinewidth": 0,
             "ticks": ""
            },
            "type": "choropleth"
           }
          ],
          "contour": [
           {
            "colorbar": {
             "outlinewidth": 0,
             "ticks": ""
            },
            "colorscale": [
             [
              0,
              "#0d0887"
             ],
             [
              0.1111111111111111,
              "#46039f"
             ],
             [
              0.2222222222222222,
              "#7201a8"
             ],
             [
              0.3333333333333333,
              "#9c179e"
             ],
             [
              0.4444444444444444,
              "#bd3786"
             ],
             [
              0.5555555555555556,
              "#d8576b"
             ],
             [
              0.6666666666666666,
              "#ed7953"
             ],
             [
              0.7777777777777778,
              "#fb9f3a"
             ],
             [
              0.8888888888888888,
              "#fdca26"
             ],
             [
              1,
              "#f0f921"
             ]
            ],
            "type": "contour"
           }
          ],
          "contourcarpet": [
           {
            "colorbar": {
             "outlinewidth": 0,
             "ticks": ""
            },
            "type": "contourcarpet"
           }
          ],
          "heatmap": [
           {
            "colorbar": {
             "outlinewidth": 0,
             "ticks": ""
            },
            "colorscale": [
             [
              0,
              "#0d0887"
             ],
             [
              0.1111111111111111,
              "#46039f"
             ],
             [
              0.2222222222222222,
              "#7201a8"
             ],
             [
              0.3333333333333333,
              "#9c179e"
             ],
             [
              0.4444444444444444,
              "#bd3786"
             ],
             [
              0.5555555555555556,
              "#d8576b"
             ],
             [
              0.6666666666666666,
              "#ed7953"
             ],
             [
              0.7777777777777778,
              "#fb9f3a"
             ],
             [
              0.8888888888888888,
              "#fdca26"
             ],
             [
              1,
              "#f0f921"
             ]
            ],
            "type": "heatmap"
           }
          ],
          "heatmapgl": [
           {
            "colorbar": {
             "outlinewidth": 0,
             "ticks": ""
            },
            "colorscale": [
             [
              0,
              "#0d0887"
             ],
             [
              0.1111111111111111,
              "#46039f"
             ],
             [
              0.2222222222222222,
              "#7201a8"
             ],
             [
              0.3333333333333333,
              "#9c179e"
             ],
             [
              0.4444444444444444,
              "#bd3786"
             ],
             [
              0.5555555555555556,
              "#d8576b"
             ],
             [
              0.6666666666666666,
              "#ed7953"
             ],
             [
              0.7777777777777778,
              "#fb9f3a"
             ],
             [
              0.8888888888888888,
              "#fdca26"
             ],
             [
              1,
              "#f0f921"
             ]
            ],
            "type": "heatmapgl"
           }
          ],
          "histogram": [
           {
            "marker": {
             "pattern": {
              "fillmode": "overlay",
              "size": 10,
              "solidity": 0.2
             }
            },
            "type": "histogram"
           }
          ],
          "histogram2d": [
           {
            "colorbar": {
             "outlinewidth": 0,
             "ticks": ""
            },
            "colorscale": [
             [
              0,
              "#0d0887"
             ],
             [
              0.1111111111111111,
              "#46039f"
             ],
             [
              0.2222222222222222,
              "#7201a8"
             ],
             [
              0.3333333333333333,
              "#9c179e"
             ],
             [
              0.4444444444444444,
              "#bd3786"
             ],
             [
              0.5555555555555556,
              "#d8576b"
             ],
             [
              0.6666666666666666,
              "#ed7953"
             ],
             [
              0.7777777777777778,
              "#fb9f3a"
             ],
             [
              0.8888888888888888,
              "#fdca26"
             ],
             [
              1,
              "#f0f921"
             ]
            ],
            "type": "histogram2d"
           }
          ],
          "histogram2dcontour": [
           {
            "colorbar": {
             "outlinewidth": 0,
             "ticks": ""
            },
            "colorscale": [
             [
              0,
              "#0d0887"
             ],
             [
              0.1111111111111111,
              "#46039f"
             ],
             [
              0.2222222222222222,
              "#7201a8"
             ],
             [
              0.3333333333333333,
              "#9c179e"
             ],
             [
              0.4444444444444444,
              "#bd3786"
             ],
             [
              0.5555555555555556,
              "#d8576b"
             ],
             [
              0.6666666666666666,
              "#ed7953"
             ],
             [
              0.7777777777777778,
              "#fb9f3a"
             ],
             [
              0.8888888888888888,
              "#fdca26"
             ],
             [
              1,
              "#f0f921"
             ]
            ],
            "type": "histogram2dcontour"
           }
          ],
          "mesh3d": [
           {
            "colorbar": {
             "outlinewidth": 0,
             "ticks": ""
            },
            "type": "mesh3d"
           }
          ],
          "parcoords": [
           {
            "line": {
             "colorbar": {
              "outlinewidth": 0,
              "ticks": ""
             }
            },
            "type": "parcoords"
           }
          ],
          "pie": [
           {
            "automargin": true,
            "type": "pie"
           }
          ],
          "scatter": [
           {
            "fillpattern": {
             "fillmode": "overlay",
             "size": 10,
             "solidity": 0.2
            },
            "type": "scatter"
           }
          ],
          "scatter3d": [
           {
            "line": {
             "colorbar": {
              "outlinewidth": 0,
              "ticks": ""
             }
            },
            "marker": {
             "colorbar": {
              "outlinewidth": 0,
              "ticks": ""
             }
            },
            "type": "scatter3d"
           }
          ],
          "scattercarpet": [
           {
            "marker": {
             "colorbar": {
              "outlinewidth": 0,
              "ticks": ""
             }
            },
            "type": "scattercarpet"
           }
          ],
          "scattergeo": [
           {
            "marker": {
             "colorbar": {
              "outlinewidth": 0,
              "ticks": ""
             }
            },
            "type": "scattergeo"
           }
          ],
          "scattergl": [
           {
            "marker": {
             "colorbar": {
              "outlinewidth": 0,
              "ticks": ""
             }
            },
            "type": "scattergl"
           }
          ],
          "scattermapbox": [
           {
            "marker": {
             "colorbar": {
              "outlinewidth": 0,
              "ticks": ""
             }
            },
            "type": "scattermapbox"
           }
          ],
          "scatterpolar": [
           {
            "marker": {
             "colorbar": {
              "outlinewidth": 0,
              "ticks": ""
             }
            },
            "type": "scatterpolar"
           }
          ],
          "scatterpolargl": [
           {
            "marker": {
             "colorbar": {
              "outlinewidth": 0,
              "ticks": ""
             }
            },
            "type": "scatterpolargl"
           }
          ],
          "scatterternary": [
           {
            "marker": {
             "colorbar": {
              "outlinewidth": 0,
              "ticks": ""
             }
            },
            "type": "scatterternary"
           }
          ],
          "surface": [
           {
            "colorbar": {
             "outlinewidth": 0,
             "ticks": ""
            },
            "colorscale": [
             [
              0,
              "#0d0887"
             ],
             [
              0.1111111111111111,
              "#46039f"
             ],
             [
              0.2222222222222222,
              "#7201a8"
             ],
             [
              0.3333333333333333,
              "#9c179e"
             ],
             [
              0.4444444444444444,
              "#bd3786"
             ],
             [
              0.5555555555555556,
              "#d8576b"
             ],
             [
              0.6666666666666666,
              "#ed7953"
             ],
             [
              0.7777777777777778,
              "#fb9f3a"
             ],
             [
              0.8888888888888888,
              "#fdca26"
             ],
             [
              1,
              "#f0f921"
             ]
            ],
            "type": "surface"
           }
          ],
          "table": [
           {
            "cells": {
             "fill": {
              "color": "#EBF0F8"
             },
             "line": {
              "color": "white"
             }
            },
            "header": {
             "fill": {
              "color": "#C8D4E3"
             },
             "line": {
              "color": "white"
             }
            },
            "type": "table"
           }
          ]
         },
         "layout": {
          "annotationdefaults": {
           "arrowcolor": "#2a3f5f",
           "arrowhead": 0,
           "arrowwidth": 1
          },
          "autotypenumbers": "strict",
          "coloraxis": {
           "colorbar": {
            "outlinewidth": 0,
            "ticks": ""
           }
          },
          "colorscale": {
           "diverging": [
            [
             0,
             "#8e0152"
            ],
            [
             0.1,
             "#c51b7d"
            ],
            [
             0.2,
             "#de77ae"
            ],
            [
             0.3,
             "#f1b6da"
            ],
            [
             0.4,
             "#fde0ef"
            ],
            [
             0.5,
             "#f7f7f7"
            ],
            [
             0.6,
             "#e6f5d0"
            ],
            [
             0.7,
             "#b8e186"
            ],
            [
             0.8,
             "#7fbc41"
            ],
            [
             0.9,
             "#4d9221"
            ],
            [
             1,
             "#276419"
            ]
           ],
           "sequential": [
            [
             0,
             "#0d0887"
            ],
            [
             0.1111111111111111,
             "#46039f"
            ],
            [
             0.2222222222222222,
             "#7201a8"
            ],
            [
             0.3333333333333333,
             "#9c179e"
            ],
            [
             0.4444444444444444,
             "#bd3786"
            ],
            [
             0.5555555555555556,
             "#d8576b"
            ],
            [
             0.6666666666666666,
             "#ed7953"
            ],
            [
             0.7777777777777778,
             "#fb9f3a"
            ],
            [
             0.8888888888888888,
             "#fdca26"
            ],
            [
             1,
             "#f0f921"
            ]
           ],
           "sequentialminus": [
            [
             0,
             "#0d0887"
            ],
            [
             0.1111111111111111,
             "#46039f"
            ],
            [
             0.2222222222222222,
             "#7201a8"
            ],
            [
             0.3333333333333333,
             "#9c179e"
            ],
            [
             0.4444444444444444,
             "#bd3786"
            ],
            [
             0.5555555555555556,
             "#d8576b"
            ],
            [
             0.6666666666666666,
             "#ed7953"
            ],
            [
             0.7777777777777778,
             "#fb9f3a"
            ],
            [
             0.8888888888888888,
             "#fdca26"
            ],
            [
             1,
             "#f0f921"
            ]
           ]
          },
          "colorway": [
           "#636efa",
           "#EF553B",
           "#00cc96",
           "#ab63fa",
           "#FFA15A",
           "#19d3f3",
           "#FF6692",
           "#B6E880",
           "#FF97FF",
           "#FECB52"
          ],
          "font": {
           "color": "#2a3f5f"
          },
          "geo": {
           "bgcolor": "white",
           "lakecolor": "white",
           "landcolor": "#E5ECF6",
           "showlakes": true,
           "showland": true,
           "subunitcolor": "white"
          },
          "hoverlabel": {
           "align": "left"
          },
          "hovermode": "closest",
          "mapbox": {
           "style": "light"
          },
          "paper_bgcolor": "white",
          "plot_bgcolor": "#E5ECF6",
          "polar": {
           "angularaxis": {
            "gridcolor": "white",
            "linecolor": "white",
            "ticks": ""
           },
           "bgcolor": "#E5ECF6",
           "radialaxis": {
            "gridcolor": "white",
            "linecolor": "white",
            "ticks": ""
           }
          },
          "scene": {
           "xaxis": {
            "backgroundcolor": "#E5ECF6",
            "gridcolor": "white",
            "gridwidth": 2,
            "linecolor": "white",
            "showbackground": true,
            "ticks": "",
            "zerolinecolor": "white"
           },
           "yaxis": {
            "backgroundcolor": "#E5ECF6",
            "gridcolor": "white",
            "gridwidth": 2,
            "linecolor": "white",
            "showbackground": true,
            "ticks": "",
            "zerolinecolor": "white"
           },
           "zaxis": {
            "backgroundcolor": "#E5ECF6",
            "gridcolor": "white",
            "gridwidth": 2,
            "linecolor": "white",
            "showbackground": true,
            "ticks": "",
            "zerolinecolor": "white"
           }
          },
          "shapedefaults": {
           "line": {
            "color": "#2a3f5f"
           }
          },
          "ternary": {
           "aaxis": {
            "gridcolor": "white",
            "linecolor": "white",
            "ticks": ""
           },
           "baxis": {
            "gridcolor": "white",
            "linecolor": "white",
            "ticks": ""
           },
           "bgcolor": "#E5ECF6",
           "caxis": {
            "gridcolor": "white",
            "linecolor": "white",
            "ticks": ""
           }
          },
          "title": {
           "x": 0.05
          },
          "xaxis": {
           "automargin": true,
           "gridcolor": "white",
           "linecolor": "white",
           "ticks": "",
           "title": {
            "standoff": 15
           },
           "zerolinecolor": "white",
           "zerolinewidth": 2
          },
          "yaxis": {
           "automargin": true,
           "gridcolor": "white",
           "linecolor": "white",
           "ticks": "",
           "title": {
            "standoff": 15
           },
           "zerolinecolor": "white",
           "zerolinewidth": 2
          }
         }
        },
        "title": {
         "text": "n2v2r BONOBO YEAST KEGG prerank sVSg2 padj_cutoff 0.1"
        },
        "width": 800,
        "xaxis": {
         "anchor": "y",
         "domain": [
          0,
          1
         ],
         "title": {
          "text": "NES"
         }
        },
        "yaxis": {
         "anchor": "x",
         "domain": [
          0,
          1
         ],
         "title": {
          "text": "pathway"
         }
        }
       }
      }
     },
     "metadata": {},
     "output_type": "display_data"
    },
    {
     "data": {
      "application/vnd.plotly.v1+json": {
       "config": {
        "plotlyServerURL": "https://plot.ly"
       },
       "data": [
        {
         "hovertemplate": "NES=%{x}<br>pathway=%{y}<br>overlap=%{marker.size}<br>stability=%{marker.color}<extra></extra>",
         "legendgroup": "",
         "marker": {
          "color": [
           0.8958333333333334,
           0.7916666666666666,
           0.7708333333333334,
           0.9375,
           0.9583333333333334,
           0.9375,
           0.8333333333333334
          ],
          "coloraxis": "coloraxis",
          "size": [
           44.77883720930232,
           39.71078947368422,
           10.077837837837839,
           8.818666666666669,
           7.85695652173913,
           7.548222222222224,
           5.845249999999998
          ],
          "sizemode": "area",
          "sizeref": 0.1119470930232558,
          "symbol": "circle"
         },
         "mode": "markers",
         "name": "",
         "orientation": "h",
         "showlegend": false,
         "type": "scatter",
         "x": [
          -1.9551758840100508,
          -2.0959188858290347,
          -1.9778519061627133,
          -1.3372727777996625,
          -2.027157667747576,
          -1.7717919834110907,
          -2.595714501012847
         ],
         "xaxis": "x",
         "y": [
          "Glycine, serine and threonine metabolism  sce00260",
          "DNA repair and recombination proteins  sce03400",
          "Base excision repair  sce03410",
          "Cell cycle - yeast  sce04111",
          "DNA replication proteins  sce03032",
          "DNA replication  sce03030",
          "Mismatch repair  sce03430"
         ],
         "yaxis": "y"
        }
       ],
       "layout": {
        "annotations": [
         {
          "showarrow": true,
          "text": "-log padj 2.21",
          "x": -2.595714501012847,
          "y": "Mismatch repair  sce03430",
          "yshift": 10
         },
         {
          "showarrow": true,
          "text": "-log padj 1.11",
          "x": -1.9551758840100508,
          "y": "Glycine, serine and threonine metabolism  sce00260",
          "yshift": 10
         }
        ],
        "autosize": true,
        "coloraxis": {
         "cmax": 0.9583333333333334,
         "cmin": 0.7708333333333334,
         "colorbar": {
          "title": {
           "text": "stability"
          }
         },
         "colorscale": [
          [
           0,
           "rgb(247,252,253)"
          ],
          [
           0.125,
           "rgb(229,245,249)"
          ],
          [
           0.25,
           "rgb(204,236,230)"
          ],
          [
           0.375,
           "rgb(153,216,201)"
          ],
          [
           0.5,
           "rgb(102,194,164)"
          ],
          [
           0.625,
           "rgb(65,174,118)"
          ],
          [
           0.75,
           "rgb(35,139,69)"
          ],
          [
           0.875,
           "rgb(0,109,44)"
          ],
          [
           1,
           "rgb(0,68,27)"
          ]
         ]
        },
        "height": 800,
        "legend": {
         "itemsizing": "constant",
         "tracegroupgap": 0
        },
        "template": {
         "data": {
          "bar": [
           {
            "error_x": {
             "color": "#2a3f5f"
            },
            "error_y": {
             "color": "#2a3f5f"
            },
            "marker": {
             "line": {
              "color": "#E5ECF6",
              "width": 0.5
             },
             "pattern": {
              "fillmode": "overlay",
              "size": 10,
              "solidity": 0.2
             }
            },
            "type": "bar"
           }
          ],
          "barpolar": [
           {
            "marker": {
             "line": {
              "color": "#E5ECF6",
              "width": 0.5
             },
             "pattern": {
              "fillmode": "overlay",
              "size": 10,
              "solidity": 0.2
             }
            },
            "type": "barpolar"
           }
          ],
          "carpet": [
           {
            "aaxis": {
             "endlinecolor": "#2a3f5f",
             "gridcolor": "white",
             "linecolor": "white",
             "minorgridcolor": "white",
             "startlinecolor": "#2a3f5f"
            },
            "baxis": {
             "endlinecolor": "#2a3f5f",
             "gridcolor": "white",
             "linecolor": "white",
             "minorgridcolor": "white",
             "startlinecolor": "#2a3f5f"
            },
            "type": "carpet"
           }
          ],
          "choropleth": [
           {
            "colorbar": {
             "outlinewidth": 0,
             "ticks": ""
            },
            "type": "choropleth"
           }
          ],
          "contour": [
           {
            "colorbar": {
             "outlinewidth": 0,
             "ticks": ""
            },
            "colorscale": [
             [
              0,
              "#0d0887"
             ],
             [
              0.1111111111111111,
              "#46039f"
             ],
             [
              0.2222222222222222,
              "#7201a8"
             ],
             [
              0.3333333333333333,
              "#9c179e"
             ],
             [
              0.4444444444444444,
              "#bd3786"
             ],
             [
              0.5555555555555556,
              "#d8576b"
             ],
             [
              0.6666666666666666,
              "#ed7953"
             ],
             [
              0.7777777777777778,
              "#fb9f3a"
             ],
             [
              0.8888888888888888,
              "#fdca26"
             ],
             [
              1,
              "#f0f921"
             ]
            ],
            "type": "contour"
           }
          ],
          "contourcarpet": [
           {
            "colorbar": {
             "outlinewidth": 0,
             "ticks": ""
            },
            "type": "contourcarpet"
           }
          ],
          "heatmap": [
           {
            "colorbar": {
             "outlinewidth": 0,
             "ticks": ""
            },
            "colorscale": [
             [
              0,
              "#0d0887"
             ],
             [
              0.1111111111111111,
              "#46039f"
             ],
             [
              0.2222222222222222,
              "#7201a8"
             ],
             [
              0.3333333333333333,
              "#9c179e"
             ],
             [
              0.4444444444444444,
              "#bd3786"
             ],
             [
              0.5555555555555556,
              "#d8576b"
             ],
             [
              0.6666666666666666,
              "#ed7953"
             ],
             [
              0.7777777777777778,
              "#fb9f3a"
             ],
             [
              0.8888888888888888,
              "#fdca26"
             ],
             [
              1,
              "#f0f921"
             ]
            ],
            "type": "heatmap"
           }
          ],
          "heatmapgl": [
           {
            "colorbar": {
             "outlinewidth": 0,
             "ticks": ""
            },
            "colorscale": [
             [
              0,
              "#0d0887"
             ],
             [
              0.1111111111111111,
              "#46039f"
             ],
             [
              0.2222222222222222,
              "#7201a8"
             ],
             [
              0.3333333333333333,
              "#9c179e"
             ],
             [
              0.4444444444444444,
              "#bd3786"
             ],
             [
              0.5555555555555556,
              "#d8576b"
             ],
             [
              0.6666666666666666,
              "#ed7953"
             ],
             [
              0.7777777777777778,
              "#fb9f3a"
             ],
             [
              0.8888888888888888,
              "#fdca26"
             ],
             [
              1,
              "#f0f921"
             ]
            ],
            "type": "heatmapgl"
           }
          ],
          "histogram": [
           {
            "marker": {
             "pattern": {
              "fillmode": "overlay",
              "size": 10,
              "solidity": 0.2
             }
            },
            "type": "histogram"
           }
          ],
          "histogram2d": [
           {
            "colorbar": {
             "outlinewidth": 0,
             "ticks": ""
            },
            "colorscale": [
             [
              0,
              "#0d0887"
             ],
             [
              0.1111111111111111,
              "#46039f"
             ],
             [
              0.2222222222222222,
              "#7201a8"
             ],
             [
              0.3333333333333333,
              "#9c179e"
             ],
             [
              0.4444444444444444,
              "#bd3786"
             ],
             [
              0.5555555555555556,
              "#d8576b"
             ],
             [
              0.6666666666666666,
              "#ed7953"
             ],
             [
              0.7777777777777778,
              "#fb9f3a"
             ],
             [
              0.8888888888888888,
              "#fdca26"
             ],
             [
              1,
              "#f0f921"
             ]
            ],
            "type": "histogram2d"
           }
          ],
          "histogram2dcontour": [
           {
            "colorbar": {
             "outlinewidth": 0,
             "ticks": ""
            },
            "colorscale": [
             [
              0,
              "#0d0887"
             ],
             [
              0.1111111111111111,
              "#46039f"
             ],
             [
              0.2222222222222222,
              "#7201a8"
             ],
             [
              0.3333333333333333,
              "#9c179e"
             ],
             [
              0.4444444444444444,
              "#bd3786"
             ],
             [
              0.5555555555555556,
              "#d8576b"
             ],
             [
              0.6666666666666666,
              "#ed7953"
             ],
             [
              0.7777777777777778,
              "#fb9f3a"
             ],
             [
              0.8888888888888888,
              "#fdca26"
             ],
             [
              1,
              "#f0f921"
             ]
            ],
            "type": "histogram2dcontour"
           }
          ],
          "mesh3d": [
           {
            "colorbar": {
             "outlinewidth": 0,
             "ticks": ""
            },
            "type": "mesh3d"
           }
          ],
          "parcoords": [
           {
            "line": {
             "colorbar": {
              "outlinewidth": 0,
              "ticks": ""
             }
            },
            "type": "parcoords"
           }
          ],
          "pie": [
           {
            "automargin": true,
            "type": "pie"
           }
          ],
          "scatter": [
           {
            "fillpattern": {
             "fillmode": "overlay",
             "size": 10,
             "solidity": 0.2
            },
            "type": "scatter"
           }
          ],
          "scatter3d": [
           {
            "line": {
             "colorbar": {
              "outlinewidth": 0,
              "ticks": ""
             }
            },
            "marker": {
             "colorbar": {
              "outlinewidth": 0,
              "ticks": ""
             }
            },
            "type": "scatter3d"
           }
          ],
          "scattercarpet": [
           {
            "marker": {
             "colorbar": {
              "outlinewidth": 0,
              "ticks": ""
             }
            },
            "type": "scattercarpet"
           }
          ],
          "scattergeo": [
           {
            "marker": {
             "colorbar": {
              "outlinewidth": 0,
              "ticks": ""
             }
            },
            "type": "scattergeo"
           }
          ],
          "scattergl": [
           {
            "marker": {
             "colorbar": {
              "outlinewidth": 0,
              "ticks": ""
             }
            },
            "type": "scattergl"
           }
          ],
          "scattermapbox": [
           {
            "marker": {
             "colorbar": {
              "outlinewidth": 0,
              "ticks": ""
             }
            },
            "type": "scattermapbox"
           }
          ],
          "scatterpolar": [
           {
            "marker": {
             "colorbar": {
              "outlinewidth": 0,
              "ticks": ""
             }
            },
            "type": "scatterpolar"
           }
          ],
          "scatterpolargl": [
           {
            "marker": {
             "colorbar": {
              "outlinewidth": 0,
              "ticks": ""
             }
            },
            "type": "scatterpolargl"
           }
          ],
          "scatterternary": [
           {
            "marker": {
             "colorbar": {
              "outlinewidth": 0,
              "ticks": ""
             }
            },
            "type": "scatterternary"
           }
          ],
          "surface": [
           {
            "colorbar": {
             "outlinewidth": 0,
             "ticks": ""
            },
            "colorscale": [
             [
              0,
              "#0d0887"
             ],
             [
              0.1111111111111111,
              "#46039f"
             ],
             [
              0.2222222222222222,
              "#7201a8"
             ],
             [
              0.3333333333333333,
              "#9c179e"
             ],
             [
              0.4444444444444444,
              "#bd3786"
             ],
             [
              0.5555555555555556,
              "#d8576b"
             ],
             [
              0.6666666666666666,
              "#ed7953"
             ],
             [
              0.7777777777777778,
              "#fb9f3a"
             ],
             [
              0.8888888888888888,
              "#fdca26"
             ],
             [
              1,
              "#f0f921"
             ]
            ],
            "type": "surface"
           }
          ],
          "table": [
           {
            "cells": {
             "fill": {
              "color": "#EBF0F8"
             },
             "line": {
              "color": "white"
             }
            },
            "header": {
             "fill": {
              "color": "#C8D4E3"
             },
             "line": {
              "color": "white"
             }
            },
            "type": "table"
           }
          ]
         },
         "layout": {
          "annotationdefaults": {
           "arrowcolor": "#2a3f5f",
           "arrowhead": 0,
           "arrowwidth": 1
          },
          "autotypenumbers": "strict",
          "coloraxis": {
           "colorbar": {
            "outlinewidth": 0,
            "ticks": ""
           }
          },
          "colorscale": {
           "diverging": [
            [
             0,
             "#8e0152"
            ],
            [
             0.1,
             "#c51b7d"
            ],
            [
             0.2,
             "#de77ae"
            ],
            [
             0.3,
             "#f1b6da"
            ],
            [
             0.4,
             "#fde0ef"
            ],
            [
             0.5,
             "#f7f7f7"
            ],
            [
             0.6,
             "#e6f5d0"
            ],
            [
             0.7,
             "#b8e186"
            ],
            [
             0.8,
             "#7fbc41"
            ],
            [
             0.9,
             "#4d9221"
            ],
            [
             1,
             "#276419"
            ]
           ],
           "sequential": [
            [
             0,
             "#0d0887"
            ],
            [
             0.1111111111111111,
             "#46039f"
            ],
            [
             0.2222222222222222,
             "#7201a8"
            ],
            [
             0.3333333333333333,
             "#9c179e"
            ],
            [
             0.4444444444444444,
             "#bd3786"
            ],
            [
             0.5555555555555556,
             "#d8576b"
            ],
            [
             0.6666666666666666,
             "#ed7953"
            ],
            [
             0.7777777777777778,
             "#fb9f3a"
            ],
            [
             0.8888888888888888,
             "#fdca26"
            ],
            [
             1,
             "#f0f921"
            ]
           ],
           "sequentialminus": [
            [
             0,
             "#0d0887"
            ],
            [
             0.1111111111111111,
             "#46039f"
            ],
            [
             0.2222222222222222,
             "#7201a8"
            ],
            [
             0.3333333333333333,
             "#9c179e"
            ],
            [
             0.4444444444444444,
             "#bd3786"
            ],
            [
             0.5555555555555556,
             "#d8576b"
            ],
            [
             0.6666666666666666,
             "#ed7953"
            ],
            [
             0.7777777777777778,
             "#fb9f3a"
            ],
            [
             0.8888888888888888,
             "#fdca26"
            ],
            [
             1,
             "#f0f921"
            ]
           ]
          },
          "colorway": [
           "#636efa",
           "#EF553B",
           "#00cc96",
           "#ab63fa",
           "#FFA15A",
           "#19d3f3",
           "#FF6692",
           "#B6E880",
           "#FF97FF",
           "#FECB52"
          ],
          "font": {
           "color": "#2a3f5f"
          },
          "geo": {
           "bgcolor": "white",
           "lakecolor": "white",
           "landcolor": "#E5ECF6",
           "showlakes": true,
           "showland": true,
           "subunitcolor": "white"
          },
          "hoverlabel": {
           "align": "left"
          },
          "hovermode": "closest",
          "mapbox": {
           "style": "light"
          },
          "paper_bgcolor": "white",
          "plot_bgcolor": "#E5ECF6",
          "polar": {
           "angularaxis": {
            "gridcolor": "white",
            "linecolor": "white",
            "ticks": ""
           },
           "bgcolor": "#E5ECF6",
           "radialaxis": {
            "gridcolor": "white",
            "linecolor": "white",
            "ticks": ""
           }
          },
          "scene": {
           "xaxis": {
            "backgroundcolor": "#E5ECF6",
            "gridcolor": "white",
            "gridwidth": 2,
            "linecolor": "white",
            "showbackground": true,
            "ticks": "",
            "zerolinecolor": "white"
           },
           "yaxis": {
            "backgroundcolor": "#E5ECF6",
            "gridcolor": "white",
            "gridwidth": 2,
            "linecolor": "white",
            "showbackground": true,
            "ticks": "",
            "zerolinecolor": "white"
           },
           "zaxis": {
            "backgroundcolor": "#E5ECF6",
            "gridcolor": "white",
            "gridwidth": 2,
            "linecolor": "white",
            "showbackground": true,
            "ticks": "",
            "zerolinecolor": "white"
           }
          },
          "shapedefaults": {
           "line": {
            "color": "#2a3f5f"
           }
          },
          "ternary": {
           "aaxis": {
            "gridcolor": "white",
            "linecolor": "white",
            "ticks": ""
           },
           "baxis": {
            "gridcolor": "white",
            "linecolor": "white",
            "ticks": ""
           },
           "bgcolor": "#E5ECF6",
           "caxis": {
            "gridcolor": "white",
            "linecolor": "white",
            "ticks": ""
           }
          },
          "title": {
           "x": 0.05
          },
          "xaxis": {
           "automargin": true,
           "gridcolor": "white",
           "linecolor": "white",
           "ticks": "",
           "title": {
            "standoff": 15
           },
           "zerolinecolor": "white",
           "zerolinewidth": 2
          },
          "yaxis": {
           "automargin": true,
           "gridcolor": "white",
           "linecolor": "white",
           "ticks": "",
           "title": {
            "standoff": 15
           },
           "zerolinecolor": "white",
           "zerolinewidth": 2
          }
         }
        },
        "title": {
         "text": "signed n2v2r BONOBO YEAST KEGG prerank sVSg2 padj_cutoff 0.1"
        },
        "width": 800,
        "xaxis": {
         "anchor": "y",
         "domain": [
          0,
          1
         ],
         "range": [
          -3.2,
          3.2
         ],
         "title": {
          "text": "NES"
         }
        },
        "yaxis": {
         "anchor": "x",
         "domain": [
          0,
          1
         ],
         "title": {
          "text": "pathway"
         }
        }
       }
      }
     },
     "metadata": {},
     "output_type": "display_data"
    },
    {
     "data": {
      "application/vnd.plotly.v1+json": {
       "config": {
        "plotlyServerURL": "https://plot.ly"
       },
       "data": [
        {
         "hovertemplate": "NES=%{x}<br>pathway=%{y}<br>overlap=%{marker.size}<br>-log padj=%{marker.color}<extra></extra>",
         "legendgroup": "",
         "marker": {
          "color": [
           1.11,
           1.24,
           1.32,
           1.95
          ],
          "coloraxis": "coloraxis",
          "size": [
           26.08,
           24.73,
           31.51,
           19.97
          ],
          "sizemode": "area",
          "sizeref": 0.078775,
          "symbol": "circle"
         },
         "mode": "markers",
         "name": "",
         "orientation": "h",
         "showlegend": false,
         "type": "scatter",
         "x": [
          2.005223036594562,
          2.1587042909045664,
          2.123572547824109,
          2.4873475449221516
         ],
         "xaxis": "x",
         "y": [
          "DNA replication proteins  sce03032",
          "DNA replication  sce03030",
          "Cell cycle - yeast  sce04111",
          "Mismatch repair  sce03430"
         ],
         "yaxis": "y"
        }
       ],
       "layout": {
        "autosize": true,
        "coloraxis": {
         "colorbar": {
          "title": {
           "text": "-log padj"
          }
         },
         "colorscale": [
          [
           0,
           "rgb(247,252,253)"
          ],
          [
           0.125,
           "rgb(229,245,249)"
          ],
          [
           0.25,
           "rgb(204,236,230)"
          ],
          [
           0.375,
           "rgb(153,216,201)"
          ],
          [
           0.5,
           "rgb(102,194,164)"
          ],
          [
           0.625,
           "rgb(65,174,118)"
          ],
          [
           0.75,
           "rgb(35,139,69)"
          ],
          [
           0.875,
           "rgb(0,109,44)"
          ],
          [
           1,
           "rgb(0,68,27)"
          ]
         ]
        },
        "height": 800,
        "legend": {
         "itemsizing": "constant",
         "tracegroupgap": 0
        },
        "template": {
         "data": {
          "bar": [
           {
            "error_x": {
             "color": "#2a3f5f"
            },
            "error_y": {
             "color": "#2a3f5f"
            },
            "marker": {
             "line": {
              "color": "#E5ECF6",
              "width": 0.5
             },
             "pattern": {
              "fillmode": "overlay",
              "size": 10,
              "solidity": 0.2
             }
            },
            "type": "bar"
           }
          ],
          "barpolar": [
           {
            "marker": {
             "line": {
              "color": "#E5ECF6",
              "width": 0.5
             },
             "pattern": {
              "fillmode": "overlay",
              "size": 10,
              "solidity": 0.2
             }
            },
            "type": "barpolar"
           }
          ],
          "carpet": [
           {
            "aaxis": {
             "endlinecolor": "#2a3f5f",
             "gridcolor": "white",
             "linecolor": "white",
             "minorgridcolor": "white",
             "startlinecolor": "#2a3f5f"
            },
            "baxis": {
             "endlinecolor": "#2a3f5f",
             "gridcolor": "white",
             "linecolor": "white",
             "minorgridcolor": "white",
             "startlinecolor": "#2a3f5f"
            },
            "type": "carpet"
           }
          ],
          "choropleth": [
           {
            "colorbar": {
             "outlinewidth": 0,
             "ticks": ""
            },
            "type": "choropleth"
           }
          ],
          "contour": [
           {
            "colorbar": {
             "outlinewidth": 0,
             "ticks": ""
            },
            "colorscale": [
             [
              0,
              "#0d0887"
             ],
             [
              0.1111111111111111,
              "#46039f"
             ],
             [
              0.2222222222222222,
              "#7201a8"
             ],
             [
              0.3333333333333333,
              "#9c179e"
             ],
             [
              0.4444444444444444,
              "#bd3786"
             ],
             [
              0.5555555555555556,
              "#d8576b"
             ],
             [
              0.6666666666666666,
              "#ed7953"
             ],
             [
              0.7777777777777778,
              "#fb9f3a"
             ],
             [
              0.8888888888888888,
              "#fdca26"
             ],
             [
              1,
              "#f0f921"
             ]
            ],
            "type": "contour"
           }
          ],
          "contourcarpet": [
           {
            "colorbar": {
             "outlinewidth": 0,
             "ticks": ""
            },
            "type": "contourcarpet"
           }
          ],
          "heatmap": [
           {
            "colorbar": {
             "outlinewidth": 0,
             "ticks": ""
            },
            "colorscale": [
             [
              0,
              "#0d0887"
             ],
             [
              0.1111111111111111,
              "#46039f"
             ],
             [
              0.2222222222222222,
              "#7201a8"
             ],
             [
              0.3333333333333333,
              "#9c179e"
             ],
             [
              0.4444444444444444,
              "#bd3786"
             ],
             [
              0.5555555555555556,
              "#d8576b"
             ],
             [
              0.6666666666666666,
              "#ed7953"
             ],
             [
              0.7777777777777778,
              "#fb9f3a"
             ],
             [
              0.8888888888888888,
              "#fdca26"
             ],
             [
              1,
              "#f0f921"
             ]
            ],
            "type": "heatmap"
           }
          ],
          "heatmapgl": [
           {
            "colorbar": {
             "outlinewidth": 0,
             "ticks": ""
            },
            "colorscale": [
             [
              0,
              "#0d0887"
             ],
             [
              0.1111111111111111,
              "#46039f"
             ],
             [
              0.2222222222222222,
              "#7201a8"
             ],
             [
              0.3333333333333333,
              "#9c179e"
             ],
             [
              0.4444444444444444,
              "#bd3786"
             ],
             [
              0.5555555555555556,
              "#d8576b"
             ],
             [
              0.6666666666666666,
              "#ed7953"
             ],
             [
              0.7777777777777778,
              "#fb9f3a"
             ],
             [
              0.8888888888888888,
              "#fdca26"
             ],
             [
              1,
              "#f0f921"
             ]
            ],
            "type": "heatmapgl"
           }
          ],
          "histogram": [
           {
            "marker": {
             "pattern": {
              "fillmode": "overlay",
              "size": 10,
              "solidity": 0.2
             }
            },
            "type": "histogram"
           }
          ],
          "histogram2d": [
           {
            "colorbar": {
             "outlinewidth": 0,
             "ticks": ""
            },
            "colorscale": [
             [
              0,
              "#0d0887"
             ],
             [
              0.1111111111111111,
              "#46039f"
             ],
             [
              0.2222222222222222,
              "#7201a8"
             ],
             [
              0.3333333333333333,
              "#9c179e"
             ],
             [
              0.4444444444444444,
              "#bd3786"
             ],
             [
              0.5555555555555556,
              "#d8576b"
             ],
             [
              0.6666666666666666,
              "#ed7953"
             ],
             [
              0.7777777777777778,
              "#fb9f3a"
             ],
             [
              0.8888888888888888,
              "#fdca26"
             ],
             [
              1,
              "#f0f921"
             ]
            ],
            "type": "histogram2d"
           }
          ],
          "histogram2dcontour": [
           {
            "colorbar": {
             "outlinewidth": 0,
             "ticks": ""
            },
            "colorscale": [
             [
              0,
              "#0d0887"
             ],
             [
              0.1111111111111111,
              "#46039f"
             ],
             [
              0.2222222222222222,
              "#7201a8"
             ],
             [
              0.3333333333333333,
              "#9c179e"
             ],
             [
              0.4444444444444444,
              "#bd3786"
             ],
             [
              0.5555555555555556,
              "#d8576b"
             ],
             [
              0.6666666666666666,
              "#ed7953"
             ],
             [
              0.7777777777777778,
              "#fb9f3a"
             ],
             [
              0.8888888888888888,
              "#fdca26"
             ],
             [
              1,
              "#f0f921"
             ]
            ],
            "type": "histogram2dcontour"
           }
          ],
          "mesh3d": [
           {
            "colorbar": {
             "outlinewidth": 0,
             "ticks": ""
            },
            "type": "mesh3d"
           }
          ],
          "parcoords": [
           {
            "line": {
             "colorbar": {
              "outlinewidth": 0,
              "ticks": ""
             }
            },
            "type": "parcoords"
           }
          ],
          "pie": [
           {
            "automargin": true,
            "type": "pie"
           }
          ],
          "scatter": [
           {
            "fillpattern": {
             "fillmode": "overlay",
             "size": 10,
             "solidity": 0.2
            },
            "type": "scatter"
           }
          ],
          "scatter3d": [
           {
            "line": {
             "colorbar": {
              "outlinewidth": 0,
              "ticks": ""
             }
            },
            "marker": {
             "colorbar": {
              "outlinewidth": 0,
              "ticks": ""
             }
            },
            "type": "scatter3d"
           }
          ],
          "scattercarpet": [
           {
            "marker": {
             "colorbar": {
              "outlinewidth": 0,
              "ticks": ""
             }
            },
            "type": "scattercarpet"
           }
          ],
          "scattergeo": [
           {
            "marker": {
             "colorbar": {
              "outlinewidth": 0,
              "ticks": ""
             }
            },
            "type": "scattergeo"
           }
          ],
          "scattergl": [
           {
            "marker": {
             "colorbar": {
              "outlinewidth": 0,
              "ticks": ""
             }
            },
            "type": "scattergl"
           }
          ],
          "scattermapbox": [
           {
            "marker": {
             "colorbar": {
              "outlinewidth": 0,
              "ticks": ""
             }
            },
            "type": "scattermapbox"
           }
          ],
          "scatterpolar": [
           {
            "marker": {
             "colorbar": {
              "outlinewidth": 0,
              "ticks": ""
             }
            },
            "type": "scatterpolar"
           }
          ],
          "scatterpolargl": [
           {
            "marker": {
             "colorbar": {
              "outlinewidth": 0,
              "ticks": ""
             }
            },
            "type": "scatterpolargl"
           }
          ],
          "scatterternary": [
           {
            "marker": {
             "colorbar": {
              "outlinewidth": 0,
              "ticks": ""
             }
            },
            "type": "scatterternary"
           }
          ],
          "surface": [
           {
            "colorbar": {
             "outlinewidth": 0,
             "ticks": ""
            },
            "colorscale": [
             [
              0,
              "#0d0887"
             ],
             [
              0.1111111111111111,
              "#46039f"
             ],
             [
              0.2222222222222222,
              "#7201a8"
             ],
             [
              0.3333333333333333,
              "#9c179e"
             ],
             [
              0.4444444444444444,
              "#bd3786"
             ],
             [
              0.5555555555555556,
              "#d8576b"
             ],
             [
              0.6666666666666666,
              "#ed7953"
             ],
             [
              0.7777777777777778,
              "#fb9f3a"
             ],
             [
              0.8888888888888888,
              "#fdca26"
             ],
             [
              1,
              "#f0f921"
             ]
            ],
            "type": "surface"
           }
          ],
          "table": [
           {
            "cells": {
             "fill": {
              "color": "#EBF0F8"
             },
             "line": {
              "color": "white"
             }
            },
            "header": {
             "fill": {
              "color": "#C8D4E3"
             },
             "line": {
              "color": "white"
             }
            },
            "type": "table"
           }
          ]
         },
         "layout": {
          "annotationdefaults": {
           "arrowcolor": "#2a3f5f",
           "arrowhead": 0,
           "arrowwidth": 1
          },
          "autotypenumbers": "strict",
          "coloraxis": {
           "colorbar": {
            "outlinewidth": 0,
            "ticks": ""
           }
          },
          "colorscale": {
           "diverging": [
            [
             0,
             "#8e0152"
            ],
            [
             0.1,
             "#c51b7d"
            ],
            [
             0.2,
             "#de77ae"
            ],
            [
             0.3,
             "#f1b6da"
            ],
            [
             0.4,
             "#fde0ef"
            ],
            [
             0.5,
             "#f7f7f7"
            ],
            [
             0.6,
             "#e6f5d0"
            ],
            [
             0.7,
             "#b8e186"
            ],
            [
             0.8,
             "#7fbc41"
            ],
            [
             0.9,
             "#4d9221"
            ],
            [
             1,
             "#276419"
            ]
           ],
           "sequential": [
            [
             0,
             "#0d0887"
            ],
            [
             0.1111111111111111,
             "#46039f"
            ],
            [
             0.2222222222222222,
             "#7201a8"
            ],
            [
             0.3333333333333333,
             "#9c179e"
            ],
            [
             0.4444444444444444,
             "#bd3786"
            ],
            [
             0.5555555555555556,
             "#d8576b"
            ],
            [
             0.6666666666666666,
             "#ed7953"
            ],
            [
             0.7777777777777778,
             "#fb9f3a"
            ],
            [
             0.8888888888888888,
             "#fdca26"
            ],
            [
             1,
             "#f0f921"
            ]
           ],
           "sequentialminus": [
            [
             0,
             "#0d0887"
            ],
            [
             0.1111111111111111,
             "#46039f"
            ],
            [
             0.2222222222222222,
             "#7201a8"
            ],
            [
             0.3333333333333333,
             "#9c179e"
            ],
            [
             0.4444444444444444,
             "#bd3786"
            ],
            [
             0.5555555555555556,
             "#d8576b"
            ],
            [
             0.6666666666666666,
             "#ed7953"
            ],
            [
             0.7777777777777778,
             "#fb9f3a"
            ],
            [
             0.8888888888888888,
             "#fdca26"
            ],
            [
             1,
             "#f0f921"
            ]
           ]
          },
          "colorway": [
           "#636efa",
           "#EF553B",
           "#00cc96",
           "#ab63fa",
           "#FFA15A",
           "#19d3f3",
           "#FF6692",
           "#B6E880",
           "#FF97FF",
           "#FECB52"
          ],
          "font": {
           "color": "#2a3f5f"
          },
          "geo": {
           "bgcolor": "white",
           "lakecolor": "white",
           "landcolor": "#E5ECF6",
           "showlakes": true,
           "showland": true,
           "subunitcolor": "white"
          },
          "hoverlabel": {
           "align": "left"
          },
          "hovermode": "closest",
          "mapbox": {
           "style": "light"
          },
          "paper_bgcolor": "white",
          "plot_bgcolor": "#E5ECF6",
          "polar": {
           "angularaxis": {
            "gridcolor": "white",
            "linecolor": "white",
            "ticks": ""
           },
           "bgcolor": "#E5ECF6",
           "radialaxis": {
            "gridcolor": "white",
            "linecolor": "white",
            "ticks": ""
           }
          },
          "scene": {
           "xaxis": {
            "backgroundcolor": "#E5ECF6",
            "gridcolor": "white",
            "gridwidth": 2,
            "linecolor": "white",
            "showbackground": true,
            "ticks": "",
            "zerolinecolor": "white"
           },
           "yaxis": {
            "backgroundcolor": "#E5ECF6",
            "gridcolor": "white",
            "gridwidth": 2,
            "linecolor": "white",
            "showbackground": true,
            "ticks": "",
            "zerolinecolor": "white"
           },
           "zaxis": {
            "backgroundcolor": "#E5ECF6",
            "gridcolor": "white",
            "gridwidth": 2,
            "linecolor": "white",
            "showbackground": true,
            "ticks": "",
            "zerolinecolor": "white"
           }
          },
          "shapedefaults": {
           "line": {
            "color": "#2a3f5f"
           }
          },
          "ternary": {
           "aaxis": {
            "gridcolor": "white",
            "linecolor": "white",
            "ticks": ""
           },
           "baxis": {
            "gridcolor": "white",
            "linecolor": "white",
            "ticks": ""
           },
           "bgcolor": "#E5ECF6",
           "caxis": {
            "gridcolor": "white",
            "linecolor": "white",
            "ticks": ""
           }
          },
          "title": {
           "x": 0.05
          },
          "xaxis": {
           "automargin": true,
           "gridcolor": "white",
           "linecolor": "white",
           "ticks": "",
           "title": {
            "standoff": 15
           },
           "zerolinecolor": "white",
           "zerolinewidth": 2
          },
          "yaxis": {
           "automargin": true,
           "gridcolor": "white",
           "linecolor": "white",
           "ticks": "",
           "title": {
            "standoff": 15
           },
           "zerolinecolor": "white",
           "zerolinewidth": 2
          }
         }
        },
        "title": {
         "text": "Borda n2v2r BONOBO YEAST KEGG prerank sVSg2 padj_cutoff 0.1"
        },
        "width": 800,
        "xaxis": {
         "anchor": "y",
         "domain": [
          0,
          1
         ],
         "title": {
          "text": "NES"
         }
        },
        "yaxis": {
         "anchor": "x",
         "domain": [
          0,
          1
         ],
         "title": {
          "text": "pathway"
         }
        }
       }
      }
     },
     "metadata": {},
     "output_type": "display_data"
    },
    {
     "data": {
      "application/vnd.plotly.v1+json": {
       "config": {
        "plotlyServerURL": "https://plot.ly"
       },
       "data": [
        {
         "hovertemplate": "NES=%{x}<br>pathway=%{y}<br>overlap=%{marker.size}<br>-log padj=%{marker.color}<extra></extra>",
         "legendgroup": "",
         "marker": {
          "color": [
           1.11,
           1.38,
           1.41,
           1.5,
           1.58,
           1.79,
           2.21
          ],
          "coloraxis": "coloraxis",
          "size": [
           44.77883720930232,
           39.71078947368422,
           10.077837837837839,
           8.818666666666669,
           7.85695652173913,
           7.548222222222224,
           5.845249999999998
          ],
          "sizemode": "area",
          "sizeref": 0.1119470930232558,
          "symbol": "circle"
         },
         "mode": "markers",
         "name": "",
         "orientation": "h",
         "showlegend": false,
         "type": "scatter",
         "x": [
          -1.9551758840100508,
          -2.0959188858290347,
          -1.9778519061627133,
          -1.3372727777996625,
          -2.027157667747576,
          -1.7717919834110907,
          -2.595714501012847
         ],
         "xaxis": "x",
         "y": [
          "Glycine, serine and threonine metabolism  sce00260",
          "DNA repair and recombination proteins  sce03400",
          "Base excision repair  sce03410",
          "Cell cycle - yeast  sce04111",
          "DNA replication proteins  sce03032",
          "DNA replication  sce03030",
          "Mismatch repair  sce03430"
         ],
         "yaxis": "y"
        }
       ],
       "layout": {
        "autosize": true,
        "coloraxis": {
         "colorbar": {
          "title": {
           "text": "-log padj"
          }
         },
         "colorscale": [
          [
           0,
           "rgb(247,252,253)"
          ],
          [
           0.125,
           "rgb(229,245,249)"
          ],
          [
           0.25,
           "rgb(204,236,230)"
          ],
          [
           0.375,
           "rgb(153,216,201)"
          ],
          [
           0.5,
           "rgb(102,194,164)"
          ],
          [
           0.625,
           "rgb(65,174,118)"
          ],
          [
           0.75,
           "rgb(35,139,69)"
          ],
          [
           0.875,
           "rgb(0,109,44)"
          ],
          [
           1,
           "rgb(0,68,27)"
          ]
         ]
        },
        "height": 800,
        "legend": {
         "itemsizing": "constant",
         "tracegroupgap": 0
        },
        "template": {
         "data": {
          "bar": [
           {
            "error_x": {
             "color": "#2a3f5f"
            },
            "error_y": {
             "color": "#2a3f5f"
            },
            "marker": {
             "line": {
              "color": "#E5ECF6",
              "width": 0.5
             },
             "pattern": {
              "fillmode": "overlay",
              "size": 10,
              "solidity": 0.2
             }
            },
            "type": "bar"
           }
          ],
          "barpolar": [
           {
            "marker": {
             "line": {
              "color": "#E5ECF6",
              "width": 0.5
             },
             "pattern": {
              "fillmode": "overlay",
              "size": 10,
              "solidity": 0.2
             }
            },
            "type": "barpolar"
           }
          ],
          "carpet": [
           {
            "aaxis": {
             "endlinecolor": "#2a3f5f",
             "gridcolor": "white",
             "linecolor": "white",
             "minorgridcolor": "white",
             "startlinecolor": "#2a3f5f"
            },
            "baxis": {
             "endlinecolor": "#2a3f5f",
             "gridcolor": "white",
             "linecolor": "white",
             "minorgridcolor": "white",
             "startlinecolor": "#2a3f5f"
            },
            "type": "carpet"
           }
          ],
          "choropleth": [
           {
            "colorbar": {
             "outlinewidth": 0,
             "ticks": ""
            },
            "type": "choropleth"
           }
          ],
          "contour": [
           {
            "colorbar": {
             "outlinewidth": 0,
             "ticks": ""
            },
            "colorscale": [
             [
              0,
              "#0d0887"
             ],
             [
              0.1111111111111111,
              "#46039f"
             ],
             [
              0.2222222222222222,
              "#7201a8"
             ],
             [
              0.3333333333333333,
              "#9c179e"
             ],
             [
              0.4444444444444444,
              "#bd3786"
             ],
             [
              0.5555555555555556,
              "#d8576b"
             ],
             [
              0.6666666666666666,
              "#ed7953"
             ],
             [
              0.7777777777777778,
              "#fb9f3a"
             ],
             [
              0.8888888888888888,
              "#fdca26"
             ],
             [
              1,
              "#f0f921"
             ]
            ],
            "type": "contour"
           }
          ],
          "contourcarpet": [
           {
            "colorbar": {
             "outlinewidth": 0,
             "ticks": ""
            },
            "type": "contourcarpet"
           }
          ],
          "heatmap": [
           {
            "colorbar": {
             "outlinewidth": 0,
             "ticks": ""
            },
            "colorscale": [
             [
              0,
              "#0d0887"
             ],
             [
              0.1111111111111111,
              "#46039f"
             ],
             [
              0.2222222222222222,
              "#7201a8"
             ],
             [
              0.3333333333333333,
              "#9c179e"
             ],
             [
              0.4444444444444444,
              "#bd3786"
             ],
             [
              0.5555555555555556,
              "#d8576b"
             ],
             [
              0.6666666666666666,
              "#ed7953"
             ],
             [
              0.7777777777777778,
              "#fb9f3a"
             ],
             [
              0.8888888888888888,
              "#fdca26"
             ],
             [
              1,
              "#f0f921"
             ]
            ],
            "type": "heatmap"
           }
          ],
          "heatmapgl": [
           {
            "colorbar": {
             "outlinewidth": 0,
             "ticks": ""
            },
            "colorscale": [
             [
              0,
              "#0d0887"
             ],
             [
              0.1111111111111111,
              "#46039f"
             ],
             [
              0.2222222222222222,
              "#7201a8"
             ],
             [
              0.3333333333333333,
              "#9c179e"
             ],
             [
              0.4444444444444444,
              "#bd3786"
             ],
             [
              0.5555555555555556,
              "#d8576b"
             ],
             [
              0.6666666666666666,
              "#ed7953"
             ],
             [
              0.7777777777777778,
              "#fb9f3a"
             ],
             [
              0.8888888888888888,
              "#fdca26"
             ],
             [
              1,
              "#f0f921"
             ]
            ],
            "type": "heatmapgl"
           }
          ],
          "histogram": [
           {
            "marker": {
             "pattern": {
              "fillmode": "overlay",
              "size": 10,
              "solidity": 0.2
             }
            },
            "type": "histogram"
           }
          ],
          "histogram2d": [
           {
            "colorbar": {
             "outlinewidth": 0,
             "ticks": ""
            },
            "colorscale": [
             [
              0,
              "#0d0887"
             ],
             [
              0.1111111111111111,
              "#46039f"
             ],
             [
              0.2222222222222222,
              "#7201a8"
             ],
             [
              0.3333333333333333,
              "#9c179e"
             ],
             [
              0.4444444444444444,
              "#bd3786"
             ],
             [
              0.5555555555555556,
              "#d8576b"
             ],
             [
              0.6666666666666666,
              "#ed7953"
             ],
             [
              0.7777777777777778,
              "#fb9f3a"
             ],
             [
              0.8888888888888888,
              "#fdca26"
             ],
             [
              1,
              "#f0f921"
             ]
            ],
            "type": "histogram2d"
           }
          ],
          "histogram2dcontour": [
           {
            "colorbar": {
             "outlinewidth": 0,
             "ticks": ""
            },
            "colorscale": [
             [
              0,
              "#0d0887"
             ],
             [
              0.1111111111111111,
              "#46039f"
             ],
             [
              0.2222222222222222,
              "#7201a8"
             ],
             [
              0.3333333333333333,
              "#9c179e"
             ],
             [
              0.4444444444444444,
              "#bd3786"
             ],
             [
              0.5555555555555556,
              "#d8576b"
             ],
             [
              0.6666666666666666,
              "#ed7953"
             ],
             [
              0.7777777777777778,
              "#fb9f3a"
             ],
             [
              0.8888888888888888,
              "#fdca26"
             ],
             [
              1,
              "#f0f921"
             ]
            ],
            "type": "histogram2dcontour"
           }
          ],
          "mesh3d": [
           {
            "colorbar": {
             "outlinewidth": 0,
             "ticks": ""
            },
            "type": "mesh3d"
           }
          ],
          "parcoords": [
           {
            "line": {
             "colorbar": {
              "outlinewidth": 0,
              "ticks": ""
             }
            },
            "type": "parcoords"
           }
          ],
          "pie": [
           {
            "automargin": true,
            "type": "pie"
           }
          ],
          "scatter": [
           {
            "fillpattern": {
             "fillmode": "overlay",
             "size": 10,
             "solidity": 0.2
            },
            "type": "scatter"
           }
          ],
          "scatter3d": [
           {
            "line": {
             "colorbar": {
              "outlinewidth": 0,
              "ticks": ""
             }
            },
            "marker": {
             "colorbar": {
              "outlinewidth": 0,
              "ticks": ""
             }
            },
            "type": "scatter3d"
           }
          ],
          "scattercarpet": [
           {
            "marker": {
             "colorbar": {
              "outlinewidth": 0,
              "ticks": ""
             }
            },
            "type": "scattercarpet"
           }
          ],
          "scattergeo": [
           {
            "marker": {
             "colorbar": {
              "outlinewidth": 0,
              "ticks": ""
             }
            },
            "type": "scattergeo"
           }
          ],
          "scattergl": [
           {
            "marker": {
             "colorbar": {
              "outlinewidth": 0,
              "ticks": ""
             }
            },
            "type": "scattergl"
           }
          ],
          "scattermapbox": [
           {
            "marker": {
             "colorbar": {
              "outlinewidth": 0,
              "ticks": ""
             }
            },
            "type": "scattermapbox"
           }
          ],
          "scatterpolar": [
           {
            "marker": {
             "colorbar": {
              "outlinewidth": 0,
              "ticks": ""
             }
            },
            "type": "scatterpolar"
           }
          ],
          "scatterpolargl": [
           {
            "marker": {
             "colorbar": {
              "outlinewidth": 0,
              "ticks": ""
             }
            },
            "type": "scatterpolargl"
           }
          ],
          "scatterternary": [
           {
            "marker": {
             "colorbar": {
              "outlinewidth": 0,
              "ticks": ""
             }
            },
            "type": "scatterternary"
           }
          ],
          "surface": [
           {
            "colorbar": {
             "outlinewidth": 0,
             "ticks": ""
            },
            "colorscale": [
             [
              0,
              "#0d0887"
             ],
             [
              0.1111111111111111,
              "#46039f"
             ],
             [
              0.2222222222222222,
              "#7201a8"
             ],
             [
              0.3333333333333333,
              "#9c179e"
             ],
             [
              0.4444444444444444,
              "#bd3786"
             ],
             [
              0.5555555555555556,
              "#d8576b"
             ],
             [
              0.6666666666666666,
              "#ed7953"
             ],
             [
              0.7777777777777778,
              "#fb9f3a"
             ],
             [
              0.8888888888888888,
              "#fdca26"
             ],
             [
              1,
              "#f0f921"
             ]
            ],
            "type": "surface"
           }
          ],
          "table": [
           {
            "cells": {
             "fill": {
              "color": "#EBF0F8"
             },
             "line": {
              "color": "white"
             }
            },
            "header": {
             "fill": {
              "color": "#C8D4E3"
             },
             "line": {
              "color": "white"
             }
            },
            "type": "table"
           }
          ]
         },
         "layout": {
          "annotationdefaults": {
           "arrowcolor": "#2a3f5f",
           "arrowhead": 0,
           "arrowwidth": 1
          },
          "autotypenumbers": "strict",
          "coloraxis": {
           "colorbar": {
            "outlinewidth": 0,
            "ticks": ""
           }
          },
          "colorscale": {
           "diverging": [
            [
             0,
             "#8e0152"
            ],
            [
             0.1,
             "#c51b7d"
            ],
            [
             0.2,
             "#de77ae"
            ],
            [
             0.3,
             "#f1b6da"
            ],
            [
             0.4,
             "#fde0ef"
            ],
            [
             0.5,
             "#f7f7f7"
            ],
            [
             0.6,
             "#e6f5d0"
            ],
            [
             0.7,
             "#b8e186"
            ],
            [
             0.8,
             "#7fbc41"
            ],
            [
             0.9,
             "#4d9221"
            ],
            [
             1,
             "#276419"
            ]
           ],
           "sequential": [
            [
             0,
             "#0d0887"
            ],
            [
             0.1111111111111111,
             "#46039f"
            ],
            [
             0.2222222222222222,
             "#7201a8"
            ],
            [
             0.3333333333333333,
             "#9c179e"
            ],
            [
             0.4444444444444444,
             "#bd3786"
            ],
            [
             0.5555555555555556,
             "#d8576b"
            ],
            [
             0.6666666666666666,
             "#ed7953"
            ],
            [
             0.7777777777777778,
             "#fb9f3a"
            ],
            [
             0.8888888888888888,
             "#fdca26"
            ],
            [
             1,
             "#f0f921"
            ]
           ],
           "sequentialminus": [
            [
             0,
             "#0d0887"
            ],
            [
             0.1111111111111111,
             "#46039f"
            ],
            [
             0.2222222222222222,
             "#7201a8"
            ],
            [
             0.3333333333333333,
             "#9c179e"
            ],
            [
             0.4444444444444444,
             "#bd3786"
            ],
            [
             0.5555555555555556,
             "#d8576b"
            ],
            [
             0.6666666666666666,
             "#ed7953"
            ],
            [
             0.7777777777777778,
             "#fb9f3a"
            ],
            [
             0.8888888888888888,
             "#fdca26"
            ],
            [
             1,
             "#f0f921"
            ]
           ]
          },
          "colorway": [
           "#636efa",
           "#EF553B",
           "#00cc96",
           "#ab63fa",
           "#FFA15A",
           "#19d3f3",
           "#FF6692",
           "#B6E880",
           "#FF97FF",
           "#FECB52"
          ],
          "font": {
           "color": "#2a3f5f"
          },
          "geo": {
           "bgcolor": "white",
           "lakecolor": "white",
           "landcolor": "#E5ECF6",
           "showlakes": true,
           "showland": true,
           "subunitcolor": "white"
          },
          "hoverlabel": {
           "align": "left"
          },
          "hovermode": "closest",
          "mapbox": {
           "style": "light"
          },
          "paper_bgcolor": "white",
          "plot_bgcolor": "#E5ECF6",
          "polar": {
           "angularaxis": {
            "gridcolor": "white",
            "linecolor": "white",
            "ticks": ""
           },
           "bgcolor": "#E5ECF6",
           "radialaxis": {
            "gridcolor": "white",
            "linecolor": "white",
            "ticks": ""
           }
          },
          "scene": {
           "xaxis": {
            "backgroundcolor": "#E5ECF6",
            "gridcolor": "white",
            "gridwidth": 2,
            "linecolor": "white",
            "showbackground": true,
            "ticks": "",
            "zerolinecolor": "white"
           },
           "yaxis": {
            "backgroundcolor": "#E5ECF6",
            "gridcolor": "white",
            "gridwidth": 2,
            "linecolor": "white",
            "showbackground": true,
            "ticks": "",
            "zerolinecolor": "white"
           },
           "zaxis": {
            "backgroundcolor": "#E5ECF6",
            "gridcolor": "white",
            "gridwidth": 2,
            "linecolor": "white",
            "showbackground": true,
            "ticks": "",
            "zerolinecolor": "white"
           }
          },
          "shapedefaults": {
           "line": {
            "color": "#2a3f5f"
           }
          },
          "ternary": {
           "aaxis": {
            "gridcolor": "white",
            "linecolor": "white",
            "ticks": ""
           },
           "baxis": {
            "gridcolor": "white",
            "linecolor": "white",
            "ticks": ""
           },
           "bgcolor": "#E5ECF6",
           "caxis": {
            "gridcolor": "white",
            "linecolor": "white",
            "ticks": ""
           }
          },
          "title": {
           "x": 0.05
          },
          "xaxis": {
           "automargin": true,
           "gridcolor": "white",
           "linecolor": "white",
           "ticks": "",
           "title": {
            "standoff": 15
           },
           "zerolinecolor": "white",
           "zerolinewidth": 2
          },
          "yaxis": {
           "automargin": true,
           "gridcolor": "white",
           "linecolor": "white",
           "ticks": "",
           "title": {
            "standoff": 15
           },
           "zerolinecolor": "white",
           "zerolinewidth": 2
          }
         }
        },
        "title": {
         "text": "signed Borda n2v2r BONOBO YEAST KEGG prerank sVSg2 padj_cutoff 0.1"
        },
        "width": 800,
        "xaxis": {
         "anchor": "y",
         "domain": [
          0,
          1
         ],
         "range": [
          -3.2,
          3.2
         ],
         "title": {
          "text": "NES"
         }
        },
        "yaxis": {
         "anchor": "x",
         "domain": [
          0,
          1
         ],
         "title": {
          "text": "pathway"
         }
        }
       }
      }
     },
     "metadata": {},
     "output_type": "display_data"
    },
    {
     "data": {
      "application/vnd.plotly.v1+json": {
       "config": {
        "plotlyServerURL": "https://plot.ly"
       },
       "data": [
        {
         "hovertemplate": "NES=%{x}<br>pathway=%{y}<br>overlap=%{marker.size}<br>-log padj=%{marker.color}<extra></extra>",
         "legendgroup": "",
         "marker": {
          "color": [
           1.03,
           1.27,
           1.37,
           2.56,
           3.05,
           3.25,
           3.43,
           15.65,
           15.65
          ],
          "coloraxis": "coloraxis",
          "size": [
           20.75,
           30.36,
           22.25,
           20.7,
           23.82,
           29.6,
           20.25,
           19.46,
           18.3
          ],
          "sizemode": "area",
          "sizeref": 0.0759,
          "symbol": "circle"
         },
         "mode": "markers",
         "name": "",
         "orientation": "h",
         "showlegend": false,
         "type": "scatter",
         "x": [
          1.8547792183647784,
          1.9699080547474404,
          2.036827826956764,
          2.4047068257085575,
          2.649006999662597,
          2.811286202244611,
          2.834296816266174,
          3.884757711763127,
          3.2987849138268337
         ],
         "xaxis": "x",
         "y": [
          "Chromosome and associated proteins  sce03036",
          "Amino sugar and nucleotide sugar metabolism  sce00",
          "Starch and sucrose metabolism  sce00500",
          "Glycosyltransferases  sce01003",
          "Mismatch repair  sce03430",
          "MAPK signaling pathway - yeast  sce04011",
          "Cell cycle - yeast  sce04111",
          "DNA replication proteins  sce03032",
          "DNA replication  sce03030"
         ],
         "yaxis": "y"
        }
       ],
       "layout": {
        "autosize": true,
        "coloraxis": {
         "colorbar": {
          "title": {
           "text": "-log padj"
          }
         },
         "colorscale": [
          [
           0,
           "rgb(247,252,253)"
          ],
          [
           0.125,
           "rgb(229,245,249)"
          ],
          [
           0.25,
           "rgb(204,236,230)"
          ],
          [
           0.375,
           "rgb(153,216,201)"
          ],
          [
           0.5,
           "rgb(102,194,164)"
          ],
          [
           0.625,
           "rgb(65,174,118)"
          ],
          [
           0.75,
           "rgb(35,139,69)"
          ],
          [
           0.875,
           "rgb(0,109,44)"
          ],
          [
           1,
           "rgb(0,68,27)"
          ]
         ]
        },
        "height": 800,
        "legend": {
         "itemsizing": "constant",
         "tracegroupgap": 0
        },
        "template": {
         "data": {
          "bar": [
           {
            "error_x": {
             "color": "#2a3f5f"
            },
            "error_y": {
             "color": "#2a3f5f"
            },
            "marker": {
             "line": {
              "color": "#E5ECF6",
              "width": 0.5
             },
             "pattern": {
              "fillmode": "overlay",
              "size": 10,
              "solidity": 0.2
             }
            },
            "type": "bar"
           }
          ],
          "barpolar": [
           {
            "marker": {
             "line": {
              "color": "#E5ECF6",
              "width": 0.5
             },
             "pattern": {
              "fillmode": "overlay",
              "size": 10,
              "solidity": 0.2
             }
            },
            "type": "barpolar"
           }
          ],
          "carpet": [
           {
            "aaxis": {
             "endlinecolor": "#2a3f5f",
             "gridcolor": "white",
             "linecolor": "white",
             "minorgridcolor": "white",
             "startlinecolor": "#2a3f5f"
            },
            "baxis": {
             "endlinecolor": "#2a3f5f",
             "gridcolor": "white",
             "linecolor": "white",
             "minorgridcolor": "white",
             "startlinecolor": "#2a3f5f"
            },
            "type": "carpet"
           }
          ],
          "choropleth": [
           {
            "colorbar": {
             "outlinewidth": 0,
             "ticks": ""
            },
            "type": "choropleth"
           }
          ],
          "contour": [
           {
            "colorbar": {
             "outlinewidth": 0,
             "ticks": ""
            },
            "colorscale": [
             [
              0,
              "#0d0887"
             ],
             [
              0.1111111111111111,
              "#46039f"
             ],
             [
              0.2222222222222222,
              "#7201a8"
             ],
             [
              0.3333333333333333,
              "#9c179e"
             ],
             [
              0.4444444444444444,
              "#bd3786"
             ],
             [
              0.5555555555555556,
              "#d8576b"
             ],
             [
              0.6666666666666666,
              "#ed7953"
             ],
             [
              0.7777777777777778,
              "#fb9f3a"
             ],
             [
              0.8888888888888888,
              "#fdca26"
             ],
             [
              1,
              "#f0f921"
             ]
            ],
            "type": "contour"
           }
          ],
          "contourcarpet": [
           {
            "colorbar": {
             "outlinewidth": 0,
             "ticks": ""
            },
            "type": "contourcarpet"
           }
          ],
          "heatmap": [
           {
            "colorbar": {
             "outlinewidth": 0,
             "ticks": ""
            },
            "colorscale": [
             [
              0,
              "#0d0887"
             ],
             [
              0.1111111111111111,
              "#46039f"
             ],
             [
              0.2222222222222222,
              "#7201a8"
             ],
             [
              0.3333333333333333,
              "#9c179e"
             ],
             [
              0.4444444444444444,
              "#bd3786"
             ],
             [
              0.5555555555555556,
              "#d8576b"
             ],
             [
              0.6666666666666666,
              "#ed7953"
             ],
             [
              0.7777777777777778,
              "#fb9f3a"
             ],
             [
              0.8888888888888888,
              "#fdca26"
             ],
             [
              1,
              "#f0f921"
             ]
            ],
            "type": "heatmap"
           }
          ],
          "heatmapgl": [
           {
            "colorbar": {
             "outlinewidth": 0,
             "ticks": ""
            },
            "colorscale": [
             [
              0,
              "#0d0887"
             ],
             [
              0.1111111111111111,
              "#46039f"
             ],
             [
              0.2222222222222222,
              "#7201a8"
             ],
             [
              0.3333333333333333,
              "#9c179e"
             ],
             [
              0.4444444444444444,
              "#bd3786"
             ],
             [
              0.5555555555555556,
              "#d8576b"
             ],
             [
              0.6666666666666666,
              "#ed7953"
             ],
             [
              0.7777777777777778,
              "#fb9f3a"
             ],
             [
              0.8888888888888888,
              "#fdca26"
             ],
             [
              1,
              "#f0f921"
             ]
            ],
            "type": "heatmapgl"
           }
          ],
          "histogram": [
           {
            "marker": {
             "pattern": {
              "fillmode": "overlay",
              "size": 10,
              "solidity": 0.2
             }
            },
            "type": "histogram"
           }
          ],
          "histogram2d": [
           {
            "colorbar": {
             "outlinewidth": 0,
             "ticks": ""
            },
            "colorscale": [
             [
              0,
              "#0d0887"
             ],
             [
              0.1111111111111111,
              "#46039f"
             ],
             [
              0.2222222222222222,
              "#7201a8"
             ],
             [
              0.3333333333333333,
              "#9c179e"
             ],
             [
              0.4444444444444444,
              "#bd3786"
             ],
             [
              0.5555555555555556,
              "#d8576b"
             ],
             [
              0.6666666666666666,
              "#ed7953"
             ],
             [
              0.7777777777777778,
              "#fb9f3a"
             ],
             [
              0.8888888888888888,
              "#fdca26"
             ],
             [
              1,
              "#f0f921"
             ]
            ],
            "type": "histogram2d"
           }
          ],
          "histogram2dcontour": [
           {
            "colorbar": {
             "outlinewidth": 0,
             "ticks": ""
            },
            "colorscale": [
             [
              0,
              "#0d0887"
             ],
             [
              0.1111111111111111,
              "#46039f"
             ],
             [
              0.2222222222222222,
              "#7201a8"
             ],
             [
              0.3333333333333333,
              "#9c179e"
             ],
             [
              0.4444444444444444,
              "#bd3786"
             ],
             [
              0.5555555555555556,
              "#d8576b"
             ],
             [
              0.6666666666666666,
              "#ed7953"
             ],
             [
              0.7777777777777778,
              "#fb9f3a"
             ],
             [
              0.8888888888888888,
              "#fdca26"
             ],
             [
              1,
              "#f0f921"
             ]
            ],
            "type": "histogram2dcontour"
           }
          ],
          "mesh3d": [
           {
            "colorbar": {
             "outlinewidth": 0,
             "ticks": ""
            },
            "type": "mesh3d"
           }
          ],
          "parcoords": [
           {
            "line": {
             "colorbar": {
              "outlinewidth": 0,
              "ticks": ""
             }
            },
            "type": "parcoords"
           }
          ],
          "pie": [
           {
            "automargin": true,
            "type": "pie"
           }
          ],
          "scatter": [
           {
            "fillpattern": {
             "fillmode": "overlay",
             "size": 10,
             "solidity": 0.2
            },
            "type": "scatter"
           }
          ],
          "scatter3d": [
           {
            "line": {
             "colorbar": {
              "outlinewidth": 0,
              "ticks": ""
             }
            },
            "marker": {
             "colorbar": {
              "outlinewidth": 0,
              "ticks": ""
             }
            },
            "type": "scatter3d"
           }
          ],
          "scattercarpet": [
           {
            "marker": {
             "colorbar": {
              "outlinewidth": 0,
              "ticks": ""
             }
            },
            "type": "scattercarpet"
           }
          ],
          "scattergeo": [
           {
            "marker": {
             "colorbar": {
              "outlinewidth": 0,
              "ticks": ""
             }
            },
            "type": "scattergeo"
           }
          ],
          "scattergl": [
           {
            "marker": {
             "colorbar": {
              "outlinewidth": 0,
              "ticks": ""
             }
            },
            "type": "scattergl"
           }
          ],
          "scattermapbox": [
           {
            "marker": {
             "colorbar": {
              "outlinewidth": 0,
              "ticks": ""
             }
            },
            "type": "scattermapbox"
           }
          ],
          "scatterpolar": [
           {
            "marker": {
             "colorbar": {
              "outlinewidth": 0,
              "ticks": ""
             }
            },
            "type": "scatterpolar"
           }
          ],
          "scatterpolargl": [
           {
            "marker": {
             "colorbar": {
              "outlinewidth": 0,
              "ticks": ""
             }
            },
            "type": "scatterpolargl"
           }
          ],
          "scatterternary": [
           {
            "marker": {
             "colorbar": {
              "outlinewidth": 0,
              "ticks": ""
             }
            },
            "type": "scatterternary"
           }
          ],
          "surface": [
           {
            "colorbar": {
             "outlinewidth": 0,
             "ticks": ""
            },
            "colorscale": [
             [
              0,
              "#0d0887"
             ],
             [
              0.1111111111111111,
              "#46039f"
             ],
             [
              0.2222222222222222,
              "#7201a8"
             ],
             [
              0.3333333333333333,
              "#9c179e"
             ],
             [
              0.4444444444444444,
              "#bd3786"
             ],
             [
              0.5555555555555556,
              "#d8576b"
             ],
             [
              0.6666666666666666,
              "#ed7953"
             ],
             [
              0.7777777777777778,
              "#fb9f3a"
             ],
             [
              0.8888888888888888,
              "#fdca26"
             ],
             [
              1,
              "#f0f921"
             ]
            ],
            "type": "surface"
           }
          ],
          "table": [
           {
            "cells": {
             "fill": {
              "color": "#EBF0F8"
             },
             "line": {
              "color": "white"
             }
            },
            "header": {
             "fill": {
              "color": "#C8D4E3"
             },
             "line": {
              "color": "white"
             }
            },
            "type": "table"
           }
          ]
         },
         "layout": {
          "annotationdefaults": {
           "arrowcolor": "#2a3f5f",
           "arrowhead": 0,
           "arrowwidth": 1
          },
          "autotypenumbers": "strict",
          "coloraxis": {
           "colorbar": {
            "outlinewidth": 0,
            "ticks": ""
           }
          },
          "colorscale": {
           "diverging": [
            [
             0,
             "#8e0152"
            ],
            [
             0.1,
             "#c51b7d"
            ],
            [
             0.2,
             "#de77ae"
            ],
            [
             0.3,
             "#f1b6da"
            ],
            [
             0.4,
             "#fde0ef"
            ],
            [
             0.5,
             "#f7f7f7"
            ],
            [
             0.6,
             "#e6f5d0"
            ],
            [
             0.7,
             "#b8e186"
            ],
            [
             0.8,
             "#7fbc41"
            ],
            [
             0.9,
             "#4d9221"
            ],
            [
             1,
             "#276419"
            ]
           ],
           "sequential": [
            [
             0,
             "#0d0887"
            ],
            [
             0.1111111111111111,
             "#46039f"
            ],
            [
             0.2222222222222222,
             "#7201a8"
            ],
            [
             0.3333333333333333,
             "#9c179e"
            ],
            [
             0.4444444444444444,
             "#bd3786"
            ],
            [
             0.5555555555555556,
             "#d8576b"
            ],
            [
             0.6666666666666666,
             "#ed7953"
            ],
            [
             0.7777777777777778,
             "#fb9f3a"
            ],
            [
             0.8888888888888888,
             "#fdca26"
            ],
            [
             1,
             "#f0f921"
            ]
           ],
           "sequentialminus": [
            [
             0,
             "#0d0887"
            ],
            [
             0.1111111111111111,
             "#46039f"
            ],
            [
             0.2222222222222222,
             "#7201a8"
            ],
            [
             0.3333333333333333,
             "#9c179e"
            ],
            [
             0.4444444444444444,
             "#bd3786"
            ],
            [
             0.5555555555555556,
             "#d8576b"
            ],
            [
             0.6666666666666666,
             "#ed7953"
            ],
            [
             0.7777777777777778,
             "#fb9f3a"
            ],
            [
             0.8888888888888888,
             "#fdca26"
            ],
            [
             1,
             "#f0f921"
            ]
           ]
          },
          "colorway": [
           "#636efa",
           "#EF553B",
           "#00cc96",
           "#ab63fa",
           "#FFA15A",
           "#19d3f3",
           "#FF6692",
           "#B6E880",
           "#FF97FF",
           "#FECB52"
          ],
          "font": {
           "color": "#2a3f5f"
          },
          "geo": {
           "bgcolor": "white",
           "lakecolor": "white",
           "landcolor": "#E5ECF6",
           "showlakes": true,
           "showland": true,
           "subunitcolor": "white"
          },
          "hoverlabel": {
           "align": "left"
          },
          "hovermode": "closest",
          "mapbox": {
           "style": "light"
          },
          "paper_bgcolor": "white",
          "plot_bgcolor": "#E5ECF6",
          "polar": {
           "angularaxis": {
            "gridcolor": "white",
            "linecolor": "white",
            "ticks": ""
           },
           "bgcolor": "#E5ECF6",
           "radialaxis": {
            "gridcolor": "white",
            "linecolor": "white",
            "ticks": ""
           }
          },
          "scene": {
           "xaxis": {
            "backgroundcolor": "#E5ECF6",
            "gridcolor": "white",
            "gridwidth": 2,
            "linecolor": "white",
            "showbackground": true,
            "ticks": "",
            "zerolinecolor": "white"
           },
           "yaxis": {
            "backgroundcolor": "#E5ECF6",
            "gridcolor": "white",
            "gridwidth": 2,
            "linecolor": "white",
            "showbackground": true,
            "ticks": "",
            "zerolinecolor": "white"
           },
           "zaxis": {
            "backgroundcolor": "#E5ECF6",
            "gridcolor": "white",
            "gridwidth": 2,
            "linecolor": "white",
            "showbackground": true,
            "ticks": "",
            "zerolinecolor": "white"
           }
          },
          "shapedefaults": {
           "line": {
            "color": "#2a3f5f"
           }
          },
          "ternary": {
           "aaxis": {
            "gridcolor": "white",
            "linecolor": "white",
            "ticks": ""
           },
           "baxis": {
            "gridcolor": "white",
            "linecolor": "white",
            "ticks": ""
           },
           "bgcolor": "#E5ECF6",
           "caxis": {
            "gridcolor": "white",
            "linecolor": "white",
            "ticks": ""
           }
          },
          "title": {
           "x": 0.05
          },
          "xaxis": {
           "automargin": true,
           "gridcolor": "white",
           "linecolor": "white",
           "ticks": "",
           "title": {
            "standoff": 15
           },
           "zerolinecolor": "white",
           "zerolinewidth": 2
          },
          "yaxis": {
           "automargin": true,
           "gridcolor": "white",
           "linecolor": "white",
           "ticks": "",
           "title": {
            "standoff": 15
           },
           "zerolinecolor": "white",
           "zerolinewidth": 2
          }
         }
        },
        "title": {
         "text": "absDeDi BONOBO YEAST KEGG prerank sVSg2 padj_cutoff 0.1"
        },
        "width": 800,
        "xaxis": {
         "anchor": "y",
         "domain": [
          0,
          1
         ],
         "title": {
          "text": "NES"
         }
        },
        "yaxis": {
         "anchor": "x",
         "domain": [
          0,
          1
         ],
         "title": {
          "text": "pathway"
         }
        }
       }
      }
     },
     "metadata": {},
     "output_type": "display_data"
    },
    {
     "data": {
      "application/vnd.plotly.v1+json": {
       "config": {
        "plotlyServerURL": "https://plot.ly"
       },
       "data": [
        {
         "hovertemplate": "NES=%{x}<br>pathway=%{y}<br>overlap=%{marker.size}<br>-log padj=%{marker.color}<extra></extra>",
         "legendgroup": "",
         "marker": {
          "color": [
           1.35,
           1.47,
           1.54,
           1.55,
           1.58,
           2.96,
           15.65,
           15.65
          ],
          "coloraxis": "coloraxis",
          "size": [
           58.29,
           46.1,
           13.63,
           58.72,
           7.72,
           8.17,
           12.95,
           10.34
          ],
          "sizemode": "area",
          "sizeref": 0.14679999999999999,
          "symbol": "circle"
         },
         "mode": "markers",
         "name": "",
         "orientation": "h",
         "showlegend": false,
         "type": "scatter",
         "x": [
          2.311695249695409,
          -2.098272759318007,
          -2.0507126115068437,
          -2.0882814888896917,
          -2.037415609640955,
          -2.6582870581470828,
          -3.249249971049906,
          -2.9339033432188546
         ],
         "xaxis": "x",
         "y": [
          "Transcription machinery  sce03021",
          "Glycine, serine and threonine metabolism  sce00260",
          "Cell cycle - yeast  sce04111",
          "DNA repair and recombination proteins  sce03400",
          "Base excision repair  sce03410",
          "Mismatch repair  sce03430",
          "DNA replication proteins  sce03032",
          "DNA replication  sce03030"
         ],
         "yaxis": "y"
        }
       ],
       "layout": {
        "autosize": true,
        "coloraxis": {
         "colorbar": {
          "title": {
           "text": "-log padj"
          }
         },
         "colorscale": [
          [
           0,
           "rgb(247,252,253)"
          ],
          [
           0.125,
           "rgb(229,245,249)"
          ],
          [
           0.25,
           "rgb(204,236,230)"
          ],
          [
           0.375,
           "rgb(153,216,201)"
          ],
          [
           0.5,
           "rgb(102,194,164)"
          ],
          [
           0.625,
           "rgb(65,174,118)"
          ],
          [
           0.75,
           "rgb(35,139,69)"
          ],
          [
           0.875,
           "rgb(0,109,44)"
          ],
          [
           1,
           "rgb(0,68,27)"
          ]
         ]
        },
        "height": 800,
        "legend": {
         "itemsizing": "constant",
         "tracegroupgap": 0
        },
        "template": {
         "data": {
          "bar": [
           {
            "error_x": {
             "color": "#2a3f5f"
            },
            "error_y": {
             "color": "#2a3f5f"
            },
            "marker": {
             "line": {
              "color": "#E5ECF6",
              "width": 0.5
             },
             "pattern": {
              "fillmode": "overlay",
              "size": 10,
              "solidity": 0.2
             }
            },
            "type": "bar"
           }
          ],
          "barpolar": [
           {
            "marker": {
             "line": {
              "color": "#E5ECF6",
              "width": 0.5
             },
             "pattern": {
              "fillmode": "overlay",
              "size": 10,
              "solidity": 0.2
             }
            },
            "type": "barpolar"
           }
          ],
          "carpet": [
           {
            "aaxis": {
             "endlinecolor": "#2a3f5f",
             "gridcolor": "white",
             "linecolor": "white",
             "minorgridcolor": "white",
             "startlinecolor": "#2a3f5f"
            },
            "baxis": {
             "endlinecolor": "#2a3f5f",
             "gridcolor": "white",
             "linecolor": "white",
             "minorgridcolor": "white",
             "startlinecolor": "#2a3f5f"
            },
            "type": "carpet"
           }
          ],
          "choropleth": [
           {
            "colorbar": {
             "outlinewidth": 0,
             "ticks": ""
            },
            "type": "choropleth"
           }
          ],
          "contour": [
           {
            "colorbar": {
             "outlinewidth": 0,
             "ticks": ""
            },
            "colorscale": [
             [
              0,
              "#0d0887"
             ],
             [
              0.1111111111111111,
              "#46039f"
             ],
             [
              0.2222222222222222,
              "#7201a8"
             ],
             [
              0.3333333333333333,
              "#9c179e"
             ],
             [
              0.4444444444444444,
              "#bd3786"
             ],
             [
              0.5555555555555556,
              "#d8576b"
             ],
             [
              0.6666666666666666,
              "#ed7953"
             ],
             [
              0.7777777777777778,
              "#fb9f3a"
             ],
             [
              0.8888888888888888,
              "#fdca26"
             ],
             [
              1,
              "#f0f921"
             ]
            ],
            "type": "contour"
           }
          ],
          "contourcarpet": [
           {
            "colorbar": {
             "outlinewidth": 0,
             "ticks": ""
            },
            "type": "contourcarpet"
           }
          ],
          "heatmap": [
           {
            "colorbar": {
             "outlinewidth": 0,
             "ticks": ""
            },
            "colorscale": [
             [
              0,
              "#0d0887"
             ],
             [
              0.1111111111111111,
              "#46039f"
             ],
             [
              0.2222222222222222,
              "#7201a8"
             ],
             [
              0.3333333333333333,
              "#9c179e"
             ],
             [
              0.4444444444444444,
              "#bd3786"
             ],
             [
              0.5555555555555556,
              "#d8576b"
             ],
             [
              0.6666666666666666,
              "#ed7953"
             ],
             [
              0.7777777777777778,
              "#fb9f3a"
             ],
             [
              0.8888888888888888,
              "#fdca26"
             ],
             [
              1,
              "#f0f921"
             ]
            ],
            "type": "heatmap"
           }
          ],
          "heatmapgl": [
           {
            "colorbar": {
             "outlinewidth": 0,
             "ticks": ""
            },
            "colorscale": [
             [
              0,
              "#0d0887"
             ],
             [
              0.1111111111111111,
              "#46039f"
             ],
             [
              0.2222222222222222,
              "#7201a8"
             ],
             [
              0.3333333333333333,
              "#9c179e"
             ],
             [
              0.4444444444444444,
              "#bd3786"
             ],
             [
              0.5555555555555556,
              "#d8576b"
             ],
             [
              0.6666666666666666,
              "#ed7953"
             ],
             [
              0.7777777777777778,
              "#fb9f3a"
             ],
             [
              0.8888888888888888,
              "#fdca26"
             ],
             [
              1,
              "#f0f921"
             ]
            ],
            "type": "heatmapgl"
           }
          ],
          "histogram": [
           {
            "marker": {
             "pattern": {
              "fillmode": "overlay",
              "size": 10,
              "solidity": 0.2
             }
            },
            "type": "histogram"
           }
          ],
          "histogram2d": [
           {
            "colorbar": {
             "outlinewidth": 0,
             "ticks": ""
            },
            "colorscale": [
             [
              0,
              "#0d0887"
             ],
             [
              0.1111111111111111,
              "#46039f"
             ],
             [
              0.2222222222222222,
              "#7201a8"
             ],
             [
              0.3333333333333333,
              "#9c179e"
             ],
             [
              0.4444444444444444,
              "#bd3786"
             ],
             [
              0.5555555555555556,
              "#d8576b"
             ],
             [
              0.6666666666666666,
              "#ed7953"
             ],
             [
              0.7777777777777778,
              "#fb9f3a"
             ],
             [
              0.8888888888888888,
              "#fdca26"
             ],
             [
              1,
              "#f0f921"
             ]
            ],
            "type": "histogram2d"
           }
          ],
          "histogram2dcontour": [
           {
            "colorbar": {
             "outlinewidth": 0,
             "ticks": ""
            },
            "colorscale": [
             [
              0,
              "#0d0887"
             ],
             [
              0.1111111111111111,
              "#46039f"
             ],
             [
              0.2222222222222222,
              "#7201a8"
             ],
             [
              0.3333333333333333,
              "#9c179e"
             ],
             [
              0.4444444444444444,
              "#bd3786"
             ],
             [
              0.5555555555555556,
              "#d8576b"
             ],
             [
              0.6666666666666666,
              "#ed7953"
             ],
             [
              0.7777777777777778,
              "#fb9f3a"
             ],
             [
              0.8888888888888888,
              "#fdca26"
             ],
             [
              1,
              "#f0f921"
             ]
            ],
            "type": "histogram2dcontour"
           }
          ],
          "mesh3d": [
           {
            "colorbar": {
             "outlinewidth": 0,
             "ticks": ""
            },
            "type": "mesh3d"
           }
          ],
          "parcoords": [
           {
            "line": {
             "colorbar": {
              "outlinewidth": 0,
              "ticks": ""
             }
            },
            "type": "parcoords"
           }
          ],
          "pie": [
           {
            "automargin": true,
            "type": "pie"
           }
          ],
          "scatter": [
           {
            "fillpattern": {
             "fillmode": "overlay",
             "size": 10,
             "solidity": 0.2
            },
            "type": "scatter"
           }
          ],
          "scatter3d": [
           {
            "line": {
             "colorbar": {
              "outlinewidth": 0,
              "ticks": ""
             }
            },
            "marker": {
             "colorbar": {
              "outlinewidth": 0,
              "ticks": ""
             }
            },
            "type": "scatter3d"
           }
          ],
          "scattercarpet": [
           {
            "marker": {
             "colorbar": {
              "outlinewidth": 0,
              "ticks": ""
             }
            },
            "type": "scattercarpet"
           }
          ],
          "scattergeo": [
           {
            "marker": {
             "colorbar": {
              "outlinewidth": 0,
              "ticks": ""
             }
            },
            "type": "scattergeo"
           }
          ],
          "scattergl": [
           {
            "marker": {
             "colorbar": {
              "outlinewidth": 0,
              "ticks": ""
             }
            },
            "type": "scattergl"
           }
          ],
          "scattermapbox": [
           {
            "marker": {
             "colorbar": {
              "outlinewidth": 0,
              "ticks": ""
             }
            },
            "type": "scattermapbox"
           }
          ],
          "scatterpolar": [
           {
            "marker": {
             "colorbar": {
              "outlinewidth": 0,
              "ticks": ""
             }
            },
            "type": "scatterpolar"
           }
          ],
          "scatterpolargl": [
           {
            "marker": {
             "colorbar": {
              "outlinewidth": 0,
              "ticks": ""
             }
            },
            "type": "scatterpolargl"
           }
          ],
          "scatterternary": [
           {
            "marker": {
             "colorbar": {
              "outlinewidth": 0,
              "ticks": ""
             }
            },
            "type": "scatterternary"
           }
          ],
          "surface": [
           {
            "colorbar": {
             "outlinewidth": 0,
             "ticks": ""
            },
            "colorscale": [
             [
              0,
              "#0d0887"
             ],
             [
              0.1111111111111111,
              "#46039f"
             ],
             [
              0.2222222222222222,
              "#7201a8"
             ],
             [
              0.3333333333333333,
              "#9c179e"
             ],
             [
              0.4444444444444444,
              "#bd3786"
             ],
             [
              0.5555555555555556,
              "#d8576b"
             ],
             [
              0.6666666666666666,
              "#ed7953"
             ],
             [
              0.7777777777777778,
              "#fb9f3a"
             ],
             [
              0.8888888888888888,
              "#fdca26"
             ],
             [
              1,
              "#f0f921"
             ]
            ],
            "type": "surface"
           }
          ],
          "table": [
           {
            "cells": {
             "fill": {
              "color": "#EBF0F8"
             },
             "line": {
              "color": "white"
             }
            },
            "header": {
             "fill": {
              "color": "#C8D4E3"
             },
             "line": {
              "color": "white"
             }
            },
            "type": "table"
           }
          ]
         },
         "layout": {
          "annotationdefaults": {
           "arrowcolor": "#2a3f5f",
           "arrowhead": 0,
           "arrowwidth": 1
          },
          "autotypenumbers": "strict",
          "coloraxis": {
           "colorbar": {
            "outlinewidth": 0,
            "ticks": ""
           }
          },
          "colorscale": {
           "diverging": [
            [
             0,
             "#8e0152"
            ],
            [
             0.1,
             "#c51b7d"
            ],
            [
             0.2,
             "#de77ae"
            ],
            [
             0.3,
             "#f1b6da"
            ],
            [
             0.4,
             "#fde0ef"
            ],
            [
             0.5,
             "#f7f7f7"
            ],
            [
             0.6,
             "#e6f5d0"
            ],
            [
             0.7,
             "#b8e186"
            ],
            [
             0.8,
             "#7fbc41"
            ],
            [
             0.9,
             "#4d9221"
            ],
            [
             1,
             "#276419"
            ]
           ],
           "sequential": [
            [
             0,
             "#0d0887"
            ],
            [
             0.1111111111111111,
             "#46039f"
            ],
            [
             0.2222222222222222,
             "#7201a8"
            ],
            [
             0.3333333333333333,
             "#9c179e"
            ],
            [
             0.4444444444444444,
             "#bd3786"
            ],
            [
             0.5555555555555556,
             "#d8576b"
            ],
            [
             0.6666666666666666,
             "#ed7953"
            ],
            [
             0.7777777777777778,
             "#fb9f3a"
            ],
            [
             0.8888888888888888,
             "#fdca26"
            ],
            [
             1,
             "#f0f921"
            ]
           ],
           "sequentialminus": [
            [
             0,
             "#0d0887"
            ],
            [
             0.1111111111111111,
             "#46039f"
            ],
            [
             0.2222222222222222,
             "#7201a8"
            ],
            [
             0.3333333333333333,
             "#9c179e"
            ],
            [
             0.4444444444444444,
             "#bd3786"
            ],
            [
             0.5555555555555556,
             "#d8576b"
            ],
            [
             0.6666666666666666,
             "#ed7953"
            ],
            [
             0.7777777777777778,
             "#fb9f3a"
            ],
            [
             0.8888888888888888,
             "#fdca26"
            ],
            [
             1,
             "#f0f921"
            ]
           ]
          },
          "colorway": [
           "#636efa",
           "#EF553B",
           "#00cc96",
           "#ab63fa",
           "#FFA15A",
           "#19d3f3",
           "#FF6692",
           "#B6E880",
           "#FF97FF",
           "#FECB52"
          ],
          "font": {
           "color": "#2a3f5f"
          },
          "geo": {
           "bgcolor": "white",
           "lakecolor": "white",
           "landcolor": "#E5ECF6",
           "showlakes": true,
           "showland": true,
           "subunitcolor": "white"
          },
          "hoverlabel": {
           "align": "left"
          },
          "hovermode": "closest",
          "mapbox": {
           "style": "light"
          },
          "paper_bgcolor": "white",
          "plot_bgcolor": "#E5ECF6",
          "polar": {
           "angularaxis": {
            "gridcolor": "white",
            "linecolor": "white",
            "ticks": ""
           },
           "bgcolor": "#E5ECF6",
           "radialaxis": {
            "gridcolor": "white",
            "linecolor": "white",
            "ticks": ""
           }
          },
          "scene": {
           "xaxis": {
            "backgroundcolor": "#E5ECF6",
            "gridcolor": "white",
            "gridwidth": 2,
            "linecolor": "white",
            "showbackground": true,
            "ticks": "",
            "zerolinecolor": "white"
           },
           "yaxis": {
            "backgroundcolor": "#E5ECF6",
            "gridcolor": "white",
            "gridwidth": 2,
            "linecolor": "white",
            "showbackground": true,
            "ticks": "",
            "zerolinecolor": "white"
           },
           "zaxis": {
            "backgroundcolor": "#E5ECF6",
            "gridcolor": "white",
            "gridwidth": 2,
            "linecolor": "white",
            "showbackground": true,
            "ticks": "",
            "zerolinecolor": "white"
           }
          },
          "shapedefaults": {
           "line": {
            "color": "#2a3f5f"
           }
          },
          "ternary": {
           "aaxis": {
            "gridcolor": "white",
            "linecolor": "white",
            "ticks": ""
           },
           "baxis": {
            "gridcolor": "white",
            "linecolor": "white",
            "ticks": ""
           },
           "bgcolor": "#E5ECF6",
           "caxis": {
            "gridcolor": "white",
            "linecolor": "white",
            "ticks": ""
           }
          },
          "title": {
           "x": 0.05
          },
          "xaxis": {
           "automargin": true,
           "gridcolor": "white",
           "linecolor": "white",
           "ticks": "",
           "title": {
            "standoff": 15
           },
           "zerolinecolor": "white",
           "zerolinewidth": 2
          },
          "yaxis": {
           "automargin": true,
           "gridcolor": "white",
           "linecolor": "white",
           "ticks": "",
           "title": {
            "standoff": 15
           },
           "zerolinecolor": "white",
           "zerolinewidth": 2
          }
         }
        },
        "title": {
         "text": "DeDi BONOBO YEAST KEGG prerank sVSg2 padj_cutoff 0.1"
        },
        "width": 800,
        "xaxis": {
         "anchor": "y",
         "domain": [
          0,
          1
         ],
         "range": [
          -4.2,
          4.2
         ],
         "title": {
          "text": "NES"
         }
        },
        "yaxis": {
         "anchor": "x",
         "domain": [
          0,
          1
         ],
         "title": {
          "text": "pathway"
         }
        }
       }
      }
     },
     "metadata": {},
     "output_type": "display_data"
    },
    {
     "data": {
      "application/vnd.plotly.v1+json": {
       "config": {
        "plotlyServerURL": "https://plot.ly"
       },
       "data": [
        {
         "hovertemplate": "NES=%{x}<br>pathway=%{y}<br>overlap=%{marker.size}<br>stability=%{marker.color}<extra></extra>",
         "legendgroup": "",
         "marker": {
          "color": [
           0.8378378378378378,
           0.9459459459459459,
           0.7837837837837838,
           0.8648648648648649,
           0.972972972972973,
           0.8648648648648649,
           0.8918918918918919,
           0.918918918918919,
           0.9459459459459459,
           0.9459459459459459,
           0.8648648648648649,
           0.9459459459459459,
           0.9459459459459459,
           0.9459459459459459,
           0.9459459459459459,
           0.8648648648648649,
           0.9459459459459459,
           0.972972972972973,
           0.9459459459459459,
           0.9459459459459459,
           0.918918918918919,
           0.8918918918918919,
           0.918918918918919,
           0.8648648648648649,
           0.8648648648648649
          ],
          "coloraxis": "coloraxis",
          "size": [
           27.41935483870968,
           11.977428571428574,
           11.738620689655173,
           22.059375000000003,
           10.408055555555556,
           11.655000000000001,
           8.12909090909091,
           13.065,
           10.83314285714286,
           11.488857142857142,
           11.237812500000002,
           15.806857142857144,
           12.08857142857143,
           10.096285714285715,
           8.065142857142858,
           10.9040625,
           13.951428571428576,
           12.644166666666669,
           8.114571428571429,
           7.756285714285715,
           17.72264705882353,
           10.638484848484849,
           12.353529411764706,
           11.237812500000002,
           10.48
          ],
          "sizemode": "area",
          "sizeref": 0.0685483870967742,
          "symbol": "circle"
         },
         "mode": "markers",
         "name": "",
         "orientation": "h",
         "showlegend": false,
         "type": "scatter",
         "x": [
          2.119102822807247,
          2.153732580531661,
          2.1204380298657712,
          2.1762428824110382,
          2.3313471658450244,
          2.3504162928059213,
          2.2614219902467085,
          2.417910977489658,
          2.352209117991324,
          2.396452053687524,
          2.3462395428195397,
          2.474556530652739,
          2.5171589378524595,
          2.453434892234375,
          2.4836974974484867,
          2.3017963862418824,
          2.5797063863202894,
          2.589929426269782,
          2.4933958340250792,
          2.528975750803487,
          2.7084909522162204,
          2.5078008512447822,
          2.713624043421216,
          2.560152401635703,
          2.6665722555513294
         ],
         "xaxis": "x",
         "y": [
          "septin ring organization (GO:0031106)",
          "regulation of mitotic nuclear division (GO:0007088",
          "sphingolipid biosynthetic process (GO:0030148)",
          "protein-DNA complex assembly (GO:0065004)",
          "DNA replication (GO:0006260)",
          "membrane lipid biosynthetic process (GO:0046467)",
          "barrier septum assembly (GO:0000917)",
          "mitotic sister chromatid cohesion (GO:0007064)",
          "regulation of transcription involved in G1/S trans",
          "DNA replication, Okazaki fragment processing (GO:0",
          "microtubule nucleation (GO:0007020)",
          "regulation of cyclin-dependent protein kinase acti",
          "regulation of protein serine/threonine kinase acti",
          "negative regulation of transcription involved in G",
          "mitotic cytokinetic process (GO:1902410)",
          "double-strand break repair via break-induced repli",
          "double-strand break repair via homologous recombin",
          "regulation of cell cycle process (GO:0010564)",
          "mitotic DNA replication (GO:1902969)",
          "lagging strand elongation (GO:0006273)",
          "DNA metabolic process (GO:0006259)",
          "DNA strand elongation (GO:0022616)",
          "DNA-dependent DNA replication (GO:0006261)",
          "microtubule polymerization (GO:0046785)",
          "DNA strand elongation involved in DNA replication "
         ],
         "yaxis": "y"
        }
       ],
       "layout": {
        "annotations": [
         {
          "showarrow": true,
          "text": "-log padj 2.43",
          "x": 2.6665722555513294,
          "y": "DNA strand elongation involved in DNA replication ",
          "yshift": 10
         },
         {
          "showarrow": true,
          "text": "-log padj 1.29",
          "x": 2.119102822807247,
          "y": "septin ring organization (GO:0031106)",
          "yshift": 10
         }
        ],
        "autosize": true,
        "coloraxis": {
         "cmax": 0.972972972972973,
         "cmin": 0.6756756756756757,
         "colorbar": {
          "title": {
           "text": "stability"
          }
         },
         "colorscale": [
          [
           0,
           "rgb(247,252,253)"
          ],
          [
           0.125,
           "rgb(229,245,249)"
          ],
          [
           0.25,
           "rgb(204,236,230)"
          ],
          [
           0.375,
           "rgb(153,216,201)"
          ],
          [
           0.5,
           "rgb(102,194,164)"
          ],
          [
           0.625,
           "rgb(65,174,118)"
          ],
          [
           0.75,
           "rgb(35,139,69)"
          ],
          [
           0.875,
           "rgb(0,109,44)"
          ],
          [
           1,
           "rgb(0,68,27)"
          ]
         ]
        },
        "height": 800,
        "legend": {
         "itemsizing": "constant",
         "tracegroupgap": 0
        },
        "template": {
         "data": {
          "bar": [
           {
            "error_x": {
             "color": "#2a3f5f"
            },
            "error_y": {
             "color": "#2a3f5f"
            },
            "marker": {
             "line": {
              "color": "#E5ECF6",
              "width": 0.5
             },
             "pattern": {
              "fillmode": "overlay",
              "size": 10,
              "solidity": 0.2
             }
            },
            "type": "bar"
           }
          ],
          "barpolar": [
           {
            "marker": {
             "line": {
              "color": "#E5ECF6",
              "width": 0.5
             },
             "pattern": {
              "fillmode": "overlay",
              "size": 10,
              "solidity": 0.2
             }
            },
            "type": "barpolar"
           }
          ],
          "carpet": [
           {
            "aaxis": {
             "endlinecolor": "#2a3f5f",
             "gridcolor": "white",
             "linecolor": "white",
             "minorgridcolor": "white",
             "startlinecolor": "#2a3f5f"
            },
            "baxis": {
             "endlinecolor": "#2a3f5f",
             "gridcolor": "white",
             "linecolor": "white",
             "minorgridcolor": "white",
             "startlinecolor": "#2a3f5f"
            },
            "type": "carpet"
           }
          ],
          "choropleth": [
           {
            "colorbar": {
             "outlinewidth": 0,
             "ticks": ""
            },
            "type": "choropleth"
           }
          ],
          "contour": [
           {
            "colorbar": {
             "outlinewidth": 0,
             "ticks": ""
            },
            "colorscale": [
             [
              0,
              "#0d0887"
             ],
             [
              0.1111111111111111,
              "#46039f"
             ],
             [
              0.2222222222222222,
              "#7201a8"
             ],
             [
              0.3333333333333333,
              "#9c179e"
             ],
             [
              0.4444444444444444,
              "#bd3786"
             ],
             [
              0.5555555555555556,
              "#d8576b"
             ],
             [
              0.6666666666666666,
              "#ed7953"
             ],
             [
              0.7777777777777778,
              "#fb9f3a"
             ],
             [
              0.8888888888888888,
              "#fdca26"
             ],
             [
              1,
              "#f0f921"
             ]
            ],
            "type": "contour"
           }
          ],
          "contourcarpet": [
           {
            "colorbar": {
             "outlinewidth": 0,
             "ticks": ""
            },
            "type": "contourcarpet"
           }
          ],
          "heatmap": [
           {
            "colorbar": {
             "outlinewidth": 0,
             "ticks": ""
            },
            "colorscale": [
             [
              0,
              "#0d0887"
             ],
             [
              0.1111111111111111,
              "#46039f"
             ],
             [
              0.2222222222222222,
              "#7201a8"
             ],
             [
              0.3333333333333333,
              "#9c179e"
             ],
             [
              0.4444444444444444,
              "#bd3786"
             ],
             [
              0.5555555555555556,
              "#d8576b"
             ],
             [
              0.6666666666666666,
              "#ed7953"
             ],
             [
              0.7777777777777778,
              "#fb9f3a"
             ],
             [
              0.8888888888888888,
              "#fdca26"
             ],
             [
              1,
              "#f0f921"
             ]
            ],
            "type": "heatmap"
           }
          ],
          "heatmapgl": [
           {
            "colorbar": {
             "outlinewidth": 0,
             "ticks": ""
            },
            "colorscale": [
             [
              0,
              "#0d0887"
             ],
             [
              0.1111111111111111,
              "#46039f"
             ],
             [
              0.2222222222222222,
              "#7201a8"
             ],
             [
              0.3333333333333333,
              "#9c179e"
             ],
             [
              0.4444444444444444,
              "#bd3786"
             ],
             [
              0.5555555555555556,
              "#d8576b"
             ],
             [
              0.6666666666666666,
              "#ed7953"
             ],
             [
              0.7777777777777778,
              "#fb9f3a"
             ],
             [
              0.8888888888888888,
              "#fdca26"
             ],
             [
              1,
              "#f0f921"
             ]
            ],
            "type": "heatmapgl"
           }
          ],
          "histogram": [
           {
            "marker": {
             "pattern": {
              "fillmode": "overlay",
              "size": 10,
              "solidity": 0.2
             }
            },
            "type": "histogram"
           }
          ],
          "histogram2d": [
           {
            "colorbar": {
             "outlinewidth": 0,
             "ticks": ""
            },
            "colorscale": [
             [
              0,
              "#0d0887"
             ],
             [
              0.1111111111111111,
              "#46039f"
             ],
             [
              0.2222222222222222,
              "#7201a8"
             ],
             [
              0.3333333333333333,
              "#9c179e"
             ],
             [
              0.4444444444444444,
              "#bd3786"
             ],
             [
              0.5555555555555556,
              "#d8576b"
             ],
             [
              0.6666666666666666,
              "#ed7953"
             ],
             [
              0.7777777777777778,
              "#fb9f3a"
             ],
             [
              0.8888888888888888,
              "#fdca26"
             ],
             [
              1,
              "#f0f921"
             ]
            ],
            "type": "histogram2d"
           }
          ],
          "histogram2dcontour": [
           {
            "colorbar": {
             "outlinewidth": 0,
             "ticks": ""
            },
            "colorscale": [
             [
              0,
              "#0d0887"
             ],
             [
              0.1111111111111111,
              "#46039f"
             ],
             [
              0.2222222222222222,
              "#7201a8"
             ],
             [
              0.3333333333333333,
              "#9c179e"
             ],
             [
              0.4444444444444444,
              "#bd3786"
             ],
             [
              0.5555555555555556,
              "#d8576b"
             ],
             [
              0.6666666666666666,
              "#ed7953"
             ],
             [
              0.7777777777777778,
              "#fb9f3a"
             ],
             [
              0.8888888888888888,
              "#fdca26"
             ],
             [
              1,
              "#f0f921"
             ]
            ],
            "type": "histogram2dcontour"
           }
          ],
          "mesh3d": [
           {
            "colorbar": {
             "outlinewidth": 0,
             "ticks": ""
            },
            "type": "mesh3d"
           }
          ],
          "parcoords": [
           {
            "line": {
             "colorbar": {
              "outlinewidth": 0,
              "ticks": ""
             }
            },
            "type": "parcoords"
           }
          ],
          "pie": [
           {
            "automargin": true,
            "type": "pie"
           }
          ],
          "scatter": [
           {
            "fillpattern": {
             "fillmode": "overlay",
             "size": 10,
             "solidity": 0.2
            },
            "type": "scatter"
           }
          ],
          "scatter3d": [
           {
            "line": {
             "colorbar": {
              "outlinewidth": 0,
              "ticks": ""
             }
            },
            "marker": {
             "colorbar": {
              "outlinewidth": 0,
              "ticks": ""
             }
            },
            "type": "scatter3d"
           }
          ],
          "scattercarpet": [
           {
            "marker": {
             "colorbar": {
              "outlinewidth": 0,
              "ticks": ""
             }
            },
            "type": "scattercarpet"
           }
          ],
          "scattergeo": [
           {
            "marker": {
             "colorbar": {
              "outlinewidth": 0,
              "ticks": ""
             }
            },
            "type": "scattergeo"
           }
          ],
          "scattergl": [
           {
            "marker": {
             "colorbar": {
              "outlinewidth": 0,
              "ticks": ""
             }
            },
            "type": "scattergl"
           }
          ],
          "scattermapbox": [
           {
            "marker": {
             "colorbar": {
              "outlinewidth": 0,
              "ticks": ""
             }
            },
            "type": "scattermapbox"
           }
          ],
          "scatterpolar": [
           {
            "marker": {
             "colorbar": {
              "outlinewidth": 0,
              "ticks": ""
             }
            },
            "type": "scatterpolar"
           }
          ],
          "scatterpolargl": [
           {
            "marker": {
             "colorbar": {
              "outlinewidth": 0,
              "ticks": ""
             }
            },
            "type": "scatterpolargl"
           }
          ],
          "scatterternary": [
           {
            "marker": {
             "colorbar": {
              "outlinewidth": 0,
              "ticks": ""
             }
            },
            "type": "scatterternary"
           }
          ],
          "surface": [
           {
            "colorbar": {
             "outlinewidth": 0,
             "ticks": ""
            },
            "colorscale": [
             [
              0,
              "#0d0887"
             ],
             [
              0.1111111111111111,
              "#46039f"
             ],
             [
              0.2222222222222222,
              "#7201a8"
             ],
             [
              0.3333333333333333,
              "#9c179e"
             ],
             [
              0.4444444444444444,
              "#bd3786"
             ],
             [
              0.5555555555555556,
              "#d8576b"
             ],
             [
              0.6666666666666666,
              "#ed7953"
             ],
             [
              0.7777777777777778,
              "#fb9f3a"
             ],
             [
              0.8888888888888888,
              "#fdca26"
             ],
             [
              1,
              "#f0f921"
             ]
            ],
            "type": "surface"
           }
          ],
          "table": [
           {
            "cells": {
             "fill": {
              "color": "#EBF0F8"
             },
             "line": {
              "color": "white"
             }
            },
            "header": {
             "fill": {
              "color": "#C8D4E3"
             },
             "line": {
              "color": "white"
             }
            },
            "type": "table"
           }
          ]
         },
         "layout": {
          "annotationdefaults": {
           "arrowcolor": "#2a3f5f",
           "arrowhead": 0,
           "arrowwidth": 1
          },
          "autotypenumbers": "strict",
          "coloraxis": {
           "colorbar": {
            "outlinewidth": 0,
            "ticks": ""
           }
          },
          "colorscale": {
           "diverging": [
            [
             0,
             "#8e0152"
            ],
            [
             0.1,
             "#c51b7d"
            ],
            [
             0.2,
             "#de77ae"
            ],
            [
             0.3,
             "#f1b6da"
            ],
            [
             0.4,
             "#fde0ef"
            ],
            [
             0.5,
             "#f7f7f7"
            ],
            [
             0.6,
             "#e6f5d0"
            ],
            [
             0.7,
             "#b8e186"
            ],
            [
             0.8,
             "#7fbc41"
            ],
            [
             0.9,
             "#4d9221"
            ],
            [
             1,
             "#276419"
            ]
           ],
           "sequential": [
            [
             0,
             "#0d0887"
            ],
            [
             0.1111111111111111,
             "#46039f"
            ],
            [
             0.2222222222222222,
             "#7201a8"
            ],
            [
             0.3333333333333333,
             "#9c179e"
            ],
            [
             0.4444444444444444,
             "#bd3786"
            ],
            [
             0.5555555555555556,
             "#d8576b"
            ],
            [
             0.6666666666666666,
             "#ed7953"
            ],
            [
             0.7777777777777778,
             "#fb9f3a"
            ],
            [
             0.8888888888888888,
             "#fdca26"
            ],
            [
             1,
             "#f0f921"
            ]
           ],
           "sequentialminus": [
            [
             0,
             "#0d0887"
            ],
            [
             0.1111111111111111,
             "#46039f"
            ],
            [
             0.2222222222222222,
             "#7201a8"
            ],
            [
             0.3333333333333333,
             "#9c179e"
            ],
            [
             0.4444444444444444,
             "#bd3786"
            ],
            [
             0.5555555555555556,
             "#d8576b"
            ],
            [
             0.6666666666666666,
             "#ed7953"
            ],
            [
             0.7777777777777778,
             "#fb9f3a"
            ],
            [
             0.8888888888888888,
             "#fdca26"
            ],
            [
             1,
             "#f0f921"
            ]
           ]
          },
          "colorway": [
           "#636efa",
           "#EF553B",
           "#00cc96",
           "#ab63fa",
           "#FFA15A",
           "#19d3f3",
           "#FF6692",
           "#B6E880",
           "#FF97FF",
           "#FECB52"
          ],
          "font": {
           "color": "#2a3f5f"
          },
          "geo": {
           "bgcolor": "white",
           "lakecolor": "white",
           "landcolor": "#E5ECF6",
           "showlakes": true,
           "showland": true,
           "subunitcolor": "white"
          },
          "hoverlabel": {
           "align": "left"
          },
          "hovermode": "closest",
          "mapbox": {
           "style": "light"
          },
          "paper_bgcolor": "white",
          "plot_bgcolor": "#E5ECF6",
          "polar": {
           "angularaxis": {
            "gridcolor": "white",
            "linecolor": "white",
            "ticks": ""
           },
           "bgcolor": "#E5ECF6",
           "radialaxis": {
            "gridcolor": "white",
            "linecolor": "white",
            "ticks": ""
           }
          },
          "scene": {
           "xaxis": {
            "backgroundcolor": "#E5ECF6",
            "gridcolor": "white",
            "gridwidth": 2,
            "linecolor": "white",
            "showbackground": true,
            "ticks": "",
            "zerolinecolor": "white"
           },
           "yaxis": {
            "backgroundcolor": "#E5ECF6",
            "gridcolor": "white",
            "gridwidth": 2,
            "linecolor": "white",
            "showbackground": true,
            "ticks": "",
            "zerolinecolor": "white"
           },
           "zaxis": {
            "backgroundcolor": "#E5ECF6",
            "gridcolor": "white",
            "gridwidth": 2,
            "linecolor": "white",
            "showbackground": true,
            "ticks": "",
            "zerolinecolor": "white"
           }
          },
          "shapedefaults": {
           "line": {
            "color": "#2a3f5f"
           }
          },
          "ternary": {
           "aaxis": {
            "gridcolor": "white",
            "linecolor": "white",
            "ticks": ""
           },
           "baxis": {
            "gridcolor": "white",
            "linecolor": "white",
            "ticks": ""
           },
           "bgcolor": "#E5ECF6",
           "caxis": {
            "gridcolor": "white",
            "linecolor": "white",
            "ticks": ""
           }
          },
          "title": {
           "x": 0.05
          },
          "xaxis": {
           "automargin": true,
           "gridcolor": "white",
           "linecolor": "white",
           "ticks": "",
           "title": {
            "standoff": 15
           },
           "zerolinecolor": "white",
           "zerolinewidth": 2
          },
          "yaxis": {
           "automargin": true,
           "gridcolor": "white",
           "linecolor": "white",
           "ticks": "",
           "title": {
            "standoff": 15
           },
           "zerolinecolor": "white",
           "zerolinewidth": 2
          }
         }
        },
        "title": {
         "text": "n2v2r BONOBO YEAST GOBP prerank sVSg2 padj_cutoff 0.1"
        },
        "width": 800,
        "xaxis": {
         "anchor": "y",
         "domain": [
          0,
          1
         ],
         "title": {
          "text": "NES"
         }
        },
        "yaxis": {
         "anchor": "x",
         "domain": [
          0,
          1
         ],
         "title": {
          "text": "pathway"
         }
        }
       }
      }
     },
     "metadata": {},
     "output_type": "display_data"
    },
    {
     "data": {
      "application/vnd.plotly.v1+json": {
       "config": {
        "plotlyServerURL": "https://plot.ly"
       },
       "data": [
        {
         "hovertemplate": "NES=%{x}<br>pathway=%{y}<br>overlap=%{marker.size}<br>stability=%{marker.color}<extra></extra>",
         "legendgroup": "",
         "marker": {
          "color": [
           0.8085106382978723,
           0.7446808510638298,
           0.6595744680851063,
           0.723404255319149,
           0.7446808510638298,
           0.7659574468085106,
           0.7659574468085106,
           0.7659574468085106,
           0.723404255319149,
           0.7021276595744681
          ],
          "coloraxis": "coloraxis",
          "size": [
           14.095000000000004,
           7.100285714285712,
           35.36064516129033,
           6.83735294117647,
           6.782,
           7.621944444444446,
           5.5249999999999995,
           5.376666666666665,
           6.614411764705881,
           7.528181818181818
          ],
          "sizemode": "area",
          "sizeref": 0.08840161290322582,
          "symbol": "circle"
         },
         "mode": "markers",
         "name": "",
         "orientation": "h",
         "showlegend": false,
         "type": "scatter",
         "x": [
          -2.091231072614699,
          -1.7637019158388696,
          -2.284512837785657,
          -2.137440133446421,
          -2.3595351680069743,
          -2.404676101628301,
          -2.4769322818096406,
          -2.4679023810611835,
          -2.4890131896263767,
          -2.5747506149802586
         ],
         "xaxis": "x",
         "y": [
          "maintenance of DNA repeat elements (GO:0043570)",
          "DNA strand elongation involved in DNA replication ",
          "carbohydrate catabolic process (GO:0016052)",
          "DNA replication, removal of RNA primer (GO:0043137",
          "DNA replication, Okazaki fragment processing (GO:0",
          "DNA metabolic process (GO:0006259)",
          "mitotic DNA replication (GO:1902969)",
          "lagging strand elongation (GO:0006273)",
          "DNA replication (GO:0006260)",
          "DNA-dependent DNA replication (GO:0006261)"
         ],
         "yaxis": "y"
        }
       ],
       "layout": {
        "annotations": [
         {
          "showarrow": true,
          "text": "-log padj 1.8",
          "x": -2.5747506149802586,
          "y": "DNA-dependent DNA replication (GO:0006261)",
          "yshift": 10
         },
         {
          "showarrow": true,
          "text": "-log padj 1.0",
          "x": -2.091231072614699,
          "y": "maintenance of DNA repeat elements (GO:0043570)",
          "yshift": 10
         }
        ],
        "autosize": true,
        "coloraxis": {
         "cmax": 0.8085106382978723,
         "cmin": 0.6595744680851063,
         "colorbar": {
          "title": {
           "text": "stability"
          }
         },
         "colorscale": [
          [
           0,
           "rgb(247,252,253)"
          ],
          [
           0.125,
           "rgb(229,245,249)"
          ],
          [
           0.25,
           "rgb(204,236,230)"
          ],
          [
           0.375,
           "rgb(153,216,201)"
          ],
          [
           0.5,
           "rgb(102,194,164)"
          ],
          [
           0.625,
           "rgb(65,174,118)"
          ],
          [
           0.75,
           "rgb(35,139,69)"
          ],
          [
           0.875,
           "rgb(0,109,44)"
          ],
          [
           1,
           "rgb(0,68,27)"
          ]
         ]
        },
        "height": 800,
        "legend": {
         "itemsizing": "constant",
         "tracegroupgap": 0
        },
        "template": {
         "data": {
          "bar": [
           {
            "error_x": {
             "color": "#2a3f5f"
            },
            "error_y": {
             "color": "#2a3f5f"
            },
            "marker": {
             "line": {
              "color": "#E5ECF6",
              "width": 0.5
             },
             "pattern": {
              "fillmode": "overlay",
              "size": 10,
              "solidity": 0.2
             }
            },
            "type": "bar"
           }
          ],
          "barpolar": [
           {
            "marker": {
             "line": {
              "color": "#E5ECF6",
              "width": 0.5
             },
             "pattern": {
              "fillmode": "overlay",
              "size": 10,
              "solidity": 0.2
             }
            },
            "type": "barpolar"
           }
          ],
          "carpet": [
           {
            "aaxis": {
             "endlinecolor": "#2a3f5f",
             "gridcolor": "white",
             "linecolor": "white",
             "minorgridcolor": "white",
             "startlinecolor": "#2a3f5f"
            },
            "baxis": {
             "endlinecolor": "#2a3f5f",
             "gridcolor": "white",
             "linecolor": "white",
             "minorgridcolor": "white",
             "startlinecolor": "#2a3f5f"
            },
            "type": "carpet"
           }
          ],
          "choropleth": [
           {
            "colorbar": {
             "outlinewidth": 0,
             "ticks": ""
            },
            "type": "choropleth"
           }
          ],
          "contour": [
           {
            "colorbar": {
             "outlinewidth": 0,
             "ticks": ""
            },
            "colorscale": [
             [
              0,
              "#0d0887"
             ],
             [
              0.1111111111111111,
              "#46039f"
             ],
             [
              0.2222222222222222,
              "#7201a8"
             ],
             [
              0.3333333333333333,
              "#9c179e"
             ],
             [
              0.4444444444444444,
              "#bd3786"
             ],
             [
              0.5555555555555556,
              "#d8576b"
             ],
             [
              0.6666666666666666,
              "#ed7953"
             ],
             [
              0.7777777777777778,
              "#fb9f3a"
             ],
             [
              0.8888888888888888,
              "#fdca26"
             ],
             [
              1,
              "#f0f921"
             ]
            ],
            "type": "contour"
           }
          ],
          "contourcarpet": [
           {
            "colorbar": {
             "outlinewidth": 0,
             "ticks": ""
            },
            "type": "contourcarpet"
           }
          ],
          "heatmap": [
           {
            "colorbar": {
             "outlinewidth": 0,
             "ticks": ""
            },
            "colorscale": [
             [
              0,
              "#0d0887"
             ],
             [
              0.1111111111111111,
              "#46039f"
             ],
             [
              0.2222222222222222,
              "#7201a8"
             ],
             [
              0.3333333333333333,
              "#9c179e"
             ],
             [
              0.4444444444444444,
              "#bd3786"
             ],
             [
              0.5555555555555556,
              "#d8576b"
             ],
             [
              0.6666666666666666,
              "#ed7953"
             ],
             [
              0.7777777777777778,
              "#fb9f3a"
             ],
             [
              0.8888888888888888,
              "#fdca26"
             ],
             [
              1,
              "#f0f921"
             ]
            ],
            "type": "heatmap"
           }
          ],
          "heatmapgl": [
           {
            "colorbar": {
             "outlinewidth": 0,
             "ticks": ""
            },
            "colorscale": [
             [
              0,
              "#0d0887"
             ],
             [
              0.1111111111111111,
              "#46039f"
             ],
             [
              0.2222222222222222,
              "#7201a8"
             ],
             [
              0.3333333333333333,
              "#9c179e"
             ],
             [
              0.4444444444444444,
              "#bd3786"
             ],
             [
              0.5555555555555556,
              "#d8576b"
             ],
             [
              0.6666666666666666,
              "#ed7953"
             ],
             [
              0.7777777777777778,
              "#fb9f3a"
             ],
             [
              0.8888888888888888,
              "#fdca26"
             ],
             [
              1,
              "#f0f921"
             ]
            ],
            "type": "heatmapgl"
           }
          ],
          "histogram": [
           {
            "marker": {
             "pattern": {
              "fillmode": "overlay",
              "size": 10,
              "solidity": 0.2
             }
            },
            "type": "histogram"
           }
          ],
          "histogram2d": [
           {
            "colorbar": {
             "outlinewidth": 0,
             "ticks": ""
            },
            "colorscale": [
             [
              0,
              "#0d0887"
             ],
             [
              0.1111111111111111,
              "#46039f"
             ],
             [
              0.2222222222222222,
              "#7201a8"
             ],
             [
              0.3333333333333333,
              "#9c179e"
             ],
             [
              0.4444444444444444,
              "#bd3786"
             ],
             [
              0.5555555555555556,
              "#d8576b"
             ],
             [
              0.6666666666666666,
              "#ed7953"
             ],
             [
              0.7777777777777778,
              "#fb9f3a"
             ],
             [
              0.8888888888888888,
              "#fdca26"
             ],
             [
              1,
              "#f0f921"
             ]
            ],
            "type": "histogram2d"
           }
          ],
          "histogram2dcontour": [
           {
            "colorbar": {
             "outlinewidth": 0,
             "ticks": ""
            },
            "colorscale": [
             [
              0,
              "#0d0887"
             ],
             [
              0.1111111111111111,
              "#46039f"
             ],
             [
              0.2222222222222222,
              "#7201a8"
             ],
             [
              0.3333333333333333,
              "#9c179e"
             ],
             [
              0.4444444444444444,
              "#bd3786"
             ],
             [
              0.5555555555555556,
              "#d8576b"
             ],
             [
              0.6666666666666666,
              "#ed7953"
             ],
             [
              0.7777777777777778,
              "#fb9f3a"
             ],
             [
              0.8888888888888888,
              "#fdca26"
             ],
             [
              1,
              "#f0f921"
             ]
            ],
            "type": "histogram2dcontour"
           }
          ],
          "mesh3d": [
           {
            "colorbar": {
             "outlinewidth": 0,
             "ticks": ""
            },
            "type": "mesh3d"
           }
          ],
          "parcoords": [
           {
            "line": {
             "colorbar": {
              "outlinewidth": 0,
              "ticks": ""
             }
            },
            "type": "parcoords"
           }
          ],
          "pie": [
           {
            "automargin": true,
            "type": "pie"
           }
          ],
          "scatter": [
           {
            "fillpattern": {
             "fillmode": "overlay",
             "size": 10,
             "solidity": 0.2
            },
            "type": "scatter"
           }
          ],
          "scatter3d": [
           {
            "line": {
             "colorbar": {
              "outlinewidth": 0,
              "ticks": ""
             }
            },
            "marker": {
             "colorbar": {
              "outlinewidth": 0,
              "ticks": ""
             }
            },
            "type": "scatter3d"
           }
          ],
          "scattercarpet": [
           {
            "marker": {
             "colorbar": {
              "outlinewidth": 0,
              "ticks": ""
             }
            },
            "type": "scattercarpet"
           }
          ],
          "scattergeo": [
           {
            "marker": {
             "colorbar": {
              "outlinewidth": 0,
              "ticks": ""
             }
            },
            "type": "scattergeo"
           }
          ],
          "scattergl": [
           {
            "marker": {
             "colorbar": {
              "outlinewidth": 0,
              "ticks": ""
             }
            },
            "type": "scattergl"
           }
          ],
          "scattermapbox": [
           {
            "marker": {
             "colorbar": {
              "outlinewidth": 0,
              "ticks": ""
             }
            },
            "type": "scattermapbox"
           }
          ],
          "scatterpolar": [
           {
            "marker": {
             "colorbar": {
              "outlinewidth": 0,
              "ticks": ""
             }
            },
            "type": "scatterpolar"
           }
          ],
          "scatterpolargl": [
           {
            "marker": {
             "colorbar": {
              "outlinewidth": 0,
              "ticks": ""
             }
            },
            "type": "scatterpolargl"
           }
          ],
          "scatterternary": [
           {
            "marker": {
             "colorbar": {
              "outlinewidth": 0,
              "ticks": ""
             }
            },
            "type": "scatterternary"
           }
          ],
          "surface": [
           {
            "colorbar": {
             "outlinewidth": 0,
             "ticks": ""
            },
            "colorscale": [
             [
              0,
              "#0d0887"
             ],
             [
              0.1111111111111111,
              "#46039f"
             ],
             [
              0.2222222222222222,
              "#7201a8"
             ],
             [
              0.3333333333333333,
              "#9c179e"
             ],
             [
              0.4444444444444444,
              "#bd3786"
             ],
             [
              0.5555555555555556,
              "#d8576b"
             ],
             [
              0.6666666666666666,
              "#ed7953"
             ],
             [
              0.7777777777777778,
              "#fb9f3a"
             ],
             [
              0.8888888888888888,
              "#fdca26"
             ],
             [
              1,
              "#f0f921"
             ]
            ],
            "type": "surface"
           }
          ],
          "table": [
           {
            "cells": {
             "fill": {
              "color": "#EBF0F8"
             },
             "line": {
              "color": "white"
             }
            },
            "header": {
             "fill": {
              "color": "#C8D4E3"
             },
             "line": {
              "color": "white"
             }
            },
            "type": "table"
           }
          ]
         },
         "layout": {
          "annotationdefaults": {
           "arrowcolor": "#2a3f5f",
           "arrowhead": 0,
           "arrowwidth": 1
          },
          "autotypenumbers": "strict",
          "coloraxis": {
           "colorbar": {
            "outlinewidth": 0,
            "ticks": ""
           }
          },
          "colorscale": {
           "diverging": [
            [
             0,
             "#8e0152"
            ],
            [
             0.1,
             "#c51b7d"
            ],
            [
             0.2,
             "#de77ae"
            ],
            [
             0.3,
             "#f1b6da"
            ],
            [
             0.4,
             "#fde0ef"
            ],
            [
             0.5,
             "#f7f7f7"
            ],
            [
             0.6,
             "#e6f5d0"
            ],
            [
             0.7,
             "#b8e186"
            ],
            [
             0.8,
             "#7fbc41"
            ],
            [
             0.9,
             "#4d9221"
            ],
            [
             1,
             "#276419"
            ]
           ],
           "sequential": [
            [
             0,
             "#0d0887"
            ],
            [
             0.1111111111111111,
             "#46039f"
            ],
            [
             0.2222222222222222,
             "#7201a8"
            ],
            [
             0.3333333333333333,
             "#9c179e"
            ],
            [
             0.4444444444444444,
             "#bd3786"
            ],
            [
             0.5555555555555556,
             "#d8576b"
            ],
            [
             0.6666666666666666,
             "#ed7953"
            ],
            [
             0.7777777777777778,
             "#fb9f3a"
            ],
            [
             0.8888888888888888,
             "#fdca26"
            ],
            [
             1,
             "#f0f921"
            ]
           ],
           "sequentialminus": [
            [
             0,
             "#0d0887"
            ],
            [
             0.1111111111111111,
             "#46039f"
            ],
            [
             0.2222222222222222,
             "#7201a8"
            ],
            [
             0.3333333333333333,
             "#9c179e"
            ],
            [
             0.4444444444444444,
             "#bd3786"
            ],
            [
             0.5555555555555556,
             "#d8576b"
            ],
            [
             0.6666666666666666,
             "#ed7953"
            ],
            [
             0.7777777777777778,
             "#fb9f3a"
            ],
            [
             0.8888888888888888,
             "#fdca26"
            ],
            [
             1,
             "#f0f921"
            ]
           ]
          },
          "colorway": [
           "#636efa",
           "#EF553B",
           "#00cc96",
           "#ab63fa",
           "#FFA15A",
           "#19d3f3",
           "#FF6692",
           "#B6E880",
           "#FF97FF",
           "#FECB52"
          ],
          "font": {
           "color": "#2a3f5f"
          },
          "geo": {
           "bgcolor": "white",
           "lakecolor": "white",
           "landcolor": "#E5ECF6",
           "showlakes": true,
           "showland": true,
           "subunitcolor": "white"
          },
          "hoverlabel": {
           "align": "left"
          },
          "hovermode": "closest",
          "mapbox": {
           "style": "light"
          },
          "paper_bgcolor": "white",
          "plot_bgcolor": "#E5ECF6",
          "polar": {
           "angularaxis": {
            "gridcolor": "white",
            "linecolor": "white",
            "ticks": ""
           },
           "bgcolor": "#E5ECF6",
           "radialaxis": {
            "gridcolor": "white",
            "linecolor": "white",
            "ticks": ""
           }
          },
          "scene": {
           "xaxis": {
            "backgroundcolor": "#E5ECF6",
            "gridcolor": "white",
            "gridwidth": 2,
            "linecolor": "white",
            "showbackground": true,
            "ticks": "",
            "zerolinecolor": "white"
           },
           "yaxis": {
            "backgroundcolor": "#E5ECF6",
            "gridcolor": "white",
            "gridwidth": 2,
            "linecolor": "white",
            "showbackground": true,
            "ticks": "",
            "zerolinecolor": "white"
           },
           "zaxis": {
            "backgroundcolor": "#E5ECF6",
            "gridcolor": "white",
            "gridwidth": 2,
            "linecolor": "white",
            "showbackground": true,
            "ticks": "",
            "zerolinecolor": "white"
           }
          },
          "shapedefaults": {
           "line": {
            "color": "#2a3f5f"
           }
          },
          "ternary": {
           "aaxis": {
            "gridcolor": "white",
            "linecolor": "white",
            "ticks": ""
           },
           "baxis": {
            "gridcolor": "white",
            "linecolor": "white",
            "ticks": ""
           },
           "bgcolor": "#E5ECF6",
           "caxis": {
            "gridcolor": "white",
            "linecolor": "white",
            "ticks": ""
           }
          },
          "title": {
           "x": 0.05
          },
          "xaxis": {
           "automargin": true,
           "gridcolor": "white",
           "linecolor": "white",
           "ticks": "",
           "title": {
            "standoff": 15
           },
           "zerolinecolor": "white",
           "zerolinewidth": 2
          },
          "yaxis": {
           "automargin": true,
           "gridcolor": "white",
           "linecolor": "white",
           "ticks": "",
           "title": {
            "standoff": 15
           },
           "zerolinecolor": "white",
           "zerolinewidth": 2
          }
         }
        },
        "title": {
         "text": "signed n2v2r BONOBO YEAST GOBP prerank sVSg2 padj_cutoff 0.1"
        },
        "width": 800,
        "xaxis": {
         "anchor": "y",
         "domain": [
          0,
          1
         ],
         "range": [
          -3.2,
          3.2
         ],
         "title": {
          "text": "NES"
         }
        },
        "yaxis": {
         "anchor": "x",
         "domain": [
          0,
          1
         ],
         "title": {
          "text": "pathway"
         }
        }
       }
      }
     },
     "metadata": {},
     "output_type": "display_data"
    },
    {
     "name": "stdout",
     "output_type": "stream",
     "text": [
      "No results found\n"
     ]
    },
    {
     "data": {
      "application/vnd.plotly.v1+json": {
       "config": {
        "plotlyServerURL": "https://plot.ly"
       },
       "data": [
        {
         "hovertemplate": "NES=%{x}<br>pathway=%{y}<br>overlap=%{marker.size}<br>-log padj=%{marker.color}<extra></extra>",
         "legendgroup": "",
         "marker": {
          "color": [
           1,
           1.01,
           1.05,
           1.16,
           1.48,
           1.55,
           1.56,
           1.62,
           1.63,
           1.8
          ],
          "coloraxis": "coloraxis",
          "size": [
           14.095000000000004,
           7.100285714285712,
           35.36064516129033,
           6.83735294117647,
           6.782,
           7.621944444444446,
           5.5249999999999995,
           5.376666666666665,
           6.614411764705881,
           7.528181818181818
          ],
          "sizemode": "area",
          "sizeref": 0.08840161290322582,
          "symbol": "circle"
         },
         "mode": "markers",
         "name": "",
         "orientation": "h",
         "showlegend": false,
         "type": "scatter",
         "x": [
          -2.091231072614699,
          -1.7637019158388696,
          -2.284512837785657,
          -2.137440133446421,
          -2.3595351680069743,
          -2.404676101628301,
          -2.4769322818096406,
          -2.4679023810611835,
          -2.4890131896263767,
          -2.5747506149802586
         ],
         "xaxis": "x",
         "y": [
          "maintenance of DNA repeat elements (GO:0043570)",
          "DNA strand elongation involved in DNA replication ",
          "carbohydrate catabolic process (GO:0016052)",
          "DNA replication, removal of RNA primer (GO:0043137",
          "DNA replication, Okazaki fragment processing (GO:0",
          "DNA metabolic process (GO:0006259)",
          "mitotic DNA replication (GO:1902969)",
          "lagging strand elongation (GO:0006273)",
          "DNA replication (GO:0006260)",
          "DNA-dependent DNA replication (GO:0006261)"
         ],
         "yaxis": "y"
        }
       ],
       "layout": {
        "autosize": true,
        "coloraxis": {
         "colorbar": {
          "title": {
           "text": "-log padj"
          }
         },
         "colorscale": [
          [
           0,
           "rgb(247,252,253)"
          ],
          [
           0.125,
           "rgb(229,245,249)"
          ],
          [
           0.25,
           "rgb(204,236,230)"
          ],
          [
           0.375,
           "rgb(153,216,201)"
          ],
          [
           0.5,
           "rgb(102,194,164)"
          ],
          [
           0.625,
           "rgb(65,174,118)"
          ],
          [
           0.75,
           "rgb(35,139,69)"
          ],
          [
           0.875,
           "rgb(0,109,44)"
          ],
          [
           1,
           "rgb(0,68,27)"
          ]
         ]
        },
        "height": 800,
        "legend": {
         "itemsizing": "constant",
         "tracegroupgap": 0
        },
        "template": {
         "data": {
          "bar": [
           {
            "error_x": {
             "color": "#2a3f5f"
            },
            "error_y": {
             "color": "#2a3f5f"
            },
            "marker": {
             "line": {
              "color": "#E5ECF6",
              "width": 0.5
             },
             "pattern": {
              "fillmode": "overlay",
              "size": 10,
              "solidity": 0.2
             }
            },
            "type": "bar"
           }
          ],
          "barpolar": [
           {
            "marker": {
             "line": {
              "color": "#E5ECF6",
              "width": 0.5
             },
             "pattern": {
              "fillmode": "overlay",
              "size": 10,
              "solidity": 0.2
             }
            },
            "type": "barpolar"
           }
          ],
          "carpet": [
           {
            "aaxis": {
             "endlinecolor": "#2a3f5f",
             "gridcolor": "white",
             "linecolor": "white",
             "minorgridcolor": "white",
             "startlinecolor": "#2a3f5f"
            },
            "baxis": {
             "endlinecolor": "#2a3f5f",
             "gridcolor": "white",
             "linecolor": "white",
             "minorgridcolor": "white",
             "startlinecolor": "#2a3f5f"
            },
            "type": "carpet"
           }
          ],
          "choropleth": [
           {
            "colorbar": {
             "outlinewidth": 0,
             "ticks": ""
            },
            "type": "choropleth"
           }
          ],
          "contour": [
           {
            "colorbar": {
             "outlinewidth": 0,
             "ticks": ""
            },
            "colorscale": [
             [
              0,
              "#0d0887"
             ],
             [
              0.1111111111111111,
              "#46039f"
             ],
             [
              0.2222222222222222,
              "#7201a8"
             ],
             [
              0.3333333333333333,
              "#9c179e"
             ],
             [
              0.4444444444444444,
              "#bd3786"
             ],
             [
              0.5555555555555556,
              "#d8576b"
             ],
             [
              0.6666666666666666,
              "#ed7953"
             ],
             [
              0.7777777777777778,
              "#fb9f3a"
             ],
             [
              0.8888888888888888,
              "#fdca26"
             ],
             [
              1,
              "#f0f921"
             ]
            ],
            "type": "contour"
           }
          ],
          "contourcarpet": [
           {
            "colorbar": {
             "outlinewidth": 0,
             "ticks": ""
            },
            "type": "contourcarpet"
           }
          ],
          "heatmap": [
           {
            "colorbar": {
             "outlinewidth": 0,
             "ticks": ""
            },
            "colorscale": [
             [
              0,
              "#0d0887"
             ],
             [
              0.1111111111111111,
              "#46039f"
             ],
             [
              0.2222222222222222,
              "#7201a8"
             ],
             [
              0.3333333333333333,
              "#9c179e"
             ],
             [
              0.4444444444444444,
              "#bd3786"
             ],
             [
              0.5555555555555556,
              "#d8576b"
             ],
             [
              0.6666666666666666,
              "#ed7953"
             ],
             [
              0.7777777777777778,
              "#fb9f3a"
             ],
             [
              0.8888888888888888,
              "#fdca26"
             ],
             [
              1,
              "#f0f921"
             ]
            ],
            "type": "heatmap"
           }
          ],
          "heatmapgl": [
           {
            "colorbar": {
             "outlinewidth": 0,
             "ticks": ""
            },
            "colorscale": [
             [
              0,
              "#0d0887"
             ],
             [
              0.1111111111111111,
              "#46039f"
             ],
             [
              0.2222222222222222,
              "#7201a8"
             ],
             [
              0.3333333333333333,
              "#9c179e"
             ],
             [
              0.4444444444444444,
              "#bd3786"
             ],
             [
              0.5555555555555556,
              "#d8576b"
             ],
             [
              0.6666666666666666,
              "#ed7953"
             ],
             [
              0.7777777777777778,
              "#fb9f3a"
             ],
             [
              0.8888888888888888,
              "#fdca26"
             ],
             [
              1,
              "#f0f921"
             ]
            ],
            "type": "heatmapgl"
           }
          ],
          "histogram": [
           {
            "marker": {
             "pattern": {
              "fillmode": "overlay",
              "size": 10,
              "solidity": 0.2
             }
            },
            "type": "histogram"
           }
          ],
          "histogram2d": [
           {
            "colorbar": {
             "outlinewidth": 0,
             "ticks": ""
            },
            "colorscale": [
             [
              0,
              "#0d0887"
             ],
             [
              0.1111111111111111,
              "#46039f"
             ],
             [
              0.2222222222222222,
              "#7201a8"
             ],
             [
              0.3333333333333333,
              "#9c179e"
             ],
             [
              0.4444444444444444,
              "#bd3786"
             ],
             [
              0.5555555555555556,
              "#d8576b"
             ],
             [
              0.6666666666666666,
              "#ed7953"
             ],
             [
              0.7777777777777778,
              "#fb9f3a"
             ],
             [
              0.8888888888888888,
              "#fdca26"
             ],
             [
              1,
              "#f0f921"
             ]
            ],
            "type": "histogram2d"
           }
          ],
          "histogram2dcontour": [
           {
            "colorbar": {
             "outlinewidth": 0,
             "ticks": ""
            },
            "colorscale": [
             [
              0,
              "#0d0887"
             ],
             [
              0.1111111111111111,
              "#46039f"
             ],
             [
              0.2222222222222222,
              "#7201a8"
             ],
             [
              0.3333333333333333,
              "#9c179e"
             ],
             [
              0.4444444444444444,
              "#bd3786"
             ],
             [
              0.5555555555555556,
              "#d8576b"
             ],
             [
              0.6666666666666666,
              "#ed7953"
             ],
             [
              0.7777777777777778,
              "#fb9f3a"
             ],
             [
              0.8888888888888888,
              "#fdca26"
             ],
             [
              1,
              "#f0f921"
             ]
            ],
            "type": "histogram2dcontour"
           }
          ],
          "mesh3d": [
           {
            "colorbar": {
             "outlinewidth": 0,
             "ticks": ""
            },
            "type": "mesh3d"
           }
          ],
          "parcoords": [
           {
            "line": {
             "colorbar": {
              "outlinewidth": 0,
              "ticks": ""
             }
            },
            "type": "parcoords"
           }
          ],
          "pie": [
           {
            "automargin": true,
            "type": "pie"
           }
          ],
          "scatter": [
           {
            "fillpattern": {
             "fillmode": "overlay",
             "size": 10,
             "solidity": 0.2
            },
            "type": "scatter"
           }
          ],
          "scatter3d": [
           {
            "line": {
             "colorbar": {
              "outlinewidth": 0,
              "ticks": ""
             }
            },
            "marker": {
             "colorbar": {
              "outlinewidth": 0,
              "ticks": ""
             }
            },
            "type": "scatter3d"
           }
          ],
          "scattercarpet": [
           {
            "marker": {
             "colorbar": {
              "outlinewidth": 0,
              "ticks": ""
             }
            },
            "type": "scattercarpet"
           }
          ],
          "scattergeo": [
           {
            "marker": {
             "colorbar": {
              "outlinewidth": 0,
              "ticks": ""
             }
            },
            "type": "scattergeo"
           }
          ],
          "scattergl": [
           {
            "marker": {
             "colorbar": {
              "outlinewidth": 0,
              "ticks": ""
             }
            },
            "type": "scattergl"
           }
          ],
          "scattermapbox": [
           {
            "marker": {
             "colorbar": {
              "outlinewidth": 0,
              "ticks": ""
             }
            },
            "type": "scattermapbox"
           }
          ],
          "scatterpolar": [
           {
            "marker": {
             "colorbar": {
              "outlinewidth": 0,
              "ticks": ""
             }
            },
            "type": "scatterpolar"
           }
          ],
          "scatterpolargl": [
           {
            "marker": {
             "colorbar": {
              "outlinewidth": 0,
              "ticks": ""
             }
            },
            "type": "scatterpolargl"
           }
          ],
          "scatterternary": [
           {
            "marker": {
             "colorbar": {
              "outlinewidth": 0,
              "ticks": ""
             }
            },
            "type": "scatterternary"
           }
          ],
          "surface": [
           {
            "colorbar": {
             "outlinewidth": 0,
             "ticks": ""
            },
            "colorscale": [
             [
              0,
              "#0d0887"
             ],
             [
              0.1111111111111111,
              "#46039f"
             ],
             [
              0.2222222222222222,
              "#7201a8"
             ],
             [
              0.3333333333333333,
              "#9c179e"
             ],
             [
              0.4444444444444444,
              "#bd3786"
             ],
             [
              0.5555555555555556,
              "#d8576b"
             ],
             [
              0.6666666666666666,
              "#ed7953"
             ],
             [
              0.7777777777777778,
              "#fb9f3a"
             ],
             [
              0.8888888888888888,
              "#fdca26"
             ],
             [
              1,
              "#f0f921"
             ]
            ],
            "type": "surface"
           }
          ],
          "table": [
           {
            "cells": {
             "fill": {
              "color": "#EBF0F8"
             },
             "line": {
              "color": "white"
             }
            },
            "header": {
             "fill": {
              "color": "#C8D4E3"
             },
             "line": {
              "color": "white"
             }
            },
            "type": "table"
           }
          ]
         },
         "layout": {
          "annotationdefaults": {
           "arrowcolor": "#2a3f5f",
           "arrowhead": 0,
           "arrowwidth": 1
          },
          "autotypenumbers": "strict",
          "coloraxis": {
           "colorbar": {
            "outlinewidth": 0,
            "ticks": ""
           }
          },
          "colorscale": {
           "diverging": [
            [
             0,
             "#8e0152"
            ],
            [
             0.1,
             "#c51b7d"
            ],
            [
             0.2,
             "#de77ae"
            ],
            [
             0.3,
             "#f1b6da"
            ],
            [
             0.4,
             "#fde0ef"
            ],
            [
             0.5,
             "#f7f7f7"
            ],
            [
             0.6,
             "#e6f5d0"
            ],
            [
             0.7,
             "#b8e186"
            ],
            [
             0.8,
             "#7fbc41"
            ],
            [
             0.9,
             "#4d9221"
            ],
            [
             1,
             "#276419"
            ]
           ],
           "sequential": [
            [
             0,
             "#0d0887"
            ],
            [
             0.1111111111111111,
             "#46039f"
            ],
            [
             0.2222222222222222,
             "#7201a8"
            ],
            [
             0.3333333333333333,
             "#9c179e"
            ],
            [
             0.4444444444444444,
             "#bd3786"
            ],
            [
             0.5555555555555556,
             "#d8576b"
            ],
            [
             0.6666666666666666,
             "#ed7953"
            ],
            [
             0.7777777777777778,
             "#fb9f3a"
            ],
            [
             0.8888888888888888,
             "#fdca26"
            ],
            [
             1,
             "#f0f921"
            ]
           ],
           "sequentialminus": [
            [
             0,
             "#0d0887"
            ],
            [
             0.1111111111111111,
             "#46039f"
            ],
            [
             0.2222222222222222,
             "#7201a8"
            ],
            [
             0.3333333333333333,
             "#9c179e"
            ],
            [
             0.4444444444444444,
             "#bd3786"
            ],
            [
             0.5555555555555556,
             "#d8576b"
            ],
            [
             0.6666666666666666,
             "#ed7953"
            ],
            [
             0.7777777777777778,
             "#fb9f3a"
            ],
            [
             0.8888888888888888,
             "#fdca26"
            ],
            [
             1,
             "#f0f921"
            ]
           ]
          },
          "colorway": [
           "#636efa",
           "#EF553B",
           "#00cc96",
           "#ab63fa",
           "#FFA15A",
           "#19d3f3",
           "#FF6692",
           "#B6E880",
           "#FF97FF",
           "#FECB52"
          ],
          "font": {
           "color": "#2a3f5f"
          },
          "geo": {
           "bgcolor": "white",
           "lakecolor": "white",
           "landcolor": "#E5ECF6",
           "showlakes": true,
           "showland": true,
           "subunitcolor": "white"
          },
          "hoverlabel": {
           "align": "left"
          },
          "hovermode": "closest",
          "mapbox": {
           "style": "light"
          },
          "paper_bgcolor": "white",
          "plot_bgcolor": "#E5ECF6",
          "polar": {
           "angularaxis": {
            "gridcolor": "white",
            "linecolor": "white",
            "ticks": ""
           },
           "bgcolor": "#E5ECF6",
           "radialaxis": {
            "gridcolor": "white",
            "linecolor": "white",
            "ticks": ""
           }
          },
          "scene": {
           "xaxis": {
            "backgroundcolor": "#E5ECF6",
            "gridcolor": "white",
            "gridwidth": 2,
            "linecolor": "white",
            "showbackground": true,
            "ticks": "",
            "zerolinecolor": "white"
           },
           "yaxis": {
            "backgroundcolor": "#E5ECF6",
            "gridcolor": "white",
            "gridwidth": 2,
            "linecolor": "white",
            "showbackground": true,
            "ticks": "",
            "zerolinecolor": "white"
           },
           "zaxis": {
            "backgroundcolor": "#E5ECF6",
            "gridcolor": "white",
            "gridwidth": 2,
            "linecolor": "white",
            "showbackground": true,
            "ticks": "",
            "zerolinecolor": "white"
           }
          },
          "shapedefaults": {
           "line": {
            "color": "#2a3f5f"
           }
          },
          "ternary": {
           "aaxis": {
            "gridcolor": "white",
            "linecolor": "white",
            "ticks": ""
           },
           "baxis": {
            "gridcolor": "white",
            "linecolor": "white",
            "ticks": ""
           },
           "bgcolor": "#E5ECF6",
           "caxis": {
            "gridcolor": "white",
            "linecolor": "white",
            "ticks": ""
           }
          },
          "title": {
           "x": 0.05
          },
          "xaxis": {
           "automargin": true,
           "gridcolor": "white",
           "linecolor": "white",
           "ticks": "",
           "title": {
            "standoff": 15
           },
           "zerolinecolor": "white",
           "zerolinewidth": 2
          },
          "yaxis": {
           "automargin": true,
           "gridcolor": "white",
           "linecolor": "white",
           "ticks": "",
           "title": {
            "standoff": 15
           },
           "zerolinecolor": "white",
           "zerolinewidth": 2
          }
         }
        },
        "title": {
         "text": "signed Borda n2v2r BONOBO YEAST GOBP prerank sVSg2 padj_cutoff 0.1"
        },
        "width": 800,
        "xaxis": {
         "anchor": "y",
         "domain": [
          0,
          1
         ],
         "range": [
          -3.2,
          3.2
         ],
         "title": {
          "text": "NES"
         }
        },
        "yaxis": {
         "anchor": "x",
         "domain": [
          0,
          1
         ],
         "title": {
          "text": "pathway"
         }
        }
       }
      }
     },
     "metadata": {},
     "output_type": "display_data"
    },
    {
     "data": {
      "application/vnd.plotly.v1+json": {
       "config": {
        "plotlyServerURL": "https://plot.ly"
       },
       "data": [
        {
         "hovertemplate": "NES=%{x}<br>pathway=%{y}<br>overlap=%{marker.size}<br>-log padj=%{marker.color}<extra></extra>",
         "legendgroup": "",
         "marker": {
          "color": [
           1.73,
           1.76,
           1.86,
           1.87,
           1.88,
           1.88,
           1.88,
           1.88,
           1.88,
           1.88,
           1.9,
           1.91,
           1.94,
           2.19,
           2.22,
           2.23,
           2.24,
           2.29,
           2.33,
           2.35,
           2.37,
           2.39,
           2.45,
           2.55,
           2.6
          ],
          "coloraxis": "coloraxis",
          "size": [
           17.94,
           19.8,
           17.29,
           14.11,
           13.69,
           29.6,
           29.6,
           18.3,
           20.16,
           26.67,
           11.74,
           26.67,
           19.46,
           17.91,
           18.05,
           19.46,
           5.91,
           19.46,
           14.02,
           9.88,
           5.91,
           18.3,
           17.91,
           9.57,
           31.32
          ],
          "sizemode": "area",
          "sizeref": 0.0783,
          "symbol": "circle"
         },
         "mode": "markers",
         "name": "",
         "orientation": "h",
         "showlegend": false,
         "type": "scatter",
         "x": [
          2.2427273233731704,
          2.2558034405845917,
          2.301205249874912,
          2.2966396392334825,
          2.3440666657549913,
          2.3248718665955495,
          2.360343792131489,
          2.331635810532116,
          2.33913358765538,
          2.3535210543138483,
          2.3232495756041547,
          2.31906420996575,
          2.6975987410050037,
          2.486969540340673,
          2.4698143492353757,
          2.4834842584638013,
          2.6868463581182698,
          2.5755402260731413,
          2.543829745388391,
          2.5690008756920846,
          2.5621300329663526,
          2.6754709758468067,
          2.6621520841891444,
          2.661014802329326,
          2.653430747590327
         ],
         "xaxis": "x",
         "y": [
          "septin cytoskeleton organization (GO:0032185)",
          "fungal-type cell wall organization (GO:0031505)",
          "negative regulation of transcription involved in G",
          "DNA replication (GO:0006260)",
          "microtubule nucleation (GO:0007020)",
          "regulation of mitotic nuclear division (GO:0007088",
          "septin ring organization (GO:0031106)",
          "double-strand break repair via break-induced repli",
          "mitotic sister chromatid segregation (GO:0000070)",
          "regulation of cyclin-dependent protein kinase acti",
          "maintenance of DNA repeat elements (GO:0043570)",
          "regulation of protein serine/threonine kinase acti",
          "DNA strand elongation involved in DNA replication ",
          "barrier septum assembly (GO:0000917)",
          "DNA replication, removal of RNA primer (GO:0043137",
          "DNA-dependent DNA replication (GO:0006261)",
          "DNA replication, Okazaki fragment processing (GO:0",
          "DNA strand elongation (GO:0022616)",
          "microtubule polymerization (GO:0046785)",
          "regulation of cell cycle process (GO:0010564)",
          "lagging strand elongation (GO:0006273)",
          "DNA metabolic process (GO:0006259)",
          "mitotic cytokinetic process (GO:1902410)",
          "mitotic sister chromatid cohesion (GO:0007064)",
          "double-strand break repair via homologous recombin"
         ],
         "yaxis": "y"
        }
       ],
       "layout": {
        "autosize": true,
        "coloraxis": {
         "colorbar": {
          "title": {
           "text": "-log padj"
          }
         },
         "colorscale": [
          [
           0,
           "rgb(247,252,253)"
          ],
          [
           0.125,
           "rgb(229,245,249)"
          ],
          [
           0.25,
           "rgb(204,236,230)"
          ],
          [
           0.375,
           "rgb(153,216,201)"
          ],
          [
           0.5,
           "rgb(102,194,164)"
          ],
          [
           0.625,
           "rgb(65,174,118)"
          ],
          [
           0.75,
           "rgb(35,139,69)"
          ],
          [
           0.875,
           "rgb(0,109,44)"
          ],
          [
           1,
           "rgb(0,68,27)"
          ]
         ]
        },
        "height": 800,
        "legend": {
         "itemsizing": "constant",
         "tracegroupgap": 0
        },
        "template": {
         "data": {
          "bar": [
           {
            "error_x": {
             "color": "#2a3f5f"
            },
            "error_y": {
             "color": "#2a3f5f"
            },
            "marker": {
             "line": {
              "color": "#E5ECF6",
              "width": 0.5
             },
             "pattern": {
              "fillmode": "overlay",
              "size": 10,
              "solidity": 0.2
             }
            },
            "type": "bar"
           }
          ],
          "barpolar": [
           {
            "marker": {
             "line": {
              "color": "#E5ECF6",
              "width": 0.5
             },
             "pattern": {
              "fillmode": "overlay",
              "size": 10,
              "solidity": 0.2
             }
            },
            "type": "barpolar"
           }
          ],
          "carpet": [
           {
            "aaxis": {
             "endlinecolor": "#2a3f5f",
             "gridcolor": "white",
             "linecolor": "white",
             "minorgridcolor": "white",
             "startlinecolor": "#2a3f5f"
            },
            "baxis": {
             "endlinecolor": "#2a3f5f",
             "gridcolor": "white",
             "linecolor": "white",
             "minorgridcolor": "white",
             "startlinecolor": "#2a3f5f"
            },
            "type": "carpet"
           }
          ],
          "choropleth": [
           {
            "colorbar": {
             "outlinewidth": 0,
             "ticks": ""
            },
            "type": "choropleth"
           }
          ],
          "contour": [
           {
            "colorbar": {
             "outlinewidth": 0,
             "ticks": ""
            },
            "colorscale": [
             [
              0,
              "#0d0887"
             ],
             [
              0.1111111111111111,
              "#46039f"
             ],
             [
              0.2222222222222222,
              "#7201a8"
             ],
             [
              0.3333333333333333,
              "#9c179e"
             ],
             [
              0.4444444444444444,
              "#bd3786"
             ],
             [
              0.5555555555555556,
              "#d8576b"
             ],
             [
              0.6666666666666666,
              "#ed7953"
             ],
             [
              0.7777777777777778,
              "#fb9f3a"
             ],
             [
              0.8888888888888888,
              "#fdca26"
             ],
             [
              1,
              "#f0f921"
             ]
            ],
            "type": "contour"
           }
          ],
          "contourcarpet": [
           {
            "colorbar": {
             "outlinewidth": 0,
             "ticks": ""
            },
            "type": "contourcarpet"
           }
          ],
          "heatmap": [
           {
            "colorbar": {
             "outlinewidth": 0,
             "ticks": ""
            },
            "colorscale": [
             [
              0,
              "#0d0887"
             ],
             [
              0.1111111111111111,
              "#46039f"
             ],
             [
              0.2222222222222222,
              "#7201a8"
             ],
             [
              0.3333333333333333,
              "#9c179e"
             ],
             [
              0.4444444444444444,
              "#bd3786"
             ],
             [
              0.5555555555555556,
              "#d8576b"
             ],
             [
              0.6666666666666666,
              "#ed7953"
             ],
             [
              0.7777777777777778,
              "#fb9f3a"
             ],
             [
              0.8888888888888888,
              "#fdca26"
             ],
             [
              1,
              "#f0f921"
             ]
            ],
            "type": "heatmap"
           }
          ],
          "heatmapgl": [
           {
            "colorbar": {
             "outlinewidth": 0,
             "ticks": ""
            },
            "colorscale": [
             [
              0,
              "#0d0887"
             ],
             [
              0.1111111111111111,
              "#46039f"
             ],
             [
              0.2222222222222222,
              "#7201a8"
             ],
             [
              0.3333333333333333,
              "#9c179e"
             ],
             [
              0.4444444444444444,
              "#bd3786"
             ],
             [
              0.5555555555555556,
              "#d8576b"
             ],
             [
              0.6666666666666666,
              "#ed7953"
             ],
             [
              0.7777777777777778,
              "#fb9f3a"
             ],
             [
              0.8888888888888888,
              "#fdca26"
             ],
             [
              1,
              "#f0f921"
             ]
            ],
            "type": "heatmapgl"
           }
          ],
          "histogram": [
           {
            "marker": {
             "pattern": {
              "fillmode": "overlay",
              "size": 10,
              "solidity": 0.2
             }
            },
            "type": "histogram"
           }
          ],
          "histogram2d": [
           {
            "colorbar": {
             "outlinewidth": 0,
             "ticks": ""
            },
            "colorscale": [
             [
              0,
              "#0d0887"
             ],
             [
              0.1111111111111111,
              "#46039f"
             ],
             [
              0.2222222222222222,
              "#7201a8"
             ],
             [
              0.3333333333333333,
              "#9c179e"
             ],
             [
              0.4444444444444444,
              "#bd3786"
             ],
             [
              0.5555555555555556,
              "#d8576b"
             ],
             [
              0.6666666666666666,
              "#ed7953"
             ],
             [
              0.7777777777777778,
              "#fb9f3a"
             ],
             [
              0.8888888888888888,
              "#fdca26"
             ],
             [
              1,
              "#f0f921"
             ]
            ],
            "type": "histogram2d"
           }
          ],
          "histogram2dcontour": [
           {
            "colorbar": {
             "outlinewidth": 0,
             "ticks": ""
            },
            "colorscale": [
             [
              0,
              "#0d0887"
             ],
             [
              0.1111111111111111,
              "#46039f"
             ],
             [
              0.2222222222222222,
              "#7201a8"
             ],
             [
              0.3333333333333333,
              "#9c179e"
             ],
             [
              0.4444444444444444,
              "#bd3786"
             ],
             [
              0.5555555555555556,
              "#d8576b"
             ],
             [
              0.6666666666666666,
              "#ed7953"
             ],
             [
              0.7777777777777778,
              "#fb9f3a"
             ],
             [
              0.8888888888888888,
              "#fdca26"
             ],
             [
              1,
              "#f0f921"
             ]
            ],
            "type": "histogram2dcontour"
           }
          ],
          "mesh3d": [
           {
            "colorbar": {
             "outlinewidth": 0,
             "ticks": ""
            },
            "type": "mesh3d"
           }
          ],
          "parcoords": [
           {
            "line": {
             "colorbar": {
              "outlinewidth": 0,
              "ticks": ""
             }
            },
            "type": "parcoords"
           }
          ],
          "pie": [
           {
            "automargin": true,
            "type": "pie"
           }
          ],
          "scatter": [
           {
            "fillpattern": {
             "fillmode": "overlay",
             "size": 10,
             "solidity": 0.2
            },
            "type": "scatter"
           }
          ],
          "scatter3d": [
           {
            "line": {
             "colorbar": {
              "outlinewidth": 0,
              "ticks": ""
             }
            },
            "marker": {
             "colorbar": {
              "outlinewidth": 0,
              "ticks": ""
             }
            },
            "type": "scatter3d"
           }
          ],
          "scattercarpet": [
           {
            "marker": {
             "colorbar": {
              "outlinewidth": 0,
              "ticks": ""
             }
            },
            "type": "scattercarpet"
           }
          ],
          "scattergeo": [
           {
            "marker": {
             "colorbar": {
              "outlinewidth": 0,
              "ticks": ""
             }
            },
            "type": "scattergeo"
           }
          ],
          "scattergl": [
           {
            "marker": {
             "colorbar": {
              "outlinewidth": 0,
              "ticks": ""
             }
            },
            "type": "scattergl"
           }
          ],
          "scattermapbox": [
           {
            "marker": {
             "colorbar": {
              "outlinewidth": 0,
              "ticks": ""
             }
            },
            "type": "scattermapbox"
           }
          ],
          "scatterpolar": [
           {
            "marker": {
             "colorbar": {
              "outlinewidth": 0,
              "ticks": ""
             }
            },
            "type": "scatterpolar"
           }
          ],
          "scatterpolargl": [
           {
            "marker": {
             "colorbar": {
              "outlinewidth": 0,
              "ticks": ""
             }
            },
            "type": "scatterpolargl"
           }
          ],
          "scatterternary": [
           {
            "marker": {
             "colorbar": {
              "outlinewidth": 0,
              "ticks": ""
             }
            },
            "type": "scatterternary"
           }
          ],
          "surface": [
           {
            "colorbar": {
             "outlinewidth": 0,
             "ticks": ""
            },
            "colorscale": [
             [
              0,
              "#0d0887"
             ],
             [
              0.1111111111111111,
              "#46039f"
             ],
             [
              0.2222222222222222,
              "#7201a8"
             ],
             [
              0.3333333333333333,
              "#9c179e"
             ],
             [
              0.4444444444444444,
              "#bd3786"
             ],
             [
              0.5555555555555556,
              "#d8576b"
             ],
             [
              0.6666666666666666,
              "#ed7953"
             ],
             [
              0.7777777777777778,
              "#fb9f3a"
             ],
             [
              0.8888888888888888,
              "#fdca26"
             ],
             [
              1,
              "#f0f921"
             ]
            ],
            "type": "surface"
           }
          ],
          "table": [
           {
            "cells": {
             "fill": {
              "color": "#EBF0F8"
             },
             "line": {
              "color": "white"
             }
            },
            "header": {
             "fill": {
              "color": "#C8D4E3"
             },
             "line": {
              "color": "white"
             }
            },
            "type": "table"
           }
          ]
         },
         "layout": {
          "annotationdefaults": {
           "arrowcolor": "#2a3f5f",
           "arrowhead": 0,
           "arrowwidth": 1
          },
          "autotypenumbers": "strict",
          "coloraxis": {
           "colorbar": {
            "outlinewidth": 0,
            "ticks": ""
           }
          },
          "colorscale": {
           "diverging": [
            [
             0,
             "#8e0152"
            ],
            [
             0.1,
             "#c51b7d"
            ],
            [
             0.2,
             "#de77ae"
            ],
            [
             0.3,
             "#f1b6da"
            ],
            [
             0.4,
             "#fde0ef"
            ],
            [
             0.5,
             "#f7f7f7"
            ],
            [
             0.6,
             "#e6f5d0"
            ],
            [
             0.7,
             "#b8e186"
            ],
            [
             0.8,
             "#7fbc41"
            ],
            [
             0.9,
             "#4d9221"
            ],
            [
             1,
             "#276419"
            ]
           ],
           "sequential": [
            [
             0,
             "#0d0887"
            ],
            [
             0.1111111111111111,
             "#46039f"
            ],
            [
             0.2222222222222222,
             "#7201a8"
            ],
            [
             0.3333333333333333,
             "#9c179e"
            ],
            [
             0.4444444444444444,
             "#bd3786"
            ],
            [
             0.5555555555555556,
             "#d8576b"
            ],
            [
             0.6666666666666666,
             "#ed7953"
            ],
            [
             0.7777777777777778,
             "#fb9f3a"
            ],
            [
             0.8888888888888888,
             "#fdca26"
            ],
            [
             1,
             "#f0f921"
            ]
           ],
           "sequentialminus": [
            [
             0,
             "#0d0887"
            ],
            [
             0.1111111111111111,
             "#46039f"
            ],
            [
             0.2222222222222222,
             "#7201a8"
            ],
            [
             0.3333333333333333,
             "#9c179e"
            ],
            [
             0.4444444444444444,
             "#bd3786"
            ],
            [
             0.5555555555555556,
             "#d8576b"
            ],
            [
             0.6666666666666666,
             "#ed7953"
            ],
            [
             0.7777777777777778,
             "#fb9f3a"
            ],
            [
             0.8888888888888888,
             "#fdca26"
            ],
            [
             1,
             "#f0f921"
            ]
           ]
          },
          "colorway": [
           "#636efa",
           "#EF553B",
           "#00cc96",
           "#ab63fa",
           "#FFA15A",
           "#19d3f3",
           "#FF6692",
           "#B6E880",
           "#FF97FF",
           "#FECB52"
          ],
          "font": {
           "color": "#2a3f5f"
          },
          "geo": {
           "bgcolor": "white",
           "lakecolor": "white",
           "landcolor": "#E5ECF6",
           "showlakes": true,
           "showland": true,
           "subunitcolor": "white"
          },
          "hoverlabel": {
           "align": "left"
          },
          "hovermode": "closest",
          "mapbox": {
           "style": "light"
          },
          "paper_bgcolor": "white",
          "plot_bgcolor": "#E5ECF6",
          "polar": {
           "angularaxis": {
            "gridcolor": "white",
            "linecolor": "white",
            "ticks": ""
           },
           "bgcolor": "#E5ECF6",
           "radialaxis": {
            "gridcolor": "white",
            "linecolor": "white",
            "ticks": ""
           }
          },
          "scene": {
           "xaxis": {
            "backgroundcolor": "#E5ECF6",
            "gridcolor": "white",
            "gridwidth": 2,
            "linecolor": "white",
            "showbackground": true,
            "ticks": "",
            "zerolinecolor": "white"
           },
           "yaxis": {
            "backgroundcolor": "#E5ECF6",
            "gridcolor": "white",
            "gridwidth": 2,
            "linecolor": "white",
            "showbackground": true,
            "ticks": "",
            "zerolinecolor": "white"
           },
           "zaxis": {
            "backgroundcolor": "#E5ECF6",
            "gridcolor": "white",
            "gridwidth": 2,
            "linecolor": "white",
            "showbackground": true,
            "ticks": "",
            "zerolinecolor": "white"
           }
          },
          "shapedefaults": {
           "line": {
            "color": "#2a3f5f"
           }
          },
          "ternary": {
           "aaxis": {
            "gridcolor": "white",
            "linecolor": "white",
            "ticks": ""
           },
           "baxis": {
            "gridcolor": "white",
            "linecolor": "white",
            "ticks": ""
           },
           "bgcolor": "#E5ECF6",
           "caxis": {
            "gridcolor": "white",
            "linecolor": "white",
            "ticks": ""
           }
          },
          "title": {
           "x": 0.05
          },
          "xaxis": {
           "automargin": true,
           "gridcolor": "white",
           "linecolor": "white",
           "ticks": "",
           "title": {
            "standoff": 15
           },
           "zerolinecolor": "white",
           "zerolinewidth": 2
          },
          "yaxis": {
           "automargin": true,
           "gridcolor": "white",
           "linecolor": "white",
           "ticks": "",
           "title": {
            "standoff": 15
           },
           "zerolinecolor": "white",
           "zerolinewidth": 2
          }
         }
        },
        "title": {
         "text": "absDeDi BONOBO YEAST GOBP prerank sVSg2 padj_cutoff 0.1"
        },
        "width": 800,
        "xaxis": {
         "anchor": "y",
         "domain": [
          0,
          1
         ],
         "title": {
          "text": "NES"
         }
        },
        "yaxis": {
         "anchor": "x",
         "domain": [
          0,
          1
         ],
         "title": {
          "text": "pathway"
         }
        }
       }
      }
     },
     "metadata": {},
     "output_type": "display_data"
    },
    {
     "data": {
      "application/vnd.plotly.v1+json": {
       "config": {
        "plotlyServerURL": "https://plot.ly"
       },
       "data": [
        {
         "hovertemplate": "NES=%{x}<br>pathway=%{y}<br>overlap=%{marker.size}<br>-log padj=%{marker.color}<extra></extra>",
         "legendgroup": "",
         "marker": {
          "color": [
           1.02,
           1.13,
           1.2,
           1.2,
           1.2,
           1.59,
           1.59,
           1.59,
           1.79,
           1.89,
           1.92,
           2.09,
           2.37,
           2.69,
           2.85,
           3.12,
           15.65,
           15.65,
           15.65
          ],
          "coloraxis": "coloraxis",
          "size": [
           37.14,
           5.6,
           16.73,
           30.61,
           32.13,
           32.13,
           10.79,
           12.95,
           12.45,
           28.81,
           13.91,
           12.45,
           10.34,
           13.04,
           3.52,
           10.22,
           10.22,
           13.91,
           13.57
          ],
          "sizemode": "area",
          "sizeref": 0.09285,
          "symbol": "circle"
         },
         "mode": "markers",
         "name": "",
         "orientation": "h",
         "showlegend": false,
         "type": "scatter",
         "x": [
          -2.0580600163606033,
          -2.09843713535167,
          -2.127258221211514,
          -2.146380508531631,
          -2.1365967591950294,
          -2.2894924720447043,
          -2.2819501881350424,
          -2.3007825075048585,
          -2.363097073086921,
          -2.4005395992196426,
          -2.4241456746416703,
          -2.469778906604097,
          -2.543474392438111,
          -2.6143471198249264,
          -2.6737947967679903,
          -2.74734303156162,
          -2.929741349928937,
          -2.9121021893733103,
          -2.8879801108960286
         ],
         "xaxis": "x",
         "y": [
          "nicotinamide nucleotide metabolic process (GO:0046",
          "mitotic sister chromatid cohesion (GO:0007064)",
          "double-strand break repair via homologous recombin",
          "mitotic DNA integrity checkpoint (GO:0044774)",
          "glucose import (GO:0046323)",
          "glucose transport (GO:0015758)",
          "DNA conformation change (GO:0071103)",
          "double-strand break repair via break-induced repli",
          "DNA strand elongation (GO:0022616)",
          "maintenance of DNA repeat elements (GO:0043570)",
          "homologous chromosome segregation (GO:0045143)",
          "DNA strand elongation involved in DNA replication ",
          "mitotic DNA replication (GO:1902969)",
          "DNA replication (GO:0006260)",
          "lagging strand elongation (GO:0006273)",
          "DNA replication, removal of RNA primer (GO:0043137",
          "DNA replication, Okazaki fragment processing (GO:0",
          "DNA-dependent DNA replication (GO:0006261)",
          "DNA metabolic process (GO:0006259)"
         ],
         "yaxis": "y"
        }
       ],
       "layout": {
        "autosize": true,
        "coloraxis": {
         "colorbar": {
          "title": {
           "text": "-log padj"
          }
         },
         "colorscale": [
          [
           0,
           "rgb(247,252,253)"
          ],
          [
           0.125,
           "rgb(229,245,249)"
          ],
          [
           0.25,
           "rgb(204,236,230)"
          ],
          [
           0.375,
           "rgb(153,216,201)"
          ],
          [
           0.5,
           "rgb(102,194,164)"
          ],
          [
           0.625,
           "rgb(65,174,118)"
          ],
          [
           0.75,
           "rgb(35,139,69)"
          ],
          [
           0.875,
           "rgb(0,109,44)"
          ],
          [
           1,
           "rgb(0,68,27)"
          ]
         ]
        },
        "height": 800,
        "legend": {
         "itemsizing": "constant",
         "tracegroupgap": 0
        },
        "template": {
         "data": {
          "bar": [
           {
            "error_x": {
             "color": "#2a3f5f"
            },
            "error_y": {
             "color": "#2a3f5f"
            },
            "marker": {
             "line": {
              "color": "#E5ECF6",
              "width": 0.5
             },
             "pattern": {
              "fillmode": "overlay",
              "size": 10,
              "solidity": 0.2
             }
            },
            "type": "bar"
           }
          ],
          "barpolar": [
           {
            "marker": {
             "line": {
              "color": "#E5ECF6",
              "width": 0.5
             },
             "pattern": {
              "fillmode": "overlay",
              "size": 10,
              "solidity": 0.2
             }
            },
            "type": "barpolar"
           }
          ],
          "carpet": [
           {
            "aaxis": {
             "endlinecolor": "#2a3f5f",
             "gridcolor": "white",
             "linecolor": "white",
             "minorgridcolor": "white",
             "startlinecolor": "#2a3f5f"
            },
            "baxis": {
             "endlinecolor": "#2a3f5f",
             "gridcolor": "white",
             "linecolor": "white",
             "minorgridcolor": "white",
             "startlinecolor": "#2a3f5f"
            },
            "type": "carpet"
           }
          ],
          "choropleth": [
           {
            "colorbar": {
             "outlinewidth": 0,
             "ticks": ""
            },
            "type": "choropleth"
           }
          ],
          "contour": [
           {
            "colorbar": {
             "outlinewidth": 0,
             "ticks": ""
            },
            "colorscale": [
             [
              0,
              "#0d0887"
             ],
             [
              0.1111111111111111,
              "#46039f"
             ],
             [
              0.2222222222222222,
              "#7201a8"
             ],
             [
              0.3333333333333333,
              "#9c179e"
             ],
             [
              0.4444444444444444,
              "#bd3786"
             ],
             [
              0.5555555555555556,
              "#d8576b"
             ],
             [
              0.6666666666666666,
              "#ed7953"
             ],
             [
              0.7777777777777778,
              "#fb9f3a"
             ],
             [
              0.8888888888888888,
              "#fdca26"
             ],
             [
              1,
              "#f0f921"
             ]
            ],
            "type": "contour"
           }
          ],
          "contourcarpet": [
           {
            "colorbar": {
             "outlinewidth": 0,
             "ticks": ""
            },
            "type": "contourcarpet"
           }
          ],
          "heatmap": [
           {
            "colorbar": {
             "outlinewidth": 0,
             "ticks": ""
            },
            "colorscale": [
             [
              0,
              "#0d0887"
             ],
             [
              0.1111111111111111,
              "#46039f"
             ],
             [
              0.2222222222222222,
              "#7201a8"
             ],
             [
              0.3333333333333333,
              "#9c179e"
             ],
             [
              0.4444444444444444,
              "#bd3786"
             ],
             [
              0.5555555555555556,
              "#d8576b"
             ],
             [
              0.6666666666666666,
              "#ed7953"
             ],
             [
              0.7777777777777778,
              "#fb9f3a"
             ],
             [
              0.8888888888888888,
              "#fdca26"
             ],
             [
              1,
              "#f0f921"
             ]
            ],
            "type": "heatmap"
           }
          ],
          "heatmapgl": [
           {
            "colorbar": {
             "outlinewidth": 0,
             "ticks": ""
            },
            "colorscale": [
             [
              0,
              "#0d0887"
             ],
             [
              0.1111111111111111,
              "#46039f"
             ],
             [
              0.2222222222222222,
              "#7201a8"
             ],
             [
              0.3333333333333333,
              "#9c179e"
             ],
             [
              0.4444444444444444,
              "#bd3786"
             ],
             [
              0.5555555555555556,
              "#d8576b"
             ],
             [
              0.6666666666666666,
              "#ed7953"
             ],
             [
              0.7777777777777778,
              "#fb9f3a"
             ],
             [
              0.8888888888888888,
              "#fdca26"
             ],
             [
              1,
              "#f0f921"
             ]
            ],
            "type": "heatmapgl"
           }
          ],
          "histogram": [
           {
            "marker": {
             "pattern": {
              "fillmode": "overlay",
              "size": 10,
              "solidity": 0.2
             }
            },
            "type": "histogram"
           }
          ],
          "histogram2d": [
           {
            "colorbar": {
             "outlinewidth": 0,
             "ticks": ""
            },
            "colorscale": [
             [
              0,
              "#0d0887"
             ],
             [
              0.1111111111111111,
              "#46039f"
             ],
             [
              0.2222222222222222,
              "#7201a8"
             ],
             [
              0.3333333333333333,
              "#9c179e"
             ],
             [
              0.4444444444444444,
              "#bd3786"
             ],
             [
              0.5555555555555556,
              "#d8576b"
             ],
             [
              0.6666666666666666,
              "#ed7953"
             ],
             [
              0.7777777777777778,
              "#fb9f3a"
             ],
             [
              0.8888888888888888,
              "#fdca26"
             ],
             [
              1,
              "#f0f921"
             ]
            ],
            "type": "histogram2d"
           }
          ],
          "histogram2dcontour": [
           {
            "colorbar": {
             "outlinewidth": 0,
             "ticks": ""
            },
            "colorscale": [
             [
              0,
              "#0d0887"
             ],
             [
              0.1111111111111111,
              "#46039f"
             ],
             [
              0.2222222222222222,
              "#7201a8"
             ],
             [
              0.3333333333333333,
              "#9c179e"
             ],
             [
              0.4444444444444444,
              "#bd3786"
             ],
             [
              0.5555555555555556,
              "#d8576b"
             ],
             [
              0.6666666666666666,
              "#ed7953"
             ],
             [
              0.7777777777777778,
              "#fb9f3a"
             ],
             [
              0.8888888888888888,
              "#fdca26"
             ],
             [
              1,
              "#f0f921"
             ]
            ],
            "type": "histogram2dcontour"
           }
          ],
          "mesh3d": [
           {
            "colorbar": {
             "outlinewidth": 0,
             "ticks": ""
            },
            "type": "mesh3d"
           }
          ],
          "parcoords": [
           {
            "line": {
             "colorbar": {
              "outlinewidth": 0,
              "ticks": ""
             }
            },
            "type": "parcoords"
           }
          ],
          "pie": [
           {
            "automargin": true,
            "type": "pie"
           }
          ],
          "scatter": [
           {
            "fillpattern": {
             "fillmode": "overlay",
             "size": 10,
             "solidity": 0.2
            },
            "type": "scatter"
           }
          ],
          "scatter3d": [
           {
            "line": {
             "colorbar": {
              "outlinewidth": 0,
              "ticks": ""
             }
            },
            "marker": {
             "colorbar": {
              "outlinewidth": 0,
              "ticks": ""
             }
            },
            "type": "scatter3d"
           }
          ],
          "scattercarpet": [
           {
            "marker": {
             "colorbar": {
              "outlinewidth": 0,
              "ticks": ""
             }
            },
            "type": "scattercarpet"
           }
          ],
          "scattergeo": [
           {
            "marker": {
             "colorbar": {
              "outlinewidth": 0,
              "ticks": ""
             }
            },
            "type": "scattergeo"
           }
          ],
          "scattergl": [
           {
            "marker": {
             "colorbar": {
              "outlinewidth": 0,
              "ticks": ""
             }
            },
            "type": "scattergl"
           }
          ],
          "scattermapbox": [
           {
            "marker": {
             "colorbar": {
              "outlinewidth": 0,
              "ticks": ""
             }
            },
            "type": "scattermapbox"
           }
          ],
          "scatterpolar": [
           {
            "marker": {
             "colorbar": {
              "outlinewidth": 0,
              "ticks": ""
             }
            },
            "type": "scatterpolar"
           }
          ],
          "scatterpolargl": [
           {
            "marker": {
             "colorbar": {
              "outlinewidth": 0,
              "ticks": ""
             }
            },
            "type": "scatterpolargl"
           }
          ],
          "scatterternary": [
           {
            "marker": {
             "colorbar": {
              "outlinewidth": 0,
              "ticks": ""
             }
            },
            "type": "scatterternary"
           }
          ],
          "surface": [
           {
            "colorbar": {
             "outlinewidth": 0,
             "ticks": ""
            },
            "colorscale": [
             [
              0,
              "#0d0887"
             ],
             [
              0.1111111111111111,
              "#46039f"
             ],
             [
              0.2222222222222222,
              "#7201a8"
             ],
             [
              0.3333333333333333,
              "#9c179e"
             ],
             [
              0.4444444444444444,
              "#bd3786"
             ],
             [
              0.5555555555555556,
              "#d8576b"
             ],
             [
              0.6666666666666666,
              "#ed7953"
             ],
             [
              0.7777777777777778,
              "#fb9f3a"
             ],
             [
              0.8888888888888888,
              "#fdca26"
             ],
             [
              1,
              "#f0f921"
             ]
            ],
            "type": "surface"
           }
          ],
          "table": [
           {
            "cells": {
             "fill": {
              "color": "#EBF0F8"
             },
             "line": {
              "color": "white"
             }
            },
            "header": {
             "fill": {
              "color": "#C8D4E3"
             },
             "line": {
              "color": "white"
             }
            },
            "type": "table"
           }
          ]
         },
         "layout": {
          "annotationdefaults": {
           "arrowcolor": "#2a3f5f",
           "arrowhead": 0,
           "arrowwidth": 1
          },
          "autotypenumbers": "strict",
          "coloraxis": {
           "colorbar": {
            "outlinewidth": 0,
            "ticks": ""
           }
          },
          "colorscale": {
           "diverging": [
            [
             0,
             "#8e0152"
            ],
            [
             0.1,
             "#c51b7d"
            ],
            [
             0.2,
             "#de77ae"
            ],
            [
             0.3,
             "#f1b6da"
            ],
            [
             0.4,
             "#fde0ef"
            ],
            [
             0.5,
             "#f7f7f7"
            ],
            [
             0.6,
             "#e6f5d0"
            ],
            [
             0.7,
             "#b8e186"
            ],
            [
             0.8,
             "#7fbc41"
            ],
            [
             0.9,
             "#4d9221"
            ],
            [
             1,
             "#276419"
            ]
           ],
           "sequential": [
            [
             0,
             "#0d0887"
            ],
            [
             0.1111111111111111,
             "#46039f"
            ],
            [
             0.2222222222222222,
             "#7201a8"
            ],
            [
             0.3333333333333333,
             "#9c179e"
            ],
            [
             0.4444444444444444,
             "#bd3786"
            ],
            [
             0.5555555555555556,
             "#d8576b"
            ],
            [
             0.6666666666666666,
             "#ed7953"
            ],
            [
             0.7777777777777778,
             "#fb9f3a"
            ],
            [
             0.8888888888888888,
             "#fdca26"
            ],
            [
             1,
             "#f0f921"
            ]
           ],
           "sequentialminus": [
            [
             0,
             "#0d0887"
            ],
            [
             0.1111111111111111,
             "#46039f"
            ],
            [
             0.2222222222222222,
             "#7201a8"
            ],
            [
             0.3333333333333333,
             "#9c179e"
            ],
            [
             0.4444444444444444,
             "#bd3786"
            ],
            [
             0.5555555555555556,
             "#d8576b"
            ],
            [
             0.6666666666666666,
             "#ed7953"
            ],
            [
             0.7777777777777778,
             "#fb9f3a"
            ],
            [
             0.8888888888888888,
             "#fdca26"
            ],
            [
             1,
             "#f0f921"
            ]
           ]
          },
          "colorway": [
           "#636efa",
           "#EF553B",
           "#00cc96",
           "#ab63fa",
           "#FFA15A",
           "#19d3f3",
           "#FF6692",
           "#B6E880",
           "#FF97FF",
           "#FECB52"
          ],
          "font": {
           "color": "#2a3f5f"
          },
          "geo": {
           "bgcolor": "white",
           "lakecolor": "white",
           "landcolor": "#E5ECF6",
           "showlakes": true,
           "showland": true,
           "subunitcolor": "white"
          },
          "hoverlabel": {
           "align": "left"
          },
          "hovermode": "closest",
          "mapbox": {
           "style": "light"
          },
          "paper_bgcolor": "white",
          "plot_bgcolor": "#E5ECF6",
          "polar": {
           "angularaxis": {
            "gridcolor": "white",
            "linecolor": "white",
            "ticks": ""
           },
           "bgcolor": "#E5ECF6",
           "radialaxis": {
            "gridcolor": "white",
            "linecolor": "white",
            "ticks": ""
           }
          },
          "scene": {
           "xaxis": {
            "backgroundcolor": "#E5ECF6",
            "gridcolor": "white",
            "gridwidth": 2,
            "linecolor": "white",
            "showbackground": true,
            "ticks": "",
            "zerolinecolor": "white"
           },
           "yaxis": {
            "backgroundcolor": "#E5ECF6",
            "gridcolor": "white",
            "gridwidth": 2,
            "linecolor": "white",
            "showbackground": true,
            "ticks": "",
            "zerolinecolor": "white"
           },
           "zaxis": {
            "backgroundcolor": "#E5ECF6",
            "gridcolor": "white",
            "gridwidth": 2,
            "linecolor": "white",
            "showbackground": true,
            "ticks": "",
            "zerolinecolor": "white"
           }
          },
          "shapedefaults": {
           "line": {
            "color": "#2a3f5f"
           }
          },
          "ternary": {
           "aaxis": {
            "gridcolor": "white",
            "linecolor": "white",
            "ticks": ""
           },
           "baxis": {
            "gridcolor": "white",
            "linecolor": "white",
            "ticks": ""
           },
           "bgcolor": "#E5ECF6",
           "caxis": {
            "gridcolor": "white",
            "linecolor": "white",
            "ticks": ""
           }
          },
          "title": {
           "x": 0.05
          },
          "xaxis": {
           "automargin": true,
           "gridcolor": "white",
           "linecolor": "white",
           "ticks": "",
           "title": {
            "standoff": 15
           },
           "zerolinecolor": "white",
           "zerolinewidth": 2
          },
          "yaxis": {
           "automargin": true,
           "gridcolor": "white",
           "linecolor": "white",
           "ticks": "",
           "title": {
            "standoff": 15
           },
           "zerolinecolor": "white",
           "zerolinewidth": 2
          }
         }
        },
        "title": {
         "text": "DeDi BONOBO YEAST GOBP prerank sVSg2 padj_cutoff 0.1"
        },
        "width": 800,
        "xaxis": {
         "anchor": "y",
         "domain": [
          0,
          1
         ],
         "range": [
          -3.2,
          3.2
         ],
         "title": {
          "text": "NES"
         }
        },
        "yaxis": {
         "anchor": "x",
         "domain": [
          0,
          1
         ],
         "title": {
          "text": "pathway"
         }
        }
       }
      }
     },
     "metadata": {},
     "output_type": "display_data"
    }
   ],
   "source": [
    "from node2vec2rank.post_utils import plot_gseapy_prerank \n",
    "\n",
    "stability_cutoff = 0.6\n",
    "padj_cutoff = 0.1\n",
    "\n",
    "save_directory = '../results/results_gsea/' + gsea_parent_folder_name\n",
    "# save_directory = None\n",
    "\n",
    "\n",
    "title = network_inf_method+ \" \" +  tissue +  \" KEGG prerank \" + target + \" padj_cutoff \" + str(padj_cutoff)\n",
    "\n",
    "\n",
    "plot_gseapy_prerank(n2v2r_pre_KEGG_pd, has_stability=True, padj_cutoff=padj_cutoff, stability_cutoff=stability_cutoff, title=\"n2v2r \" +title, output_dir=save_directory)\n",
    "plot_gseapy_prerank(n2v2r_DeDi_pre_KEGG_pd,has_stability=True, one_sided= False,padj_cutoff=padj_cutoff, stability_cutoff=stability_cutoff, title=\"signed n2v2r \" + title, output_dir=save_directory)\n",
    "# plot_gseapy_prerank(borda_pre_KEGG_pd, has_stability=False,padj_cutoff=padj_cutoff, stability_cutoff=stability_cutoff, title=\"Borda n2v2r \" + title, output_dir=save_directory)\n",
    "# plot_gseapy_prerank(n2v2r_borda_DeDi_pre_KEGG_pd,has_stability=False, one_sided= False,padj_cutoff=0.1, stability_cutoff=stability_cutoff, title=\"signed Borda n2v2r \" + title, output_dir=save_directory)\n",
    "plot_gseapy_prerank(absDeDi_pre_KEGG_pd,has_stability=False,padj_cutoff=padj_cutoff, stability_cutoff=stability_cutoff, title=\"absDeDi \" + title, output_dir=save_directory)\n",
    "plot_gseapy_prerank(DeDi_pre_KEGG_pd,has_stability=False, one_sided= False,padj_cutoff=padj_cutoff, stability_cutoff=stability_cutoff, title=\"DeDi \" + title, output_dir=save_directory)\n",
    "\n",
    "title = network_inf_method+ \" \" +  tissue +  \" GOBP prerank \" + target + \" padj_cutoff \" + str(padj_cutoff)\n",
    "\n",
    "plot_gseapy_prerank(n2v2r_pre_GOBP_pd, has_stability=True, padj_cutoff=padj_cutoff, stability_cutoff=stability_cutoff, title=\"n2v2r \" +title, output_dir=save_directory)\n",
    "plot_gseapy_prerank(n2v2r_DeDi_pre_GOBP_pd,has_stability=True,one_sided= False,padj_cutoff=padj_cutoff, stability_cutoff=stability_cutoff, title=\"signed n2v2r \" + title, output_dir=save_directory)\n",
    "# plot_gseapy_prerank(borda_pre_GOBP_pd, has_stability=False,padj_cutoff=padj_cutoff, stability_cutoff=stability_cutoff, title=\"Borda n2v2r \" + title, output_dir=save_directory)\n",
    "# plot_gseapy_prerank(n2v2r_borda_DeDi_pre_GOBP_pd,has_stability=False, one_sided= False,padj_cutoff=padj_cutoff, stability_cutoff=stability_cutoff, title=\"signed Borda n2v2r \" + title, output_dir=save_directory)\n",
    "plot_gseapy_prerank(absDeDi_pre_GOBP_pd,has_stability=False,padj_cutoff=padj_cutoff, stability_cutoff=stability_cutoff, title=\"absDeDi \" + title, output_dir=save_directory)\n",
    "plot_gseapy_prerank(DeDi_pre_GOBP_pd,has_stability=False,padj_cutoff=padj_cutoff, one_sided= False, stability_cutoff=stability_cutoff, title=\"DeDi \" + title, output_dir=save_directory)\n"
   ]
  }
 ],
 "metadata": {
  "kernelspec": {
   "display_name": "node2vec2rank",
   "language": "python",
   "name": "python3"
  },
  "language_info": {
   "codemirror_mode": {
    "name": "ipython",
    "version": 3
   },
   "file_extension": ".py",
   "mimetype": "text/x-python",
   "name": "python",
   "nbconvert_exporter": "python",
   "pygments_lexer": "ipython3",
   "version": "3.9.15"
  },
  "orig_nbformat": 4,
  "vscode": {
   "interpreter": {
    "hash": "177e2573c35447d5c54e30f63e196616e0e86c4bc86471ca094a5fa340271d71"
   }
  }
 },
 "nbformat": 4,
 "nbformat_minor": 2
}
