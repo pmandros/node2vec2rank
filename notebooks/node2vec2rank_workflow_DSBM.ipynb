{
 "cells": [
  {
   "cell_type": "code",
   "execution_count": 1,
   "metadata": {},
   "outputs": [],
   "source": [
    "import warnings\n",
    "warnings.filterwarnings('ignore')\n",
    "\n",
    "import sys\n",
    "import os\n",
    "import copy \n",
    "import random\n",
    "import json\n",
    "\n",
    "sys.path.insert(1, os.path.realpath(os.path.pardir))\n",
    "\n",
    "import pandas as pd\n",
    "import numpy as np\n",
    "import matplotlib as mpl\n",
    "import matplotlib.pyplot as plt\n",
    "\n",
    "\n",
    "from node2vec2rank.post_utils import normalized_discounted_cumulative_gain\n",
    "\n",
    "import spectral_embedding as se\n",
    "\n",
    "from node2vec2rank.model import n2v2r\n",
    "\n",
    "from sklearn import preprocessing\n"
   ]
  },
  {
   "cell_type": "code",
   "execution_count": 2,
   "metadata": {},
   "outputs": [],
   "source": [
    "def generate_two_DSBM_graphs_fixed_four_original(num_nodes, multiplicity = 1):\n",
    "    num_com = 4\n",
    "\n",
    "    pi = np.repeat(1/num_com, num_com)\n",
    "\n",
    "    Bs = np.array([[[0.08, 0.02, 0.18, 0.10],\n",
    "                    [0.02, 0.20, 0.04, 0.10],\n",
    "                    [0.18, 0.04, 0.02, 0.02],\n",
    "                    [0.10, 0.10, 0.02, 0.06]],\n",
    "                [[0.16, 0.16, 0.04, 0.10],\n",
    "                    [0.16, 0.16, 0.04, 0.10],\n",
    "                    [0.04, 0.04, 0.09, 0.02],\n",
    "                    [0.10, 0.10, 0.02, 0.06]]])\n",
    "    \n",
    "\n",
    "    list_of_pairs_of_graphs = []\n",
    "    list_of_assignments = []\n",
    "\n",
    "    for i in range(multiplicity):\n",
    "\n",
    "        As, Z = se.generate_SBM_dynamic(num_nodes, Bs, pi)\n",
    "\n",
    "        colours = np.array(list(mpl.colors.TABLEAU_COLORS.keys())[0:num_com])\n",
    "        Zcol = colours[Z]\n",
    "        \n",
    "        list_of_pairs_of_graphs.append(As)\n",
    "\n",
    "        le = preprocessing.LabelEncoder()\n",
    "        assignments = le.fit_transform(Zcol)\n",
    "        list_of_assignments.append(assignments)\n",
    "    \n",
    "    return list_of_pairs_of_graphs, Bs[0], Bs[1], list_of_assignments\n",
    "\n",
    "def generate_two_DSBM_graphs_random_changes(num_nodes, num_com, max_comm_prob=0.5, multiplicity_model = 1, multiplicity_samples=1):\n",
    "\n",
    "    list_of_pairs_of_graphs = []\n",
    "    list_of_assignments = []\n",
    "\n",
    "    for _ in range(multiplicity_model):\n",
    "\n",
    "        first_true_memb_matrix = np.random.uniform(0.25, max_comm_prob,(num_com,num_com))\n",
    "        second_true_memb_matrix = np.random.uniform(0.25, max_comm_prob,(num_com,num_com))\n",
    "\n",
    "        stacked_true_memb_matrix = np.stack((first_true_memb_matrix, second_true_memb_matrix))\n",
    "\n",
    "        pi = np.repeat(1/num_com, num_com)\n",
    "\n",
    "        for _ in range(multiplicity_samples):\n",
    "\n",
    "            As, Z = se.generate_SBM_dynamic(num_nodes, stacked_true_memb_matrix, pi)\n",
    "\n",
    "            colours = np.array(list(mpl.colors.TABLEAU_COLORS.keys())[0:num_com])\n",
    "            Zcol = colours[Z]\n",
    "            \n",
    "            list_of_pairs_of_graphs.append(As)\n",
    "\n",
    "            le = preprocessing.LabelEncoder()\n",
    "            assignments = le.fit_transform(Zcol)\n",
    "            list_of_assignments.append(assignments)\n",
    "    \n",
    "    return list_of_pairs_of_graphs, stacked_true_memb_matrix[0], stacked_true_memb_matrix[1], list_of_assignments\n",
    "    \n",
    "\n",
    "\n",
    "\"\"\"\n",
    "Given a ranking (node integer IDs) and the true community membership matrices, it outputs the total and per group ndcg\n",
    "\"\"\"\n",
    "def evaluate_DBSM_ranking(first_true_memb_matrix, second_true_memb_matrix, ranking, assignments):\n",
    "    ranking = np.int16(ranking)\n",
    "    assignments = np.int16(assignments) + 1\n",
    "    num_communities = first_true_memb_matrix.shape[1]\n",
    "\n",
    "    #contains the community of each node in the ranking\n",
    "    ranking_com_mapped = assignments[ranking].copy()\n",
    "\n",
    "    #rank the communities according to how much they changed\n",
    "    Ds = np.linalg.norm(np.abs(first_true_memb_matrix-second_true_memb_matrix), axis=1)\n",
    "    sort_comm_difs = np.flip(np.argsort(Ds)) + 1\n",
    "\n",
    "    rel_dict  = {}\n",
    "    for i in range(num_communities):\n",
    "        rel_dict[sort_comm_difs[i]] = num_communities - i\n",
    "\n",
    "    total_ranking_relevance = []\n",
    "    for i in range(ranking_com_mapped.size):\n",
    "        relevance_of_node = rel_dict[ranking_com_mapped[i]]\n",
    "        total_ranking_relevance.append(relevance_of_node)\n",
    "\n",
    "    ## get the ndcg for the entire ranking (non binary relevance)\n",
    "    total_ranking_relevance = np.int16(total_ranking_relevance)\n",
    "    total_score= normalized_discounted_cumulative_gain(total_ranking_relevance, binary_relevance=False) \n",
    "\n",
    "\n",
    "    scores = []\n",
    "    scores.append(total_score)\n",
    "    ##get the ndcg per community (binary relevance)\n",
    "    prev_com_num_nodes = 0\n",
    "    for i in range(num_communities):\n",
    "        nodes_in_com = np.where(assignments==sort_comm_difs[i])[0]\n",
    "        num_nodes_in_com = nodes_in_com.shape[0]\n",
    "        com_relevance = num_communities-i\n",
    "\n",
    "        group_relevance = total_ranking_relevance[prev_com_num_nodes:(prev_com_num_nodes+num_nodes_in_com-1)].copy()\n",
    "\n",
    "        prev_com_num_nodes = prev_com_num_nodes + num_nodes_in_com\n",
    "        group_relevance[group_relevance!=com_relevance] = 0\n",
    "        group_relevance[group_relevance!=0] = 1\n",
    "\n",
    "        group_score= normalized_discounted_cumulative_gain(group_relevance, binary_relevance=True)\n",
    "        scores.append(group_score)\n",
    "\n",
    "    return scores, total_ranking_relevance"
   ]
  },
  {
   "cell_type": "code",
   "execution_count": 112,
   "metadata": {},
   "outputs": [],
   "source": [
    "from node2vec2rank.visualization_utils import dim_reduction, plot_embeddings\n",
    "\n",
    "num_nodes = 100\n",
    "num_com = 10\n",
    "multiplicity_model = 100\n",
    "multiplicity_samples = 1\n",
    "max_comm_prob = 0.75\n",
    "\n",
    "list_of_pairs_of_graphs, first_true_memb_matrix, second_true_memb_matrix, list_of_assignments = generate_two_DSBM_graphs_random_changes(num_nodes=num_nodes, num_com=num_com, max_comm_prob=max_comm_prob,multiplicity_model=multiplicity_model, multiplicity_samples=multiplicity_samples)"
   ]
  },
  {
   "cell_type": "code",
   "execution_count": 146,
   "metadata": {},
   "outputs": [
    {
     "name": "stdout",
     "output_type": "stream",
     "text": [
      "\n",
      "Running n2v2r with dimensions [32] and distance metrics ['cosine'] ...\n",
      "\tUASE embedding in 0.01 seconds for bin=False and keep_top=100%\n",
      "\t\tRanking in 0.0 seconds\n",
      "n2v2r computed 1 rankings for 1 comparison(s) in 0.35 seconds\n",
      "\n",
      "Rank aggregation with Borda ...\n",
      "\tFinished aggregation in 0.0 seconds\n",
      "\n",
      "Running n2v2r with dimensions [32] and distance metrics ['cosine'] ...\n",
      "\tUASE embedding in 0.01 seconds for bin=False and keep_top=100%\n",
      "\t\tRanking in 0.0 seconds\n",
      "n2v2r computed 1 rankings for 1 comparison(s) in 0.35 seconds\n",
      "\n",
      "Rank aggregation with Borda ...\n",
      "\tFinished aggregation in 0.0 seconds\n",
      "\n",
      "Running n2v2r with dimensions [32] and distance metrics ['cosine'] ...\n",
      "\tUASE embedding in 0.01 seconds for bin=False and keep_top=100%\n",
      "\t\tRanking in 0.0 seconds\n",
      "n2v2r computed 1 rankings for 1 comparison(s) in 0.34 seconds\n",
      "\n",
      "Rank aggregation with Borda ...\n",
      "\tFinished aggregation in 0.0 seconds\n",
      "\n",
      "Running n2v2r with dimensions [32] and distance metrics ['cosine'] ...\n",
      "\tUASE embedding in 0.01 seconds for bin=False and keep_top=100%\n",
      "\t\tRanking in 0.0 seconds\n",
      "n2v2r computed 1 rankings for 1 comparison(s) in 0.34 seconds\n",
      "\n",
      "Rank aggregation with Borda ...\n",
      "\tFinished aggregation in 0.0 seconds\n",
      "\n",
      "Running n2v2r with dimensions [32] and distance metrics ['cosine'] ...\n",
      "\tUASE embedding in 0.01 seconds for bin=False and keep_top=100%\n",
      "\t\tRanking in 0.0 seconds\n",
      "n2v2r computed 1 rankings for 1 comparison(s) in 0.68 seconds\n",
      "\n",
      "Rank aggregation with Borda ...\n",
      "\tFinished aggregation in 0.01 seconds\n",
      "\n",
      "Running n2v2r with dimensions [32] and distance metrics ['cosine'] ...\n",
      "\tUASE embedding in 0.02 seconds for bin=False and keep_top=100%\n",
      "\t\tRanking in 0.01 seconds\n"
     ]
    },
    {
     "name": "stdout",
     "output_type": "stream",
     "text": [
      "n2v2r computed 1 rankings for 1 comparison(s) in 0.64 seconds\n",
      "\n",
      "Rank aggregation with Borda ...\n",
      "\tFinished aggregation in 0.0 seconds\n",
      "\n",
      "Running n2v2r with dimensions [32] and distance metrics ['cosine'] ...\n",
      "\tUASE embedding in 0.01 seconds for bin=False and keep_top=100%\n",
      "\t\tRanking in 0.0 seconds\n",
      "n2v2r computed 1 rankings for 1 comparison(s) in 0.35 seconds\n",
      "\n",
      "Rank aggregation with Borda ...\n",
      "\tFinished aggregation in 0.0 seconds\n",
      "\n",
      "Running n2v2r with dimensions [32] and distance metrics ['cosine'] ...\n",
      "\tUASE embedding in 0.01 seconds for bin=False and keep_top=100%\n",
      "\t\tRanking in 0.0 seconds\n",
      "n2v2r computed 1 rankings for 1 comparison(s) in 0.35 seconds\n",
      "\n",
      "Rank aggregation with Borda ...\n",
      "\tFinished aggregation in 0.0 seconds\n",
      "\n",
      "Running n2v2r with dimensions [32] and distance metrics ['cosine'] ...\n",
      "\tUASE embedding in 0.01 seconds for bin=False and keep_top=100%\n",
      "\t\tRanking in 0.0 seconds\n",
      "n2v2r computed 1 rankings for 1 comparison(s) in 0.34 seconds\n",
      "\n",
      "Rank aggregation with Borda ...\n",
      "\tFinished aggregation in 0.0 seconds\n",
      "\n",
      "Running n2v2r with dimensions [32] and distance metrics ['cosine'] ...\n",
      "\tUASE embedding in 0.01 seconds for bin=False and keep_top=100%\n",
      "\t\tRanking in 0.0 seconds\n",
      "n2v2r computed 1 rankings for 1 comparison(s) in 0.36 seconds\n",
      "\n",
      "Rank aggregation with Borda ...\n",
      "\tFinished aggregation in 0.01 seconds\n",
      "\n",
      "Running n2v2r with dimensions [32] and distance metrics ['cosine'] ...\n",
      "\tUASE embedding in 0.02 seconds for bin=False and keep_top=100%\n",
      "\t\tRanking in 0.01 seconds\n",
      "n2v2r computed 1 rankings for 1 comparison(s) in 0.76 seconds\n",
      "\n",
      "Rank aggregation with Borda ...\n",
      "\tFinished aggregation in 0.01 seconds\n",
      "\n",
      "Running n2v2r with dimensions [32] and distance metrics ['cosine'] ...\n",
      "\tUASE embedding in 0.01 seconds for bin=False and keep_top=100%\n",
      "\t\tRanking in 0.01 seconds\n",
      "n2v2r computed 1 rankings for 1 comparison(s) in 0.52 seconds\n",
      "\n",
      "Rank aggregation with Borda ...\n",
      "\tFinished aggregation in 0.0 seconds\n",
      "\n",
      "Running n2v2r with dimensions [32] and distance metrics ['cosine'] ...\n",
      "\tUASE embedding in 0.01 seconds for bin=False and keep_top=100%\n",
      "\t\tRanking in 0.0 seconds\n",
      "n2v2r computed 1 rankings for 1 comparison(s) in 0.35 seconds\n",
      "\n",
      "Rank aggregation with Borda ...\n",
      "\tFinished aggregation in 0.0 seconds\n",
      "\n",
      "Running n2v2r with dimensions [32] and distance metrics ['cosine'] ...\n",
      "\tUASE embedding in 0.01 seconds for bin=False and keep_top=100%\n",
      "\t\tRanking in 0.0 seconds\n",
      "n2v2r computed 1 rankings for 1 comparison(s) in 0.35 seconds\n",
      "\n",
      "Rank aggregation with Borda ...\n",
      "\tFinished aggregation in 0.0 seconds\n",
      "\n",
      "Running n2v2r with dimensions [32] and distance metrics ['cosine'] ...\n",
      "\tUASE embedding in 0.01 seconds for bin=False and keep_top=100%\n",
      "\t\tRanking in 0.0 seconds\n",
      "n2v2r computed 1 rankings for 1 comparison(s) in 0.35 seconds\n",
      "\n",
      "Rank aggregation with Borda ...\n",
      "\tFinished aggregation in 0.0 seconds\n",
      "\n",
      "Running n2v2r with dimensions [32] and distance metrics ['cosine'] ...\n",
      "\tUASE embedding in 0.01 seconds for bin=False and keep_top=100%\n",
      "\t\tRanking in 0.0 seconds\n",
      "n2v2r computed 1 rankings for 1 comparison(s) in 0.45 seconds\n",
      "\n",
      "Rank aggregation with Borda ...\n",
      "\tFinished aggregation in 0.01 seconds\n",
      "\n",
      "Running n2v2r with dimensions [32] and distance metrics ['cosine'] ...\n",
      "\tUASE embedding in 0.01 seconds for bin=False and keep_top=100%\n",
      "\t\tRanking in 0.01 seconds\n",
      "n2v2r computed 1 rankings for 1 comparison(s) in 0.74 seconds\n",
      "\n",
      "Rank aggregation with Borda ...\n",
      "\tFinished aggregation in 0.01 seconds\n",
      "\n",
      "Running n2v2r with dimensions [32] and distance metrics ['cosine'] ...\n",
      "\tUASE embedding in 0.02 seconds for bin=False and keep_top=100%\n",
      "\t\tRanking in 0.01 seconds\n",
      "n2v2r computed 1 rankings for 1 comparison(s) in 0.42 seconds\n",
      "\n",
      "Rank aggregation with Borda ...\n",
      "\tFinished aggregation in 0.0 seconds\n",
      "\n",
      "Running n2v2r with dimensions [32] and distance metrics ['cosine'] ...\n",
      "\tUASE embedding in 0.01 seconds for bin=False and keep_top=100%\n",
      "\t\tRanking in 0.0 seconds\n",
      "n2v2r computed 1 rankings for 1 comparison(s) in 0.35 seconds\n",
      "\n",
      "Rank aggregation with Borda ...\n",
      "\tFinished aggregation in 0.0 seconds\n",
      "\n",
      "Running n2v2r with dimensions [32] and distance metrics ['cosine'] ...\n",
      "\tUASE embedding in 0.01 seconds for bin=False and keep_top=100%\n",
      "\t\tRanking in 0.0 seconds\n",
      "n2v2r computed 1 rankings for 1 comparison(s) in 0.34 seconds\n",
      "\n",
      "Rank aggregation with Borda ...\n",
      "\tFinished aggregation in 0.0 seconds\n",
      "\n",
      "Running n2v2r with dimensions [32] and distance metrics ['cosine'] ...\n",
      "\tUASE embedding in 0.01 seconds for bin=False and keep_top=100%\n",
      "\t\tRanking in 0.0 seconds\n",
      "n2v2r computed 1 rankings for 1 comparison(s) in 0.34 seconds\n",
      "\n",
      "Rank aggregation with Borda ...\n",
      "\tFinished aggregation in 0.0 seconds\n",
      "\n",
      "Running n2v2r with dimensions [32] and distance metrics ['cosine'] ...\n",
      "\tUASE embedding in 0.01 seconds for bin=False and keep_top=100%\n",
      "\t\tRanking in 0.0 seconds\n",
      "n2v2r computed 1 rankings for 1 comparison(s) in 0.6 seconds\n",
      "\n",
      "Rank aggregation with Borda ...\n",
      "\tFinished aggregation in 0.01 seconds\n",
      "\n",
      "Running n2v2r with dimensions [32] and distance metrics ['cosine'] ...\n",
      "\tUASE embedding in 0.02 seconds for bin=False and keep_top=100%\n",
      "\t\tRanking in 0.01 seconds\n",
      "n2v2r computed 1 rankings for 1 comparison(s) in 0.71 seconds\n",
      "\n",
      "Rank aggregation with Borda ...\n",
      "\tFinished aggregation in 0.0 seconds\n",
      "\n",
      "Running n2v2r with dimensions [32] and distance metrics ['cosine'] ...\n",
      "\tUASE embedding in 0.01 seconds for bin=False and keep_top=100%\n",
      "\t\tRanking in 0.0 seconds\n",
      "n2v2r computed 1 rankings for 1 comparison(s) in 0.34 seconds\n",
      "\n",
      "Rank aggregation with Borda ...\n",
      "\tFinished aggregation in 0.0 seconds\n",
      "\n",
      "Running n2v2r with dimensions [32] and distance metrics ['cosine'] ...\n",
      "\tUASE embedding in 0.01 seconds for bin=False and keep_top=100%\n",
      "\t\tRanking in 0.0 seconds\n",
      "n2v2r computed 1 rankings for 1 comparison(s) in 0.35 seconds\n",
      "\n",
      "Rank aggregation with Borda ...\n",
      "\tFinished aggregation in 0.0 seconds\n",
      "\n",
      "Running n2v2r with dimensions [32] and distance metrics ['cosine'] ...\n",
      "\tUASE embedding in 0.01 seconds for bin=False and keep_top=100%\n",
      "\t\tRanking in 0.0 seconds\n",
      "n2v2r computed 1 rankings for 1 comparison(s) in 0.34 seconds\n",
      "\n",
      "Rank aggregation with Borda ...\n",
      "\tFinished aggregation in 0.0 seconds\n",
      "\n",
      "Running n2v2r with dimensions [32] and distance metrics ['cosine'] ...\n",
      "\tUASE embedding in 0.01 seconds for bin=False and keep_top=100%\n",
      "\t\tRanking in 0.0 seconds\n",
      "n2v2r computed 1 rankings for 1 comparison(s) in 0.34 seconds\n",
      "\n",
      "Rank aggregation with Borda ...\n",
      "\tFinished aggregation in 0.0 seconds\n",
      "\n",
      "Running n2v2r with dimensions [32] and distance metrics ['cosine'] ...\n",
      "\tUASE embedding in 0.01 seconds for bin=False and keep_top=100%\n",
      "\t\tRanking in 0.0 seconds\n",
      "n2v2r computed 1 rankings for 1 comparison(s) in 0.72 seconds\n",
      "\n",
      "Rank aggregation with Borda ...\n",
      "\tFinished aggregation in 0.01 seconds\n",
      "\n",
      "Running n2v2r with dimensions [32] and distance metrics ['cosine'] ...\n",
      "\tUASE embedding in 0.02 seconds for bin=False and keep_top=100%\n",
      "\t\tRanking in 0.01 seconds\n",
      "n2v2r computed 1 rankings for 1 comparison(s) in 0.59 seconds\n",
      "\n",
      "Rank aggregation with Borda ...\n",
      "\tFinished aggregation in 0.0 seconds\n",
      "\n",
      "Running n2v2r with dimensions [32] and distance metrics ['cosine'] ...\n",
      "\tUASE embedding in 0.01 seconds for bin=False and keep_top=100%\n",
      "\t\tRanking in 0.0 seconds\n",
      "n2v2r computed 1 rankings for 1 comparison(s) in 0.35 seconds\n",
      "\n",
      "Rank aggregation with Borda ...\n",
      "\tFinished aggregation in 0.0 seconds\n",
      "\n",
      "Running n2v2r with dimensions [32] and distance metrics ['cosine'] ...\n",
      "\tUASE embedding in 0.01 seconds for bin=False and keep_top=100%\n",
      "\t\tRanking in 0.0 seconds\n",
      "n2v2r computed 1 rankings for 1 comparison(s) in 0.35 seconds\n",
      "\n",
      "Rank aggregation with Borda ...\n",
      "\tFinished aggregation in 0.0 seconds\n",
      "\n",
      "Running n2v2r with dimensions [32] and distance metrics ['cosine'] ...\n",
      "\tUASE embedding in 0.01 seconds for bin=False and keep_top=100%\n",
      "\t\tRanking in 0.0 seconds\n",
      "n2v2r computed 1 rankings for 1 comparison(s) in 0.34 seconds\n",
      "\n",
      "Rank aggregation with Borda ...\n",
      "\tFinished aggregation in 0.0 seconds\n",
      "\n",
      "Running n2v2r with dimensions [32] and distance metrics ['cosine'] ...\n",
      "\tUASE embedding in 0.01 seconds for bin=False and keep_top=100%\n",
      "\t\tRanking in 0.0 seconds\n",
      "n2v2r computed 1 rankings for 1 comparison(s) in 0.41 seconds\n",
      "\n",
      "Rank aggregation with Borda ...\n",
      "\tFinished aggregation in 0.01 seconds\n",
      "\n",
      "Running n2v2r with dimensions [32] and distance metrics ['cosine'] ...\n",
      "\tUASE embedding in 0.02 seconds for bin=False and keep_top=100%\n",
      "\t\tRanking in 0.01 seconds\n",
      "n2v2r computed 1 rankings for 1 comparison(s) in 0.76 seconds\n",
      "\n",
      "Rank aggregation with Borda ...\n",
      "\tFinished aggregation in 0.01 seconds\n",
      "\n",
      "Running n2v2r with dimensions [32] and distance metrics ['cosine'] ...\n",
      "\tUASE embedding in 0.02 seconds for bin=False and keep_top=100%\n",
      "\t\tRanking in 0.01 seconds\n",
      "n2v2r computed 1 rankings for 1 comparison(s) in 0.44 seconds\n",
      "\n",
      "Rank aggregation with Borda ...\n",
      "\tFinished aggregation in 0.0 seconds\n",
      "\n",
      "Running n2v2r with dimensions [32] and distance metrics ['cosine'] ...\n",
      "\tUASE embedding in 0.01 seconds for bin=False and keep_top=100%\n",
      "\t\tRanking in 0.0 seconds\n",
      "n2v2r computed 1 rankings for 1 comparison(s) in 0.35 seconds\n",
      "\n",
      "Rank aggregation with Borda ...\n",
      "\tFinished aggregation in 0.0 seconds\n",
      "\n",
      "Running n2v2r with dimensions [32] and distance metrics ['cosine'] ...\n",
      "\tUASE embedding in 0.01 seconds for bin=False and keep_top=100%\n",
      "\t\tRanking in 0.0 seconds\n",
      "n2v2r computed 1 rankings for 1 comparison(s) in 0.35 seconds\n",
      "\n",
      "Rank aggregation with Borda ...\n",
      "\tFinished aggregation in 0.0 seconds\n",
      "\n",
      "Running n2v2r with dimensions [32] and distance metrics ['cosine'] ...\n",
      "\tUASE embedding in 0.01 seconds for bin=False and keep_top=100%\n",
      "\t\tRanking in 0.0 seconds\n",
      "n2v2r computed 1 rankings for 1 comparison(s) in 0.36 seconds\n",
      "\n",
      "Rank aggregation with Borda ...\n",
      "\tFinished aggregation in 0.0 seconds\n",
      "\n",
      "Running n2v2r with dimensions [32] and distance metrics ['cosine'] ...\n",
      "\tUASE embedding in 0.01 seconds for bin=False and keep_top=100%\n",
      "\t\tRanking in 0.0 seconds\n",
      "n2v2r computed 1 rankings for 1 comparison(s) in 0.58 seconds\n",
      "\n",
      "Rank aggregation with Borda ...\n",
      "\tFinished aggregation in 0.01 seconds\n",
      "\n",
      "Running n2v2r with dimensions [32] and distance metrics ['cosine'] ...\n",
      "\tUASE embedding in 0.01 seconds for bin=False and keep_top=100%\n",
      "\t\tRanking in 0.01 seconds\n",
      "n2v2r computed 1 rankings for 1 comparison(s) in 0.72 seconds\n",
      "\n",
      "Rank aggregation with Borda ...\n",
      "\tFinished aggregation in 0.0 seconds\n",
      "\n",
      "Running n2v2r with dimensions [32] and distance metrics ['cosine'] ...\n",
      "\tUASE embedding in 0.01 seconds for bin=False and keep_top=100%\n",
      "\t\tRanking in 0.0 seconds\n",
      "n2v2r computed 1 rankings for 1 comparison(s) in 0.34 seconds\n",
      "\n",
      "Rank aggregation with Borda ...\n",
      "\tFinished aggregation in 0.0 seconds\n",
      "\n",
      "Running n2v2r with dimensions [32] and distance metrics ['cosine'] ...\n",
      "\tUASE embedding in 0.01 seconds for bin=False and keep_top=100%\n",
      "\t\tRanking in 0.0 seconds\n",
      "n2v2r computed 1 rankings for 1 comparison(s) in 0.35 seconds\n",
      "\n",
      "Rank aggregation with Borda ...\n",
      "\tFinished aggregation in 0.0 seconds\n",
      "\n",
      "Running n2v2r with dimensions [32] and distance metrics ['cosine'] ...\n",
      "\tUASE embedding in 0.01 seconds for bin=False and keep_top=100%\n",
      "\t\tRanking in 0.0 seconds\n",
      "n2v2r computed 1 rankings for 1 comparison(s) in 0.34 seconds\n",
      "\n",
      "Rank aggregation with Borda ...\n",
      "\tFinished aggregation in 0.0 seconds\n",
      "\n",
      "Running n2v2r with dimensions [32] and distance metrics ['cosine'] ...\n",
      "\tUASE embedding in 0.01 seconds for bin=False and keep_top=100%\n",
      "\t\tRanking in 0.0 seconds\n",
      "n2v2r computed 1 rankings for 1 comparison(s) in 0.34 seconds\n",
      "\n",
      "Rank aggregation with Borda ...\n",
      "\tFinished aggregation in 0.0 seconds\n",
      "\n",
      "Running n2v2r with dimensions [32] and distance metrics ['cosine'] ...\n",
      "\tUASE embedding in 0.01 seconds for bin=False and keep_top=100%\n",
      "\t\tRanking in 0.01 seconds\n",
      "n2v2r computed 1 rankings for 1 comparison(s) in 0.76 seconds\n",
      "\n",
      "Rank aggregation with Borda ...\n",
      "\tFinished aggregation in 0.01 seconds\n",
      "\n",
      "Running n2v2r with dimensions [32] and distance metrics ['cosine'] ...\n",
      "\tUASE embedding in 0.01 seconds for bin=False and keep_top=100%\n",
      "\t\tRanking in 0.01 seconds\n",
      "n2v2r computed 1 rankings for 1 comparison(s) in 0.54 seconds\n",
      "\n",
      "Rank aggregation with Borda ...\n",
      "\tFinished aggregation in 0.0 seconds\n",
      "\n",
      "Running n2v2r with dimensions [32] and distance metrics ['cosine'] ...\n",
      "\tUASE embedding in 0.01 seconds for bin=False and keep_top=100%\n",
      "\t\tRanking in 0.0 seconds\n",
      "n2v2r computed 1 rankings for 1 comparison(s) in 0.34 seconds\n",
      "\n",
      "Rank aggregation with Borda ...\n",
      "\tFinished aggregation in 0.0 seconds\n",
      "\n",
      "Running n2v2r with dimensions [32] and distance metrics ['cosine'] ...\n",
      "\tUASE embedding in 0.01 seconds for bin=False and keep_top=100%\n",
      "\t\tRanking in 0.0 seconds\n",
      "n2v2r computed 1 rankings for 1 comparison(s) in 0.35 seconds\n",
      "\n",
      "Rank aggregation with Borda ...\n",
      "\tFinished aggregation in 0.0 seconds\n",
      "\n",
      "Running n2v2r with dimensions [32] and distance metrics ['cosine'] ...\n",
      "\tUASE embedding in 0.01 seconds for bin=False and keep_top=100%\n",
      "\t\tRanking in 0.0 seconds\n",
      "n2v2r computed 1 rankings for 1 comparison(s) in 0.36 seconds\n",
      "\n",
      "Rank aggregation with Borda ...\n",
      "\tFinished aggregation in 0.0 seconds\n",
      "\n",
      "Running n2v2r with dimensions [32] and distance metrics ['cosine'] ...\n",
      "\tUASE embedding in 0.01 seconds for bin=False and keep_top=100%\n",
      "\t\tRanking in 0.0 seconds\n",
      "n2v2r computed 1 rankings for 1 comparison(s) in 0.46 seconds\n",
      "\n",
      "Rank aggregation with Borda ...\n",
      "\tFinished aggregation in 0.01 seconds\n",
      "\n",
      "Running n2v2r with dimensions [32] and distance metrics ['cosine'] ...\n",
      "\tUASE embedding in 0.02 seconds for bin=False and keep_top=100%\n",
      "\t\tRanking in 0.01 seconds\n",
      "n2v2r computed 1 rankings for 1 comparison(s) in 0.75 seconds\n",
      "\n",
      "Rank aggregation with Borda ...\n",
      "\tFinished aggregation in 0.01 seconds\n",
      "\n",
      "Running n2v2r with dimensions [32] and distance metrics ['cosine'] ...\n",
      "\tUASE embedding in 0.02 seconds for bin=False and keep_top=100%\n",
      "\t\tRanking in 0.01 seconds\n",
      "n2v2r computed 1 rankings for 1 comparison(s) in 0.41 seconds\n",
      "\n",
      "Rank aggregation with Borda ...\n",
      "\tFinished aggregation in 0.0 seconds\n",
      "\n",
      "Running n2v2r with dimensions [32] and distance metrics ['cosine'] ...\n",
      "\tUASE embedding in 0.01 seconds for bin=False and keep_top=100%\n",
      "\t\tRanking in 0.0 seconds\n",
      "n2v2r computed 1 rankings for 1 comparison(s) in 0.36 seconds\n",
      "\n",
      "Rank aggregation with Borda ...\n",
      "\tFinished aggregation in 0.0 seconds\n",
      "\n",
      "Running n2v2r with dimensions [32] and distance metrics ['cosine'] ...\n",
      "\tUASE embedding in 0.01 seconds for bin=False and keep_top=100%\n",
      "\t\tRanking in 0.0 seconds\n",
      "n2v2r computed 1 rankings for 1 comparison(s) in 0.35 seconds\n",
      "\n",
      "Rank aggregation with Borda ...\n",
      "\tFinished aggregation in 0.0 seconds\n",
      "\n",
      "Running n2v2r with dimensions [32] and distance metrics ['cosine'] ...\n",
      "\tUASE embedding in 0.01 seconds for bin=False and keep_top=100%\n",
      "\t\tRanking in 0.0 seconds\n",
      "n2v2r computed 1 rankings for 1 comparison(s) in 0.34 seconds\n",
      "\n",
      "Rank aggregation with Borda ...\n",
      "\tFinished aggregation in 0.0 seconds\n",
      "\n",
      "Running n2v2r with dimensions [32] and distance metrics ['cosine'] ...\n",
      "\tUASE embedding in 0.01 seconds for bin=False and keep_top=100%\n",
      "\t\tRanking in 0.0 seconds\n",
      "n2v2r computed 1 rankings for 1 comparison(s) in 0.6 seconds\n",
      "\n",
      "Rank aggregation with Borda ...\n",
      "\tFinished aggregation in 0.01 seconds\n",
      "\n",
      "Running n2v2r with dimensions [32] and distance metrics ['cosine'] ...\n",
      "\tUASE embedding in 0.02 seconds for bin=False and keep_top=100%\n",
      "\t\tRanking in 0.01 seconds\n",
      "n2v2r computed 1 rankings for 1 comparison(s) in 0.71 seconds\n",
      "\n",
      "Rank aggregation with Borda ...\n",
      "\tFinished aggregation in 0.0 seconds\n",
      "\n",
      "Running n2v2r with dimensions [32] and distance metrics ['cosine'] ...\n",
      "\tUASE embedding in 0.01 seconds for bin=False and keep_top=100%\n",
      "\t\tRanking in 0.0 seconds\n",
      "n2v2r computed 1 rankings for 1 comparison(s) in 0.34 seconds\n",
      "\n",
      "Rank aggregation with Borda ...\n",
      "\tFinished aggregation in 0.0 seconds\n",
      "\n",
      "Running n2v2r with dimensions [32] and distance metrics ['cosine'] ...\n",
      "\tUASE embedding in 0.01 seconds for bin=False and keep_top=100%\n",
      "\t\tRanking in 0.0 seconds\n",
      "n2v2r computed 1 rankings for 1 comparison(s) in 0.35 seconds\n",
      "\n",
      "Rank aggregation with Borda ...\n",
      "\tFinished aggregation in 0.0 seconds\n",
      "\n",
      "Running n2v2r with dimensions [32] and distance metrics ['cosine'] ...\n",
      "\tUASE embedding in 0.01 seconds for bin=False and keep_top=100%\n",
      "\t\tRanking in 0.0 seconds\n",
      "n2v2r computed 1 rankings for 1 comparison(s) in 0.34 seconds\n",
      "\n",
      "Rank aggregation with Borda ...\n",
      "\tFinished aggregation in 0.0 seconds\n",
      "\n",
      "Running n2v2r with dimensions [32] and distance metrics ['cosine'] ...\n",
      "\tUASE embedding in 0.01 seconds for bin=False and keep_top=100%\n",
      "\t\tRanking in 0.0 seconds\n",
      "n2v2r computed 1 rankings for 1 comparison(s) in 0.34 seconds\n",
      "\n",
      "Rank aggregation with Borda ...\n",
      "\tFinished aggregation in 0.0 seconds\n",
      "\n",
      "Running n2v2r with dimensions [32] and distance metrics ['cosine'] ...\n",
      "\tUASE embedding in 0.01 seconds for bin=False and keep_top=100%\n",
      "\t\tRanking in 0.0 seconds\n",
      "n2v2r computed 1 rankings for 1 comparison(s) in 0.69 seconds\n",
      "\n",
      "Rank aggregation with Borda ...\n",
      "\tFinished aggregation in 0.01 seconds\n",
      "\n",
      "Running n2v2r with dimensions [32] and distance metrics ['cosine'] ...\n",
      "\tUASE embedding in 0.02 seconds for bin=False and keep_top=100%\n",
      "\t\tRanking in 0.01 seconds\n",
      "n2v2r computed 1 rankings for 1 comparison(s) in 0.63 seconds\n",
      "\n",
      "Rank aggregation with Borda ...\n",
      "\tFinished aggregation in 0.0 seconds\n",
      "\n",
      "Running n2v2r with dimensions [32] and distance metrics ['cosine'] ...\n",
      "\tUASE embedding in 0.01 seconds for bin=False and keep_top=100%\n",
      "\t\tRanking in 0.0 seconds\n",
      "n2v2r computed 1 rankings for 1 comparison(s) in 0.35 seconds\n",
      "\n",
      "Rank aggregation with Borda ...\n",
      "\tFinished aggregation in 0.0 seconds\n",
      "\n",
      "Running n2v2r with dimensions [32] and distance metrics ['cosine'] ...\n",
      "\tUASE embedding in 0.01 seconds for bin=False and keep_top=100%\n",
      "\t\tRanking in 0.0 seconds\n",
      "n2v2r computed 1 rankings for 1 comparison(s) in 0.35 seconds\n",
      "\n",
      "Rank aggregation with Borda ...\n",
      "\tFinished aggregation in 0.0 seconds\n",
      "\n",
      "Running n2v2r with dimensions [32] and distance metrics ['cosine'] ...\n",
      "\tUASE embedding in 0.01 seconds for bin=False and keep_top=100%\n",
      "\t\tRanking in 0.0 seconds\n",
      "n2v2r computed 1 rankings for 1 comparison(s) in 0.34 seconds\n",
      "\n",
      "Rank aggregation with Borda ...\n",
      "\tFinished aggregation in 0.0 seconds\n",
      "\n",
      "Running n2v2r with dimensions [32] and distance metrics ['cosine'] ...\n",
      "\tUASE embedding in 0.01 seconds for bin=False and keep_top=100%\n",
      "\t\tRanking in 0.0 seconds\n",
      "n2v2r computed 1 rankings for 1 comparison(s) in 0.46 seconds\n",
      "\n",
      "Rank aggregation with Borda ...\n",
      "\tFinished aggregation in 0.01 seconds\n",
      "\n",
      "Running n2v2r with dimensions [32] and distance metrics ['cosine'] ...\n",
      "\tUASE embedding in 0.02 seconds for bin=False and keep_top=100%\n",
      "\t\tRanking in 0.01 seconds\n",
      "n2v2r computed 1 rankings for 1 comparison(s) in 0.76 seconds\n",
      "\n",
      "Rank aggregation with Borda ...\n",
      "\tFinished aggregation in 0.01 seconds\n",
      "\n",
      "Running n2v2r with dimensions [32] and distance metrics ['cosine'] ...\n",
      "\tUASE embedding in 0.01 seconds for bin=False and keep_top=100%\n",
      "\t\tRanking in 0.01 seconds\n",
      "n2v2r computed 1 rankings for 1 comparison(s) in 0.42 seconds\n",
      "\n",
      "Rank aggregation with Borda ...\n",
      "\tFinished aggregation in 0.0 seconds\n",
      "\n",
      "Running n2v2r with dimensions [32] and distance metrics ['cosine'] ...\n",
      "\tUASE embedding in 0.01 seconds for bin=False and keep_top=100%\n",
      "\t\tRanking in 0.0 seconds\n",
      "n2v2r computed 1 rankings for 1 comparison(s) in 0.35 seconds\n",
      "\n",
      "Rank aggregation with Borda ...\n",
      "\tFinished aggregation in 0.0 seconds\n",
      "\n",
      "Running n2v2r with dimensions [32] and distance metrics ['cosine'] ...\n",
      "\tUASE embedding in 0.01 seconds for bin=False and keep_top=100%\n",
      "\t\tRanking in 0.0 seconds\n",
      "n2v2r computed 1 rankings for 1 comparison(s) in 0.34 seconds\n",
      "\n",
      "Rank aggregation with Borda ...\n",
      "\tFinished aggregation in 0.0 seconds\n",
      "\n",
      "Running n2v2r with dimensions [32] and distance metrics ['cosine'] ...\n",
      "\tUASE embedding in 0.01 seconds for bin=False and keep_top=100%\n",
      "\t\tRanking in 0.0 seconds\n",
      "n2v2r computed 1 rankings for 1 comparison(s) in 0.44 seconds\n",
      "\n",
      "Rank aggregation with Borda ...\n",
      "\tFinished aggregation in 0.01 seconds\n",
      "\n",
      "Running n2v2r with dimensions [32] and distance metrics ['cosine'] ...\n",
      "\tUASE embedding in 0.01 seconds for bin=False and keep_top=100%\n",
      "\t\tRanking in 0.01 seconds\n",
      "n2v2r computed 1 rankings for 1 comparison(s) in 0.72 seconds\n",
      "\n",
      "Rank aggregation with Borda ...\n",
      "\tFinished aggregation in 0.01 seconds\n",
      "\n",
      "Running n2v2r with dimensions [32] and distance metrics ['cosine'] ...\n",
      "\tUASE embedding in 0.02 seconds for bin=False and keep_top=100%\n",
      "\t\tRanking in 0.01 seconds\n",
      "n2v2r computed 1 rankings for 1 comparison(s) in 0.73 seconds\n",
      "\n",
      "Rank aggregation with Borda ...\n",
      "\tFinished aggregation in 0.01 seconds\n",
      "\n",
      "Running n2v2r with dimensions [32] and distance metrics ['cosine'] ...\n",
      "\tUASE embedding in 0.02 seconds for bin=False and keep_top=100%\n",
      "\t\tRanking in 0.01 seconds\n",
      "n2v2r computed 1 rankings for 1 comparison(s) in 0.73 seconds\n",
      "\n",
      "Rank aggregation with Borda ...\n",
      "\tFinished aggregation in 0.01 seconds\n",
      "\n",
      "Running n2v2r with dimensions [32] and distance metrics ['cosine'] ...\n",
      "\tUASE embedding in 0.01 seconds for bin=False and keep_top=100%\n",
      "\t\tRanking in 0.01 seconds\n",
      "n2v2r computed 1 rankings for 1 comparison(s) in 0.73 seconds\n",
      "\n",
      "Rank aggregation with Borda ...\n",
      "\tFinished aggregation in 0.01 seconds\n",
      "\n",
      "Running n2v2r with dimensions [32] and distance metrics ['cosine'] ...\n",
      "\tUASE embedding in 0.01 seconds for bin=False and keep_top=100%\n",
      "\t\tRanking in 0.01 seconds\n",
      "n2v2r computed 1 rankings for 1 comparison(s) in 0.72 seconds\n",
      "\n",
      "Rank aggregation with Borda ...\n",
      "\tFinished aggregation in 0.01 seconds\n",
      "\n",
      "Running n2v2r with dimensions [32] and distance metrics ['cosine'] ...\n",
      "\tUASE embedding in 0.02 seconds for bin=False and keep_top=100%\n",
      "\t\tRanking in 0.01 seconds\n",
      "n2v2r computed 1 rankings for 1 comparison(s) in 0.75 seconds\n",
      "\n",
      "Rank aggregation with Borda ...\n",
      "\tFinished aggregation in 0.01 seconds\n",
      "\n",
      "Running n2v2r with dimensions [32] and distance metrics ['cosine'] ...\n",
      "\tUASE embedding in 0.02 seconds for bin=False and keep_top=100%\n",
      "\t\tRanking in 0.01 seconds\n",
      "n2v2r computed 1 rankings for 1 comparison(s) in 0.75 seconds\n",
      "\n",
      "Rank aggregation with Borda ...\n",
      "\tFinished aggregation in 0.01 seconds\n",
      "\n",
      "Running n2v2r with dimensions [32] and distance metrics ['cosine'] ...\n",
      "\tUASE embedding in 0.02 seconds for bin=False and keep_top=100%\n",
      "\t\tRanking in 0.01 seconds\n",
      "n2v2r computed 1 rankings for 1 comparison(s) in 0.74 seconds\n",
      "\n",
      "Rank aggregation with Borda ...\n",
      "\tFinished aggregation in 0.01 seconds\n",
      "\n",
      "Running n2v2r with dimensions [32] and distance metrics ['cosine'] ...\n",
      "\tUASE embedding in 0.02 seconds for bin=False and keep_top=100%\n",
      "\t\tRanking in 0.01 seconds\n",
      "n2v2r computed 1 rankings for 1 comparison(s) in 0.72 seconds\n",
      "\n",
      "Rank aggregation with Borda ...\n",
      "\tFinished aggregation in 0.01 seconds\n",
      "\n",
      "Running n2v2r with dimensions [32] and distance metrics ['cosine'] ...\n",
      "\tUASE embedding in 0.02 seconds for bin=False and keep_top=100%\n",
      "\t\tRanking in 0.01 seconds\n",
      "n2v2r computed 1 rankings for 1 comparison(s) in 0.73 seconds\n",
      "\n",
      "Rank aggregation with Borda ...\n",
      "\tFinished aggregation in 0.01 seconds\n",
      "\n",
      "Running n2v2r with dimensions [32] and distance metrics ['cosine'] ...\n",
      "\tUASE embedding in 0.01 seconds for bin=False and keep_top=100%\n",
      "\t\tRanking in 0.01 seconds\n",
      "n2v2r computed 1 rankings for 1 comparison(s) in 0.73 seconds\n",
      "\n",
      "Rank aggregation with Borda ...\n",
      "\tFinished aggregation in 0.01 seconds\n",
      "\n",
      "Running n2v2r with dimensions [32] and distance metrics ['cosine'] ...\n",
      "\tUASE embedding in 0.02 seconds for bin=False and keep_top=100%\n",
      "\t\tRanking in 0.01 seconds\n",
      "n2v2r computed 1 rankings for 1 comparison(s) in 0.74 seconds\n",
      "\n",
      "Rank aggregation with Borda ...\n",
      "\tFinished aggregation in 0.01 seconds\n",
      "\n",
      "Running n2v2r with dimensions [32] and distance metrics ['cosine'] ...\n",
      "\tUASE embedding in 0.02 seconds for bin=False and keep_top=100%\n",
      "\t\tRanking in 0.01 seconds\n",
      "n2v2r computed 1 rankings for 1 comparison(s) in 0.76 seconds\n",
      "\n",
      "Rank aggregation with Borda ...\n",
      "\tFinished aggregation in 0.01 seconds\n",
      "\n",
      "Running n2v2r with dimensions [32] and distance metrics ['cosine'] ...\n",
      "\tUASE embedding in 0.02 seconds for bin=False and keep_top=100%\n",
      "\t\tRanking in 0.01 seconds\n",
      "n2v2r computed 1 rankings for 1 comparison(s) in 0.75 seconds\n",
      "\n",
      "Rank aggregation with Borda ...\n",
      "\tFinished aggregation in 0.01 seconds\n",
      "\n",
      "Running n2v2r with dimensions [32] and distance metrics ['cosine'] ...\n",
      "\tUASE embedding in 0.01 seconds for bin=False and keep_top=100%\n",
      "\t\tRanking in 0.01 seconds\n",
      "n2v2r computed 1 rankings for 1 comparison(s) in 0.73 seconds\n",
      "\n",
      "Rank aggregation with Borda ...\n",
      "\tFinished aggregation in 0.01 seconds\n",
      "\n",
      "Running n2v2r with dimensions [32] and distance metrics ['cosine'] ...\n",
      "\tUASE embedding in 0.02 seconds for bin=False and keep_top=100%\n",
      "\t\tRanking in 0.01 seconds\n",
      "n2v2r computed 1 rankings for 1 comparison(s) in 0.75 seconds\n",
      "\n",
      "Rank aggregation with Borda ...\n",
      "\tFinished aggregation in 0.01 seconds\n",
      "\n",
      "Running n2v2r with dimensions [32] and distance metrics ['cosine'] ...\n",
      "\tUASE embedding in 0.01 seconds for bin=False and keep_top=100%\n",
      "\t\tRanking in 0.01 seconds\n",
      "n2v2r computed 1 rankings for 1 comparison(s) in 0.74 seconds\n",
      "\n",
      "Rank aggregation with Borda ...\n",
      "\tFinished aggregation in 0.01 seconds\n",
      "\n",
      "Running n2v2r with dimensions [32] and distance metrics ['cosine'] ...\n",
      "\tUASE embedding in 0.01 seconds for bin=False and keep_top=100%\n",
      "\t\tRanking in 0.01 seconds\n",
      "n2v2r computed 1 rankings for 1 comparison(s) in 0.72 seconds\n",
      "\n",
      "Rank aggregation with Borda ...\n",
      "\tFinished aggregation in 0.01 seconds\n",
      "\n",
      "Running n2v2r with dimensions [32] and distance metrics ['cosine'] ...\n",
      "\tUASE embedding in 0.02 seconds for bin=False and keep_top=100%\n",
      "\t\tRanking in 0.01 seconds\n",
      "n2v2r computed 1 rankings for 1 comparison(s) in 0.72 seconds\n",
      "\n",
      "Rank aggregation with Borda ...\n",
      "\tFinished aggregation in 0.01 seconds\n",
      "\n",
      "Running n2v2r with dimensions [32] and distance metrics ['cosine'] ...\n",
      "\tUASE embedding in 0.02 seconds for bin=False and keep_top=100%\n",
      "\t\tRanking in 0.01 seconds\n",
      "n2v2r computed 1 rankings for 1 comparison(s) in 0.73 seconds\n",
      "\n",
      "Rank aggregation with Borda ...\n",
      "\tFinished aggregation in 0.01 seconds\n",
      "\n",
      "Running n2v2r with dimensions [32] and distance metrics ['cosine'] ...\n",
      "\tUASE embedding in 0.02 seconds for bin=False and keep_top=100%\n",
      "\t\tRanking in 0.01 seconds\n",
      "n2v2r computed 1 rankings for 1 comparison(s) in 0.72 seconds\n",
      "\n",
      "Rank aggregation with Borda ...\n",
      "\tFinished aggregation in 0.01 seconds\n",
      "\n",
      "Running n2v2r with dimensions [32] and distance metrics ['cosine'] ...\n",
      "\tUASE embedding in 0.02 seconds for bin=False and keep_top=100%\n",
      "\t\tRanking in 0.01 seconds\n",
      "n2v2r computed 1 rankings for 1 comparison(s) in 0.71 seconds\n",
      "\n",
      "Rank aggregation with Borda ...\n",
      "\tFinished aggregation in 0.01 seconds\n",
      "\n",
      "Running n2v2r with dimensions [32] and distance metrics ['cosine'] ...\n",
      "\tUASE embedding in 0.02 seconds for bin=False and keep_top=100%\n",
      "\t\tRanking in 0.01 seconds\n",
      "n2v2r computed 1 rankings for 1 comparison(s) in 0.72 seconds\n",
      "\n",
      "Rank aggregation with Borda ...\n",
      "\tFinished aggregation in 0.01 seconds\n",
      "\n",
      "Running n2v2r with dimensions [32] and distance metrics ['cosine'] ...\n",
      "\tUASE embedding in 0.01 seconds for bin=False and keep_top=100%\n",
      "\t\tRanking in 0.01 seconds\n",
      "n2v2r computed 1 rankings for 1 comparison(s) in 0.7 seconds\n",
      "\n",
      "Rank aggregation with Borda ...\n",
      "\tFinished aggregation in 0.01 seconds\n",
      "\n",
      "Running n2v2r with dimensions [32] and distance metrics ['cosine'] ...\n",
      "\tUASE embedding in 0.01 seconds for bin=False and keep_top=100%\n",
      "\t\tRanking in 0.01 seconds\n",
      "n2v2r computed 1 rankings for 1 comparison(s) in 0.71 seconds\n",
      "\n",
      "Rank aggregation with Borda ...\n",
      "\tFinished aggregation in 0.01 seconds\n",
      "\n",
      "Running n2v2r with dimensions [32] and distance metrics ['cosine'] ...\n",
      "\tUASE embedding in 0.01 seconds for bin=False and keep_top=100%\n",
      "\t\tRanking in 0.01 seconds\n",
      "n2v2r computed 1 rankings for 1 comparison(s) in 0.73 seconds\n",
      "\n",
      "Rank aggregation with Borda ...\n",
      "\tFinished aggregation in 0.01 seconds\n",
      "\n",
      "Running n2v2r with dimensions [32] and distance metrics ['cosine'] ...\n",
      "\tUASE embedding in 0.01 seconds for bin=False and keep_top=100%\n",
      "\t\tRanking in 0.01 seconds\n",
      "n2v2r computed 1 rankings for 1 comparison(s) in 0.72 seconds\n",
      "\n",
      "Rank aggregation with Borda ...\n",
      "\tFinished aggregation in 0.01 seconds\n",
      "\n",
      "Running n2v2r with dimensions [32] and distance metrics ['cosine'] ...\n",
      "\tUASE embedding in 0.02 seconds for bin=False and keep_top=100%\n",
      "\t\tRanking in 0.01 seconds\n",
      "n2v2r computed 1 rankings for 1 comparison(s) in 0.72 seconds\n",
      "\n",
      "Rank aggregation with Borda ...\n",
      "\tFinished aggregation in 0.01 seconds\n"
     ]
    }
   ],
   "source": [
    "all_absDeDi_scores = []\n",
    "all_n2v2r_scores = []\n",
    "all_n2v2r_borda_scores = []\n",
    "\n",
    "#read the config file and create output file it doesn't exist\n",
    "config = json.load(open('../configs/config_DBSM.json', 'r'))\n",
    "\n",
    "config = {param: value for section, params in config.items()\n",
    "          for param, value in params.items()}\n",
    "\n",
    "node_names = np.arange(num_nodes)\n",
    "\n",
    "for i in range(len(list_of_pairs_of_graphs)):\n",
    "    random_graphs = list_of_pairs_of_graphs[i]\n",
    "    assignments = list_of_assignments[i]\n",
    "\n",
    "\n",
    "    model = n2v2r(graphs=random_graphs, config=config, node_names=node_names)\n",
    "    rankings = model.fit_transform_rank()['1vs2']\n",
    "    borda_ranking = model.aggregate_transform()['1vs2']\n",
    "    one_ranking = rankings.iloc[:,0]\n",
    "\n",
    "\n",
    "    \n",
    "    n2v2r_ranked_nodes = one_ranking.sort_values(ascending = False, inplace=False).index.to_list()\n",
    "    n2v2r_borda_ranking = borda_ranking.sort_values(by='borda_ranks',ascending = False, inplace=False).index.to_list()\n",
    "\n",
    "    degs_one = np.sum(random_graphs[0], axis = 0)\n",
    "    degs_two = np.sum(random_graphs[1], axis = 0)\n",
    "    absDeDi = np.abs(degs_two - degs_one)\n",
    "    absDeDi_ranked_nodes = np.flip(np.argsort(absDeDi))\n",
    "  \n",
    "    n2v2r_scores, _ = evaluate_DBSM_ranking(first_true_memb_matrix, second_true_memb_matrix, n2v2r_ranked_nodes, assignments)  \n",
    "    n2v2r_borda_scores, _ = evaluate_DBSM_ranking(first_true_memb_matrix, second_true_memb_matrix, n2v2r_borda_ranking, assignments)                                                                                 \n",
    "    absDeDi_scores, _ = evaluate_DBSM_ranking(first_true_memb_matrix, second_true_memb_matrix, absDeDi_ranked_nodes, assignments)\n",
    "\n",
    "    all_absDeDi_scores.append(absDeDi_scores)\n",
    "    all_n2v2r_scores.append(n2v2r_scores)\n",
    "    all_n2v2r_borda_scores.append(n2v2r_borda_scores)\n",
    "\n",
    "all_n2v2r_scores_np = np.asarray(all_n2v2r_scores)\n",
    "all_n2v2r_borda_scores_np = np.asarray(all_n2v2r_borda_scores)\n",
    "all_absDeDi_scores_np = np.asarray(all_absDeDi_scores)\n",
    "\n",
    "mean_n2v2r_scores = np.mean(all_n2v2r_scores_np, axis = 0)\n",
    "mean_n2v2r_borda_scores = np.mean(all_n2v2r_borda_scores_np, axis = 0)\n",
    "mean_absDeDi_scores = np.mean(all_absDeDi_scores_np, axis = 0)\n",
    "\n",
    "std_n2v2r_scores = np.std(all_n2v2r_scores_np, axis = 0)\n",
    "std_n2v2r_borda_scores = np.std(all_n2v2r_borda_scores_np, axis = 0)\n",
    "std_absDeDi_scores = np.std(all_absDeDi_scores_np, axis = 0)"
   ]
  },
  {
   "cell_type": "code",
   "execution_count": 145,
   "metadata": {},
   "outputs": [
    {
     "data": {
      "application/vnd.plotly.v1+json": {
       "config": {
        "plotlyServerURL": "https://plot.ly"
       },
       "data": [
        {
         "alignmentgroup": "True",
         "error_y": {
          "array": [
           0.28985313576066085,
           0.2943605050849534,
           0.33066583442636677,
           0.3136080557442817,
           0.2784943740472281,
           0.3099999715021575,
           0.29418851990063427,
           0.2981947064549158,
           0.2956616177516587,
           0.3072430782451513
          ]
         },
         "hovertemplate": "method=n2v2r<br>ordered communities=%{x}<br>avg ndcgs=%{y}<extra></extra>",
         "legendgroup": "n2v2r",
         "marker": {
          "color": "#1b9e77",
          "pattern": {
           "shape": ""
          }
         },
         "name": "n2v2r",
         "offsetgroup": "n2v2r",
         "orientation": "v",
         "showlegend": true,
         "textposition": "auto",
         "type": "bar",
         "x": [
          "1",
          "2",
          "3",
          "4",
          "5",
          "6",
          "7",
          "8",
          "9",
          "10"
         ],
         "xaxis": "x",
         "y": [
          0.33284773168057874,
          0.311672161695436,
          0.3273730596437985,
          0.3312505661117297,
          0.3244717001769116,
          0.3419000194854444,
          0.3055751224529673,
          0.3070589746462375,
          0.304877544264413,
          0.32599864270830653
         ],
         "yaxis": "y"
        },
        {
         "alignmentgroup": "True",
         "error_y": {
          "array": [
           0.31312104142462277,
           0.29906982416183325,
           0.28733433045726753,
           0.294444110686009,
           0.28372998190402493,
           0.2860592540903081,
           0.27405908210446933,
           0.3015342518048658,
           0.26376045069829634,
           0.2981580744059306
          ]
         },
         "hovertemplate": "method=n2v2r_borda<br>ordered communities=%{x}<br>avg ndcgs=%{y}<extra></extra>",
         "legendgroup": "n2v2r_borda",
         "marker": {
          "color": "#d95f02",
          "pattern": {
           "shape": ""
          }
         },
         "name": "n2v2r_borda",
         "offsetgroup": "n2v2r_borda",
         "orientation": "v",
         "showlegend": true,
         "textposition": "auto",
         "type": "bar",
         "x": [
          "1",
          "2",
          "3",
          "4",
          "5",
          "6",
          "7",
          "8",
          "9",
          "10"
         ],
         "xaxis": "x",
         "y": [
          0.3507936208012389,
          0.3147454906157523,
          0.291452648898081,
          0.32039278393937454,
          0.3052459776399649,
          0.2866233534478732,
          0.315244273804695,
          0.3267138502599819,
          0.2823699875613311,
          0.3064584341092314
         ],
         "yaxis": "y"
        },
        {
         "alignmentgroup": "True",
         "error_y": {
          "array": [
           0.3089669662699071,
           0.3008429719943996,
           0.2909976345489398,
           0.3027094286282915,
           0.2990247100854368,
           0.3176160024204634,
           0.336684196590054,
           0.26455278219765976,
           0.30568647301363694,
           0.3017525118723142
          ]
         },
         "hovertemplate": "method=absDeDi<br>ordered communities=%{x}<br>avg ndcgs=%{y}<extra></extra>",
         "legendgroup": "absDeDi",
         "marker": {
          "color": "#7570b3",
          "pattern": {
           "shape": ""
          }
         },
         "name": "absDeDi",
         "offsetgroup": "absDeDi",
         "orientation": "v",
         "showlegend": true,
         "textposition": "auto",
         "type": "bar",
         "x": [
          "1",
          "2",
          "3",
          "4",
          "5",
          "6",
          "7",
          "8",
          "9",
          "10"
         ],
         "xaxis": "x",
         "y": [
          0.27221553736489357,
          0.3013339685883825,
          0.32174558489750565,
          0.32569234321101886,
          0.2921062085798775,
          0.34959891777524305,
          0.3642986755857002,
          0.30442057946828116,
          0.3125228806415679,
          0.27043279543714555
         ],
         "yaxis": "y"
        }
       ],
       "layout": {
        "barmode": "group",
        "height": 400,
        "legend": {
         "title": {
          "text": "method"
         },
         "tracegroupgap": 0
        },
        "template": {
         "data": {
          "bar": [
           {
            "error_x": {
             "color": "#2a3f5f"
            },
            "error_y": {
             "color": "#2a3f5f"
            },
            "marker": {
             "line": {
              "color": "#E5ECF6",
              "width": 0.5
             },
             "pattern": {
              "fillmode": "overlay",
              "size": 10,
              "solidity": 0.2
             }
            },
            "type": "bar"
           }
          ],
          "barpolar": [
           {
            "marker": {
             "line": {
              "color": "#E5ECF6",
              "width": 0.5
             },
             "pattern": {
              "fillmode": "overlay",
              "size": 10,
              "solidity": 0.2
             }
            },
            "type": "barpolar"
           }
          ],
          "carpet": [
           {
            "aaxis": {
             "endlinecolor": "#2a3f5f",
             "gridcolor": "white",
             "linecolor": "white",
             "minorgridcolor": "white",
             "startlinecolor": "#2a3f5f"
            },
            "baxis": {
             "endlinecolor": "#2a3f5f",
             "gridcolor": "white",
             "linecolor": "white",
             "minorgridcolor": "white",
             "startlinecolor": "#2a3f5f"
            },
            "type": "carpet"
           }
          ],
          "choropleth": [
           {
            "colorbar": {
             "outlinewidth": 0,
             "ticks": ""
            },
            "type": "choropleth"
           }
          ],
          "contour": [
           {
            "colorbar": {
             "outlinewidth": 0,
             "ticks": ""
            },
            "colorscale": [
             [
              0,
              "#0d0887"
             ],
             [
              0.1111111111111111,
              "#46039f"
             ],
             [
              0.2222222222222222,
              "#7201a8"
             ],
             [
              0.3333333333333333,
              "#9c179e"
             ],
             [
              0.4444444444444444,
              "#bd3786"
             ],
             [
              0.5555555555555556,
              "#d8576b"
             ],
             [
              0.6666666666666666,
              "#ed7953"
             ],
             [
              0.7777777777777778,
              "#fb9f3a"
             ],
             [
              0.8888888888888888,
              "#fdca26"
             ],
             [
              1,
              "#f0f921"
             ]
            ],
            "type": "contour"
           }
          ],
          "contourcarpet": [
           {
            "colorbar": {
             "outlinewidth": 0,
             "ticks": ""
            },
            "type": "contourcarpet"
           }
          ],
          "heatmap": [
           {
            "colorbar": {
             "outlinewidth": 0,
             "ticks": ""
            },
            "colorscale": [
             [
              0,
              "#0d0887"
             ],
             [
              0.1111111111111111,
              "#46039f"
             ],
             [
              0.2222222222222222,
              "#7201a8"
             ],
             [
              0.3333333333333333,
              "#9c179e"
             ],
             [
              0.4444444444444444,
              "#bd3786"
             ],
             [
              0.5555555555555556,
              "#d8576b"
             ],
             [
              0.6666666666666666,
              "#ed7953"
             ],
             [
              0.7777777777777778,
              "#fb9f3a"
             ],
             [
              0.8888888888888888,
              "#fdca26"
             ],
             [
              1,
              "#f0f921"
             ]
            ],
            "type": "heatmap"
           }
          ],
          "heatmapgl": [
           {
            "colorbar": {
             "outlinewidth": 0,
             "ticks": ""
            },
            "colorscale": [
             [
              0,
              "#0d0887"
             ],
             [
              0.1111111111111111,
              "#46039f"
             ],
             [
              0.2222222222222222,
              "#7201a8"
             ],
             [
              0.3333333333333333,
              "#9c179e"
             ],
             [
              0.4444444444444444,
              "#bd3786"
             ],
             [
              0.5555555555555556,
              "#d8576b"
             ],
             [
              0.6666666666666666,
              "#ed7953"
             ],
             [
              0.7777777777777778,
              "#fb9f3a"
             ],
             [
              0.8888888888888888,
              "#fdca26"
             ],
             [
              1,
              "#f0f921"
             ]
            ],
            "type": "heatmapgl"
           }
          ],
          "histogram": [
           {
            "marker": {
             "pattern": {
              "fillmode": "overlay",
              "size": 10,
              "solidity": 0.2
             }
            },
            "type": "histogram"
           }
          ],
          "histogram2d": [
           {
            "colorbar": {
             "outlinewidth": 0,
             "ticks": ""
            },
            "colorscale": [
             [
              0,
              "#0d0887"
             ],
             [
              0.1111111111111111,
              "#46039f"
             ],
             [
              0.2222222222222222,
              "#7201a8"
             ],
             [
              0.3333333333333333,
              "#9c179e"
             ],
             [
              0.4444444444444444,
              "#bd3786"
             ],
             [
              0.5555555555555556,
              "#d8576b"
             ],
             [
              0.6666666666666666,
              "#ed7953"
             ],
             [
              0.7777777777777778,
              "#fb9f3a"
             ],
             [
              0.8888888888888888,
              "#fdca26"
             ],
             [
              1,
              "#f0f921"
             ]
            ],
            "type": "histogram2d"
           }
          ],
          "histogram2dcontour": [
           {
            "colorbar": {
             "outlinewidth": 0,
             "ticks": ""
            },
            "colorscale": [
             [
              0,
              "#0d0887"
             ],
             [
              0.1111111111111111,
              "#46039f"
             ],
             [
              0.2222222222222222,
              "#7201a8"
             ],
             [
              0.3333333333333333,
              "#9c179e"
             ],
             [
              0.4444444444444444,
              "#bd3786"
             ],
             [
              0.5555555555555556,
              "#d8576b"
             ],
             [
              0.6666666666666666,
              "#ed7953"
             ],
             [
              0.7777777777777778,
              "#fb9f3a"
             ],
             [
              0.8888888888888888,
              "#fdca26"
             ],
             [
              1,
              "#f0f921"
             ]
            ],
            "type": "histogram2dcontour"
           }
          ],
          "mesh3d": [
           {
            "colorbar": {
             "outlinewidth": 0,
             "ticks": ""
            },
            "type": "mesh3d"
           }
          ],
          "parcoords": [
           {
            "line": {
             "colorbar": {
              "outlinewidth": 0,
              "ticks": ""
             }
            },
            "type": "parcoords"
           }
          ],
          "pie": [
           {
            "automargin": true,
            "type": "pie"
           }
          ],
          "scatter": [
           {
            "fillpattern": {
             "fillmode": "overlay",
             "size": 10,
             "solidity": 0.2
            },
            "type": "scatter"
           }
          ],
          "scatter3d": [
           {
            "line": {
             "colorbar": {
              "outlinewidth": 0,
              "ticks": ""
             }
            },
            "marker": {
             "colorbar": {
              "outlinewidth": 0,
              "ticks": ""
             }
            },
            "type": "scatter3d"
           }
          ],
          "scattercarpet": [
           {
            "marker": {
             "colorbar": {
              "outlinewidth": 0,
              "ticks": ""
             }
            },
            "type": "scattercarpet"
           }
          ],
          "scattergeo": [
           {
            "marker": {
             "colorbar": {
              "outlinewidth": 0,
              "ticks": ""
             }
            },
            "type": "scattergeo"
           }
          ],
          "scattergl": [
           {
            "marker": {
             "colorbar": {
              "outlinewidth": 0,
              "ticks": ""
             }
            },
            "type": "scattergl"
           }
          ],
          "scattermapbox": [
           {
            "marker": {
             "colorbar": {
              "outlinewidth": 0,
              "ticks": ""
             }
            },
            "type": "scattermapbox"
           }
          ],
          "scatterpolar": [
           {
            "marker": {
             "colorbar": {
              "outlinewidth": 0,
              "ticks": ""
             }
            },
            "type": "scatterpolar"
           }
          ],
          "scatterpolargl": [
           {
            "marker": {
             "colorbar": {
              "outlinewidth": 0,
              "ticks": ""
             }
            },
            "type": "scatterpolargl"
           }
          ],
          "scatterternary": [
           {
            "marker": {
             "colorbar": {
              "outlinewidth": 0,
              "ticks": ""
             }
            },
            "type": "scatterternary"
           }
          ],
          "surface": [
           {
            "colorbar": {
             "outlinewidth": 0,
             "ticks": ""
            },
            "colorscale": [
             [
              0,
              "#0d0887"
             ],
             [
              0.1111111111111111,
              "#46039f"
             ],
             [
              0.2222222222222222,
              "#7201a8"
             ],
             [
              0.3333333333333333,
              "#9c179e"
             ],
             [
              0.4444444444444444,
              "#bd3786"
             ],
             [
              0.5555555555555556,
              "#d8576b"
             ],
             [
              0.6666666666666666,
              "#ed7953"
             ],
             [
              0.7777777777777778,
              "#fb9f3a"
             ],
             [
              0.8888888888888888,
              "#fdca26"
             ],
             [
              1,
              "#f0f921"
             ]
            ],
            "type": "surface"
           }
          ],
          "table": [
           {
            "cells": {
             "fill": {
              "color": "#EBF0F8"
             },
             "line": {
              "color": "white"
             }
            },
            "header": {
             "fill": {
              "color": "#C8D4E3"
             },
             "line": {
              "color": "white"
             }
            },
            "type": "table"
           }
          ]
         },
         "layout": {
          "annotationdefaults": {
           "arrowcolor": "#2a3f5f",
           "arrowhead": 0,
           "arrowwidth": 1
          },
          "autotypenumbers": "strict",
          "coloraxis": {
           "colorbar": {
            "outlinewidth": 0,
            "ticks": ""
           }
          },
          "colorscale": {
           "diverging": [
            [
             0,
             "#8e0152"
            ],
            [
             0.1,
             "#c51b7d"
            ],
            [
             0.2,
             "#de77ae"
            ],
            [
             0.3,
             "#f1b6da"
            ],
            [
             0.4,
             "#fde0ef"
            ],
            [
             0.5,
             "#f7f7f7"
            ],
            [
             0.6,
             "#e6f5d0"
            ],
            [
             0.7,
             "#b8e186"
            ],
            [
             0.8,
             "#7fbc41"
            ],
            [
             0.9,
             "#4d9221"
            ],
            [
             1,
             "#276419"
            ]
           ],
           "sequential": [
            [
             0,
             "#0d0887"
            ],
            [
             0.1111111111111111,
             "#46039f"
            ],
            [
             0.2222222222222222,
             "#7201a8"
            ],
            [
             0.3333333333333333,
             "#9c179e"
            ],
            [
             0.4444444444444444,
             "#bd3786"
            ],
            [
             0.5555555555555556,
             "#d8576b"
            ],
            [
             0.6666666666666666,
             "#ed7953"
            ],
            [
             0.7777777777777778,
             "#fb9f3a"
            ],
            [
             0.8888888888888888,
             "#fdca26"
            ],
            [
             1,
             "#f0f921"
            ]
           ],
           "sequentialminus": [
            [
             0,
             "#0d0887"
            ],
            [
             0.1111111111111111,
             "#46039f"
            ],
            [
             0.2222222222222222,
             "#7201a8"
            ],
            [
             0.3333333333333333,
             "#9c179e"
            ],
            [
             0.4444444444444444,
             "#bd3786"
            ],
            [
             0.5555555555555556,
             "#d8576b"
            ],
            [
             0.6666666666666666,
             "#ed7953"
            ],
            [
             0.7777777777777778,
             "#fb9f3a"
            ],
            [
             0.8888888888888888,
             "#fdca26"
            ],
            [
             1,
             "#f0f921"
            ]
           ]
          },
          "colorway": [
           "#636efa",
           "#EF553B",
           "#00cc96",
           "#ab63fa",
           "#FFA15A",
           "#19d3f3",
           "#FF6692",
           "#B6E880",
           "#FF97FF",
           "#FECB52"
          ],
          "font": {
           "color": "#2a3f5f"
          },
          "geo": {
           "bgcolor": "white",
           "lakecolor": "white",
           "landcolor": "#E5ECF6",
           "showlakes": true,
           "showland": true,
           "subunitcolor": "white"
          },
          "hoverlabel": {
           "align": "left"
          },
          "hovermode": "closest",
          "mapbox": {
           "style": "light"
          },
          "paper_bgcolor": "white",
          "plot_bgcolor": "#E5ECF6",
          "polar": {
           "angularaxis": {
            "gridcolor": "white",
            "linecolor": "white",
            "ticks": ""
           },
           "bgcolor": "#E5ECF6",
           "radialaxis": {
            "gridcolor": "white",
            "linecolor": "white",
            "ticks": ""
           }
          },
          "scene": {
           "xaxis": {
            "backgroundcolor": "#E5ECF6",
            "gridcolor": "white",
            "gridwidth": 2,
            "linecolor": "white",
            "showbackground": true,
            "ticks": "",
            "zerolinecolor": "white"
           },
           "yaxis": {
            "backgroundcolor": "#E5ECF6",
            "gridcolor": "white",
            "gridwidth": 2,
            "linecolor": "white",
            "showbackground": true,
            "ticks": "",
            "zerolinecolor": "white"
           },
           "zaxis": {
            "backgroundcolor": "#E5ECF6",
            "gridcolor": "white",
            "gridwidth": 2,
            "linecolor": "white",
            "showbackground": true,
            "ticks": "",
            "zerolinecolor": "white"
           }
          },
          "shapedefaults": {
           "line": {
            "color": "#2a3f5f"
           }
          },
          "ternary": {
           "aaxis": {
            "gridcolor": "white",
            "linecolor": "white",
            "ticks": ""
           },
           "baxis": {
            "gridcolor": "white",
            "linecolor": "white",
            "ticks": ""
           },
           "bgcolor": "#E5ECF6",
           "caxis": {
            "gridcolor": "white",
            "linecolor": "white",
            "ticks": ""
           }
          },
          "title": {
           "x": 0.05
          },
          "xaxis": {
           "automargin": true,
           "gridcolor": "white",
           "linecolor": "white",
           "ticks": "",
           "title": {
            "standoff": 15
           },
           "zerolinecolor": "white",
           "zerolinewidth": 2
          },
          "yaxis": {
           "automargin": true,
           "gridcolor": "white",
           "linecolor": "white",
           "ticks": "",
           "title": {
            "standoff": 15
           },
           "zerolinecolor": "white",
           "zerolinewidth": 2
          }
         }
        },
        "title": {
         "text": "64 32 cos 100 nodes"
        },
        "xaxis": {
         "anchor": "y",
         "domain": [
          0,
          1
         ],
         "title": {
          "text": "ordered communities"
         }
        },
        "yaxis": {
         "anchor": "x",
         "domain": [
          0,
          1
         ],
         "range": [
          0,
          1
         ],
         "title": {
          "text": "avg ndcgs"
         }
        }
       }
      },
      "text/html": [
       "<div>                            <div id=\"6bf66f56-2213-4f1a-ba9e-29830d3be3d7\" class=\"plotly-graph-div\" style=\"height:400px; width:100%;\"></div>            <script type=\"text/javascript\">                require([\"plotly\"], function(Plotly) {                    window.PLOTLYENV=window.PLOTLYENV || {};                                    if (document.getElementById(\"6bf66f56-2213-4f1a-ba9e-29830d3be3d7\")) {                    Plotly.newPlot(                        \"6bf66f56-2213-4f1a-ba9e-29830d3be3d7\",                        [{\"alignmentgroup\":\"True\",\"error_y\":{\"array\":[0.28985313576066085,0.2943605050849534,0.33066583442636677,0.3136080557442817,0.2784943740472281,0.3099999715021575,0.29418851990063427,0.2981947064549158,0.2956616177516587,0.3072430782451513]},\"hovertemplate\":\"method=n2v2r<br>ordered communities=%{x}<br>avg ndcgs=%{y}<extra></extra>\",\"legendgroup\":\"n2v2r\",\"marker\":{\"color\":\"#1b9e77\",\"pattern\":{\"shape\":\"\"}},\"name\":\"n2v2r\",\"offsetgroup\":\"n2v2r\",\"orientation\":\"v\",\"showlegend\":true,\"textposition\":\"auto\",\"x\":[\"1\",\"2\",\"3\",\"4\",\"5\",\"6\",\"7\",\"8\",\"9\",\"10\"],\"xaxis\":\"x\",\"y\":[0.33284773168057874,0.311672161695436,0.3273730596437985,0.3312505661117297,0.3244717001769116,0.3419000194854444,0.3055751224529673,0.3070589746462375,0.304877544264413,0.32599864270830653],\"yaxis\":\"y\",\"type\":\"bar\"},{\"alignmentgroup\":\"True\",\"error_y\":{\"array\":[0.31312104142462277,0.29906982416183325,0.28733433045726753,0.294444110686009,0.28372998190402493,0.2860592540903081,0.27405908210446933,0.3015342518048658,0.26376045069829634,0.2981580744059306]},\"hovertemplate\":\"method=n2v2r_borda<br>ordered communities=%{x}<br>avg ndcgs=%{y}<extra></extra>\",\"legendgroup\":\"n2v2r_borda\",\"marker\":{\"color\":\"#d95f02\",\"pattern\":{\"shape\":\"\"}},\"name\":\"n2v2r_borda\",\"offsetgroup\":\"n2v2r_borda\",\"orientation\":\"v\",\"showlegend\":true,\"textposition\":\"auto\",\"x\":[\"1\",\"2\",\"3\",\"4\",\"5\",\"6\",\"7\",\"8\",\"9\",\"10\"],\"xaxis\":\"x\",\"y\":[0.3507936208012389,0.3147454906157523,0.291452648898081,0.32039278393937454,0.3052459776399649,0.2866233534478732,0.315244273804695,0.3267138502599819,0.2823699875613311,0.3064584341092314],\"yaxis\":\"y\",\"type\":\"bar\"},{\"alignmentgroup\":\"True\",\"error_y\":{\"array\":[0.3089669662699071,0.3008429719943996,0.2909976345489398,0.3027094286282915,0.2990247100854368,0.3176160024204634,0.336684196590054,0.26455278219765976,0.30568647301363694,0.3017525118723142]},\"hovertemplate\":\"method=absDeDi<br>ordered communities=%{x}<br>avg ndcgs=%{y}<extra></extra>\",\"legendgroup\":\"absDeDi\",\"marker\":{\"color\":\"#7570b3\",\"pattern\":{\"shape\":\"\"}},\"name\":\"absDeDi\",\"offsetgroup\":\"absDeDi\",\"orientation\":\"v\",\"showlegend\":true,\"textposition\":\"auto\",\"x\":[\"1\",\"2\",\"3\",\"4\",\"5\",\"6\",\"7\",\"8\",\"9\",\"10\"],\"xaxis\":\"x\",\"y\":[0.27221553736489357,0.3013339685883825,0.32174558489750565,0.32569234321101886,0.2921062085798775,0.34959891777524305,0.3642986755857002,0.30442057946828116,0.3125228806415679,0.27043279543714555],\"yaxis\":\"y\",\"type\":\"bar\"}],                        {\"template\":{\"data\":{\"histogram2dcontour\":[{\"type\":\"histogram2dcontour\",\"colorbar\":{\"outlinewidth\":0,\"ticks\":\"\"},\"colorscale\":[[0.0,\"#0d0887\"],[0.1111111111111111,\"#46039f\"],[0.2222222222222222,\"#7201a8\"],[0.3333333333333333,\"#9c179e\"],[0.4444444444444444,\"#bd3786\"],[0.5555555555555556,\"#d8576b\"],[0.6666666666666666,\"#ed7953\"],[0.7777777777777778,\"#fb9f3a\"],[0.8888888888888888,\"#fdca26\"],[1.0,\"#f0f921\"]]}],\"choropleth\":[{\"type\":\"choropleth\",\"colorbar\":{\"outlinewidth\":0,\"ticks\":\"\"}}],\"histogram2d\":[{\"type\":\"histogram2d\",\"colorbar\":{\"outlinewidth\":0,\"ticks\":\"\"},\"colorscale\":[[0.0,\"#0d0887\"],[0.1111111111111111,\"#46039f\"],[0.2222222222222222,\"#7201a8\"],[0.3333333333333333,\"#9c179e\"],[0.4444444444444444,\"#bd3786\"],[0.5555555555555556,\"#d8576b\"],[0.6666666666666666,\"#ed7953\"],[0.7777777777777778,\"#fb9f3a\"],[0.8888888888888888,\"#fdca26\"],[1.0,\"#f0f921\"]]}],\"heatmap\":[{\"type\":\"heatmap\",\"colorbar\":{\"outlinewidth\":0,\"ticks\":\"\"},\"colorscale\":[[0.0,\"#0d0887\"],[0.1111111111111111,\"#46039f\"],[0.2222222222222222,\"#7201a8\"],[0.3333333333333333,\"#9c179e\"],[0.4444444444444444,\"#bd3786\"],[0.5555555555555556,\"#d8576b\"],[0.6666666666666666,\"#ed7953\"],[0.7777777777777778,\"#fb9f3a\"],[0.8888888888888888,\"#fdca26\"],[1.0,\"#f0f921\"]]}],\"heatmapgl\":[{\"type\":\"heatmapgl\",\"colorbar\":{\"outlinewidth\":0,\"ticks\":\"\"},\"colorscale\":[[0.0,\"#0d0887\"],[0.1111111111111111,\"#46039f\"],[0.2222222222222222,\"#7201a8\"],[0.3333333333333333,\"#9c179e\"],[0.4444444444444444,\"#bd3786\"],[0.5555555555555556,\"#d8576b\"],[0.6666666666666666,\"#ed7953\"],[0.7777777777777778,\"#fb9f3a\"],[0.8888888888888888,\"#fdca26\"],[1.0,\"#f0f921\"]]}],\"contourcarpet\":[{\"type\":\"contourcarpet\",\"colorbar\":{\"outlinewidth\":0,\"ticks\":\"\"}}],\"contour\":[{\"type\":\"contour\",\"colorbar\":{\"outlinewidth\":0,\"ticks\":\"\"},\"colorscale\":[[0.0,\"#0d0887\"],[0.1111111111111111,\"#46039f\"],[0.2222222222222222,\"#7201a8\"],[0.3333333333333333,\"#9c179e\"],[0.4444444444444444,\"#bd3786\"],[0.5555555555555556,\"#d8576b\"],[0.6666666666666666,\"#ed7953\"],[0.7777777777777778,\"#fb9f3a\"],[0.8888888888888888,\"#fdca26\"],[1.0,\"#f0f921\"]]}],\"surface\":[{\"type\":\"surface\",\"colorbar\":{\"outlinewidth\":0,\"ticks\":\"\"},\"colorscale\":[[0.0,\"#0d0887\"],[0.1111111111111111,\"#46039f\"],[0.2222222222222222,\"#7201a8\"],[0.3333333333333333,\"#9c179e\"],[0.4444444444444444,\"#bd3786\"],[0.5555555555555556,\"#d8576b\"],[0.6666666666666666,\"#ed7953\"],[0.7777777777777778,\"#fb9f3a\"],[0.8888888888888888,\"#fdca26\"],[1.0,\"#f0f921\"]]}],\"mesh3d\":[{\"type\":\"mesh3d\",\"colorbar\":{\"outlinewidth\":0,\"ticks\":\"\"}}],\"scatter\":[{\"fillpattern\":{\"fillmode\":\"overlay\",\"size\":10,\"solidity\":0.2},\"type\":\"scatter\"}],\"parcoords\":[{\"type\":\"parcoords\",\"line\":{\"colorbar\":{\"outlinewidth\":0,\"ticks\":\"\"}}}],\"scatterpolargl\":[{\"type\":\"scatterpolargl\",\"marker\":{\"colorbar\":{\"outlinewidth\":0,\"ticks\":\"\"}}}],\"bar\":[{\"error_x\":{\"color\":\"#2a3f5f\"},\"error_y\":{\"color\":\"#2a3f5f\"},\"marker\":{\"line\":{\"color\":\"#E5ECF6\",\"width\":0.5},\"pattern\":{\"fillmode\":\"overlay\",\"size\":10,\"solidity\":0.2}},\"type\":\"bar\"}],\"scattergeo\":[{\"type\":\"scattergeo\",\"marker\":{\"colorbar\":{\"outlinewidth\":0,\"ticks\":\"\"}}}],\"scatterpolar\":[{\"type\":\"scatterpolar\",\"marker\":{\"colorbar\":{\"outlinewidth\":0,\"ticks\":\"\"}}}],\"histogram\":[{\"marker\":{\"pattern\":{\"fillmode\":\"overlay\",\"size\":10,\"solidity\":0.2}},\"type\":\"histogram\"}],\"scattergl\":[{\"type\":\"scattergl\",\"marker\":{\"colorbar\":{\"outlinewidth\":0,\"ticks\":\"\"}}}],\"scatter3d\":[{\"type\":\"scatter3d\",\"line\":{\"colorbar\":{\"outlinewidth\":0,\"ticks\":\"\"}},\"marker\":{\"colorbar\":{\"outlinewidth\":0,\"ticks\":\"\"}}}],\"scattermapbox\":[{\"type\":\"scattermapbox\",\"marker\":{\"colorbar\":{\"outlinewidth\":0,\"ticks\":\"\"}}}],\"scatterternary\":[{\"type\":\"scatterternary\",\"marker\":{\"colorbar\":{\"outlinewidth\":0,\"ticks\":\"\"}}}],\"scattercarpet\":[{\"type\":\"scattercarpet\",\"marker\":{\"colorbar\":{\"outlinewidth\":0,\"ticks\":\"\"}}}],\"carpet\":[{\"aaxis\":{\"endlinecolor\":\"#2a3f5f\",\"gridcolor\":\"white\",\"linecolor\":\"white\",\"minorgridcolor\":\"white\",\"startlinecolor\":\"#2a3f5f\"},\"baxis\":{\"endlinecolor\":\"#2a3f5f\",\"gridcolor\":\"white\",\"linecolor\":\"white\",\"minorgridcolor\":\"white\",\"startlinecolor\":\"#2a3f5f\"},\"type\":\"carpet\"}],\"table\":[{\"cells\":{\"fill\":{\"color\":\"#EBF0F8\"},\"line\":{\"color\":\"white\"}},\"header\":{\"fill\":{\"color\":\"#C8D4E3\"},\"line\":{\"color\":\"white\"}},\"type\":\"table\"}],\"barpolar\":[{\"marker\":{\"line\":{\"color\":\"#E5ECF6\",\"width\":0.5},\"pattern\":{\"fillmode\":\"overlay\",\"size\":10,\"solidity\":0.2}},\"type\":\"barpolar\"}],\"pie\":[{\"automargin\":true,\"type\":\"pie\"}]},\"layout\":{\"autotypenumbers\":\"strict\",\"colorway\":[\"#636efa\",\"#EF553B\",\"#00cc96\",\"#ab63fa\",\"#FFA15A\",\"#19d3f3\",\"#FF6692\",\"#B6E880\",\"#FF97FF\",\"#FECB52\"],\"font\":{\"color\":\"#2a3f5f\"},\"hovermode\":\"closest\",\"hoverlabel\":{\"align\":\"left\"},\"paper_bgcolor\":\"white\",\"plot_bgcolor\":\"#E5ECF6\",\"polar\":{\"bgcolor\":\"#E5ECF6\",\"angularaxis\":{\"gridcolor\":\"white\",\"linecolor\":\"white\",\"ticks\":\"\"},\"radialaxis\":{\"gridcolor\":\"white\",\"linecolor\":\"white\",\"ticks\":\"\"}},\"ternary\":{\"bgcolor\":\"#E5ECF6\",\"aaxis\":{\"gridcolor\":\"white\",\"linecolor\":\"white\",\"ticks\":\"\"},\"baxis\":{\"gridcolor\":\"white\",\"linecolor\":\"white\",\"ticks\":\"\"},\"caxis\":{\"gridcolor\":\"white\",\"linecolor\":\"white\",\"ticks\":\"\"}},\"coloraxis\":{\"colorbar\":{\"outlinewidth\":0,\"ticks\":\"\"}},\"colorscale\":{\"sequential\":[[0.0,\"#0d0887\"],[0.1111111111111111,\"#46039f\"],[0.2222222222222222,\"#7201a8\"],[0.3333333333333333,\"#9c179e\"],[0.4444444444444444,\"#bd3786\"],[0.5555555555555556,\"#d8576b\"],[0.6666666666666666,\"#ed7953\"],[0.7777777777777778,\"#fb9f3a\"],[0.8888888888888888,\"#fdca26\"],[1.0,\"#f0f921\"]],\"sequentialminus\":[[0.0,\"#0d0887\"],[0.1111111111111111,\"#46039f\"],[0.2222222222222222,\"#7201a8\"],[0.3333333333333333,\"#9c179e\"],[0.4444444444444444,\"#bd3786\"],[0.5555555555555556,\"#d8576b\"],[0.6666666666666666,\"#ed7953\"],[0.7777777777777778,\"#fb9f3a\"],[0.8888888888888888,\"#fdca26\"],[1.0,\"#f0f921\"]],\"diverging\":[[0,\"#8e0152\"],[0.1,\"#c51b7d\"],[0.2,\"#de77ae\"],[0.3,\"#f1b6da\"],[0.4,\"#fde0ef\"],[0.5,\"#f7f7f7\"],[0.6,\"#e6f5d0\"],[0.7,\"#b8e186\"],[0.8,\"#7fbc41\"],[0.9,\"#4d9221\"],[1,\"#276419\"]]},\"xaxis\":{\"gridcolor\":\"white\",\"linecolor\":\"white\",\"ticks\":\"\",\"title\":{\"standoff\":15},\"zerolinecolor\":\"white\",\"automargin\":true,\"zerolinewidth\":2},\"yaxis\":{\"gridcolor\":\"white\",\"linecolor\":\"white\",\"ticks\":\"\",\"title\":{\"standoff\":15},\"zerolinecolor\":\"white\",\"automargin\":true,\"zerolinewidth\":2},\"scene\":{\"xaxis\":{\"backgroundcolor\":\"#E5ECF6\",\"gridcolor\":\"white\",\"linecolor\":\"white\",\"showbackground\":true,\"ticks\":\"\",\"zerolinecolor\":\"white\",\"gridwidth\":2},\"yaxis\":{\"backgroundcolor\":\"#E5ECF6\",\"gridcolor\":\"white\",\"linecolor\":\"white\",\"showbackground\":true,\"ticks\":\"\",\"zerolinecolor\":\"white\",\"gridwidth\":2},\"zaxis\":{\"backgroundcolor\":\"#E5ECF6\",\"gridcolor\":\"white\",\"linecolor\":\"white\",\"showbackground\":true,\"ticks\":\"\",\"zerolinecolor\":\"white\",\"gridwidth\":2}},\"shapedefaults\":{\"line\":{\"color\":\"#2a3f5f\"}},\"annotationdefaults\":{\"arrowcolor\":\"#2a3f5f\",\"arrowhead\":0,\"arrowwidth\":1},\"geo\":{\"bgcolor\":\"white\",\"landcolor\":\"#E5ECF6\",\"subunitcolor\":\"white\",\"showland\":true,\"showlakes\":true,\"lakecolor\":\"white\"},\"title\":{\"x\":0.05},\"mapbox\":{\"style\":\"light\"}}},\"xaxis\":{\"anchor\":\"y\",\"domain\":[0.0,1.0],\"title\":{\"text\":\"ordered communities\"}},\"yaxis\":{\"anchor\":\"x\",\"domain\":[0.0,1.0],\"title\":{\"text\":\"avg ndcgs\"},\"range\":[0,1]},\"legend\":{\"title\":{\"text\":\"method\"},\"tracegroupgap\":0},\"title\":{\"text\":\"64 32 cos 100 nodes\"},\"barmode\":\"group\",\"height\":400},                        {\"responsive\": true}                    ).then(function(){\n",
       "                            \n",
       "var gd = document.getElementById('6bf66f56-2213-4f1a-ba9e-29830d3be3d7');\n",
       "var x = new MutationObserver(function (mutations, observer) {{\n",
       "        var display = window.getComputedStyle(gd).display;\n",
       "        if (!display || display === 'none') {{\n",
       "            console.log([gd, 'removed!']);\n",
       "            Plotly.purge(gd);\n",
       "            observer.disconnect();\n",
       "        }}\n",
       "}});\n",
       "\n",
       "// Listen for the removal of the full notebook cells\n",
       "var notebookContainer = gd.closest('#notebook-container');\n",
       "if (notebookContainer) {{\n",
       "    x.observe(notebookContainer, {childList: true});\n",
       "}}\n",
       "\n",
       "// Listen for the clearing of the current output cell\n",
       "var outputEl = gd.closest('.output');\n",
       "if (outputEl) {{\n",
       "    x.observe(outputEl, {childList: true});\n",
       "}}\n",
       "\n",
       "                        })                };                });            </script>        </div>"
      ]
     },
     "metadata": {},
     "output_type": "display_data"
    }
   ],
   "source": [
    "comms_string = [ str(i) for i in range(num_com)]\n",
    "algo = ['total', *comms_string]\n",
    "\n",
    "x = np.arange(num_com+1)\n",
    "y1_one = mean_n2v2r_scores\n",
    "y2_one = mean_n2v2r_borda_scores\n",
    "y3_one = mean_absDeDi_scores\n",
    "y1_one_err = std_n2v2r_scores\n",
    "y2_one_err = std_n2v2r_borda_scores\n",
    "y3_one_err = std_absDeDi_scores\n",
    "\n",
    "import plotly.express as px\n",
    "\n",
    "ndcgs = np.concatenate((y1_one[1:],y2_one[1:],y3_one[1:]), axis=None)\n",
    "errors = np.concatenate((y1_one_err[1:], y2_one_err[1:], y3_one_err[1:]), axis=None)\n",
    "method_indicator = (['n2v2r'] * num_com ) + (['n2v2r_borda'] * num_com) + (['absDeDi'] * num_com)\n",
    "comms = [str(i) for i in range(1,num_com+1)]\n",
    "comms_indicator = comms * 3 \n",
    "\n",
    "df = pd.DataFrame(list(zip(ndcgs, errors, method_indicator, comms_indicator)),\n",
    "               columns =['avg ndcgs', 'errors', 'method', 'ordered communities'])\n",
    "\n",
    "fig = px.bar(df, x=\"ordered communities\", y=\"avg ndcgs\",\n",
    "             color='method', barmode='group',\n",
    "             height=400, error_y=\"errors\", title= '64 32 cos 100 nodes',  color_discrete_sequence = ['#1b9e77','#d95f02','#7570b3'])\n",
    "\n",
    "fig.update_yaxes(range = [0,1])\n",
    "\n",
    "\n",
    "fig.show()\n",
    "\n"
   ]
  },
  {
   "cell_type": "code",
   "execution_count": 147,
   "metadata": {},
   "outputs": [
    {
     "data": {
      "application/vnd.plotly.v1+json": {
       "config": {
        "plotlyServerURL": "https://plot.ly"
       },
       "data": [
        {
         "alignmentgroup": "True",
         "error_y": {
          "array": [
           0.31185493918054696,
           0.29716987430898556,
           0.3399614746957947,
           0.2918703631217981,
           0.2876251560853104,
           0.2920687077592239,
           0.33775221186339577,
           0.24709033510805506,
           0.3168645742089562,
           0.26642552822929494
          ]
         },
         "hovertemplate": "method=n2v2r<br>ordered communities=%{x}<br>avg ndcgs=%{y}<extra></extra>",
         "legendgroup": "n2v2r",
         "marker": {
          "color": "#1b9e77",
          "pattern": {
           "shape": ""
          }
         },
         "name": "n2v2r",
         "offsetgroup": "n2v2r",
         "orientation": "v",
         "showlegend": true,
         "textposition": "auto",
         "type": "bar",
         "x": [
          "1",
          "2",
          "3",
          "4",
          "5",
          "6",
          "7",
          "8",
          "9",
          "10"
         ],
         "xaxis": "x",
         "y": [
          0.321356029608851,
          0.30311678828098926,
          0.33841518996913345,
          0.2975167536296356,
          0.29113835152946604,
          0.3080658824399938,
          0.3325783881130748,
          0.29556585169948935,
          0.33138157075270386,
          0.28862597479786944
         ],
         "yaxis": "y"
        },
        {
         "alignmentgroup": "True",
         "error_y": {
          "array": [
           0.31185493918054696,
           0.29716987430898556,
           0.3399614746957947,
           0.2918703631217981,
           0.2876251560853104,
           0.2920687077592239,
           0.33775221186339577,
           0.24709033510805506,
           0.3168645742089562,
           0.26642552822929494
          ]
         },
         "hovertemplate": "method=n2v2r_borda<br>ordered communities=%{x}<br>avg ndcgs=%{y}<extra></extra>",
         "legendgroup": "n2v2r_borda",
         "marker": {
          "color": "#d95f02",
          "pattern": {
           "shape": ""
          }
         },
         "name": "n2v2r_borda",
         "offsetgroup": "n2v2r_borda",
         "orientation": "v",
         "showlegend": true,
         "textposition": "auto",
         "type": "bar",
         "x": [
          "1",
          "2",
          "3",
          "4",
          "5",
          "6",
          "7",
          "8",
          "9",
          "10"
         ],
         "xaxis": "x",
         "y": [
          0.321356029608851,
          0.30311678828098926,
          0.33841518996913345,
          0.2975167536296356,
          0.29113835152946604,
          0.3080658824399938,
          0.3325783881130748,
          0.29556585169948935,
          0.33138157075270386,
          0.28862597479786944
         ],
         "yaxis": "y"
        },
        {
         "alignmentgroup": "True",
         "error_y": {
          "array": [
           0.3089669662699071,
           0.3008429719943996,
           0.2909976345489398,
           0.3027094286282915,
           0.2990247100854368,
           0.3176160024204634,
           0.336684196590054,
           0.26455278219765976,
           0.30568647301363694,
           0.3017525118723142
          ]
         },
         "hovertemplate": "method=absDeDi<br>ordered communities=%{x}<br>avg ndcgs=%{y}<extra></extra>",
         "legendgroup": "absDeDi",
         "marker": {
          "color": "#7570b3",
          "pattern": {
           "shape": ""
          }
         },
         "name": "absDeDi",
         "offsetgroup": "absDeDi",
         "orientation": "v",
         "showlegend": true,
         "textposition": "auto",
         "type": "bar",
         "x": [
          "1",
          "2",
          "3",
          "4",
          "5",
          "6",
          "7",
          "8",
          "9",
          "10"
         ],
         "xaxis": "x",
         "y": [
          0.27221553736489357,
          0.3013339685883825,
          0.32174558489750565,
          0.32569234321101886,
          0.2921062085798775,
          0.34959891777524305,
          0.3642986755857002,
          0.30442057946828116,
          0.3125228806415679,
          0.27043279543714555
         ],
         "yaxis": "y"
        }
       ],
       "layout": {
        "barmode": "group",
        "height": 400,
        "legend": {
         "title": {
          "text": "method"
         },
         "tracegroupgap": 0
        },
        "template": {
         "data": {
          "bar": [
           {
            "error_x": {
             "color": "#2a3f5f"
            },
            "error_y": {
             "color": "#2a3f5f"
            },
            "marker": {
             "line": {
              "color": "#E5ECF6",
              "width": 0.5
             },
             "pattern": {
              "fillmode": "overlay",
              "size": 10,
              "solidity": 0.2
             }
            },
            "type": "bar"
           }
          ],
          "barpolar": [
           {
            "marker": {
             "line": {
              "color": "#E5ECF6",
              "width": 0.5
             },
             "pattern": {
              "fillmode": "overlay",
              "size": 10,
              "solidity": 0.2
             }
            },
            "type": "barpolar"
           }
          ],
          "carpet": [
           {
            "aaxis": {
             "endlinecolor": "#2a3f5f",
             "gridcolor": "white",
             "linecolor": "white",
             "minorgridcolor": "white",
             "startlinecolor": "#2a3f5f"
            },
            "baxis": {
             "endlinecolor": "#2a3f5f",
             "gridcolor": "white",
             "linecolor": "white",
             "minorgridcolor": "white",
             "startlinecolor": "#2a3f5f"
            },
            "type": "carpet"
           }
          ],
          "choropleth": [
           {
            "colorbar": {
             "outlinewidth": 0,
             "ticks": ""
            },
            "type": "choropleth"
           }
          ],
          "contour": [
           {
            "colorbar": {
             "outlinewidth": 0,
             "ticks": ""
            },
            "colorscale": [
             [
              0,
              "#0d0887"
             ],
             [
              0.1111111111111111,
              "#46039f"
             ],
             [
              0.2222222222222222,
              "#7201a8"
             ],
             [
              0.3333333333333333,
              "#9c179e"
             ],
             [
              0.4444444444444444,
              "#bd3786"
             ],
             [
              0.5555555555555556,
              "#d8576b"
             ],
             [
              0.6666666666666666,
              "#ed7953"
             ],
             [
              0.7777777777777778,
              "#fb9f3a"
             ],
             [
              0.8888888888888888,
              "#fdca26"
             ],
             [
              1,
              "#f0f921"
             ]
            ],
            "type": "contour"
           }
          ],
          "contourcarpet": [
           {
            "colorbar": {
             "outlinewidth": 0,
             "ticks": ""
            },
            "type": "contourcarpet"
           }
          ],
          "heatmap": [
           {
            "colorbar": {
             "outlinewidth": 0,
             "ticks": ""
            },
            "colorscale": [
             [
              0,
              "#0d0887"
             ],
             [
              0.1111111111111111,
              "#46039f"
             ],
             [
              0.2222222222222222,
              "#7201a8"
             ],
             [
              0.3333333333333333,
              "#9c179e"
             ],
             [
              0.4444444444444444,
              "#bd3786"
             ],
             [
              0.5555555555555556,
              "#d8576b"
             ],
             [
              0.6666666666666666,
              "#ed7953"
             ],
             [
              0.7777777777777778,
              "#fb9f3a"
             ],
             [
              0.8888888888888888,
              "#fdca26"
             ],
             [
              1,
              "#f0f921"
             ]
            ],
            "type": "heatmap"
           }
          ],
          "heatmapgl": [
           {
            "colorbar": {
             "outlinewidth": 0,
             "ticks": ""
            },
            "colorscale": [
             [
              0,
              "#0d0887"
             ],
             [
              0.1111111111111111,
              "#46039f"
             ],
             [
              0.2222222222222222,
              "#7201a8"
             ],
             [
              0.3333333333333333,
              "#9c179e"
             ],
             [
              0.4444444444444444,
              "#bd3786"
             ],
             [
              0.5555555555555556,
              "#d8576b"
             ],
             [
              0.6666666666666666,
              "#ed7953"
             ],
             [
              0.7777777777777778,
              "#fb9f3a"
             ],
             [
              0.8888888888888888,
              "#fdca26"
             ],
             [
              1,
              "#f0f921"
             ]
            ],
            "type": "heatmapgl"
           }
          ],
          "histogram": [
           {
            "marker": {
             "pattern": {
              "fillmode": "overlay",
              "size": 10,
              "solidity": 0.2
             }
            },
            "type": "histogram"
           }
          ],
          "histogram2d": [
           {
            "colorbar": {
             "outlinewidth": 0,
             "ticks": ""
            },
            "colorscale": [
             [
              0,
              "#0d0887"
             ],
             [
              0.1111111111111111,
              "#46039f"
             ],
             [
              0.2222222222222222,
              "#7201a8"
             ],
             [
              0.3333333333333333,
              "#9c179e"
             ],
             [
              0.4444444444444444,
              "#bd3786"
             ],
             [
              0.5555555555555556,
              "#d8576b"
             ],
             [
              0.6666666666666666,
              "#ed7953"
             ],
             [
              0.7777777777777778,
              "#fb9f3a"
             ],
             [
              0.8888888888888888,
              "#fdca26"
             ],
             [
              1,
              "#f0f921"
             ]
            ],
            "type": "histogram2d"
           }
          ],
          "histogram2dcontour": [
           {
            "colorbar": {
             "outlinewidth": 0,
             "ticks": ""
            },
            "colorscale": [
             [
              0,
              "#0d0887"
             ],
             [
              0.1111111111111111,
              "#46039f"
             ],
             [
              0.2222222222222222,
              "#7201a8"
             ],
             [
              0.3333333333333333,
              "#9c179e"
             ],
             [
              0.4444444444444444,
              "#bd3786"
             ],
             [
              0.5555555555555556,
              "#d8576b"
             ],
             [
              0.6666666666666666,
              "#ed7953"
             ],
             [
              0.7777777777777778,
              "#fb9f3a"
             ],
             [
              0.8888888888888888,
              "#fdca26"
             ],
             [
              1,
              "#f0f921"
             ]
            ],
            "type": "histogram2dcontour"
           }
          ],
          "mesh3d": [
           {
            "colorbar": {
             "outlinewidth": 0,
             "ticks": ""
            },
            "type": "mesh3d"
           }
          ],
          "parcoords": [
           {
            "line": {
             "colorbar": {
              "outlinewidth": 0,
              "ticks": ""
             }
            },
            "type": "parcoords"
           }
          ],
          "pie": [
           {
            "automargin": true,
            "type": "pie"
           }
          ],
          "scatter": [
           {
            "fillpattern": {
             "fillmode": "overlay",
             "size": 10,
             "solidity": 0.2
            },
            "type": "scatter"
           }
          ],
          "scatter3d": [
           {
            "line": {
             "colorbar": {
              "outlinewidth": 0,
              "ticks": ""
             }
            },
            "marker": {
             "colorbar": {
              "outlinewidth": 0,
              "ticks": ""
             }
            },
            "type": "scatter3d"
           }
          ],
          "scattercarpet": [
           {
            "marker": {
             "colorbar": {
              "outlinewidth": 0,
              "ticks": ""
             }
            },
            "type": "scattercarpet"
           }
          ],
          "scattergeo": [
           {
            "marker": {
             "colorbar": {
              "outlinewidth": 0,
              "ticks": ""
             }
            },
            "type": "scattergeo"
           }
          ],
          "scattergl": [
           {
            "marker": {
             "colorbar": {
              "outlinewidth": 0,
              "ticks": ""
             }
            },
            "type": "scattergl"
           }
          ],
          "scattermapbox": [
           {
            "marker": {
             "colorbar": {
              "outlinewidth": 0,
              "ticks": ""
             }
            },
            "type": "scattermapbox"
           }
          ],
          "scatterpolar": [
           {
            "marker": {
             "colorbar": {
              "outlinewidth": 0,
              "ticks": ""
             }
            },
            "type": "scatterpolar"
           }
          ],
          "scatterpolargl": [
           {
            "marker": {
             "colorbar": {
              "outlinewidth": 0,
              "ticks": ""
             }
            },
            "type": "scatterpolargl"
           }
          ],
          "scatterternary": [
           {
            "marker": {
             "colorbar": {
              "outlinewidth": 0,
              "ticks": ""
             }
            },
            "type": "scatterternary"
           }
          ],
          "surface": [
           {
            "colorbar": {
             "outlinewidth": 0,
             "ticks": ""
            },
            "colorscale": [
             [
              0,
              "#0d0887"
             ],
             [
              0.1111111111111111,
              "#46039f"
             ],
             [
              0.2222222222222222,
              "#7201a8"
             ],
             [
              0.3333333333333333,
              "#9c179e"
             ],
             [
              0.4444444444444444,
              "#bd3786"
             ],
             [
              0.5555555555555556,
              "#d8576b"
             ],
             [
              0.6666666666666666,
              "#ed7953"
             ],
             [
              0.7777777777777778,
              "#fb9f3a"
             ],
             [
              0.8888888888888888,
              "#fdca26"
             ],
             [
              1,
              "#f0f921"
             ]
            ],
            "type": "surface"
           }
          ],
          "table": [
           {
            "cells": {
             "fill": {
              "color": "#EBF0F8"
             },
             "line": {
              "color": "white"
             }
            },
            "header": {
             "fill": {
              "color": "#C8D4E3"
             },
             "line": {
              "color": "white"
             }
            },
            "type": "table"
           }
          ]
         },
         "layout": {
          "annotationdefaults": {
           "arrowcolor": "#2a3f5f",
           "arrowhead": 0,
           "arrowwidth": 1
          },
          "autotypenumbers": "strict",
          "coloraxis": {
           "colorbar": {
            "outlinewidth": 0,
            "ticks": ""
           }
          },
          "colorscale": {
           "diverging": [
            [
             0,
             "#8e0152"
            ],
            [
             0.1,
             "#c51b7d"
            ],
            [
             0.2,
             "#de77ae"
            ],
            [
             0.3,
             "#f1b6da"
            ],
            [
             0.4,
             "#fde0ef"
            ],
            [
             0.5,
             "#f7f7f7"
            ],
            [
             0.6,
             "#e6f5d0"
            ],
            [
             0.7,
             "#b8e186"
            ],
            [
             0.8,
             "#7fbc41"
            ],
            [
             0.9,
             "#4d9221"
            ],
            [
             1,
             "#276419"
            ]
           ],
           "sequential": [
            [
             0,
             "#0d0887"
            ],
            [
             0.1111111111111111,
             "#46039f"
            ],
            [
             0.2222222222222222,
             "#7201a8"
            ],
            [
             0.3333333333333333,
             "#9c179e"
            ],
            [
             0.4444444444444444,
             "#bd3786"
            ],
            [
             0.5555555555555556,
             "#d8576b"
            ],
            [
             0.6666666666666666,
             "#ed7953"
            ],
            [
             0.7777777777777778,
             "#fb9f3a"
            ],
            [
             0.8888888888888888,
             "#fdca26"
            ],
            [
             1,
             "#f0f921"
            ]
           ],
           "sequentialminus": [
            [
             0,
             "#0d0887"
            ],
            [
             0.1111111111111111,
             "#46039f"
            ],
            [
             0.2222222222222222,
             "#7201a8"
            ],
            [
             0.3333333333333333,
             "#9c179e"
            ],
            [
             0.4444444444444444,
             "#bd3786"
            ],
            [
             0.5555555555555556,
             "#d8576b"
            ],
            [
             0.6666666666666666,
             "#ed7953"
            ],
            [
             0.7777777777777778,
             "#fb9f3a"
            ],
            [
             0.8888888888888888,
             "#fdca26"
            ],
            [
             1,
             "#f0f921"
            ]
           ]
          },
          "colorway": [
           "#636efa",
           "#EF553B",
           "#00cc96",
           "#ab63fa",
           "#FFA15A",
           "#19d3f3",
           "#FF6692",
           "#B6E880",
           "#FF97FF",
           "#FECB52"
          ],
          "font": {
           "color": "#2a3f5f"
          },
          "geo": {
           "bgcolor": "white",
           "lakecolor": "white",
           "landcolor": "#E5ECF6",
           "showlakes": true,
           "showland": true,
           "subunitcolor": "white"
          },
          "hoverlabel": {
           "align": "left"
          },
          "hovermode": "closest",
          "mapbox": {
           "style": "light"
          },
          "paper_bgcolor": "white",
          "plot_bgcolor": "#E5ECF6",
          "polar": {
           "angularaxis": {
            "gridcolor": "white",
            "linecolor": "white",
            "ticks": ""
           },
           "bgcolor": "#E5ECF6",
           "radialaxis": {
            "gridcolor": "white",
            "linecolor": "white",
            "ticks": ""
           }
          },
          "scene": {
           "xaxis": {
            "backgroundcolor": "#E5ECF6",
            "gridcolor": "white",
            "gridwidth": 2,
            "linecolor": "white",
            "showbackground": true,
            "ticks": "",
            "zerolinecolor": "white"
           },
           "yaxis": {
            "backgroundcolor": "#E5ECF6",
            "gridcolor": "white",
            "gridwidth": 2,
            "linecolor": "white",
            "showbackground": true,
            "ticks": "",
            "zerolinecolor": "white"
           },
           "zaxis": {
            "backgroundcolor": "#E5ECF6",
            "gridcolor": "white",
            "gridwidth": 2,
            "linecolor": "white",
            "showbackground": true,
            "ticks": "",
            "zerolinecolor": "white"
           }
          },
          "shapedefaults": {
           "line": {
            "color": "#2a3f5f"
           }
          },
          "ternary": {
           "aaxis": {
            "gridcolor": "white",
            "linecolor": "white",
            "ticks": ""
           },
           "baxis": {
            "gridcolor": "white",
            "linecolor": "white",
            "ticks": ""
           },
           "bgcolor": "#E5ECF6",
           "caxis": {
            "gridcolor": "white",
            "linecolor": "white",
            "ticks": ""
           }
          },
          "title": {
           "x": 0.05
          },
          "xaxis": {
           "automargin": true,
           "gridcolor": "white",
           "linecolor": "white",
           "ticks": "",
           "title": {
            "standoff": 15
           },
           "zerolinecolor": "white",
           "zerolinewidth": 2
          },
          "yaxis": {
           "automargin": true,
           "gridcolor": "white",
           "linecolor": "white",
           "ticks": "",
           "title": {
            "standoff": 15
           },
           "zerolinecolor": "white",
           "zerolinewidth": 2
          }
         }
        },
        "title": {
         "text": "32 cos"
        },
        "xaxis": {
         "anchor": "y",
         "domain": [
          0,
          1
         ],
         "title": {
          "text": "ordered communities"
         }
        },
        "yaxis": {
         "anchor": "x",
         "domain": [
          0,
          1
         ],
         "range": [
          0,
          1
         ],
         "title": {
          "text": "avg ndcgs"
         }
        }
       }
      },
      "text/html": [
       "<div>                            <div id=\"a215286d-7ecd-403f-913f-237b4192121e\" class=\"plotly-graph-div\" style=\"height:400px; width:100%;\"></div>            <script type=\"text/javascript\">                require([\"plotly\"], function(Plotly) {                    window.PLOTLYENV=window.PLOTLYENV || {};                                    if (document.getElementById(\"a215286d-7ecd-403f-913f-237b4192121e\")) {                    Plotly.newPlot(                        \"a215286d-7ecd-403f-913f-237b4192121e\",                        [{\"alignmentgroup\":\"True\",\"error_y\":{\"array\":[0.31185493918054696,0.29716987430898556,0.3399614746957947,0.2918703631217981,0.2876251560853104,0.2920687077592239,0.33775221186339577,0.24709033510805506,0.3168645742089562,0.26642552822929494]},\"hovertemplate\":\"method=n2v2r<br>ordered communities=%{x}<br>avg ndcgs=%{y}<extra></extra>\",\"legendgroup\":\"n2v2r\",\"marker\":{\"color\":\"#1b9e77\",\"pattern\":{\"shape\":\"\"}},\"name\":\"n2v2r\",\"offsetgroup\":\"n2v2r\",\"orientation\":\"v\",\"showlegend\":true,\"textposition\":\"auto\",\"x\":[\"1\",\"2\",\"3\",\"4\",\"5\",\"6\",\"7\",\"8\",\"9\",\"10\"],\"xaxis\":\"x\",\"y\":[0.321356029608851,0.30311678828098926,0.33841518996913345,0.2975167536296356,0.29113835152946604,0.3080658824399938,0.3325783881130748,0.29556585169948935,0.33138157075270386,0.28862597479786944],\"yaxis\":\"y\",\"type\":\"bar\"},{\"alignmentgroup\":\"True\",\"error_y\":{\"array\":[0.31185493918054696,0.29716987430898556,0.3399614746957947,0.2918703631217981,0.2876251560853104,0.2920687077592239,0.33775221186339577,0.24709033510805506,0.3168645742089562,0.26642552822929494]},\"hovertemplate\":\"method=n2v2r_borda<br>ordered communities=%{x}<br>avg ndcgs=%{y}<extra></extra>\",\"legendgroup\":\"n2v2r_borda\",\"marker\":{\"color\":\"#d95f02\",\"pattern\":{\"shape\":\"\"}},\"name\":\"n2v2r_borda\",\"offsetgroup\":\"n2v2r_borda\",\"orientation\":\"v\",\"showlegend\":true,\"textposition\":\"auto\",\"x\":[\"1\",\"2\",\"3\",\"4\",\"5\",\"6\",\"7\",\"8\",\"9\",\"10\"],\"xaxis\":\"x\",\"y\":[0.321356029608851,0.30311678828098926,0.33841518996913345,0.2975167536296356,0.29113835152946604,0.3080658824399938,0.3325783881130748,0.29556585169948935,0.33138157075270386,0.28862597479786944],\"yaxis\":\"y\",\"type\":\"bar\"},{\"alignmentgroup\":\"True\",\"error_y\":{\"array\":[0.3089669662699071,0.3008429719943996,0.2909976345489398,0.3027094286282915,0.2990247100854368,0.3176160024204634,0.336684196590054,0.26455278219765976,0.30568647301363694,0.3017525118723142]},\"hovertemplate\":\"method=absDeDi<br>ordered communities=%{x}<br>avg ndcgs=%{y}<extra></extra>\",\"legendgroup\":\"absDeDi\",\"marker\":{\"color\":\"#7570b3\",\"pattern\":{\"shape\":\"\"}},\"name\":\"absDeDi\",\"offsetgroup\":\"absDeDi\",\"orientation\":\"v\",\"showlegend\":true,\"textposition\":\"auto\",\"x\":[\"1\",\"2\",\"3\",\"4\",\"5\",\"6\",\"7\",\"8\",\"9\",\"10\"],\"xaxis\":\"x\",\"y\":[0.27221553736489357,0.3013339685883825,0.32174558489750565,0.32569234321101886,0.2921062085798775,0.34959891777524305,0.3642986755857002,0.30442057946828116,0.3125228806415679,0.27043279543714555],\"yaxis\":\"y\",\"type\":\"bar\"}],                        {\"template\":{\"data\":{\"histogram2dcontour\":[{\"type\":\"histogram2dcontour\",\"colorbar\":{\"outlinewidth\":0,\"ticks\":\"\"},\"colorscale\":[[0.0,\"#0d0887\"],[0.1111111111111111,\"#46039f\"],[0.2222222222222222,\"#7201a8\"],[0.3333333333333333,\"#9c179e\"],[0.4444444444444444,\"#bd3786\"],[0.5555555555555556,\"#d8576b\"],[0.6666666666666666,\"#ed7953\"],[0.7777777777777778,\"#fb9f3a\"],[0.8888888888888888,\"#fdca26\"],[1.0,\"#f0f921\"]]}],\"choropleth\":[{\"type\":\"choropleth\",\"colorbar\":{\"outlinewidth\":0,\"ticks\":\"\"}}],\"histogram2d\":[{\"type\":\"histogram2d\",\"colorbar\":{\"outlinewidth\":0,\"ticks\":\"\"},\"colorscale\":[[0.0,\"#0d0887\"],[0.1111111111111111,\"#46039f\"],[0.2222222222222222,\"#7201a8\"],[0.3333333333333333,\"#9c179e\"],[0.4444444444444444,\"#bd3786\"],[0.5555555555555556,\"#d8576b\"],[0.6666666666666666,\"#ed7953\"],[0.7777777777777778,\"#fb9f3a\"],[0.8888888888888888,\"#fdca26\"],[1.0,\"#f0f921\"]]}],\"heatmap\":[{\"type\":\"heatmap\",\"colorbar\":{\"outlinewidth\":0,\"ticks\":\"\"},\"colorscale\":[[0.0,\"#0d0887\"],[0.1111111111111111,\"#46039f\"],[0.2222222222222222,\"#7201a8\"],[0.3333333333333333,\"#9c179e\"],[0.4444444444444444,\"#bd3786\"],[0.5555555555555556,\"#d8576b\"],[0.6666666666666666,\"#ed7953\"],[0.7777777777777778,\"#fb9f3a\"],[0.8888888888888888,\"#fdca26\"],[1.0,\"#f0f921\"]]}],\"heatmapgl\":[{\"type\":\"heatmapgl\",\"colorbar\":{\"outlinewidth\":0,\"ticks\":\"\"},\"colorscale\":[[0.0,\"#0d0887\"],[0.1111111111111111,\"#46039f\"],[0.2222222222222222,\"#7201a8\"],[0.3333333333333333,\"#9c179e\"],[0.4444444444444444,\"#bd3786\"],[0.5555555555555556,\"#d8576b\"],[0.6666666666666666,\"#ed7953\"],[0.7777777777777778,\"#fb9f3a\"],[0.8888888888888888,\"#fdca26\"],[1.0,\"#f0f921\"]]}],\"contourcarpet\":[{\"type\":\"contourcarpet\",\"colorbar\":{\"outlinewidth\":0,\"ticks\":\"\"}}],\"contour\":[{\"type\":\"contour\",\"colorbar\":{\"outlinewidth\":0,\"ticks\":\"\"},\"colorscale\":[[0.0,\"#0d0887\"],[0.1111111111111111,\"#46039f\"],[0.2222222222222222,\"#7201a8\"],[0.3333333333333333,\"#9c179e\"],[0.4444444444444444,\"#bd3786\"],[0.5555555555555556,\"#d8576b\"],[0.6666666666666666,\"#ed7953\"],[0.7777777777777778,\"#fb9f3a\"],[0.8888888888888888,\"#fdca26\"],[1.0,\"#f0f921\"]]}],\"surface\":[{\"type\":\"surface\",\"colorbar\":{\"outlinewidth\":0,\"ticks\":\"\"},\"colorscale\":[[0.0,\"#0d0887\"],[0.1111111111111111,\"#46039f\"],[0.2222222222222222,\"#7201a8\"],[0.3333333333333333,\"#9c179e\"],[0.4444444444444444,\"#bd3786\"],[0.5555555555555556,\"#d8576b\"],[0.6666666666666666,\"#ed7953\"],[0.7777777777777778,\"#fb9f3a\"],[0.8888888888888888,\"#fdca26\"],[1.0,\"#f0f921\"]]}],\"mesh3d\":[{\"type\":\"mesh3d\",\"colorbar\":{\"outlinewidth\":0,\"ticks\":\"\"}}],\"scatter\":[{\"fillpattern\":{\"fillmode\":\"overlay\",\"size\":10,\"solidity\":0.2},\"type\":\"scatter\"}],\"parcoords\":[{\"type\":\"parcoords\",\"line\":{\"colorbar\":{\"outlinewidth\":0,\"ticks\":\"\"}}}],\"scatterpolargl\":[{\"type\":\"scatterpolargl\",\"marker\":{\"colorbar\":{\"outlinewidth\":0,\"ticks\":\"\"}}}],\"bar\":[{\"error_x\":{\"color\":\"#2a3f5f\"},\"error_y\":{\"color\":\"#2a3f5f\"},\"marker\":{\"line\":{\"color\":\"#E5ECF6\",\"width\":0.5},\"pattern\":{\"fillmode\":\"overlay\",\"size\":10,\"solidity\":0.2}},\"type\":\"bar\"}],\"scattergeo\":[{\"type\":\"scattergeo\",\"marker\":{\"colorbar\":{\"outlinewidth\":0,\"ticks\":\"\"}}}],\"scatterpolar\":[{\"type\":\"scatterpolar\",\"marker\":{\"colorbar\":{\"outlinewidth\":0,\"ticks\":\"\"}}}],\"histogram\":[{\"marker\":{\"pattern\":{\"fillmode\":\"overlay\",\"size\":10,\"solidity\":0.2}},\"type\":\"histogram\"}],\"scattergl\":[{\"type\":\"scattergl\",\"marker\":{\"colorbar\":{\"outlinewidth\":0,\"ticks\":\"\"}}}],\"scatter3d\":[{\"type\":\"scatter3d\",\"line\":{\"colorbar\":{\"outlinewidth\":0,\"ticks\":\"\"}},\"marker\":{\"colorbar\":{\"outlinewidth\":0,\"ticks\":\"\"}}}],\"scattermapbox\":[{\"type\":\"scattermapbox\",\"marker\":{\"colorbar\":{\"outlinewidth\":0,\"ticks\":\"\"}}}],\"scatterternary\":[{\"type\":\"scatterternary\",\"marker\":{\"colorbar\":{\"outlinewidth\":0,\"ticks\":\"\"}}}],\"scattercarpet\":[{\"type\":\"scattercarpet\",\"marker\":{\"colorbar\":{\"outlinewidth\":0,\"ticks\":\"\"}}}],\"carpet\":[{\"aaxis\":{\"endlinecolor\":\"#2a3f5f\",\"gridcolor\":\"white\",\"linecolor\":\"white\",\"minorgridcolor\":\"white\",\"startlinecolor\":\"#2a3f5f\"},\"baxis\":{\"endlinecolor\":\"#2a3f5f\",\"gridcolor\":\"white\",\"linecolor\":\"white\",\"minorgridcolor\":\"white\",\"startlinecolor\":\"#2a3f5f\"},\"type\":\"carpet\"}],\"table\":[{\"cells\":{\"fill\":{\"color\":\"#EBF0F8\"},\"line\":{\"color\":\"white\"}},\"header\":{\"fill\":{\"color\":\"#C8D4E3\"},\"line\":{\"color\":\"white\"}},\"type\":\"table\"}],\"barpolar\":[{\"marker\":{\"line\":{\"color\":\"#E5ECF6\",\"width\":0.5},\"pattern\":{\"fillmode\":\"overlay\",\"size\":10,\"solidity\":0.2}},\"type\":\"barpolar\"}],\"pie\":[{\"automargin\":true,\"type\":\"pie\"}]},\"layout\":{\"autotypenumbers\":\"strict\",\"colorway\":[\"#636efa\",\"#EF553B\",\"#00cc96\",\"#ab63fa\",\"#FFA15A\",\"#19d3f3\",\"#FF6692\",\"#B6E880\",\"#FF97FF\",\"#FECB52\"],\"font\":{\"color\":\"#2a3f5f\"},\"hovermode\":\"closest\",\"hoverlabel\":{\"align\":\"left\"},\"paper_bgcolor\":\"white\",\"plot_bgcolor\":\"#E5ECF6\",\"polar\":{\"bgcolor\":\"#E5ECF6\",\"angularaxis\":{\"gridcolor\":\"white\",\"linecolor\":\"white\",\"ticks\":\"\"},\"radialaxis\":{\"gridcolor\":\"white\",\"linecolor\":\"white\",\"ticks\":\"\"}},\"ternary\":{\"bgcolor\":\"#E5ECF6\",\"aaxis\":{\"gridcolor\":\"white\",\"linecolor\":\"white\",\"ticks\":\"\"},\"baxis\":{\"gridcolor\":\"white\",\"linecolor\":\"white\",\"ticks\":\"\"},\"caxis\":{\"gridcolor\":\"white\",\"linecolor\":\"white\",\"ticks\":\"\"}},\"coloraxis\":{\"colorbar\":{\"outlinewidth\":0,\"ticks\":\"\"}},\"colorscale\":{\"sequential\":[[0.0,\"#0d0887\"],[0.1111111111111111,\"#46039f\"],[0.2222222222222222,\"#7201a8\"],[0.3333333333333333,\"#9c179e\"],[0.4444444444444444,\"#bd3786\"],[0.5555555555555556,\"#d8576b\"],[0.6666666666666666,\"#ed7953\"],[0.7777777777777778,\"#fb9f3a\"],[0.8888888888888888,\"#fdca26\"],[1.0,\"#f0f921\"]],\"sequentialminus\":[[0.0,\"#0d0887\"],[0.1111111111111111,\"#46039f\"],[0.2222222222222222,\"#7201a8\"],[0.3333333333333333,\"#9c179e\"],[0.4444444444444444,\"#bd3786\"],[0.5555555555555556,\"#d8576b\"],[0.6666666666666666,\"#ed7953\"],[0.7777777777777778,\"#fb9f3a\"],[0.8888888888888888,\"#fdca26\"],[1.0,\"#f0f921\"]],\"diverging\":[[0,\"#8e0152\"],[0.1,\"#c51b7d\"],[0.2,\"#de77ae\"],[0.3,\"#f1b6da\"],[0.4,\"#fde0ef\"],[0.5,\"#f7f7f7\"],[0.6,\"#e6f5d0\"],[0.7,\"#b8e186\"],[0.8,\"#7fbc41\"],[0.9,\"#4d9221\"],[1,\"#276419\"]]},\"xaxis\":{\"gridcolor\":\"white\",\"linecolor\":\"white\",\"ticks\":\"\",\"title\":{\"standoff\":15},\"zerolinecolor\":\"white\",\"automargin\":true,\"zerolinewidth\":2},\"yaxis\":{\"gridcolor\":\"white\",\"linecolor\":\"white\",\"ticks\":\"\",\"title\":{\"standoff\":15},\"zerolinecolor\":\"white\",\"automargin\":true,\"zerolinewidth\":2},\"scene\":{\"xaxis\":{\"backgroundcolor\":\"#E5ECF6\",\"gridcolor\":\"white\",\"linecolor\":\"white\",\"showbackground\":true,\"ticks\":\"\",\"zerolinecolor\":\"white\",\"gridwidth\":2},\"yaxis\":{\"backgroundcolor\":\"#E5ECF6\",\"gridcolor\":\"white\",\"linecolor\":\"white\",\"showbackground\":true,\"ticks\":\"\",\"zerolinecolor\":\"white\",\"gridwidth\":2},\"zaxis\":{\"backgroundcolor\":\"#E5ECF6\",\"gridcolor\":\"white\",\"linecolor\":\"white\",\"showbackground\":true,\"ticks\":\"\",\"zerolinecolor\":\"white\",\"gridwidth\":2}},\"shapedefaults\":{\"line\":{\"color\":\"#2a3f5f\"}},\"annotationdefaults\":{\"arrowcolor\":\"#2a3f5f\",\"arrowhead\":0,\"arrowwidth\":1},\"geo\":{\"bgcolor\":\"white\",\"landcolor\":\"#E5ECF6\",\"subunitcolor\":\"white\",\"showland\":true,\"showlakes\":true,\"lakecolor\":\"white\"},\"title\":{\"x\":0.05},\"mapbox\":{\"style\":\"light\"}}},\"xaxis\":{\"anchor\":\"y\",\"domain\":[0.0,1.0],\"title\":{\"text\":\"ordered communities\"}},\"yaxis\":{\"anchor\":\"x\",\"domain\":[0.0,1.0],\"title\":{\"text\":\"avg ndcgs\"},\"range\":[0,1]},\"legend\":{\"title\":{\"text\":\"method\"},\"tracegroupgap\":0},\"title\":{\"text\":\"32 cos\"},\"barmode\":\"group\",\"height\":400},                        {\"responsive\": true}                    ).then(function(){\n",
       "                            \n",
       "var gd = document.getElementById('a215286d-7ecd-403f-913f-237b4192121e');\n",
       "var x = new MutationObserver(function (mutations, observer) {{\n",
       "        var display = window.getComputedStyle(gd).display;\n",
       "        if (!display || display === 'none') {{\n",
       "            console.log([gd, 'removed!']);\n",
       "            Plotly.purge(gd);\n",
       "            observer.disconnect();\n",
       "        }}\n",
       "}});\n",
       "\n",
       "// Listen for the removal of the full notebook cells\n",
       "var notebookContainer = gd.closest('#notebook-container');\n",
       "if (notebookContainer) {{\n",
       "    x.observe(notebookContainer, {childList: true});\n",
       "}}\n",
       "\n",
       "// Listen for the clearing of the current output cell\n",
       "var outputEl = gd.closest('.output');\n",
       "if (outputEl) {{\n",
       "    x.observe(outputEl, {childList: true});\n",
       "}}\n",
       "\n",
       "                        })                };                });            </script>        </div>"
      ]
     },
     "metadata": {},
     "output_type": "display_data"
    }
   ],
   "source": [
    "comms_string = [ str(i) for i in range(num_com)]\n",
    "algo = ['total', *comms_string]\n",
    "\n",
    "x = np.arange(num_com+1)\n",
    "y1_two = mean_n2v2r_scores\n",
    "y2_two = mean_n2v2r_borda_scores\n",
    "y3_two = mean_absDeDi_scores\n",
    "y1_two_err = std_n2v2r_scores\n",
    "y2_two_err = std_n2v2r_borda_scores\n",
    "y3_two_err = std_absDeDi_scores\n",
    "\n",
    "import plotly.express as px\n",
    "\n",
    "ndcgs = np.concatenate((y1_two[1:],y2_two[1:],y3_two[1:]), axis=None)\n",
    "errors = np.concatenate((y1_two_err[1:], y2_two_err[1:], y3_two_err[1:]), axis=None)\n",
    "method_indicator = (['n2v2r'] * num_com ) + (['n2v2r_borda'] * num_com) + (['absDeDi'] * num_com)\n",
    "comms = [str(i) for i in range(1,num_com+1)]\n",
    "comms_indicator = comms * 3 \n",
    "\n",
    "df = pd.DataFrame(list(zip(ndcgs, errors, method_indicator, comms_indicator)),\n",
    "               columns =['avg ndcgs', 'errors', 'method', 'ordered communities'])\n",
    "\n",
    "fig = px.bar(df, x=\"ordered communities\", y=\"avg ndcgs\",\n",
    "             color='method', barmode='group',\n",
    "             height=400, error_y=\"errors\", title= '32 cos', color_discrete_sequence = ['#1b9e77','#d95f02','#7570b3'])\n",
    "\n",
    "fig.update_yaxes(range = [0,1])\n",
    "\n",
    "\n",
    "fig.show()\n",
    "\n"
   ]
  },
  {
   "cell_type": "code",
   "execution_count": 148,
   "metadata": {},
   "outputs": [
    {
     "data": {
      "application/vnd.plotly.v1+json": {
       "config": {
        "plotlyServerURL": "https://plot.ly"
       },
       "data": [
        {
         "alignmentgroup": "True",
         "hovertemplate": "method=n2v2r<br>ordered communities=%{x}<br>avg ndcgs=%{y}<extra></extra>",
         "legendgroup": "n2v2r",
         "marker": {
          "color": "#1b9e77",
          "pattern": {
           "shape": ""
          }
         },
         "name": "n2v2r",
         "offsetgroup": "n2v2r",
         "orientation": "v",
         "showlegend": true,
         "textposition": "auto",
         "type": "bar",
         "x": [
          "1",
          "2",
          "3",
          "4",
          "5",
          "6",
          "7",
          "8",
          "9",
          "10"
         ],
         "xaxis": "x",
         "y": [
          0.011491702071727727,
          0.008555373414446732,
          -0.011042130325334965,
          0.03373381248209412,
          0.03333334864744558,
          0.03383413704545063,
          -0.027003265660107467,
          0.011493122946748147,
          -0.026504026488290866,
          0.037372667910437085
         ],
         "yaxis": "y"
        },
        {
         "alignmentgroup": "True",
         "hovertemplate": "method=n2v2r_borda<br>ordered communities=%{x}<br>avg ndcgs=%{y}<extra></extra>",
         "legendgroup": "n2v2r_borda",
         "marker": {
          "color": "#d95f02",
          "pattern": {
           "shape": ""
          }
         },
         "name": "n2v2r_borda",
         "offsetgroup": "n2v2r_borda",
         "orientation": "v",
         "showlegend": true,
         "textposition": "auto",
         "type": "bar",
         "x": [
          "1",
          "2",
          "3",
          "4",
          "5",
          "6",
          "7",
          "8",
          "9",
          "10"
         ],
         "xaxis": "x",
         "y": [
          0.02943759119238787,
          0.011628702334763041,
          -0.046962541071052466,
          0.02287603030973895,
          0.014107626110498872,
          -0.02144252899212057,
          -0.017334114308379778,
          0.03114799856049255,
          -0.049011583191372776,
          0.01783245931136196
         ],
         "yaxis": "y"
        },
        {
         "alignmentgroup": "True",
         "hovertemplate": "method=absDeDi<br>ordered communities=%{x}<br>avg ndcgs=%{y}<extra></extra>",
         "legendgroup": "absDeDi",
         "marker": {
          "color": "#7570b3",
          "pattern": {
           "shape": ""
          }
         },
         "name": "absDeDi",
         "offsetgroup": "absDeDi",
         "orientation": "v",
         "showlegend": true,
         "textposition": "auto",
         "type": "bar",
         "x": [
          "1",
          "2",
          "3",
          "4",
          "5",
          "6",
          "7",
          "8",
          "9",
          "10"
         ],
         "xaxis": "x",
         "y": [
          0,
          0,
          0,
          0,
          0,
          0,
          0,
          0,
          0,
          0
         ],
         "yaxis": "y"
        }
       ],
       "layout": {
        "barmode": "group",
        "height": 400,
        "legend": {
         "title": {
          "text": "method"
         },
         "tracegroupgap": 0
        },
        "template": {
         "data": {
          "bar": [
           {
            "error_x": {
             "color": "#2a3f5f"
            },
            "error_y": {
             "color": "#2a3f5f"
            },
            "marker": {
             "line": {
              "color": "#E5ECF6",
              "width": 0.5
             },
             "pattern": {
              "fillmode": "overlay",
              "size": 10,
              "solidity": 0.2
             }
            },
            "type": "bar"
           }
          ],
          "barpolar": [
           {
            "marker": {
             "line": {
              "color": "#E5ECF6",
              "width": 0.5
             },
             "pattern": {
              "fillmode": "overlay",
              "size": 10,
              "solidity": 0.2
             }
            },
            "type": "barpolar"
           }
          ],
          "carpet": [
           {
            "aaxis": {
             "endlinecolor": "#2a3f5f",
             "gridcolor": "white",
             "linecolor": "white",
             "minorgridcolor": "white",
             "startlinecolor": "#2a3f5f"
            },
            "baxis": {
             "endlinecolor": "#2a3f5f",
             "gridcolor": "white",
             "linecolor": "white",
             "minorgridcolor": "white",
             "startlinecolor": "#2a3f5f"
            },
            "type": "carpet"
           }
          ],
          "choropleth": [
           {
            "colorbar": {
             "outlinewidth": 0,
             "ticks": ""
            },
            "type": "choropleth"
           }
          ],
          "contour": [
           {
            "colorbar": {
             "outlinewidth": 0,
             "ticks": ""
            },
            "colorscale": [
             [
              0,
              "#0d0887"
             ],
             [
              0.1111111111111111,
              "#46039f"
             ],
             [
              0.2222222222222222,
              "#7201a8"
             ],
             [
              0.3333333333333333,
              "#9c179e"
             ],
             [
              0.4444444444444444,
              "#bd3786"
             ],
             [
              0.5555555555555556,
              "#d8576b"
             ],
             [
              0.6666666666666666,
              "#ed7953"
             ],
             [
              0.7777777777777778,
              "#fb9f3a"
             ],
             [
              0.8888888888888888,
              "#fdca26"
             ],
             [
              1,
              "#f0f921"
             ]
            ],
            "type": "contour"
           }
          ],
          "contourcarpet": [
           {
            "colorbar": {
             "outlinewidth": 0,
             "ticks": ""
            },
            "type": "contourcarpet"
           }
          ],
          "heatmap": [
           {
            "colorbar": {
             "outlinewidth": 0,
             "ticks": ""
            },
            "colorscale": [
             [
              0,
              "#0d0887"
             ],
             [
              0.1111111111111111,
              "#46039f"
             ],
             [
              0.2222222222222222,
              "#7201a8"
             ],
             [
              0.3333333333333333,
              "#9c179e"
             ],
             [
              0.4444444444444444,
              "#bd3786"
             ],
             [
              0.5555555555555556,
              "#d8576b"
             ],
             [
              0.6666666666666666,
              "#ed7953"
             ],
             [
              0.7777777777777778,
              "#fb9f3a"
             ],
             [
              0.8888888888888888,
              "#fdca26"
             ],
             [
              1,
              "#f0f921"
             ]
            ],
            "type": "heatmap"
           }
          ],
          "heatmapgl": [
           {
            "colorbar": {
             "outlinewidth": 0,
             "ticks": ""
            },
            "colorscale": [
             [
              0,
              "#0d0887"
             ],
             [
              0.1111111111111111,
              "#46039f"
             ],
             [
              0.2222222222222222,
              "#7201a8"
             ],
             [
              0.3333333333333333,
              "#9c179e"
             ],
             [
              0.4444444444444444,
              "#bd3786"
             ],
             [
              0.5555555555555556,
              "#d8576b"
             ],
             [
              0.6666666666666666,
              "#ed7953"
             ],
             [
              0.7777777777777778,
              "#fb9f3a"
             ],
             [
              0.8888888888888888,
              "#fdca26"
             ],
             [
              1,
              "#f0f921"
             ]
            ],
            "type": "heatmapgl"
           }
          ],
          "histogram": [
           {
            "marker": {
             "pattern": {
              "fillmode": "overlay",
              "size": 10,
              "solidity": 0.2
             }
            },
            "type": "histogram"
           }
          ],
          "histogram2d": [
           {
            "colorbar": {
             "outlinewidth": 0,
             "ticks": ""
            },
            "colorscale": [
             [
              0,
              "#0d0887"
             ],
             [
              0.1111111111111111,
              "#46039f"
             ],
             [
              0.2222222222222222,
              "#7201a8"
             ],
             [
              0.3333333333333333,
              "#9c179e"
             ],
             [
              0.4444444444444444,
              "#bd3786"
             ],
             [
              0.5555555555555556,
              "#d8576b"
             ],
             [
              0.6666666666666666,
              "#ed7953"
             ],
             [
              0.7777777777777778,
              "#fb9f3a"
             ],
             [
              0.8888888888888888,
              "#fdca26"
             ],
             [
              1,
              "#f0f921"
             ]
            ],
            "type": "histogram2d"
           }
          ],
          "histogram2dcontour": [
           {
            "colorbar": {
             "outlinewidth": 0,
             "ticks": ""
            },
            "colorscale": [
             [
              0,
              "#0d0887"
             ],
             [
              0.1111111111111111,
              "#46039f"
             ],
             [
              0.2222222222222222,
              "#7201a8"
             ],
             [
              0.3333333333333333,
              "#9c179e"
             ],
             [
              0.4444444444444444,
              "#bd3786"
             ],
             [
              0.5555555555555556,
              "#d8576b"
             ],
             [
              0.6666666666666666,
              "#ed7953"
             ],
             [
              0.7777777777777778,
              "#fb9f3a"
             ],
             [
              0.8888888888888888,
              "#fdca26"
             ],
             [
              1,
              "#f0f921"
             ]
            ],
            "type": "histogram2dcontour"
           }
          ],
          "mesh3d": [
           {
            "colorbar": {
             "outlinewidth": 0,
             "ticks": ""
            },
            "type": "mesh3d"
           }
          ],
          "parcoords": [
           {
            "line": {
             "colorbar": {
              "outlinewidth": 0,
              "ticks": ""
             }
            },
            "type": "parcoords"
           }
          ],
          "pie": [
           {
            "automargin": true,
            "type": "pie"
           }
          ],
          "scatter": [
           {
            "fillpattern": {
             "fillmode": "overlay",
             "size": 10,
             "solidity": 0.2
            },
            "type": "scatter"
           }
          ],
          "scatter3d": [
           {
            "line": {
             "colorbar": {
              "outlinewidth": 0,
              "ticks": ""
             }
            },
            "marker": {
             "colorbar": {
              "outlinewidth": 0,
              "ticks": ""
             }
            },
            "type": "scatter3d"
           }
          ],
          "scattercarpet": [
           {
            "marker": {
             "colorbar": {
              "outlinewidth": 0,
              "ticks": ""
             }
            },
            "type": "scattercarpet"
           }
          ],
          "scattergeo": [
           {
            "marker": {
             "colorbar": {
              "outlinewidth": 0,
              "ticks": ""
             }
            },
            "type": "scattergeo"
           }
          ],
          "scattergl": [
           {
            "marker": {
             "colorbar": {
              "outlinewidth": 0,
              "ticks": ""
             }
            },
            "type": "scattergl"
           }
          ],
          "scattermapbox": [
           {
            "marker": {
             "colorbar": {
              "outlinewidth": 0,
              "ticks": ""
             }
            },
            "type": "scattermapbox"
           }
          ],
          "scatterpolar": [
           {
            "marker": {
             "colorbar": {
              "outlinewidth": 0,
              "ticks": ""
             }
            },
            "type": "scatterpolar"
           }
          ],
          "scatterpolargl": [
           {
            "marker": {
             "colorbar": {
              "outlinewidth": 0,
              "ticks": ""
             }
            },
            "type": "scatterpolargl"
           }
          ],
          "scatterternary": [
           {
            "marker": {
             "colorbar": {
              "outlinewidth": 0,
              "ticks": ""
             }
            },
            "type": "scatterternary"
           }
          ],
          "surface": [
           {
            "colorbar": {
             "outlinewidth": 0,
             "ticks": ""
            },
            "colorscale": [
             [
              0,
              "#0d0887"
             ],
             [
              0.1111111111111111,
              "#46039f"
             ],
             [
              0.2222222222222222,
              "#7201a8"
             ],
             [
              0.3333333333333333,
              "#9c179e"
             ],
             [
              0.4444444444444444,
              "#bd3786"
             ],
             [
              0.5555555555555556,
              "#d8576b"
             ],
             [
              0.6666666666666666,
              "#ed7953"
             ],
             [
              0.7777777777777778,
              "#fb9f3a"
             ],
             [
              0.8888888888888888,
              "#fdca26"
             ],
             [
              1,
              "#f0f921"
             ]
            ],
            "type": "surface"
           }
          ],
          "table": [
           {
            "cells": {
             "fill": {
              "color": "#EBF0F8"
             },
             "line": {
              "color": "white"
             }
            },
            "header": {
             "fill": {
              "color": "#C8D4E3"
             },
             "line": {
              "color": "white"
             }
            },
            "type": "table"
           }
          ]
         },
         "layout": {
          "annotationdefaults": {
           "arrowcolor": "#2a3f5f",
           "arrowhead": 0,
           "arrowwidth": 1
          },
          "autotypenumbers": "strict",
          "coloraxis": {
           "colorbar": {
            "outlinewidth": 0,
            "ticks": ""
           }
          },
          "colorscale": {
           "diverging": [
            [
             0,
             "#8e0152"
            ],
            [
             0.1,
             "#c51b7d"
            ],
            [
             0.2,
             "#de77ae"
            ],
            [
             0.3,
             "#f1b6da"
            ],
            [
             0.4,
             "#fde0ef"
            ],
            [
             0.5,
             "#f7f7f7"
            ],
            [
             0.6,
             "#e6f5d0"
            ],
            [
             0.7,
             "#b8e186"
            ],
            [
             0.8,
             "#7fbc41"
            ],
            [
             0.9,
             "#4d9221"
            ],
            [
             1,
             "#276419"
            ]
           ],
           "sequential": [
            [
             0,
             "#0d0887"
            ],
            [
             0.1111111111111111,
             "#46039f"
            ],
            [
             0.2222222222222222,
             "#7201a8"
            ],
            [
             0.3333333333333333,
             "#9c179e"
            ],
            [
             0.4444444444444444,
             "#bd3786"
            ],
            [
             0.5555555555555556,
             "#d8576b"
            ],
            [
             0.6666666666666666,
             "#ed7953"
            ],
            [
             0.7777777777777778,
             "#fb9f3a"
            ],
            [
             0.8888888888888888,
             "#fdca26"
            ],
            [
             1,
             "#f0f921"
            ]
           ],
           "sequentialminus": [
            [
             0,
             "#0d0887"
            ],
            [
             0.1111111111111111,
             "#46039f"
            ],
            [
             0.2222222222222222,
             "#7201a8"
            ],
            [
             0.3333333333333333,
             "#9c179e"
            ],
            [
             0.4444444444444444,
             "#bd3786"
            ],
            [
             0.5555555555555556,
             "#d8576b"
            ],
            [
             0.6666666666666666,
             "#ed7953"
            ],
            [
             0.7777777777777778,
             "#fb9f3a"
            ],
            [
             0.8888888888888888,
             "#fdca26"
            ],
            [
             1,
             "#f0f921"
            ]
           ]
          },
          "colorway": [
           "#636efa",
           "#EF553B",
           "#00cc96",
           "#ab63fa",
           "#FFA15A",
           "#19d3f3",
           "#FF6692",
           "#B6E880",
           "#FF97FF",
           "#FECB52"
          ],
          "font": {
           "color": "#2a3f5f"
          },
          "geo": {
           "bgcolor": "white",
           "lakecolor": "white",
           "landcolor": "#E5ECF6",
           "showlakes": true,
           "showland": true,
           "subunitcolor": "white"
          },
          "hoverlabel": {
           "align": "left"
          },
          "hovermode": "closest",
          "mapbox": {
           "style": "light"
          },
          "paper_bgcolor": "white",
          "plot_bgcolor": "#E5ECF6",
          "polar": {
           "angularaxis": {
            "gridcolor": "white",
            "linecolor": "white",
            "ticks": ""
           },
           "bgcolor": "#E5ECF6",
           "radialaxis": {
            "gridcolor": "white",
            "linecolor": "white",
            "ticks": ""
           }
          },
          "scene": {
           "xaxis": {
            "backgroundcolor": "#E5ECF6",
            "gridcolor": "white",
            "gridwidth": 2,
            "linecolor": "white",
            "showbackground": true,
            "ticks": "",
            "zerolinecolor": "white"
           },
           "yaxis": {
            "backgroundcolor": "#E5ECF6",
            "gridcolor": "white",
            "gridwidth": 2,
            "linecolor": "white",
            "showbackground": true,
            "ticks": "",
            "zerolinecolor": "white"
           },
           "zaxis": {
            "backgroundcolor": "#E5ECF6",
            "gridcolor": "white",
            "gridwidth": 2,
            "linecolor": "white",
            "showbackground": true,
            "ticks": "",
            "zerolinecolor": "white"
           }
          },
          "shapedefaults": {
           "line": {
            "color": "#2a3f5f"
           }
          },
          "ternary": {
           "aaxis": {
            "gridcolor": "white",
            "linecolor": "white",
            "ticks": ""
           },
           "baxis": {
            "gridcolor": "white",
            "linecolor": "white",
            "ticks": ""
           },
           "bgcolor": "#E5ECF6",
           "caxis": {
            "gridcolor": "white",
            "linecolor": "white",
            "ticks": ""
           }
          },
          "title": {
           "x": 0.05
          },
          "xaxis": {
           "automargin": true,
           "gridcolor": "white",
           "linecolor": "white",
           "ticks": "",
           "title": {
            "standoff": 15
           },
           "zerolinecolor": "white",
           "zerolinewidth": 2
          },
          "yaxis": {
           "automargin": true,
           "gridcolor": "white",
           "linecolor": "white",
           "ticks": "",
           "title": {
            "standoff": 15
           },
           "zerolinecolor": "white",
           "zerolinewidth": 2
          }
         }
        },
        "title": {
         "text": "dif"
        },
        "xaxis": {
         "anchor": "y",
         "domain": [
          0,
          1
         ],
         "title": {
          "text": "ordered communities"
         }
        },
        "yaxis": {
         "anchor": "x",
         "domain": [
          0,
          1
         ],
         "range": [
          -0.1,
          0.1
         ],
         "title": {
          "text": "avg ndcgs"
         }
        }
       }
      },
      "text/html": [
       "<div>                            <div id=\"363ead44-fe51-4481-a717-142fe3e45fc1\" class=\"plotly-graph-div\" style=\"height:400px; width:100%;\"></div>            <script type=\"text/javascript\">                require([\"plotly\"], function(Plotly) {                    window.PLOTLYENV=window.PLOTLYENV || {};                                    if (document.getElementById(\"363ead44-fe51-4481-a717-142fe3e45fc1\")) {                    Plotly.newPlot(                        \"363ead44-fe51-4481-a717-142fe3e45fc1\",                        [{\"alignmentgroup\":\"True\",\"hovertemplate\":\"method=n2v2r<br>ordered communities=%{x}<br>avg ndcgs=%{y}<extra></extra>\",\"legendgroup\":\"n2v2r\",\"marker\":{\"color\":\"#1b9e77\",\"pattern\":{\"shape\":\"\"}},\"name\":\"n2v2r\",\"offsetgroup\":\"n2v2r\",\"orientation\":\"v\",\"showlegend\":true,\"textposition\":\"auto\",\"x\":[\"1\",\"2\",\"3\",\"4\",\"5\",\"6\",\"7\",\"8\",\"9\",\"10\"],\"xaxis\":\"x\",\"y\":[0.011491702071727727,0.008555373414446732,-0.011042130325334965,0.03373381248209412,0.03333334864744558,0.03383413704545063,-0.027003265660107467,0.011493122946748147,-0.026504026488290866,0.037372667910437085],\"yaxis\":\"y\",\"type\":\"bar\"},{\"alignmentgroup\":\"True\",\"hovertemplate\":\"method=n2v2r_borda<br>ordered communities=%{x}<br>avg ndcgs=%{y}<extra></extra>\",\"legendgroup\":\"n2v2r_borda\",\"marker\":{\"color\":\"#d95f02\",\"pattern\":{\"shape\":\"\"}},\"name\":\"n2v2r_borda\",\"offsetgroup\":\"n2v2r_borda\",\"orientation\":\"v\",\"showlegend\":true,\"textposition\":\"auto\",\"x\":[\"1\",\"2\",\"3\",\"4\",\"5\",\"6\",\"7\",\"8\",\"9\",\"10\"],\"xaxis\":\"x\",\"y\":[0.02943759119238787,0.011628702334763041,-0.046962541071052466,0.02287603030973895,0.014107626110498872,-0.02144252899212057,-0.017334114308379778,0.03114799856049255,-0.049011583191372776,0.01783245931136196],\"yaxis\":\"y\",\"type\":\"bar\"},{\"alignmentgroup\":\"True\",\"hovertemplate\":\"method=absDeDi<br>ordered communities=%{x}<br>avg ndcgs=%{y}<extra></extra>\",\"legendgroup\":\"absDeDi\",\"marker\":{\"color\":\"#7570b3\",\"pattern\":{\"shape\":\"\"}},\"name\":\"absDeDi\",\"offsetgroup\":\"absDeDi\",\"orientation\":\"v\",\"showlegend\":true,\"textposition\":\"auto\",\"x\":[\"1\",\"2\",\"3\",\"4\",\"5\",\"6\",\"7\",\"8\",\"9\",\"10\"],\"xaxis\":\"x\",\"y\":[0.0,0.0,0.0,0.0,0.0,0.0,0.0,0.0,0.0,0.0],\"yaxis\":\"y\",\"type\":\"bar\"}],                        {\"template\":{\"data\":{\"histogram2dcontour\":[{\"type\":\"histogram2dcontour\",\"colorbar\":{\"outlinewidth\":0,\"ticks\":\"\"},\"colorscale\":[[0.0,\"#0d0887\"],[0.1111111111111111,\"#46039f\"],[0.2222222222222222,\"#7201a8\"],[0.3333333333333333,\"#9c179e\"],[0.4444444444444444,\"#bd3786\"],[0.5555555555555556,\"#d8576b\"],[0.6666666666666666,\"#ed7953\"],[0.7777777777777778,\"#fb9f3a\"],[0.8888888888888888,\"#fdca26\"],[1.0,\"#f0f921\"]]}],\"choropleth\":[{\"type\":\"choropleth\",\"colorbar\":{\"outlinewidth\":0,\"ticks\":\"\"}}],\"histogram2d\":[{\"type\":\"histogram2d\",\"colorbar\":{\"outlinewidth\":0,\"ticks\":\"\"},\"colorscale\":[[0.0,\"#0d0887\"],[0.1111111111111111,\"#46039f\"],[0.2222222222222222,\"#7201a8\"],[0.3333333333333333,\"#9c179e\"],[0.4444444444444444,\"#bd3786\"],[0.5555555555555556,\"#d8576b\"],[0.6666666666666666,\"#ed7953\"],[0.7777777777777778,\"#fb9f3a\"],[0.8888888888888888,\"#fdca26\"],[1.0,\"#f0f921\"]]}],\"heatmap\":[{\"type\":\"heatmap\",\"colorbar\":{\"outlinewidth\":0,\"ticks\":\"\"},\"colorscale\":[[0.0,\"#0d0887\"],[0.1111111111111111,\"#46039f\"],[0.2222222222222222,\"#7201a8\"],[0.3333333333333333,\"#9c179e\"],[0.4444444444444444,\"#bd3786\"],[0.5555555555555556,\"#d8576b\"],[0.6666666666666666,\"#ed7953\"],[0.7777777777777778,\"#fb9f3a\"],[0.8888888888888888,\"#fdca26\"],[1.0,\"#f0f921\"]]}],\"heatmapgl\":[{\"type\":\"heatmapgl\",\"colorbar\":{\"outlinewidth\":0,\"ticks\":\"\"},\"colorscale\":[[0.0,\"#0d0887\"],[0.1111111111111111,\"#46039f\"],[0.2222222222222222,\"#7201a8\"],[0.3333333333333333,\"#9c179e\"],[0.4444444444444444,\"#bd3786\"],[0.5555555555555556,\"#d8576b\"],[0.6666666666666666,\"#ed7953\"],[0.7777777777777778,\"#fb9f3a\"],[0.8888888888888888,\"#fdca26\"],[1.0,\"#f0f921\"]]}],\"contourcarpet\":[{\"type\":\"contourcarpet\",\"colorbar\":{\"outlinewidth\":0,\"ticks\":\"\"}}],\"contour\":[{\"type\":\"contour\",\"colorbar\":{\"outlinewidth\":0,\"ticks\":\"\"},\"colorscale\":[[0.0,\"#0d0887\"],[0.1111111111111111,\"#46039f\"],[0.2222222222222222,\"#7201a8\"],[0.3333333333333333,\"#9c179e\"],[0.4444444444444444,\"#bd3786\"],[0.5555555555555556,\"#d8576b\"],[0.6666666666666666,\"#ed7953\"],[0.7777777777777778,\"#fb9f3a\"],[0.8888888888888888,\"#fdca26\"],[1.0,\"#f0f921\"]]}],\"surface\":[{\"type\":\"surface\",\"colorbar\":{\"outlinewidth\":0,\"ticks\":\"\"},\"colorscale\":[[0.0,\"#0d0887\"],[0.1111111111111111,\"#46039f\"],[0.2222222222222222,\"#7201a8\"],[0.3333333333333333,\"#9c179e\"],[0.4444444444444444,\"#bd3786\"],[0.5555555555555556,\"#d8576b\"],[0.6666666666666666,\"#ed7953\"],[0.7777777777777778,\"#fb9f3a\"],[0.8888888888888888,\"#fdca26\"],[1.0,\"#f0f921\"]]}],\"mesh3d\":[{\"type\":\"mesh3d\",\"colorbar\":{\"outlinewidth\":0,\"ticks\":\"\"}}],\"scatter\":[{\"fillpattern\":{\"fillmode\":\"overlay\",\"size\":10,\"solidity\":0.2},\"type\":\"scatter\"}],\"parcoords\":[{\"type\":\"parcoords\",\"line\":{\"colorbar\":{\"outlinewidth\":0,\"ticks\":\"\"}}}],\"scatterpolargl\":[{\"type\":\"scatterpolargl\",\"marker\":{\"colorbar\":{\"outlinewidth\":0,\"ticks\":\"\"}}}],\"bar\":[{\"error_x\":{\"color\":\"#2a3f5f\"},\"error_y\":{\"color\":\"#2a3f5f\"},\"marker\":{\"line\":{\"color\":\"#E5ECF6\",\"width\":0.5},\"pattern\":{\"fillmode\":\"overlay\",\"size\":10,\"solidity\":0.2}},\"type\":\"bar\"}],\"scattergeo\":[{\"type\":\"scattergeo\",\"marker\":{\"colorbar\":{\"outlinewidth\":0,\"ticks\":\"\"}}}],\"scatterpolar\":[{\"type\":\"scatterpolar\",\"marker\":{\"colorbar\":{\"outlinewidth\":0,\"ticks\":\"\"}}}],\"histogram\":[{\"marker\":{\"pattern\":{\"fillmode\":\"overlay\",\"size\":10,\"solidity\":0.2}},\"type\":\"histogram\"}],\"scattergl\":[{\"type\":\"scattergl\",\"marker\":{\"colorbar\":{\"outlinewidth\":0,\"ticks\":\"\"}}}],\"scatter3d\":[{\"type\":\"scatter3d\",\"line\":{\"colorbar\":{\"outlinewidth\":0,\"ticks\":\"\"}},\"marker\":{\"colorbar\":{\"outlinewidth\":0,\"ticks\":\"\"}}}],\"scattermapbox\":[{\"type\":\"scattermapbox\",\"marker\":{\"colorbar\":{\"outlinewidth\":0,\"ticks\":\"\"}}}],\"scatterternary\":[{\"type\":\"scatterternary\",\"marker\":{\"colorbar\":{\"outlinewidth\":0,\"ticks\":\"\"}}}],\"scattercarpet\":[{\"type\":\"scattercarpet\",\"marker\":{\"colorbar\":{\"outlinewidth\":0,\"ticks\":\"\"}}}],\"carpet\":[{\"aaxis\":{\"endlinecolor\":\"#2a3f5f\",\"gridcolor\":\"white\",\"linecolor\":\"white\",\"minorgridcolor\":\"white\",\"startlinecolor\":\"#2a3f5f\"},\"baxis\":{\"endlinecolor\":\"#2a3f5f\",\"gridcolor\":\"white\",\"linecolor\":\"white\",\"minorgridcolor\":\"white\",\"startlinecolor\":\"#2a3f5f\"},\"type\":\"carpet\"}],\"table\":[{\"cells\":{\"fill\":{\"color\":\"#EBF0F8\"},\"line\":{\"color\":\"white\"}},\"header\":{\"fill\":{\"color\":\"#C8D4E3\"},\"line\":{\"color\":\"white\"}},\"type\":\"table\"}],\"barpolar\":[{\"marker\":{\"line\":{\"color\":\"#E5ECF6\",\"width\":0.5},\"pattern\":{\"fillmode\":\"overlay\",\"size\":10,\"solidity\":0.2}},\"type\":\"barpolar\"}],\"pie\":[{\"automargin\":true,\"type\":\"pie\"}]},\"layout\":{\"autotypenumbers\":\"strict\",\"colorway\":[\"#636efa\",\"#EF553B\",\"#00cc96\",\"#ab63fa\",\"#FFA15A\",\"#19d3f3\",\"#FF6692\",\"#B6E880\",\"#FF97FF\",\"#FECB52\"],\"font\":{\"color\":\"#2a3f5f\"},\"hovermode\":\"closest\",\"hoverlabel\":{\"align\":\"left\"},\"paper_bgcolor\":\"white\",\"plot_bgcolor\":\"#E5ECF6\",\"polar\":{\"bgcolor\":\"#E5ECF6\",\"angularaxis\":{\"gridcolor\":\"white\",\"linecolor\":\"white\",\"ticks\":\"\"},\"radialaxis\":{\"gridcolor\":\"white\",\"linecolor\":\"white\",\"ticks\":\"\"}},\"ternary\":{\"bgcolor\":\"#E5ECF6\",\"aaxis\":{\"gridcolor\":\"white\",\"linecolor\":\"white\",\"ticks\":\"\"},\"baxis\":{\"gridcolor\":\"white\",\"linecolor\":\"white\",\"ticks\":\"\"},\"caxis\":{\"gridcolor\":\"white\",\"linecolor\":\"white\",\"ticks\":\"\"}},\"coloraxis\":{\"colorbar\":{\"outlinewidth\":0,\"ticks\":\"\"}},\"colorscale\":{\"sequential\":[[0.0,\"#0d0887\"],[0.1111111111111111,\"#46039f\"],[0.2222222222222222,\"#7201a8\"],[0.3333333333333333,\"#9c179e\"],[0.4444444444444444,\"#bd3786\"],[0.5555555555555556,\"#d8576b\"],[0.6666666666666666,\"#ed7953\"],[0.7777777777777778,\"#fb9f3a\"],[0.8888888888888888,\"#fdca26\"],[1.0,\"#f0f921\"]],\"sequentialminus\":[[0.0,\"#0d0887\"],[0.1111111111111111,\"#46039f\"],[0.2222222222222222,\"#7201a8\"],[0.3333333333333333,\"#9c179e\"],[0.4444444444444444,\"#bd3786\"],[0.5555555555555556,\"#d8576b\"],[0.6666666666666666,\"#ed7953\"],[0.7777777777777778,\"#fb9f3a\"],[0.8888888888888888,\"#fdca26\"],[1.0,\"#f0f921\"]],\"diverging\":[[0,\"#8e0152\"],[0.1,\"#c51b7d\"],[0.2,\"#de77ae\"],[0.3,\"#f1b6da\"],[0.4,\"#fde0ef\"],[0.5,\"#f7f7f7\"],[0.6,\"#e6f5d0\"],[0.7,\"#b8e186\"],[0.8,\"#7fbc41\"],[0.9,\"#4d9221\"],[1,\"#276419\"]]},\"xaxis\":{\"gridcolor\":\"white\",\"linecolor\":\"white\",\"ticks\":\"\",\"title\":{\"standoff\":15},\"zerolinecolor\":\"white\",\"automargin\":true,\"zerolinewidth\":2},\"yaxis\":{\"gridcolor\":\"white\",\"linecolor\":\"white\",\"ticks\":\"\",\"title\":{\"standoff\":15},\"zerolinecolor\":\"white\",\"automargin\":true,\"zerolinewidth\":2},\"scene\":{\"xaxis\":{\"backgroundcolor\":\"#E5ECF6\",\"gridcolor\":\"white\",\"linecolor\":\"white\",\"showbackground\":true,\"ticks\":\"\",\"zerolinecolor\":\"white\",\"gridwidth\":2},\"yaxis\":{\"backgroundcolor\":\"#E5ECF6\",\"gridcolor\":\"white\",\"linecolor\":\"white\",\"showbackground\":true,\"ticks\":\"\",\"zerolinecolor\":\"white\",\"gridwidth\":2},\"zaxis\":{\"backgroundcolor\":\"#E5ECF6\",\"gridcolor\":\"white\",\"linecolor\":\"white\",\"showbackground\":true,\"ticks\":\"\",\"zerolinecolor\":\"white\",\"gridwidth\":2}},\"shapedefaults\":{\"line\":{\"color\":\"#2a3f5f\"}},\"annotationdefaults\":{\"arrowcolor\":\"#2a3f5f\",\"arrowhead\":0,\"arrowwidth\":1},\"geo\":{\"bgcolor\":\"white\",\"landcolor\":\"#E5ECF6\",\"subunitcolor\":\"white\",\"showland\":true,\"showlakes\":true,\"lakecolor\":\"white\"},\"title\":{\"x\":0.05},\"mapbox\":{\"style\":\"light\"}}},\"xaxis\":{\"anchor\":\"y\",\"domain\":[0.0,1.0],\"title\":{\"text\":\"ordered communities\"}},\"yaxis\":{\"anchor\":\"x\",\"domain\":[0.0,1.0],\"title\":{\"text\":\"avg ndcgs\"},\"range\":[-0.1,0.1]},\"legend\":{\"title\":{\"text\":\"method\"},\"tracegroupgap\":0},\"title\":{\"text\":\"dif\"},\"barmode\":\"group\",\"height\":400},                        {\"responsive\": true}                    ).then(function(){\n",
       "                            \n",
       "var gd = document.getElementById('363ead44-fe51-4481-a717-142fe3e45fc1');\n",
       "var x = new MutationObserver(function (mutations, observer) {{\n",
       "        var display = window.getComputedStyle(gd).display;\n",
       "        if (!display || display === 'none') {{\n",
       "            console.log([gd, 'removed!']);\n",
       "            Plotly.purge(gd);\n",
       "            observer.disconnect();\n",
       "        }}\n",
       "}});\n",
       "\n",
       "// Listen for the removal of the full notebook cells\n",
       "var notebookContainer = gd.closest('#notebook-container');\n",
       "if (notebookContainer) {{\n",
       "    x.observe(notebookContainer, {childList: true});\n",
       "}}\n",
       "\n",
       "// Listen for the clearing of the current output cell\n",
       "var outputEl = gd.closest('.output');\n",
       "if (outputEl) {{\n",
       "    x.observe(outputEl, {childList: true});\n",
       "}}\n",
       "\n",
       "                        })                };                });            </script>        </div>"
      ]
     },
     "metadata": {},
     "output_type": "display_data"
    }
   ],
   "source": [
    "comms_string = [ str(i) for i in range(num_com)]\n",
    "algo = ['total', *comms_string]\n",
    "\n",
    "x = np.arange(num_com+1)\n",
    "y1_dif = y1_one - y1_two\n",
    "y2_dif = y2_one - y2_two\n",
    "y3_dif = y3_one - y3_two\n",
    "\n",
    "\n",
    "import plotly.express as px\n",
    "\n",
    "ndcgs = np.concatenate((y1_dif[1:],y2_dif[1:],y3_dif[1:]), axis=None)\n",
    "method_indicator = (['n2v2r'] * num_com ) + (['n2v2r_borda'] * num_com) + (['absDeDi'] * num_com)\n",
    "comms = [str(i) for i in range(1,num_com+1)]\n",
    "comms_indicator = comms * 3 \n",
    "\n",
    "df = pd.DataFrame(list(zip(ndcgs, method_indicator, comms_indicator)),\n",
    "               columns =['avg ndcgs',  'method', 'ordered communities'])\n",
    "\n",
    "fig = px.bar(df, x=\"ordered communities\", y=\"avg ndcgs\",\n",
    "             color='method', barmode='group',\n",
    "             height=400,  title= 'dif', color_discrete_sequence = ['#1b9e77','#d95f02','#7570b3'])\n",
    "\n",
    "fig.update_yaxes(range = [-0.1,0.1])\n",
    "\n",
    "\n",
    "fig.show()\n",
    "\n"
   ]
  }
 ],
 "metadata": {
  "kernelspec": {
   "display_name": "node2vec2rank",
   "language": "python",
   "name": "python3"
  },
  "language_info": {
   "codemirror_mode": {
    "name": "ipython",
    "version": 3
   },
   "file_extension": ".py",
   "mimetype": "text/x-python",
   "name": "python",
   "nbconvert_exporter": "python",
   "pygments_lexer": "ipython3",
   "version": "3.9.16"
  },
  "orig_nbformat": 4,
  "vscode": {
   "interpreter": {
    "hash": "51a59d7ed3c7286009103ae54d8ea5b147888c438f5d316f4bee658058e3ef57"
   }
  }
 },
 "nbformat": 4,
 "nbformat_minor": 2
}
